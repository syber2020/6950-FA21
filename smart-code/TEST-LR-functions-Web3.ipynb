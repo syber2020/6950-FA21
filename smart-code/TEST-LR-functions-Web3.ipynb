{
 "cells": [
  {
   "cell_type": "code",
   "execution_count": 125,
   "id": "geographic-spread",
   "metadata": {},
   "outputs": [
    {
     "data": {
      "text/plain": [
       "True"
      ]
     },
     "execution_count": 125,
     "metadata": {},
     "output_type": "execute_result"
    }
   ],
   "source": [
    "# starting web3 operations\n",
    "import numpy as np\n",
    "import json\n",
    "from web3 import Web3\n",
    "import time\n",
    "import numpy as np\n",
    "import pandas as pd\n",
    "from sklearn.model_selection import train_test_split\n",
    "from sklearn.datasets import load_diabetes\n",
    "\n",
    "ganache_url = \"HTTP://127.0.0.1:8545\"\n",
    "# ropsten_url =\"https://ropsten.infura.io/v3/6072fdc3b95c407caa681f63ebaf72b8\"\n",
    "web3 = Web3(Web3.HTTPProvider(ganache_url))\n",
    "# web3 = Web3(Web3.HTTPProvider(ropsten_url))\n",
    "web3.isConnected()"
   ]
  },
  {
   "cell_type": "code",
   "execution_count": 126,
   "id": "union-september",
   "metadata": {},
   "outputs": [],
   "source": [
    "abi = json.loads('[ { \"inputs\": [ { \"internalType\": \"int256[]\", \"name\": \"num\", \"type\": \"int256[]\" }, { \"internalType\": \"int256[]\", \"name\": \"den\", \"type\": \"int256[]\" } ], \"name\": \"get_add_array\", \"outputs\": [], \"stateMutability\": \"nonpayable\", \"type\": \"function\" }, { \"inputs\": [ { \"internalType\": \"int256[]\", \"name\": \"xnum\", \"type\": \"int256[]\" }, { \"internalType\": \"int256[]\", \"name\": \"xden\", \"type\": \"int256[]\" }, { \"internalType\": \"int256[]\", \"name\": \"ydiff_n\", \"type\": \"int256[]\" }, { \"internalType\": \"int256[]\", \"name\": \"ydiff_d\", \"type\": \"int256[]\" } ], \"name\": \"get_delta_w\", \"outputs\": [], \"stateMutability\": \"nonpayable\", \"type\": \"function\" }, { \"inputs\": [ { \"internalType\": \"int256[]\", \"name\": \"a\", \"type\": \"int256[]\" } ], \"name\": \"get_larger\", \"outputs\": [ { \"internalType\": \"int256\", \"name\": \"\", \"type\": \"int256\" } ], \"stateMutability\": \"nonpayable\", \"type\": \"function\" }, { \"inputs\": [ { \"internalType\": \"int256[]\", \"name\": \"yhnum\", \"type\": \"int256[]\" }, { \"internalType\": \"int256[]\", \"name\": \"yhden\", \"type\": \"int256[]\" }, { \"internalType\": \"int256[]\", \"name\": \"ynum\", \"type\": \"int256[]\" }, { \"internalType\": \"int256[]\", \"name\": \"yden\", \"type\": \"int256[]\" } ], \"name\": \"get_mse\", \"outputs\": [], \"stateMutability\": \"nonpayable\", \"type\": \"function\" }, { \"inputs\": [ { \"internalType\": \"int256[]\", \"name\": \"a_num\", \"type\": \"int256[]\" }, { \"internalType\": \"int256[]\", \"name\": \"a_den\", \"type\": \"int256[]\" }, { \"internalType\": \"int256[]\", \"name\": \"b_num\", \"type\": \"int256[]\" }, { \"internalType\": \"int256[]\", \"name\": \"b_den\", \"type\": \"int256[]\" } ], \"name\": \"get_multiply\", \"outputs\": [ { \"internalType\": \"int256[]\", \"name\": \"\", \"type\": \"int256[]\" }, { \"internalType\": \"int256[]\", \"name\": \"\", \"type\": \"int256[]\" } ], \"stateMutability\": \"nonpayable\", \"type\": \"function\" }, { \"inputs\": [ { \"internalType\": \"int256[]\", \"name\": \"xnum\", \"type\": \"int256[]\" }, { \"internalType\": \"int256[]\", \"name\": \"xden\", \"type\": \"int256[]\" }, { \"internalType\": \"int256[]\", \"name\": \"wnum\", \"type\": \"int256[]\" }, { \"internalType\": \"int256[]\", \"name\": \"wden\", \"type\": \"int256[]\" }, { \"internalType\": \"int256\", \"name\": \"bnum\", \"type\": \"int256\" }, { \"internalType\": \"int256\", \"name\": \"bden\", \"type\": \"int256\" } ], \"name\": \"get_y_hat\", \"outputs\": [], \"stateMutability\": \"nonpayable\", \"type\": \"function\" }, { \"inputs\": [], \"name\": \"print_larger\", \"outputs\": [ { \"internalType\": \"int256\", \"name\": \"\", \"type\": \"int256\" } ], \"stateMutability\": \"view\", \"type\": \"function\" }, { \"inputs\": [], \"name\": \"reset_delta_w\", \"outputs\": [], \"stateMutability\": \"nonpayable\", \"type\": \"function\" }, { \"inputs\": [], \"name\": \"reset_z_arrays\", \"outputs\": [], \"stateMutability\": \"nonpayable\", \"type\": \"function\" }, { \"inputs\": [], \"name\": \"set_add_array\", \"outputs\": [ { \"internalType\": \"int256\", \"name\": \"\", \"type\": \"int256\" }, { \"internalType\": \"int256\", \"name\": \"\", \"type\": \"int256\" } ], \"stateMutability\": \"view\", \"type\": \"function\" }, { \"inputs\": [], \"name\": \"set_delta_w\", \"outputs\": [ { \"internalType\": \"int256[]\", \"name\": \"\", \"type\": \"int256[]\" }, { \"internalType\": \"int256[]\", \"name\": \"\", \"type\": \"int256[]\" } ], \"stateMutability\": \"view\", \"type\": \"function\" }, { \"inputs\": [], \"name\": \"set_mse\", \"outputs\": [ { \"internalType\": \"int256\", \"name\": \"\", \"type\": \"int256\" }, { \"internalType\": \"int256\", \"name\": \"\", \"type\": \"int256\" } ], \"stateMutability\": \"view\", \"type\": \"function\" }, { \"inputs\": [], \"name\": \"set_multiplier\", \"outputs\": [ { \"internalType\": \"int256[]\", \"name\": \"\", \"type\": \"int256[]\" }, { \"internalType\": \"int256[]\", \"name\": \"\", \"type\": \"int256[]\" } ], \"stateMutability\": \"view\", \"type\": \"function\" }, { \"inputs\": [], \"name\": \"set_y_hat\", \"outputs\": [ { \"internalType\": \"int256\", \"name\": \"\", \"type\": \"int256\" }, { \"internalType\": \"int256\", \"name\": \"\", \"type\": \"int256\" } ], \"stateMutability\": \"view\", \"type\": \"function\" } ]')\n",
    "cont_address = \"0x54557b6A3e9063123F6D932daCC093CbceBBe5fD\"\n",
    "contract = web3.eth.contract(address=cont_address,abi=abi)"
   ]
  },
  {
   "cell_type": "code",
   "execution_count": 127,
   "id": "induced-commodity",
   "metadata": {},
   "outputs": [],
   "source": [
    "account1 = \"0x37bfB436392DaAE0E91EdcD9c4128FBcADF3919d\"\n",
    "private_key1 = \"e72044de2331844a3c0232dc23d43fb8ca4f555854b4da07e2fb530d003e5e2d\"\n",
    "account2 = \"0xfbD8f1F5878b0b5b3E627e7cc14617b05B582867\"\n",
    "private_key2=\"56c8f569b23a423f9d66d46f86f7ada7ba0d28dfba03c34f661bb15358b042bb\""
   ]
  },
  {
   "cell_type": "code",
   "execution_count": 128,
   "id": "scheduled-bristol",
   "metadata": {},
   "outputs": [],
   "source": [
    "#try to see the parameters from the constructor\n"
   ]
  },
  {
   "cell_type": "code",
   "execution_count": 129,
   "id": "attractive-salvation",
   "metadata": {},
   "outputs": [],
   "source": [
    "# contract.functions.set_bias().call()\n",
    "x = np.full((1000),1000).tolist()"
   ]
  },
  {
   "cell_type": "code",
   "execution_count": 130,
   "id": "loose-worcester",
   "metadata": {},
   "outputs": [],
   "source": [
    "#    parameters in smart contract definition\n",
    "#    int lcm ; int sub_num; int sub_den;int[] z_num; int[] z_den;int[] yh_num; int[] yh_den;\n",
    "#    int[] yh_sub_num; int[] yh_sub_den; int[] del_w_num; int[] del_w_den; int del_b_num; int del_b_den;\n",
    "#    int[] _wnum; int[] _wden; int _b_num; int _b_den; int lr_num; int lr_den;"
   ]
  },
  {
   "cell_type": "code",
   "execution_count": 132,
   "id": "small-modification",
   "metadata": {},
   "outputs": [],
   "source": [
    "def function1(xn,xd,yn,yd,account, private_key,contract):\n",
    "    nonce = web3.eth.getTransactionCount(account)\n",
    "    tx_store = contract.functions.get_delta_w(\n",
    "        xn,xd,yn,yd\n",
    "         ).buildTransaction({\n",
    "        'gas': 3000000,\n",
    "        'gasPrice': web3.toWei('10', 'gwei'),\n",
    "        'from': account,\n",
    "        'nonce': nonce\n",
    "        })\n",
    "\n",
    "    signed_txn = web3.eth.account.signTransaction(tx_store, private_key=private_key)\n",
    "    start_time = time.time()\n",
    "    tx_hash = web3.eth.sendRawTransaction(signed_txn.rawTransaction)\n",
    "    tx_receipt = web3.eth.waitForTransactionReceipt(tx_hash)\n",
    "    end_time = time.time()"
   ]
  },
  {
   "cell_type": "code",
   "execution_count": 146,
   "id": "judicial-simon",
   "metadata": {},
   "outputs": [],
   "source": [
    "def reset_function(account, private_key,contract):\n",
    "    nonce = web3.eth.getTransactionCount(account)\n",
    "    tx_store = contract.functions.reset_z_arrays(\n",
    "         ).buildTransaction({\n",
    "        'gas': 3000000,\n",
    "        'gasPrice': web3.toWei('10', 'gwei'),\n",
    "        'from': account,\n",
    "        'nonce': nonce\n",
    "        })\n",
    "\n",
    "    signed_txn = web3.eth.account.signTransaction(tx_store, private_key=private_key)\n",
    "    start_time = time.time()\n",
    "    tx_hash = web3.eth.sendRawTransaction(signed_txn.rawTransaction)\n",
    "    tx_receipt = web3.eth.waitForTransactionReceipt(tx_hash)\n",
    "    end_time = time.time()"
   ]
  },
  {
   "cell_type": "code",
   "execution_count": 147,
   "id": "unlike-highlight",
   "metadata": {},
   "outputs": [],
   "source": [
    "xn = np.full((10),2).tolist()\n",
    "xd = np.full((10),100).tolist()\n",
    "yn = np.full((10),40).tolist()\n",
    "yd = np.full((10),10).tolist()"
   ]
  },
  {
   "cell_type": "code",
   "execution_count": 148,
   "id": "dental-jamaica",
   "metadata": {},
   "outputs": [],
   "source": [
    "# xnum\n",
    "reset_function(account1, private_key1,contract)"
   ]
  },
  {
   "cell_type": "code",
   "execution_count": 151,
   "id": "superb-welding",
   "metadata": {},
   "outputs": [],
   "source": [
    "function1(xn,xd,yn,yd,account1,private_key1,contract)\n",
    "reset_function(account1, private_key1,contract)"
   ]
  },
  {
   "cell_type": "code",
   "execution_count": 152,
   "id": "greatest-memory",
   "metadata": {
    "scrolled": true
   },
   "outputs": [
    {
     "data": {
      "text/plain": [
       "[[1600, 3200, 1600, 1600], [10000, 10000, 10000, 10000]]"
      ]
     },
     "execution_count": 152,
     "metadata": {},
     "output_type": "execute_result"
    }
   ],
   "source": [
    "contract.functions.set_delta_w().call()"
   ]
  },
  {
   "cell_type": "code",
   "execution_count": null,
   "id": "extended-float",
   "metadata": {},
   "outputs": [],
   "source": []
  },
  {
   "cell_type": "code",
   "execution_count": null,
   "id": "victorian-function",
   "metadata": {},
   "outputs": [],
   "source": []
  }
 ],
 "metadata": {
  "kernelspec": {
   "display_name": "Python 3",
   "language": "python",
   "name": "python3"
  },
  "language_info": {
   "codemirror_mode": {
    "name": "ipython",
    "version": 3
   },
   "file_extension": ".py",
   "mimetype": "text/x-python",
   "name": "python",
   "nbconvert_exporter": "python",
   "pygments_lexer": "ipython3",
   "version": "3.9.2"
  }
 },
 "nbformat": 4,
 "nbformat_minor": 5
}
