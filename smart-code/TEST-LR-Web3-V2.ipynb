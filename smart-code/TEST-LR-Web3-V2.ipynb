{
 "cells": [
  {
   "cell_type": "code",
   "execution_count": 306,
   "id": "geographic-spread",
   "metadata": {},
   "outputs": [
    {
     "data": {
      "text/plain": [
       "True"
      ]
     },
     "execution_count": 306,
     "metadata": {},
     "output_type": "execute_result"
    }
   ],
   "source": [
    "# starting web3 operations\n",
    "import numpy as np\n",
    "import json\n",
    "from web3 import Web3\n",
    "import time\n",
    "import numpy as np\n",
    "import pandas as pd\n",
    "from sklearn.model_selection import train_test_split\n",
    "from sklearn.datasets import load_diabetes\n",
    "\n",
    "ganache_url = \"HTTP://127.0.0.1:8545\"\n",
    "# ropsten_url =\"https://ropsten.infura.io/v3/6072fdc3b95c407caa681f63ebaf72b8\"\n",
    "web3 = Web3(Web3.HTTPProvider(ganache_url))\n",
    "# web3 = Web3(Web3.HTTPProvider(ropsten_url))\n",
    "web3.isConnected()"
   ]
  },
  {
   "cell_type": "code",
   "execution_count": 307,
   "id": "union-september",
   "metadata": {},
   "outputs": [],
   "source": [
    "abi = json.loads('[ { \"inputs\": [ { \"internalType\": \"int256[]\", \"name\": \"wnum\", \"type\": \"int256[]\" }, { \"internalType\": \"int256[]\", \"name\": \"wden\", \"type\": \"int256[]\" }, { \"internalType\": \"int256\", \"name\": \"bnum\", \"type\": \"int256\" }, { \"internalType\": \"int256\", \"name\": \"bden\", \"type\": \"int256\" }, { \"internalType\": \"int256\", \"name\": \"lrn\", \"type\": \"int256\" }, { \"internalType\": \"int256\", \"name\": \"lrd\", \"type\": \"int256\" } ], \"stateMutability\": \"nonpayable\", \"type\": \"constructor\" }, { \"inputs\": [], \"name\": \"get_delta_b\", \"outputs\": [], \"stateMutability\": \"nonpayable\", \"type\": \"function\" }, { \"inputs\": [ { \"internalType\": \"int256[]\", \"name\": \"xnum\", \"type\": \"int256[]\" }, { \"internalType\": \"int256[]\", \"name\": \"xden\", \"type\": \"int256[]\" } ], \"name\": \"get_delta_w\", \"outputs\": [], \"stateMutability\": \"nonpayable\", \"type\": \"function\" }, { \"inputs\": [ { \"internalType\": \"int256[]\", \"name\": \"ynum\", \"type\": \"int256[]\" }, { \"internalType\": \"int256[]\", \"name\": \"yden\", \"type\": \"int256[]\" } ], \"name\": \"get_mse\", \"outputs\": [], \"stateMutability\": \"nonpayable\", \"type\": \"function\" }, { \"inputs\": [], \"name\": \"get_new_bias\", \"outputs\": [], \"stateMutability\": \"nonpayable\", \"type\": \"function\" }, { \"inputs\": [], \"name\": \"get_new_weights\", \"outputs\": [], \"stateMutability\": \"nonpayable\", \"type\": \"function\" }, { \"inputs\": [ { \"internalType\": \"int256[]\", \"name\": \"xnum\", \"type\": \"int256[]\" }, { \"internalType\": \"int256[]\", \"name\": \"xden\", \"type\": \"int256[]\" } ], \"name\": \"get_y_hat\", \"outputs\": [], \"stateMutability\": \"nonpayable\", \"type\": \"function\" }, { \"inputs\": [], \"name\": \"print_larger\", \"outputs\": [ { \"internalType\": \"int256\", \"name\": \"\", \"type\": \"int256\" } ], \"stateMutability\": \"view\", \"type\": \"function\" }, { \"inputs\": [], \"name\": \"reset_delta_w\", \"outputs\": [], \"stateMutability\": \"nonpayable\", \"type\": \"function\" }, { \"inputs\": [], \"name\": \"reset_y_diff\", \"outputs\": [], \"stateMutability\": \"nonpayable\", \"type\": \"function\" }, { \"inputs\": [], \"name\": \"reset_y_hat\", \"outputs\": [], \"stateMutability\": \"nonpayable\", \"type\": \"function\" }, { \"inputs\": [], \"name\": \"reset_z_arrays\", \"outputs\": [], \"stateMutability\": \"nonpayable\", \"type\": \"function\" }, { \"inputs\": [], \"name\": \"set_add_array\", \"outputs\": [ { \"internalType\": \"int256\", \"name\": \"\", \"type\": \"int256\" }, { \"internalType\": \"int256\", \"name\": \"\", \"type\": \"int256\" } ], \"stateMutability\": \"view\", \"type\": \"function\" }, { \"inputs\": [], \"name\": \"set_delta_b\", \"outputs\": [ { \"internalType\": \"int256\", \"name\": \"\", \"type\": \"int256\" }, { \"internalType\": \"int256\", \"name\": \"\", \"type\": \"int256\" } ], \"stateMutability\": \"view\", \"type\": \"function\" }, { \"inputs\": [], \"name\": \"set_delta_w\", \"outputs\": [ { \"internalType\": \"int256[]\", \"name\": \"\", \"type\": \"int256[]\" }, { \"internalType\": \"int256[]\", \"name\": \"\", \"type\": \"int256[]\" } ], \"stateMutability\": \"view\", \"type\": \"function\" }, { \"inputs\": [], \"name\": \"set_mse\", \"outputs\": [ { \"internalType\": \"int256\", \"name\": \"\", \"type\": \"int256\" }, { \"internalType\": \"int256\", \"name\": \"\", \"type\": \"int256\" } ], \"stateMutability\": \"view\", \"type\": \"function\" }, { \"inputs\": [], \"name\": \"set_multiplier\", \"outputs\": [ { \"internalType\": \"int256[]\", \"name\": \"\", \"type\": \"int256[]\" }, { \"internalType\": \"int256[]\", \"name\": \"\", \"type\": \"int256[]\" } ], \"stateMutability\": \"view\", \"type\": \"function\" }, { \"inputs\": [], \"name\": \"set_new_parameters\", \"outputs\": [ { \"internalType\": \"int256[]\", \"name\": \"\", \"type\": \"int256[]\" }, { \"internalType\": \"int256[]\", \"name\": \"\", \"type\": \"int256[]\" }, { \"internalType\": \"int256\", \"name\": \"\", \"type\": \"int256\" }, { \"internalType\": \"int256\", \"name\": \"\", \"type\": \"int256\" } ], \"stateMutability\": \"view\", \"type\": \"function\" }, { \"inputs\": [], \"name\": \"set_y_diff\", \"outputs\": [ { \"internalType\": \"int256[]\", \"name\": \"\", \"type\": \"int256[]\" }, { \"internalType\": \"int256[]\", \"name\": \"\", \"type\": \"int256[]\" } ], \"stateMutability\": \"view\", \"type\": \"function\" }, { \"inputs\": [], \"name\": \"set_y_hat\", \"outputs\": [ { \"internalType\": \"int256[]\", \"name\": \"\", \"type\": \"int256[]\" }, { \"internalType\": \"int256[]\", \"name\": \"\", \"type\": \"int256[]\" } ], \"stateMutability\": \"view\", \"type\": \"function\" } ]')\n",
    "cont_address = \"0x65646600aA940B908949983eDAA9ECA41341756d\"\n",
    "contract = web3.eth.contract(address=cont_address,abi=abi)"
   ]
  },
  {
   "cell_type": "code",
   "execution_count": 308,
   "id": "induced-commodity",
   "metadata": {},
   "outputs": [],
   "source": [
    "account1 = \"0x37bfB436392DaAE0E91EdcD9c4128FBcADF3919d\"\n",
    "private_key1 = \"e72044de2331844a3c0232dc23d43fb8ca4f555854b4da07e2fb530d003e5e2d\"\n",
    "account2 = \"0xfbD8f1F5878b0b5b3E627e7cc14617b05B582867\"\n",
    "private_key2=\"56c8f569b23a423f9d66d46f86f7ada7ba0d28dfba03c34f661bb15358b042bb\""
   ]
  },
  {
   "cell_type": "code",
   "execution_count": 309,
   "id": "scheduled-bristol",
   "metadata": {},
   "outputs": [],
   "source": [
    "#try to see the parameters from the constructor\n",
    "# wn = np.ones(10)\n",
    "# wd = np.ones(10)\n",
    "# bn =1\n",
    "# bd =1\n",
    "\n",
    "# lrn =1\n",
    "# lrd = 1000\n"
   ]
  },
  {
   "cell_type": "code",
   "execution_count": 310,
   "id": "loose-worcester",
   "metadata": {},
   "outputs": [],
   "source": [
    "#    parameters in smart contract definition\n",
    "#    int lcm ; int sub_num; int sub_den;int[] z_num; int[] z_den;int[] yh_num; int[] yh_den;\n",
    "#    int[] yh_sub_num; int[] yh_sub_den; int[] del_w_num; int[] del_w_den; int del_b_num; int del_b_den;\n",
    "#    int[] _wnum; int[] _wden; int _b_num; int _b_den; int lr_num; int lr_den;"
   ]
  },
  {
   "cell_type": "code",
   "execution_count": 311,
   "id": "rational-novelty",
   "metadata": {},
   "outputs": [],
   "source": [
    "#shortening numners \n",
    "def shorter(c,d):\n",
    "    c = int(c)\n",
    "    d = int(d)\n",
    "    if(c<0):\n",
    "        n = c*(-1)\n",
    "        if(len(str(n))==len(str(d)) and len(str(n))>3):      \n",
    "            a = f\"{n:.0f}\"\n",
    "            a = str(a[:-3])\n",
    "            a = int(a)*(-1)\n",
    "            b = f\"{d:.0f}\"\n",
    "            b = str(b[:-3])\n",
    "            b = int(b)\n",
    "        elif(len(str(n))>=3 and len(str(d))>=3):\n",
    "            a = f\"{n:.0f}\"\n",
    "            a = str(a)\n",
    "            b = f\"{d:.0f}\"\n",
    "            b = str(b)\n",
    "            if(len(str(a))<len(str(b))):\n",
    "                s = len(str(a))-2\n",
    "            else:\n",
    "                s = len(str(b))-2\n",
    "            a = int(a[:-s])\n",
    "            b = int(b[:-s])\n",
    "            a = a*-1 \n",
    "        else:\n",
    "            a = int(n*-1)\n",
    "            b = d\n",
    "    elif(len(str(c))==len(str(d)) and len(str(c))>3):      \n",
    "            a = f\"{c:.0f}\"\n",
    "            a = str(a[:-2])\n",
    "            a = int(a)\n",
    "            b = f\"{d:.0f}\"\n",
    "            b = str(b[:-2])\n",
    "            b = int(b)\n",
    "#     elif(len(str(c))==1 and len(str(d))>3):\n",
    "#         a = int(0)\n",
    "#         b = int(1)\n",
    "    elif(len(str(c))>3 and len(str(d))>3):\n",
    "            a = f\"{c:.0f}\"\n",
    "            a = str(a)\n",
    "            b = f\"{d:.0f}\"\n",
    "            b = str(b)\n",
    "            if(len(str(a))<len(str(b))):\n",
    "                s = len(str(a))-3\n",
    "            else:\n",
    "                s = len(str(b))-3\n",
    "            a = int(a[:-s])\n",
    "            b = int(b[:-s])\n",
    "    else:\n",
    "        a = c\n",
    "        b = d\n",
    "    return a,b"
   ]
  },
  {
   "cell_type": "code",
   "execution_count": 312,
   "id": "round-friendship",
   "metadata": {},
   "outputs": [],
   "source": [
    "def get_yhat(x_train_num,x_train_den, account, private_key, contract):\n",
    "    nonce = web3.eth.getTransactionCount(account)\n",
    "    tx_store = contract.functions.get_y_hat(\n",
    "        x_train_num,x_train_den\n",
    "         ).buildTransaction({\n",
    "        'gas': 3000000,\n",
    "        'gasPrice': web3.toWei('100', 'gwei'),\n",
    "        'from': account,\n",
    "        'nonce': nonce\n",
    "        })\n",
    "\n",
    "    signed_txn = web3.eth.account.signTransaction(tx_store, private_key=private_key)\n",
    "    start_time = time.time()\n",
    "    tx_hash = web3.eth.sendRawTransaction(signed_txn.rawTransaction)\n",
    "    tx_receipt = web3.eth.waitForTransactionReceipt(tx_hash)\n",
    "    end_time = time.time()\n",
    "#     print(\"time taken for thsi transaction is\",end_time -start_time)\n",
    "    print(\"gas used for this transactino is\",tx_receipt.gasUsed)\n",
    "    print(tx_receipt)\n",
    "#     print(\"the stored number is \", contract.functions.retrieve().call())"
   ]
  },
  {
   "cell_type": "code",
   "execution_count": 313,
   "id": "corporate-insulation",
   "metadata": {},
   "outputs": [],
   "source": [
    "def get_mse(y_train_num,y_train_den,account, private_key,contract):\n",
    "    nonce = web3.eth.getTransactionCount(account)\n",
    "    tx_store = contract.functions.get_mse(\n",
    "        y_train_num,y_train_den\n",
    "         ).buildTransaction({\n",
    "        'gas': 3000000,\n",
    "        'gasPrice': web3.toWei('100', 'gwei'),\n",
    "        'from': account,\n",
    "        'nonce': nonce\n",
    "        })\n",
    "\n",
    "    signed_txn = web3.eth.account.signTransaction(tx_store, private_key=private_key)\n",
    "    start_time = time.time()\n",
    "    tx_hash = web3.eth.sendRawTransaction(signed_txn.rawTransaction)\n",
    "    tx_receipt = web3.eth.waitForTransactionReceipt(tx_hash)\n",
    "    end_time = time.time()\n",
    "#     print(\"time taken for thsi transaction is\",end_time -start_time)\n",
    "#     print(\"gas used for this transactino is\",tx_receipt.gasUsed)\n",
    "#     print(\"the stored number is \", contract.functions.retrieve().call())"
   ]
  },
  {
   "cell_type": "code",
   "execution_count": 314,
   "id": "traditional-daily",
   "metadata": {},
   "outputs": [],
   "source": [
    "def get_delta_w(x_train_num,x_train_den, account, private_key,contract):\n",
    "    nonce = web3.eth.getTransactionCount(account)\n",
    "    tx_store = contract.functions.get_delta_w(\n",
    "        x_train_num,x_train_den\n",
    "         ).buildTransaction({\n",
    "        'gas': 3000000,\n",
    "        'gasPrice': web3.toWei('10', 'gwei'),\n",
    "        'from': account,\n",
    "        'nonce': nonce\n",
    "        })\n",
    "\n",
    "    signed_txn = web3.eth.account.signTransaction(tx_store, private_key=private_key)\n",
    "    start_time = time.time()\n",
    "    tx_hash = web3.eth.sendRawTransaction(signed_txn.rawTransaction)\n",
    "    tx_receipt = web3.eth.waitForTransactionReceipt(tx_hash)\n",
    "    end_time = time.time()\n",
    "#     print(\"time taken for thsi transaction is\",end_time -start_time)\n",
    "#     print(\"gas used for this transactino is\",tx_receipt.gasUsed)\n",
    "#     print(\"the stored number is \", contract.functions.retrieve().call())"
   ]
  },
  {
   "cell_type": "code",
   "execution_count": 315,
   "id": "worst-charger",
   "metadata": {},
   "outputs": [],
   "source": [
    "def get_delta_b(account, private_key,contract):\n",
    "    nonce = web3.eth.getTransactionCount(account)\n",
    "    tx_store = contract.functions.get_delta_b(\n",
    "         ).buildTransaction({\n",
    "        'gas': 3000000,\n",
    "        'gasPrice': web3.toWei('10', 'gwei'),\n",
    "        'from': account,\n",
    "        'nonce': nonce\n",
    "        })\n",
    "\n",
    "    signed_txn = web3.eth.account.signTransaction(tx_store, private_key=private_key)\n",
    "    start_time = time.time()\n",
    "    tx_hash = web3.eth.sendRawTransaction(signed_txn.rawTransaction)\n",
    "    tx_receipt = web3.eth.waitForTransactionReceipt(tx_hash)\n",
    "    end_time = time.time()\n",
    "#     print(\"time taken for thsi transaction is\",end_time -start_time)\n",
    "#     print(\"gas used for this transactino is\",tx_receipt.gasUsed)\n",
    "#     print(\"the stored number is \", contract.functions.retrieve().call())"
   ]
  },
  {
   "cell_type": "code",
   "execution_count": 316,
   "id": "small-modification",
   "metadata": {},
   "outputs": [],
   "source": [
    "def get_new_weights(account, private_key,contract):\n",
    "    nonce = web3.eth.getTransactionCount(account)\n",
    "    tx_store = contract.functions.get_new_weights(\n",
    "         ).buildTransaction({\n",
    "        'gas': 3000000,\n",
    "        'gasPrice': web3.toWei('100', 'gwei'),\n",
    "        'from': account,\n",
    "        'nonce': nonce\n",
    "        })\n",
    "\n",
    "    signed_txn = web3.eth.account.signTransaction(tx_store, private_key=private_key)\n",
    "    start_time = time.time()\n",
    "    tx_hash = web3.eth.sendRawTransaction(signed_txn.rawTransaction)\n",
    "    tx_receipt = web3.eth.waitForTransactionReceipt(tx_hash)\n",
    "    end_time = time.time()\n",
    "#     print(\"time taken for thsi transaction is\",end_time -start_time)\n",
    "#     print(\"gas used for this transactino is\",tx_receipt.gasUsed)\n",
    "#     print(\"the stored number is \", contract.functions.retrieve().call())"
   ]
  },
  {
   "cell_type": "code",
   "execution_count": 317,
   "id": "central-calendar",
   "metadata": {},
   "outputs": [],
   "source": [
    "def get_new_bias(account, private_key,contract):\n",
    "    nonce = web3.eth.getTransactionCount(account)\n",
    "    tx_store = contract.functions.get_new_bias(\n",
    "         ).buildTransaction({\n",
    "        'gas': 3000000,\n",
    "        'gasPrice': web3.toWei('10', 'gwei'),\n",
    "        'from': account,\n",
    "        'nonce': nonce\n",
    "        })\n",
    "\n",
    "    signed_txn = web3.eth.account.signTransaction(tx_store, private_key=private_key)\n",
    "    start_time = time.time()\n",
    "    tx_hash = web3.eth.sendRawTransaction(signed_txn.rawTransaction)\n",
    "    tx_receipt = web3.eth.waitForTransactionReceipt(tx_hash)\n",
    "    end_time = time.time()\n",
    "#     print(\"time taken for thsi transaction is\",end_time -start_time)\n",
    "#     print(\"gas used for this transactino is\",tx_receipt.gasUsed)\n",
    "#     print(\"the stored number is \", contract.functions.retrieve().call())"
   ]
  },
  {
   "cell_type": "code",
   "execution_count": 318,
   "id": "korean-thomson",
   "metadata": {},
   "outputs": [],
   "source": [
    "# get the dataset\n",
    "data = load_diabetes()\n",
    "X = data.data\n",
    "y = data.target\n",
    "X_train, X_test, y_train, y_test = train_test_split(X, y, test_size=0.2, random_state=42)\n",
    "\n",
    "# normalize to fractions for numerator\n",
    "X_train_num = np.dot(X_train,1000).astype(int)\n",
    "X_test_num = np.dot(X_test,1000).astype(int)\n",
    "y_train_num = y_train.astype(int)\n",
    "y_test_num = y_test.astype(int)\n",
    "\n",
    "#normalize tof ractions in denominator\n",
    "X_train_den = np.full(X_train.shape, 1000) \n",
    "X_test_den = np.full(X_test.shape, 1000) \n",
    "y_train_den = np.ones(len(y_train)).astype(int)\n",
    "y_test_den = np.ones(len(y_test)).astype(int)\n"
   ]
  },
  {
   "cell_type": "code",
   "execution_count": 319,
   "id": "moral-surveillance",
   "metadata": {},
   "outputs": [],
   "source": [
    "temp_train_num = X_train_num[0].tolist()  \n",
    "temp_train_den = X_train_den[0].tolist()"
   ]
  },
  {
   "cell_type": "code",
   "execution_count": 320,
   "id": "romance-surfing",
   "metadata": {},
   "outputs": [
    {
     "data": {
      "text/plain": [
       "[70, 50, 12, 56, 34, 49, -39, 34, 27, -1]"
      ]
     },
     "execution_count": 320,
     "metadata": {},
     "output_type": "execute_result"
    }
   ],
   "source": [
    "temp_train_num"
   ]
  },
  {
   "cell_type": "code",
   "execution_count": 321,
   "id": "tender-modem",
   "metadata": {
    "scrolled": true
   },
   "outputs": [
    {
     "name": "stdout",
     "output_type": "stream",
     "text": [
      "gas used for this transactino is 387879\n",
      "AttributeDict({'transactionHash': HexBytes('0xa20e1bc43c5aab501c124a1fb109cc1c261583353dd9495a6dd17a3dd34996f0'), 'transactionIndex': 0, 'blockHash': HexBytes('0xc6493b3e297109847598cc92cb4fa6d13369e4a38514e5df16e39227d4a2ab7b'), 'blockNumber': 712, 'from': '0x37bfB436392DaAE0E91EdcD9c4128FBcADF3919d', 'to': '0x65646600aA940B908949983eDAA9ECA41341756d', 'gasUsed': 387879, 'cumulativeGasUsed': 387879, 'contractAddress': None, 'logs': [], 'status': 1, 'logsBloom': HexBytes('0x00000000000000000000000000000000000000000000000000000000000000000000000000000000000000000000000000000000000000000000000000000000000000000000000000000000000000000000000000000000000000000000000000000000000000000000000000000000000000000000000000000000000000000000000000000000000000000000000000000000000000000000000000000000000000000000000000000000000000000000000000000000000000000000000000000000000000000000000000000000000000000000000000000000000000000000000000000000000000000000000000000000000000000000000000000000')})\n",
      "gas used for this transactino is 320031\n",
      "AttributeDict({'transactionHash': HexBytes('0xec6f9eb329984d8a31522be8337415d189a624fe31308620808be2f11815eaa8'), 'transactionIndex': 0, 'blockHash': HexBytes('0xffbfa6fb6aaf444213f051e815dc245476149354ec47f040459535efd9797af7'), 'blockNumber': 713, 'from': '0x37bfB436392DaAE0E91EdcD9c4128FBcADF3919d', 'to': '0x65646600aA940B908949983eDAA9ECA41341756d', 'gasUsed': 320031, 'cumulativeGasUsed': 320031, 'contractAddress': None, 'logs': [], 'status': 1, 'logsBloom': HexBytes('0x00000000000000000000000000000000000000000000000000000000000000000000000000000000000000000000000000000000000000000000000000000000000000000000000000000000000000000000000000000000000000000000000000000000000000000000000000000000000000000000000000000000000000000000000000000000000000000000000000000000000000000000000000000000000000000000000000000000000000000000000000000000000000000000000000000000000000000000000000000000000000000000000000000000000000000000000000000000000000000000000000000000000000000000000000000000')})\n",
      "gas used for this transactino is 337323\n",
      "AttributeDict({'transactionHash': HexBytes('0x3d4fe6c24c3f5dc631321597c035c5240c8c6bcd7cf3a2d8e25afec9c8c54342'), 'transactionIndex': 0, 'blockHash': HexBytes('0xdf178384b2a058ec5c53d4c7164caef727052a087f83a40874b9136a75128660'), 'blockNumber': 714, 'from': '0x37bfB436392DaAE0E91EdcD9c4128FBcADF3919d', 'to': '0x65646600aA940B908949983eDAA9ECA41341756d', 'gasUsed': 337323, 'cumulativeGasUsed': 337323, 'contractAddress': None, 'logs': [], 'status': 1, 'logsBloom': HexBytes('0x00000000000000000000000000000000000000000000000000000000000000000000000000000000000000000000000000000000000000000000000000000000000000000000000000000000000000000000000000000000000000000000000000000000000000000000000000000000000000000000000000000000000000000000000000000000000000000000000000000000000000000000000000000000000000000000000000000000000000000000000000000000000000000000000000000000000000000000000000000000000000000000000000000000000000000000000000000000000000000000000000000000000000000000000000000000')})\n",
      "gas used for this transactino is 330381\n",
      "AttributeDict({'transactionHash': HexBytes('0xb011ac00985eea460febe08d761e939fcfe8d7eca73e4ef167314042f8f4458e'), 'transactionIndex': 0, 'blockHash': HexBytes('0xa4856e90b59e6eb4534db3492c27a0c0e600f1330469e997ddea241f0e926ebe'), 'blockNumber': 715, 'from': '0x37bfB436392DaAE0E91EdcD9c4128FBcADF3919d', 'to': '0x65646600aA940B908949983eDAA9ECA41341756d', 'gasUsed': 330381, 'cumulativeGasUsed': 330381, 'contractAddress': None, 'logs': [], 'status': 1, 'logsBloom': HexBytes('0x00000000000000000000000000000000000000000000000000000000000000000000000000000000000000000000000000000000000000000000000000000000000000000000000000000000000000000000000000000000000000000000000000000000000000000000000000000000000000000000000000000000000000000000000000000000000000000000000000000000000000000000000000000000000000000000000000000000000000000000000000000000000000000000000000000000000000000000000000000000000000000000000000000000000000000000000000000000000000000000000000000000000000000000000000000000')})\n",
      "gas used for this transactino is 330381\n",
      "AttributeDict({'transactionHash': HexBytes('0x13bb278e785cadf3da9a8b31f02806c294eb3382b3c0453f2bbdea4e4b0f1a16'), 'transactionIndex': 0, 'blockHash': HexBytes('0xa16c5d5a651b1d652b4386c8918ea0cec892386a6f396c452327716949b89fe0'), 'blockNumber': 716, 'from': '0x37bfB436392DaAE0E91EdcD9c4128FBcADF3919d', 'to': '0x65646600aA940B908949983eDAA9ECA41341756d', 'gasUsed': 330381, 'cumulativeGasUsed': 330381, 'contractAddress': None, 'logs': [], 'status': 1, 'logsBloom': HexBytes('0x00000000000000000000000000000000000000000000000000000000000000000000000000000000000000000000000000000000000000000000000000000000000000000000000000000000000000000000000000000000000000000000000000000000000000000000000000000000000000000000000000000000000000000000000000000000000000000000000000000000000000000000000000000000000000000000000000000000000000000000000000000000000000000000000000000000000000000000000000000000000000000000000000000000000000000000000000000000000000000000000000000000000000000000000000000000')})\n",
      "gas used for this transactino is 330195\n",
      "AttributeDict({'transactionHash': HexBytes('0xfb6c7500bb8817af7a50109165167ecc058c27e07b4eb8ffaadae60ef69d3b9c'), 'transactionIndex': 0, 'blockHash': HexBytes('0x208d94f185d4bde0e50e0619842023be14ed6208ca62e94ae6eaedb218d79ce0'), 'blockNumber': 717, 'from': '0x37bfB436392DaAE0E91EdcD9c4128FBcADF3919d', 'to': '0x65646600aA940B908949983eDAA9ECA41341756d', 'gasUsed': 330195, 'cumulativeGasUsed': 330195, 'contractAddress': None, 'logs': [], 'status': 1, 'logsBloom': HexBytes('0x00000000000000000000000000000000000000000000000000000000000000000000000000000000000000000000000000000000000000000000000000000000000000000000000000000000000000000000000000000000000000000000000000000000000000000000000000000000000000000000000000000000000000000000000000000000000000000000000000000000000000000000000000000000000000000000000000000000000000000000000000000000000000000000000000000000000000000000000000000000000000000000000000000000000000000000000000000000000000000000000000000000000000000000000000000000')})\n",
      "gas used for this transactino is 329637\n",
      "AttributeDict({'transactionHash': HexBytes('0x97ff0d9b363f6cffc931ccc6ec8efe48651c7b9f29ed71bf48ff0e7f1ef83e83'), 'transactionIndex': 0, 'blockHash': HexBytes('0x22e6b7bac739fa17bd1c46047305299105cd73c6829dd56955fa69a5b122e72a'), 'blockNumber': 718, 'from': '0x37bfB436392DaAE0E91EdcD9c4128FBcADF3919d', 'to': '0x65646600aA940B908949983eDAA9ECA41341756d', 'gasUsed': 329637, 'cumulativeGasUsed': 329637, 'contractAddress': None, 'logs': [], 'status': 1, 'logsBloom': HexBytes('0x00000000000000000000000000000000000000000000000000000000000000000000000000000000000000000000000000000000000000000000000000000000000000000000000000000000000000000000000000000000000000000000000000000000000000000000000000000000000000000000000000000000000000000000000000000000000000000000000000000000000000000000000000000000000000000000000000000000000000000000000000000000000000000000000000000000000000000000000000000000000000000000000000000000000000000000000000000000000000000000000000000000000000000000000000000000')})\n",
      "gas used for this transactino is 329079\n",
      "AttributeDict({'transactionHash': HexBytes('0xa0646676d7a30e354e65c65a3c32c683675834c810289333a279095c9bc6f4fa'), 'transactionIndex': 0, 'blockHash': HexBytes('0xc44f5d91772522ee1c35d43712e0ea13c3bb5cf358bd233e14aad6b4b58508a0'), 'blockNumber': 719, 'from': '0x37bfB436392DaAE0E91EdcD9c4128FBcADF3919d', 'to': '0x65646600aA940B908949983eDAA9ECA41341756d', 'gasUsed': 329079, 'cumulativeGasUsed': 329079, 'contractAddress': None, 'logs': [], 'status': 1, 'logsBloom': HexBytes('0x00000000000000000000000000000000000000000000000000000000000000000000000000000000000000000000000000000000000000000000000000000000000000000000000000000000000000000000000000000000000000000000000000000000000000000000000000000000000000000000000000000000000000000000000000000000000000000000000000000000000000000000000000000000000000000000000000000000000000000000000000000000000000000000000000000000000000000000000000000000000000000000000000000000000000000000000000000000000000000000000000000000000000000000000000000000')})\n"
     ]
    },
    {
     "name": "stdout",
     "output_type": "stream",
     "text": [
      "gas used for this transactino is 330009\n",
      "AttributeDict({'transactionHash': HexBytes('0x749832b6e1a52fcf20dab97da77b1d18ac0682796ad0184fadb6e070f1ed355e'), 'transactionIndex': 0, 'blockHash': HexBytes('0xc3a8ceca9436f6128f7510bf4ef033378064bdbb6bcbdcfd65b469142ca810e2'), 'blockNumber': 720, 'from': '0x37bfB436392DaAE0E91EdcD9c4128FBcADF3919d', 'to': '0x65646600aA940B908949983eDAA9ECA41341756d', 'gasUsed': 330009, 'cumulativeGasUsed': 330009, 'contractAddress': None, 'logs': [], 'status': 1, 'logsBloom': HexBytes('0x00000000000000000000000000000000000000000000000000000000000000000000000000000000000000000000000000000000000000000000000000000000000000000000000000000000000000000000000000000000000000000000000000000000000000000000000000000000000000000000000000000000000000000000000000000000000000000000000000000000000000000000000000000000000000000000000000000000000000000000000000000000000000000000000000000000000000000000000000000000000000000000000000000000000000000000000000000000000000000000000000000000000000000000000000000000')})\n",
      "gas used for this transactino is 320589\n",
      "AttributeDict({'transactionHash': HexBytes('0x719f58a84d3999290d119c92e2f03839d15966942e4489db0fea174c5f6c75f9'), 'transactionIndex': 0, 'blockHash': HexBytes('0x09b80717c384099d316bf9fcbd8c42404d19350250a90105b311b484fc4be8a8'), 'blockNumber': 721, 'from': '0x37bfB436392DaAE0E91EdcD9c4128FBcADF3919d', 'to': '0x65646600aA940B908949983eDAA9ECA41341756d', 'gasUsed': 320589, 'cumulativeGasUsed': 320589, 'contractAddress': None, 'logs': [], 'status': 1, 'logsBloom': HexBytes('0x00000000000000000000000000000000000000000000000000000000000000000000000000000000000000000000000000000000000000000000000000000000000000000000000000000000000000000000000000000000000000000000000000000000000000000000000000000000000000000000000000000000000000000000000000000000000000000000000000000000000000000000000000000000000000000000000000000000000000000000000000000000000000000000000000000000000000000000000000000000000000000000000000000000000000000000000000000000000000000000000000000000000000000000000000000000')})\n"
     ]
    }
   ],
   "source": [
    "for i in range(10):\n",
    "    temp_train_num = X_train_num[i].tolist()  \n",
    "    temp_train_den = X_train_den[i].tolist() \n",
    "    get_yhat(temp_train_num, temp_train_den, account1, private_key1, contract)"
   ]
  },
  {
   "cell_type": "code",
   "execution_count": 322,
   "id": "mobile-characteristic",
   "metadata": {},
   "outputs": [
    {
     "data": {
      "text/plain": [
       "[[1292, 1000, 1072, 564, 600, 556, 1032, 1344, 911, 735],\n",
       " [1000, 1000, 1000, 1000, 1000, 1000, 1000, 1000, 1000, 1000]]"
      ]
     },
     "execution_count": 322,
     "metadata": {},
     "output_type": "execute_result"
    }
   ],
   "source": [
    "contract.functions.set_y_hat().call()"
   ]
  },
  {
   "cell_type": "code",
   "execution_count": 323,
   "id": "median-movement",
   "metadata": {},
   "outputs": [
    {
     "data": {
      "text/plain": [
       "[144, 150, 280, 125, 59, 65, 281, 277, 167, 90]"
      ]
     },
     "execution_count": 323,
     "metadata": {},
     "output_type": "execute_result"
    }
   ],
   "source": [
    "yn = y_train_num[:10].tolist()\n",
    "yd = y_train_den[:10].tolist()\n",
    "\n",
    "yn    "
   ]
  },
  {
   "cell_type": "code",
   "execution_count": 324,
   "id": "expected-template",
   "metadata": {},
   "outputs": [],
   "source": [
    "get_mse(yn,yd,account1, private_key1,contract)"
   ]
  },
  {
   "cell_type": "code",
   "execution_count": 325,
   "id": "corporate-progress",
   "metadata": {},
   "outputs": [
    {
     "data": {
      "text/plain": [
       "[333337417186, 10000000]"
      ]
     },
     "execution_count": 325,
     "metadata": {},
     "output_type": "execute_result"
    }
   ],
   "source": [
    "contract.functions.set_mse().call()"
   ]
  },
  {
   "cell_type": "code",
   "execution_count": 326,
   "id": "superb-transformation",
   "metadata": {},
   "outputs": [],
   "source": [
    "X_train_num10 = X_train_num[:10]\n",
    "X_train_den10 = X_train_den[:10]"
   ]
  },
  {
   "cell_type": "code",
   "execution_count": 327,
   "id": "front-contemporary",
   "metadata": {},
   "outputs": [],
   "source": [
    "X_train_num10 = X_train_num10.T\n",
    "X_train_den10 = X_train_den10.T"
   ]
  },
  {
   "cell_type": "code",
   "execution_count": 328,
   "id": "western-melbourne",
   "metadata": {},
   "outputs": [
    {
     "data": {
      "text/plain": [
       "array([[  70,   -9,    5,  -27,  -23,    1,   16,    9,   -9,  -78],\n",
       "       [  50,   50,  -44,  -44,  -44,  -44,  -44,   50,  -44,  -44],\n",
       "       [  12,  -18,   49,  -35,  -65,  -39,   20,   69,   37,  -16],\n",
       "       [  56,  -33,   97,  -29,  -81, -100,   21,   59,  -40,  -12],\n",
       "       [  34,  -20,  -15,  -56,  -38,  -29,  -13,   17,  -24,    0],\n",
       "       [  49,   12,  -16,  -58,  -53,  -30,  -13,  -23,   -3,  -13],\n",
       "       [ -39,  -72,   -6,   30,   59,   44,   -6,  -47,  -43,   70],\n",
       "       [  34,   71,   -2,  -39,  -76,  -50,   -2,   34,   15,  -39],\n",
       "       [  27,    0,   17,  -49,  -37,  -68,   13,  103,   -5,  -41],\n",
       "       [  -1,   19,  -13, -129,  -42, -129,   40,   73,   27,  -92]])"
      ]
     },
     "execution_count": 328,
     "metadata": {},
     "output_type": "execute_result"
    }
   ],
   "source": [
    "X_train_num10"
   ]
  },
  {
   "cell_type": "code",
   "execution_count": 329,
   "id": "quantitative-compiler",
   "metadata": {},
   "outputs": [],
   "source": [
    "\n",
    "for i in range(10):\n",
    "    temp_train_num = X_train_num[i].tolist()  \n",
    "    temp_train_den = X_train_den[i].tolist() \n",
    "    get_delta_w(temp_train_num,temp_train_den, account1, private_key1,contract)"
   ]
  },
  {
   "cell_type": "code",
   "execution_count": 330,
   "id": "delayed-senate",
   "metadata": {},
   "outputs": [
    {
     "data": {
      "text/plain": [
       "[[-142708,\n",
       "  -149000,\n",
       "  -278928,\n",
       "  -124436,\n",
       "  -58400,\n",
       "  -64444,\n",
       "  -279968,\n",
       "  -275656,\n",
       "  -166089,\n",
       "  -89265],\n",
       " [1000, 1000, 1000, 1000, 1000, 1000, 1000, 1000, 1000, 1000]]"
      ]
     },
     "execution_count": 330,
     "metadata": {},
     "output_type": "execute_result"
    }
   ],
   "source": [
    "contract.functions.set_y_diff().call()"
   ]
  },
  {
   "cell_type": "code",
   "execution_count": 331,
   "id": "taken-richards",
   "metadata": {
    "scrolled": true
   },
   "outputs": [
    {
     "data": {
      "text/plain": [
       "[[-71494316,\n",
       "  -67001874,\n",
       "  -101842170,\n",
       "  3744794,\n",
       "  119762432,\n",
       "  235033330,\n",
       "  223391912,\n",
       "  114051840,\n",
       "  134884804,\n",
       "  196196662],\n",
       " [1000000000,\n",
       "  1000000000,\n",
       "  1000000000,\n",
       "  1000000000,\n",
       "  1000000000,\n",
       "  1000000000,\n",
       "  1000000000,\n",
       "  1000000000,\n",
       "  1000000000,\n",
       "  1000000000]]"
      ]
     },
     "execution_count": 331,
     "metadata": {},
     "output_type": "execute_result"
    }
   ],
   "source": [
    "contract.functions.set_delta_w().call()"
   ]
  },
  {
   "cell_type": "code",
   "execution_count": 332,
   "id": "activated-watershed",
   "metadata": {
    "scrolled": true
   },
   "outputs": [],
   "source": [
    "get_delta_b(account1, private_key1,contract)"
   ]
  },
  {
   "cell_type": "code",
   "execution_count": 333,
   "id": "center-sheet",
   "metadata": {},
   "outputs": [
    {
     "data": {
      "text/plain": [
       "[-3257788, 10000]"
      ]
     },
     "execution_count": 333,
     "metadata": {},
     "output_type": "execute_result"
    }
   ],
   "source": [
    "contract.functions.set_delta_b().call()"
   ]
  },
  {
   "cell_type": "code",
   "execution_count": 334,
   "id": "numeric-conference",
   "metadata": {
    "scrolled": true
   },
   "outputs": [],
   "source": [
    "get_new_weights(account1, private_key1,contract)"
   ]
  },
  {
   "cell_type": "code",
   "execution_count": 335,
   "id": "capable-monkey",
   "metadata": {},
   "outputs": [],
   "source": [
    "get_new_bias(account1, private_key1,contract)"
   ]
  },
  {
   "cell_type": "code",
   "execution_count": 336,
   "id": "renewable-seller",
   "metadata": {},
   "outputs": [
    {
     "data": {
      "text/plain": [
       "[[1071494316,\n",
       "  1067001874,\n",
       "  1101842170,\n",
       "  996255206,\n",
       "  880237568,\n",
       "  764966670,\n",
       "  776608088,\n",
       "  885948160,\n",
       "  865115196,\n",
       "  803803338],\n",
       " [1000000000,\n",
       "  1000000000,\n",
       "  1000000000,\n",
       "  1000000000,\n",
       "  1000000000,\n",
       "  1000000000,\n",
       "  1000000000,\n",
       "  1000000000,\n",
       "  1000000000,\n",
       "  1000000000],\n",
       " 4257788,\n",
       " 1000000]"
      ]
     },
     "execution_count": 336,
     "metadata": {},
     "output_type": "execute_result"
    }
   ],
   "source": [
    "contract.functions.set_new_parameters().call()"
   ]
  },
  {
   "cell_type": "code",
   "execution_count": null,
   "id": "alone-terrorist",
   "metadata": {},
   "outputs": [],
   "source": []
  }
 ],
 "metadata": {
  "kernelspec": {
   "display_name": "Python 3",
   "language": "python",
   "name": "python3"
  },
  "language_info": {
   "codemirror_mode": {
    "name": "ipython",
    "version": 3
   },
   "file_extension": ".py",
   "mimetype": "text/x-python",
   "name": "python",
   "nbconvert_exporter": "python",
   "pygments_lexer": "ipython3",
   "version": "3.9.2"
  }
 },
 "nbformat": 4,
 "nbformat_minor": 5
}
