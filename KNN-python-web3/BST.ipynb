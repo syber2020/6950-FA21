{
 "cells": [
  {
   "cell_type": "code",
   "execution_count": 80,
   "id": "aware-uniform",
   "metadata": {},
   "outputs": [],
   "source": [
    "## One example of BST"
   ]
  },
  {
   "cell_type": "code",
   "execution_count": 1,
   "id": "atomic-penetration",
   "metadata": {},
   "outputs": [],
   "source": [
    "# Python program to demonstrate\n",
    "# insert operation in binary search tree\n",
    " \n",
    "# A utility class that represents\n",
    "# an individual node in a BST\n",
    " \n",
    " \n",
    "class Node:\n",
    "    def __init__(self, key,index):\n",
    "        self.left = None\n",
    "        self.right = None\n",
    "        self.val = key\n",
    "        self.ind = index\n",
    " \n",
    "# A utility function to insert\n",
    "# a new node with the given key\n",
    " \n",
    " \n",
    "def insert(root, key,index):\n",
    "    if root is None:\n",
    "        return Node(key,index)\n",
    "    else:\n",
    "        if root.val == key:\n",
    "            return root\n",
    "        elif root.val > key:\n",
    "            root.right = insert(root.right, key, index)\n",
    "        else:\n",
    "            root.left = insert(root.left, key,index)\n",
    "    \n",
    "#     print(root.val)\n",
    "    return root\n",
    " \n",
    "# A utility function to do inorder tree traversal\n",
    " \n",
    " \n",
    "def inorder(root):\n",
    "    if root:\n",
    "#         print(\"performed a left traverse\")\n",
    "        inorder(root.left)\n",
    "        print(root.val, root.ind)\n",
    "#         print(\"performed a right traverse\")      \n",
    "        inorder(root.right)\n",
    " \n",
    " \n",
    "# Driver program to test the above functions\n",
    "# Let us create the following BST\n",
    "#    50\n",
    "#  /     \\\n",
    "# 30     70\n",
    "#  / \\ / \\\n",
    "# 20 40 60 80\n"
   ]
  },
  {
   "cell_type": "code",
   "execution_count": 2,
   "id": "indonesian-wyoming",
   "metadata": {},
   "outputs": [],
   "source": [
    "def distance(root, key,index,dist):\n",
    "    if root is None:\n",
    "        print(\" it is none\")\n",
    "        return Node(key,index)\n",
    "    else:\n",
    "        if root.val == key:\n",
    "            print(root.val)\n",
    "#             dist.append(root.val)\n",
    "            return root\n",
    "        elif root.val > key:\n",
    "            print(root.val-key)\n",
    "            dist.append(root.val-key)\n",
    "            root.right = distance(root.right,key,index,dist)\n",
    "        else:\n",
    "            print(root.val-key)\n",
    "            root.left = distance(root.left,key,index,dist)\n",
    "    \n",
    "    return dist\n"
   ]
  },
  {
   "cell_type": "code",
   "execution_count": 3,
   "id": "mental-river",
   "metadata": {},
   "outputs": [],
   "source": [
    "r = Node(50,5)\n",
    "r = insert(r, 30,3)\n",
    "r = insert(r, 20,2)\n",
    "r = insert(r, 40,4)\n",
    "r = insert(r, 70,7)\n",
    "r = insert(r, 60,6)\n",
    "r = insert(r, 80,8)"
   ]
  },
  {
   "cell_type": "code",
   "execution_count": 4,
   "id": "continuous-functionality",
   "metadata": {},
   "outputs": [
    {
     "name": "stdout",
     "output_type": "stream",
     "text": [
      "80 8\n",
      "70 7\n",
      "60 6\n",
      "50 5\n",
      "40 4\n",
      "30 3\n",
      "20 2\n"
     ]
    }
   ],
   "source": [
    "# Print inoder traversal of the BST\n",
    "inorder(r)\n"
   ]
  },
  {
   "cell_type": "code",
   "execution_count": 6,
   "id": "accredited-statement",
   "metadata": {},
   "outputs": [
    {
     "name": "stdout",
     "output_type": "stream",
     "text": [
      "40\n",
      "20\n",
      "10\n",
      " it is none\n"
     ]
    },
    {
     "data": {
      "text/plain": [
       "[40, 20, 10]"
      ]
     },
     "execution_count": 6,
     "metadata": {},
     "output_type": "execute_result"
    }
   ],
   "source": [
    "dist=[]\n",
    "x =distance(r,10,1,dist)\n",
    "x"
   ]
  },
  {
   "cell_type": "code",
   "execution_count": null,
   "id": "sapphire-crawford",
   "metadata": {},
   "outputs": [],
   "source": []
  },
  {
   "cell_type": "code",
   "execution_count": null,
   "id": "objective-dodge",
   "metadata": {},
   "outputs": [],
   "source": []
  }
 ],
 "metadata": {
  "kernelspec": {
   "display_name": "Python 3",
   "language": "python",
   "name": "python3"
  },
  "language_info": {
   "codemirror_mode": {
    "name": "ipython",
    "version": 3
   },
   "file_extension": ".py",
   "mimetype": "text/x-python",
   "name": "python",
   "nbconvert_exporter": "python",
   "pygments_lexer": "ipython3",
   "version": "3.9.2"
  }
 },
 "nbformat": 4,
 "nbformat_minor": 5
}
