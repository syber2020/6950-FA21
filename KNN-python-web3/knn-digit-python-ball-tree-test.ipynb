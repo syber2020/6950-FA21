{
 "cells": [
  {
   "cell_type": "code",
   "execution_count": 277,
   "id": "saved-rough",
   "metadata": {},
   "outputs": [],
   "source": [
    "# Author: Gael Varoquaux <gael dot varoquaux at normalesup dot org>\n",
    "# License: BSD 3 clause\n",
    "\n",
    "# Standard scientific Python imports\n",
    "import numpy as np\n",
    "from sklearn.datasets import load_digits\n",
    "import matplotlib.pyplot as plt\n",
    "from sklearn.neighbors import KNeighborsClassifier\n",
    "from sklearn.metrics import accuracy_score\n",
    "from sklearn import datasets, svm, metrics\n",
    "from sklearn.model_selection import train_test_split\n",
    "from scipy.spatial import distance"
   ]
  },
  {
   "cell_type": "code",
   "execution_count": 278,
   "id": "challenging-phase",
   "metadata": {},
   "outputs": [],
   "source": [
    "digits = datasets.load_digits()\n",
    "\n",
    "# _, axes = plt.subplots(nrows=1, ncols=4, figsize=(10, 3))\n",
    "# for ax, image, label in zip(axes, digits.images, digits.target):\n",
    "#     ax.set_axis_off()\n",
    "#     ax.imshow(image, cmap=plt.cm.gray_r, interpolation=\"nearest\")\n",
    "#     ax.set_title(\"Training: %i\" % label)"
   ]
  },
  {
   "cell_type": "code",
   "execution_count": 279,
   "id": "republican-appointment",
   "metadata": {},
   "outputs": [],
   "source": [
    "# n_samples = len(digits.images)\n",
    "# data = digits.images.reshape((n_samples, -1))\n",
    "# data"
   ]
  },
  {
   "cell_type": "code",
   "execution_count": 280,
   "id": "governmental-blackberry",
   "metadata": {},
   "outputs": [],
   "source": [
    "digits=load_digits(as_frame=True)\n",
    "\n",
    "# print(digits.data)\n",
    "# print(digits.target)\n"
   ]
  },
  {
   "cell_type": "code",
   "execution_count": 281,
   "id": "elementary-integrity",
   "metadata": {},
   "outputs": [],
   "source": [
    "X_train = digits.data[:1400]\n",
    "X_test = digits.data[1400:]\n",
    "y_train = digits.target[:1400]\n",
    "y_test = digits.target[1400:]"
   ]
  },
  {
   "cell_type": "code",
   "execution_count": 282,
   "id": "decreased-chicken",
   "metadata": {},
   "outputs": [
    {
     "data": {
      "text/plain": [
       "array([2, 8, 2, 2, 5, 7, 9, 5, 4, 8, 8, 4, 9, 0, 8, 0, 1, 2, 3, 4, 5, 6,\n",
       "       7, 8, 9, 0, 1, 2, 3, 4, 5, 6, 7, 8, 9, 0, 1, 2, 3, 4, 5, 6, 7, 8,\n",
       "       9, 0, 9, 5, 5, 6, 5, 0, 9, 8, 9, 8, 4, 1, 7, 7, 3, 5, 1, 0, 0, 2,\n",
       "       2, 7, 8, 2, 0, 1, 2, 6, 3, 3, 7, 3, 3, 4, 6, 6, 6, 4, 9, 1, 5, 0,\n",
       "       9, 5, 2, 8, 2, 0, 0, 1, 7, 6, 3, 2, 1, 7, 4, 6, 3, 1, 3, 9, 1, 7,\n",
       "       6, 8, 4, 3, 1, 4, 0, 5, 3, 6, 9, 6, 1, 7, 5, 4, 4, 7, 2, 8, 2, 2,\n",
       "       5, 7, 9, 5, 4, 8, 8, 4, 9, 0, 8, 9, 8, 0, 1, 2, 3, 4, 5, 6, 7, 8,\n",
       "       9, 0, 1, 2, 3, 4, 5, 6, 9, 0, 1, 2, 3, 4, 5, 6, 7, 8, 9, 0, 9, 5,\n",
       "       5, 6, 5, 0, 9, 8, 9, 8, 4, 1, 7, 7, 3, 5, 1, 0, 0, 2, 2, 7, 8, 2,\n",
       "       0, 1, 2, 6, 3, 3, 7, 3, 3, 4, 6, 6, 6, 4, 9, 1, 5, 0, 9, 5, 2, 8,\n",
       "       0, 1, 7, 6, 3, 2, 1, 7, 4, 6, 3, 1, 3, 9, 1, 7, 6, 8, 4, 3, 1, 4,\n",
       "       0, 5, 3, 6, 9, 6, 1, 7, 5, 4, 4, 7, 2, 2, 5, 7, 9, 5, 4, 4, 9, 0,\n",
       "       8, 9, 8, 0, 1, 2, 3, 4, 5, 6, 7, 8, 9, 0, 1, 2, 3, 4, 5, 6, 7, 8,\n",
       "       9, 0, 1, 2, 3, 4, 5, 6, 7, 8, 9, 0, 9, 5, 5, 6, 5, 0, 9, 8, 9, 8,\n",
       "       4, 1, 7, 7, 3, 5, 1, 0, 0, 2, 2, 7, 8, 2, 0, 1, 2, 6, 3, 3, 7, 3,\n",
       "       3, 4, 6, 6, 6, 4, 9, 1, 5, 0, 9, 5, 2, 8, 2, 0, 0, 1, 7, 6, 3, 2,\n",
       "       1, 7, 4, 6, 3, 1, 3, 9, 1, 7, 6, 8, 4, 3, 1, 4, 0, 5, 3, 6, 9, 6,\n",
       "       1, 7, 5, 4, 4, 7, 2, 8, 2, 2, 5, 7, 9, 5, 4, 8, 8, 4, 9, 0, 8, 9,\n",
       "       8])"
      ]
     },
     "execution_count": 282,
     "metadata": {},
     "output_type": "execute_result"
    }
   ],
   "source": [
    "X_test = X_test.to_numpy()\n",
    "X_test\n",
    "y_test = y_test.to_numpy()\n",
    "y_test"
   ]
  },
  {
   "cell_type": "code",
   "execution_count": 283,
   "id": "emerging-argument",
   "metadata": {},
   "outputs": [],
   "source": [
    "X_train['label'] = y_train"
   ]
  },
  {
   "cell_type": "code",
   "execution_count": 284,
   "id": "southern-proof",
   "metadata": {},
   "outputs": [],
   "source": [
    "# data_0 = X_train.loc[X_tra['label'] == 0]"
   ]
  },
  {
   "cell_type": "code",
   "execution_count": 285,
   "id": "crazy-japanese",
   "metadata": {},
   "outputs": [],
   "source": [
    "data_0 = X_train.loc[X_train['label'] == 0]\n",
    "data_1 = X_train.loc[X_train['label'] == 1]\n",
    "data_2 = X_train.loc[X_train['label'] == 2]\n",
    "data_3 = X_train.loc[X_train['label'] == 3]\n",
    "data_4 = X_train.loc[X_train['label'] == 4]\n",
    "data_5 = X_train.loc[X_train['label'] == 5]\n",
    "data_6 = X_train.loc[X_train['label'] == 6]\n",
    "data_7 = X_train.loc[X_train['label'] == 7]\n",
    "data_8 = X_train.loc[X_train['label'] == 8]\n",
    "data_9 = X_train.loc[X_train['label'] == 9]"
   ]
  },
  {
   "cell_type": "code",
   "execution_count": 286,
   "id": "dominican-dairy",
   "metadata": {},
   "outputs": [],
   "source": [
    "d0 = data_0.drop(columns= ['label'])\n",
    "d1 = data_1.drop(columns= ['label'])\n",
    "d3 = data_3.drop(columns= ['label'])\n",
    "d4 = data_4.drop(columns= ['label'])\n",
    "d5 = data_5.drop(columns= ['label'])\n",
    "d6 = data_6.drop(columns= ['label'])\n",
    "d7 = data_7.drop(columns= ['label'])\n",
    "d8 = data_8.drop(columns= ['label'])\n",
    "d9 = data_9.drop(columns= ['label'])\n",
    "d2 = data_2.drop(columns= ['label'])"
   ]
  },
  {
   "cell_type": "code",
   "execution_count": 287,
   "id": "olive-science",
   "metadata": {},
   "outputs": [],
   "source": [
    "digit_f = np.array((10,64))"
   ]
  },
  {
   "cell_type": "code",
   "execution_count": 306,
   "id": "common-fleece",
   "metadata": {},
   "outputs": [],
   "source": [
    "d0_mean = (d0.mean()*100 ).astype(int)\n",
    "d0_mean = np.array(d0_mean.tolist())\n",
    "# d0_mean"
   ]
  },
  {
   "cell_type": "code",
   "execution_count": 307,
   "id": "flying-things",
   "metadata": {},
   "outputs": [],
   "source": [
    "d1_mean = (d1.mean()*100 ).astype(int)\n",
    "d1_mean = np.array(d1_mean.tolist())\n",
    "# digit_f[1] = d1_mean\n",
    "# d1_mean"
   ]
  },
  {
   "cell_type": "code",
   "execution_count": 308,
   "id": "controversial-alloy",
   "metadata": {},
   "outputs": [],
   "source": [
    "d2_mean = (d2.mean()*100 ).astype(int)\n",
    "d2_mean = np.array(d2_mean.tolist())\n",
    "# digit_f[2] = d2_mean\n",
    "# d2_mean"
   ]
  },
  {
   "cell_type": "code",
   "execution_count": 309,
   "id": "junior-reviewer",
   "metadata": {},
   "outputs": [],
   "source": [
    "d3_mean = (d3.mean()*100 ).astype(int)\n",
    "d3_mean = np.array(d3_mean.tolist())\n",
    "# digit_f[3] = d3_mean\n",
    "# d3_mean"
   ]
  },
  {
   "cell_type": "code",
   "execution_count": 310,
   "id": "political-ability",
   "metadata": {},
   "outputs": [],
   "source": [
    "d4_mean = (d4.mean()*100 ).astype(int)\n",
    "d4_mean = np.array(d4_mean.tolist())\n",
    "# digit_f[4] = d4_mean\n",
    "# d4_mean"
   ]
  },
  {
   "cell_type": "code",
   "execution_count": 311,
   "id": "korean-active",
   "metadata": {},
   "outputs": [],
   "source": [
    "d5_mean = (d5.mean()*100 ).astype(int)\n",
    "d5_mean = np.array(d5_mean.tolist())\n",
    "# digit_f[5] = d5_mean\n",
    "# d5_mean"
   ]
  },
  {
   "cell_type": "code",
   "execution_count": 314,
   "id": "moved-assembly",
   "metadata": {},
   "outputs": [],
   "source": [
    "d6_mean = (d6.mean()*100 ).astype(int)\n",
    "d6_mean = np.array(d6_mean.tolist())\n",
    "# digit_f[6] = d6_mean\n",
    "# d6_mean"
   ]
  },
  {
   "cell_type": "code",
   "execution_count": 315,
   "id": "soviet-copyright",
   "metadata": {},
   "outputs": [],
   "source": [
    "d7_mean = (d7.mean()*100 ).astype(int)\n",
    "d7_mean = np.array(d7_mean.tolist())\n",
    "# digit_f[7] = d7_mean\n",
    "# d7_mean"
   ]
  },
  {
   "cell_type": "code",
   "execution_count": 316,
   "id": "opponent-elimination",
   "metadata": {},
   "outputs": [],
   "source": [
    "d8_mean = (d8.mean()*100 ).astype(int)\n",
    "d8_mean = np.array(d8_mean.tolist())\n",
    "# digit_f[8] = d8_mean\n",
    "# d8_mean"
   ]
  },
  {
   "cell_type": "code",
   "execution_count": 317,
   "id": "assumed-singles",
   "metadata": {},
   "outputs": [],
   "source": [
    "d9_mean = (d9.mean()*100 ).astype(int)\n",
    "d9_mean = np.array(d9_mean.tolist())\n",
    "# digit_f[9] = d9_mean\n",
    "# d9_mean"
   ]
  },
  {
   "cell_type": "code",
   "execution_count": 322,
   "id": "retained-annual",
   "metadata": {},
   "outputs": [
    {
     "name": "stdout",
     "output_type": "stream",
     "text": [
      "5649.567151561259\n",
      "5657.999204665904\n",
      "5551.459357682446\n",
      "5508.979760354906\n",
      "5560.330565712798\n",
      "5455.006966081712\n",
      "5756.64867783331\n",
      "5430.143920744643\n",
      "5691.742878943145\n",
      "5417.817641818521\n"
     ]
    }
   ],
   "source": [
    "# from scipy.spatial import distance\n",
    "print(distance.euclidean(d0_mean, X_test[2]))\n",
    "print(distance.euclidean(d1_mean, X_test[2]))\n",
    "print(distance.euclidean(d2_mean, X_test[2]))\n",
    "print(distance.euclidean(d3_mean, X_test[2]))\n",
    "print(distance.euclidean(d4_mean, X_test[2]))\n",
    "print(distance.euclidean(d5_mean, X_test[2]))\n",
    "print(distance.euclidean(d6_mean, X_test[2]))\n",
    "print(distance.euclidean(d7_mean, X_test[2]))\n",
    "print(distance.euclidean(d8_mean, X_test[2]))\n",
    "print(distance.euclidean(d9_mean, X_test[2]))"
   ]
  },
  {
   "cell_type": "code",
   "execution_count": 323,
   "id": "worst-astrology",
   "metadata": {},
   "outputs": [
    {
     "data": {
      "text/plain": [
       "2"
      ]
     },
     "execution_count": 323,
     "metadata": {},
     "output_type": "execute_result"
    }
   ],
   "source": [
    "y_test[2]"
   ]
  },
  {
   "cell_type": "code",
   "execution_count": null,
   "id": "secret-conversion",
   "metadata": {},
   "outputs": [],
   "source": []
  }
 ],
 "metadata": {
  "kernelspec": {
   "display_name": "Python 3",
   "language": "python",
   "name": "python3"
  },
  "language_info": {
   "codemirror_mode": {
    "name": "ipython",
    "version": 3
   },
   "file_extension": ".py",
   "mimetype": "text/x-python",
   "name": "python",
   "nbconvert_exporter": "python",
   "pygments_lexer": "ipython3",
   "version": "3.9.2"
  }
 },
 "nbformat": 4,
 "nbformat_minor": 5
}
