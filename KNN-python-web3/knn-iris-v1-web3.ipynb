{
 "cells": [
  {
   "cell_type": "code",
   "execution_count": 271,
   "id": "atmospheric-slide",
   "metadata": {},
   "outputs": [],
   "source": [
    "# k-nearest neighbors on the Iris Flowers Dataset\n",
    "from random import seed\n",
    "from random import randrange\n",
    "from csv import reader\n",
    "from math import sqrt\n",
    "import numpy as np\n",
    "import matplotlib.pyplot as plt\n",
    "from mpl_toolkits.mplot3d import Axes3D\n",
    "from sklearn import datasets\n",
    "from sklearn.decomposition import PCA\n",
    "from sklearn.model_selection import train_test_split\n",
    "from sklearn.neighbors import KNeighborsClassifier\n",
    "\n"
   ]
  },
  {
   "cell_type": "code",
   "execution_count": 272,
   "id": "hispanic-redhead",
   "metadata": {},
   "outputs": [
    {
     "data": {
      "text/plain": [
       "True"
      ]
     },
     "execution_count": 272,
     "metadata": {},
     "output_type": "execute_result"
    }
   ],
   "source": [
    "import numpy as np\n",
    "import json\n",
    "from web3 import Web3\n",
    "import time\n",
    "ganache_url = \"HTTP://127.0.0.1:8545\"\n",
    "# ropsten_url =\"https://ropsten.infura.io/v3/6072fdc3b95c407caa681f63ebaf72b8\"\n",
    "web3 = Web3(Web3.HTTPProvider(ganache_url))\n",
    "# web3 = Web3(Web3.HTTPProvider(ropsten_url))\n",
    "web3.isConnected()"
   ]
  },
  {
   "cell_type": "code",
   "execution_count": 273,
   "id": "centered-tennis",
   "metadata": {},
   "outputs": [],
   "source": [
    "abi = json.loads('[ { \"inputs\": [ { \"internalType\": \"int256[]\", \"name\": \"a\", \"type\": \"int256[]\" }, { \"internalType\": \"int256[]\", \"name\": \"b\", \"type\": \"int256[]\" } ], \"name\": \"euc_distance\", \"outputs\": [ { \"internalType\": \"int256\", \"name\": \"\", \"type\": \"int256\" } ], \"stateMutability\": \"nonpayable\", \"type\": \"function\" }, { \"inputs\": [ { \"internalType\": \"uint256[]\", \"name\": \"label\", \"type\": \"uint256[]\" } ], \"name\": \"get_predict\", \"outputs\": [], \"stateMutability\": \"nonpayable\", \"type\": \"function\" }, { \"inputs\": [], \"name\": \"set_dist\", \"outputs\": [ { \"internalType\": \"int256\", \"name\": \"\", \"type\": \"int256\" } ], \"stateMutability\": \"view\", \"type\": \"function\" }, { \"inputs\": [], \"name\": \"set_pos\", \"outputs\": [ { \"internalType\": \"uint256[]\", \"name\": \"\", \"type\": \"uint256[]\" } ], \"stateMutability\": \"view\", \"type\": \"function\" }, { \"inputs\": [], \"name\": \"set_predict\", \"outputs\": [ { \"internalType\": \"uint256\", \"name\": \"\", \"type\": \"uint256\" } ], \"stateMutability\": \"view\", \"type\": \"function\" }, { \"inputs\": [], \"name\": \"set_sort_dist\", \"outputs\": [ { \"internalType\": \"uint256[]\", \"name\": \"\", \"type\": \"uint256[]\" } ], \"stateMutability\": \"view\", \"type\": \"function\" }, { \"inputs\": [ { \"internalType\": \"uint256[]\", \"name\": \"data\", \"type\": \"uint256[]\" }, { \"internalType\": \"uint256[]\", \"name\": \"pos\", \"type\": \"uint256[]\" } ], \"name\": \"sort_dist\", \"outputs\": [ { \"internalType\": \"uint256[]\", \"name\": \"\", \"type\": \"uint256[]\" }, { \"internalType\": \"uint256[]\", \"name\": \"\", \"type\": \"uint256[]\" } ], \"stateMutability\": \"nonpayable\", \"type\": \"function\" } ]')\n",
    "cont_address = \"0xC152f4CC0F7741daAC904839f6378C4308915996\"\n",
    "contract = web3.eth.contract(address=cont_address,abi=abi)"
   ]
  },
  {
   "cell_type": "code",
   "execution_count": 274,
   "id": "solid-destruction",
   "metadata": {},
   "outputs": [],
   "source": [
    "account1 = \"0x461C6E0aa34BE377B8a99A993031134d2ED87259\"\n",
    "private_key1 = \"420fdae2c43e99d4ea80454a7f61bb5d7409affbba062e5cb583385fce1cd181\"\n",
    "account2 = \"0xD6b4cE68F63827363eceea7533df7ce3FbbFC024\"\n",
    "private_key2=\"c559fcdacf554d3e63f2e0673d0e1399b4bdaf211605853fd86359195485c3c4\""
   ]
  },
  {
   "cell_type": "code",
   "execution_count": 275,
   "id": "surprised-declaration",
   "metadata": {},
   "outputs": [],
   "source": [
    "#reset position array\n",
    "def reset_pos(x, account, private_key,contract):\n",
    "    nonce = web3.eth.getTransactionCount(account)\n",
    "    tx_store = contract.functions.reset_pos(\n",
    "        x\n",
    "         ).buildTransaction({\n",
    "        'gas': 3000000,\n",
    "        'gasPrice': web3.toWei('10', 'gwei'),\n",
    "        'from': account,\n",
    "#         'nonce': nonce\n",
    "        })\n",
    "\n",
    "    signed_txn = web3.eth.account.signTransaction(tx_store, private_key=private_key)\n",
    "    start_time = time.time()\n",
    "    tx_hash = web3.eth.sendRawTransaction(signed_txn.rawTransaction)\n",
    "    tx_receipt = web3.eth.waitForTransactionReceipt(tx_hash)\n",
    "    end_time = time.time()\n",
    "    return(tx_receipt.gasUsed)\n",
    "#     print(\"the stored number is \", contract.functions.retrieve().call())"
   ]
  },
  {
   "cell_type": "code",
   "execution_count": 276,
   "id": "massive-camcorder",
   "metadata": {},
   "outputs": [],
   "source": [
    "#eucledean distance function from contract\n",
    "def get_euc_distance(x,y, account, private_key,contract):\n",
    "    nonce = web3.eth.getTransactionCount(account)\n",
    "    tx_store = contract.functions.euc_distance(\n",
    "        x,y\n",
    "         ).buildTransaction({\n",
    "        'gas': 3000000,\n",
    "        'gasPrice': web3.toWei('10', 'gwei'),\n",
    "        'from': account,\n",
    "        'nonce': nonce\n",
    "        })\n",
    "\n",
    "    signed_txn = web3.eth.account.signTransaction(tx_store, private_key=private_key)\n",
    "    start_time = time.time()\n",
    "    tx_hash = web3.eth.sendRawTransaction(signed_txn.rawTransaction)\n",
    "    tx_receipt = web3.eth.waitForTransactionReceipt(tx_hash)\n",
    "    end_time = time.time()\n",
    "    return(tx_receipt.gasUsed)\n"
   ]
  },
  {
   "cell_type": "code",
   "execution_count": 277,
   "id": "efficient-longer",
   "metadata": {},
   "outputs": [],
   "source": [
    "#sort distance from contract\n",
    "def get_sorted_distance(x,y, account, private_key,contract):\n",
    "    nonce = web3.eth.getTransactionCount(account)\n",
    "    tx_store = contract.functions.sort_dist(\n",
    "        x,y\n",
    "         ).buildTransaction({\n",
    "        'gas': 8000000,\n",
    "        'gasPrice': web3.toWei('100', 'gwei'),\n",
    "        'from': account,\n",
    "        'nonce': nonce\n",
    "        })\n",
    "\n",
    "    signed_txn = web3.eth.account.signTransaction(tx_store, private_key=private_key)\n",
    "    start_time = time.time()\n",
    "    tx_hash = web3.eth.sendRawTransaction(signed_txn.rawTransaction)\n",
    "    tx_receipt = web3.eth.waitForTransactionReceipt(tx_hash)\n",
    "\n",
    "    end_time = time.time()\n",
    "    return(tx_receipt.gasUsed)\n",
    "#     print(\"the stored number is \", contract.functions.retrieve().call())"
   ]
  },
  {
   "cell_type": "code",
   "execution_count": 278,
   "id": "likely-racing",
   "metadata": {},
   "outputs": [],
   "source": [
    "#predict position\n",
    "def get_predict(x, account, private_key,contract):\n",
    "    nonce = web3.eth.getTransactionCount(account)\n",
    "    tx_store = contract.functions.get_predict(\n",
    "        x\n",
    "         ).buildTransaction({\n",
    "        'gas': 8000000,\n",
    "        'gasPrice': web3.toWei('1000', 'gwei'),\n",
    "        'from': account,\n",
    "        'nonce': nonce\n",
    "        })\n",
    "\n",
    "    signed_txn = web3.eth.account.signTransaction(tx_store, private_key=private_key)\n",
    "    start_time = time.time()\n",
    "    tx_hash = web3.eth.sendRawTransaction(signed_txn.rawTransaction)\n",
    "    tx_receipt = web3.eth.waitForTransactionReceipt(tx_hash)\n",
    "\n",
    "    end_time = time.time()\n",
    "    return(tx_receipt.gasUsed)\n",
    "#     print(\"the stored number is \", contract.functions.retrieve().call())"
   ]
  },
  {
   "cell_type": "code",
   "execution_count": 279,
   "id": "scheduled-participation",
   "metadata": {},
   "outputs": [],
   "source": [
    "\n",
    "# import some data to play with\n",
    "iris = datasets.load_iris()\n",
    "X_train, X_test, y_train, y_test = train_test_split(iris.data, iris.target, test_size=0.30, random_state=42)\n",
    "X_train = (X_train * 10).astype(int)\n",
    "X_test = (X_test * 10).astype(int)"
   ]
  },
  {
   "cell_type": "code",
   "execution_count": 280,
   "id": "least-bulgaria",
   "metadata": {},
   "outputs": [],
   "source": [
    "a = X_train[0].tolist()\n",
    "sample = X_test[0].tolist()"
   ]
  },
  {
   "cell_type": "code",
   "execution_count": 281,
   "id": "guided-laser",
   "metadata": {},
   "outputs": [
    {
     "name": "stdout",
     "output_type": "stream",
     "text": [
      "[55, 24, 37, 10] [61, 28, 47, 12]\n"
     ]
    }
   ],
   "source": [
    "print(a,sample)"
   ]
  },
  {
   "cell_type": "code",
   "execution_count": 282,
   "id": "talented-messaging",
   "metadata": {},
   "outputs": [
    {
     "ename": "TypeError",
     "evalue": "Transaction must include these fields: {'nonce'}",
     "output_type": "error",
     "traceback": [
      "\u001b[1;31m---------------------------------------------------------------------------\u001b[0m",
      "\u001b[1;31mTypeError\u001b[0m                                 Traceback (most recent call last)",
      "\u001b[1;32m<ipython-input-282-a7bc974487dc>\u001b[0m in \u001b[0;36m<module>\u001b[1;34m\u001b[0m\n\u001b[0;32m      4\u001b[0m \u001b[1;32mfor\u001b[0m \u001b[0mi\u001b[0m \u001b[1;32min\u001b[0m \u001b[0mrange\u001b[0m\u001b[1;33m(\u001b[0m\u001b[0mX_train\u001b[0m\u001b[1;33m.\u001b[0m\u001b[0mshape\u001b[0m\u001b[1;33m[\u001b[0m\u001b[1;36m0\u001b[0m\u001b[1;33m]\u001b[0m\u001b[1;33m)\u001b[0m\u001b[1;33m:\u001b[0m\u001b[1;33m\u001b[0m\u001b[1;33m\u001b[0m\u001b[0m\n\u001b[0;32m      5\u001b[0m     \u001b[0ma\u001b[0m \u001b[1;33m=\u001b[0m \u001b[0mX_train\u001b[0m\u001b[1;33m[\u001b[0m\u001b[0mi\u001b[0m\u001b[1;33m]\u001b[0m\u001b[1;33m.\u001b[0m\u001b[0mtolist\u001b[0m\u001b[1;33m(\u001b[0m\u001b[1;33m)\u001b[0m\u001b[1;33m\u001b[0m\u001b[1;33m\u001b[0m\u001b[0m\n\u001b[1;32m----> 6\u001b[1;33m     \u001b[0mdist_gas\u001b[0m\u001b[1;33m.\u001b[0m\u001b[0mappend\u001b[0m\u001b[1;33m(\u001b[0m\u001b[0mget_euc_distance\u001b[0m\u001b[1;33m(\u001b[0m\u001b[0ma\u001b[0m\u001b[1;33m,\u001b[0m\u001b[0msample\u001b[0m\u001b[1;33m,\u001b[0m \u001b[0maccount2\u001b[0m\u001b[1;33m,\u001b[0m \u001b[0mprivate_key2\u001b[0m\u001b[1;33m,\u001b[0m\u001b[0mcontract\u001b[0m\u001b[1;33m)\u001b[0m\u001b[1;33m)\u001b[0m\u001b[1;33m\u001b[0m\u001b[1;33m\u001b[0m\u001b[0m\n\u001b[0m\u001b[0;32m      7\u001b[0m     \u001b[0mdist\u001b[0m\u001b[1;33m.\u001b[0m\u001b[0mappend\u001b[0m\u001b[1;33m(\u001b[0m\u001b[0mcontract\u001b[0m\u001b[1;33m.\u001b[0m\u001b[0mfunctions\u001b[0m\u001b[1;33m.\u001b[0m\u001b[0mset_dist\u001b[0m\u001b[1;33m(\u001b[0m\u001b[1;33m)\u001b[0m\u001b[1;33m.\u001b[0m\u001b[0mcall\u001b[0m\u001b[1;33m(\u001b[0m\u001b[1;33m)\u001b[0m\u001b[1;33m)\u001b[0m\u001b[1;33m\u001b[0m\u001b[1;33m\u001b[0m\u001b[0m\n\u001b[0;32m      8\u001b[0m \u001b[0munsort\u001b[0m \u001b[1;33m=\u001b[0m \u001b[0mlist\u001b[0m\u001b[1;33m(\u001b[0m\u001b[0mrange\u001b[0m\u001b[1;33m(\u001b[0m\u001b[0mlen\u001b[0m\u001b[1;33m(\u001b[0m\u001b[0my_train\u001b[0m\u001b[1;33m)\u001b[0m\u001b[1;33m)\u001b[0m\u001b[1;33m)\u001b[0m\u001b[1;33m\u001b[0m\u001b[1;33m\u001b[0m\u001b[0m\n",
      "\u001b[1;32m<ipython-input-276-45e3470b68d8>\u001b[0m in \u001b[0;36mget_euc_distance\u001b[1;34m(x, y, account, private_key, contract)\u001b[0m\n\u001b[0;32m     11\u001b[0m         })\n\u001b[0;32m     12\u001b[0m \u001b[1;33m\u001b[0m\u001b[0m\n\u001b[1;32m---> 13\u001b[1;33m     \u001b[0msigned_txn\u001b[0m \u001b[1;33m=\u001b[0m \u001b[0mweb3\u001b[0m\u001b[1;33m.\u001b[0m\u001b[0meth\u001b[0m\u001b[1;33m.\u001b[0m\u001b[0maccount\u001b[0m\u001b[1;33m.\u001b[0m\u001b[0msignTransaction\u001b[0m\u001b[1;33m(\u001b[0m\u001b[0mtx_store\u001b[0m\u001b[1;33m,\u001b[0m \u001b[0mprivate_key\u001b[0m\u001b[1;33m=\u001b[0m\u001b[0mprivate_key\u001b[0m\u001b[1;33m)\u001b[0m\u001b[1;33m\u001b[0m\u001b[1;33m\u001b[0m\u001b[0m\n\u001b[0m\u001b[0;32m     14\u001b[0m     \u001b[0mstart_time\u001b[0m \u001b[1;33m=\u001b[0m \u001b[0mtime\u001b[0m\u001b[1;33m.\u001b[0m\u001b[0mtime\u001b[0m\u001b[1;33m(\u001b[0m\u001b[1;33m)\u001b[0m\u001b[1;33m\u001b[0m\u001b[1;33m\u001b[0m\u001b[0m\n\u001b[0;32m     15\u001b[0m     \u001b[0mtx_hash\u001b[0m \u001b[1;33m=\u001b[0m \u001b[0mweb3\u001b[0m\u001b[1;33m.\u001b[0m\u001b[0meth\u001b[0m\u001b[1;33m.\u001b[0m\u001b[0msendRawTransaction\u001b[0m\u001b[1;33m(\u001b[0m\u001b[0msigned_txn\u001b[0m\u001b[1;33m.\u001b[0m\u001b[0mrawTransaction\u001b[0m\u001b[1;33m)\u001b[0m\u001b[1;33m\u001b[0m\u001b[1;33m\u001b[0m\u001b[0m\n",
      "\u001b[1;32mc:\\users\\syed\\appdata\\local\\programs\\python\\python39\\lib\\site-packages\\eth_utils\\decorators.py\u001b[0m in \u001b[0;36m_wrapper\u001b[1;34m(*args, **kwargs)\u001b[0m\n\u001b[0;32m     16\u001b[0m         \u001b[1;32mdef\u001b[0m \u001b[0m_wrapper\u001b[0m\u001b[1;33m(\u001b[0m\u001b[1;33m*\u001b[0m\u001b[0margs\u001b[0m\u001b[1;33m:\u001b[0m \u001b[0mAny\u001b[0m\u001b[1;33m,\u001b[0m \u001b[1;33m**\u001b[0m\u001b[0mkwargs\u001b[0m\u001b[1;33m:\u001b[0m \u001b[0mAny\u001b[0m\u001b[1;33m)\u001b[0m \u001b[1;33m->\u001b[0m \u001b[0mAny\u001b[0m\u001b[1;33m:\u001b[0m\u001b[1;33m\u001b[0m\u001b[1;33m\u001b[0m\u001b[0m\n\u001b[0;32m     17\u001b[0m             \u001b[1;32mif\u001b[0m \u001b[0mobj\u001b[0m \u001b[1;32mis\u001b[0m \u001b[1;32mnot\u001b[0m \u001b[1;32mNone\u001b[0m\u001b[1;33m:\u001b[0m\u001b[1;33m\u001b[0m\u001b[1;33m\u001b[0m\u001b[0m\n\u001b[1;32m---> 18\u001b[1;33m                 \u001b[1;32mreturn\u001b[0m \u001b[0mself\u001b[0m\u001b[1;33m.\u001b[0m\u001b[0mmethod\u001b[0m\u001b[1;33m(\u001b[0m\u001b[0mobj\u001b[0m\u001b[1;33m,\u001b[0m \u001b[1;33m*\u001b[0m\u001b[0margs\u001b[0m\u001b[1;33m,\u001b[0m \u001b[1;33m**\u001b[0m\u001b[0mkwargs\u001b[0m\u001b[1;33m)\u001b[0m\u001b[1;33m\u001b[0m\u001b[1;33m\u001b[0m\u001b[0m\n\u001b[0m\u001b[0;32m     19\u001b[0m             \u001b[1;32melse\u001b[0m\u001b[1;33m:\u001b[0m\u001b[1;33m\u001b[0m\u001b[1;33m\u001b[0m\u001b[0m\n\u001b[0;32m     20\u001b[0m                 \u001b[1;32mreturn\u001b[0m \u001b[0mself\u001b[0m\u001b[1;33m.\u001b[0m\u001b[0mmethod\u001b[0m\u001b[1;33m(\u001b[0m\u001b[0mobjtype\u001b[0m\u001b[1;33m,\u001b[0m \u001b[1;33m*\u001b[0m\u001b[0margs\u001b[0m\u001b[1;33m,\u001b[0m \u001b[1;33m**\u001b[0m\u001b[0mkwargs\u001b[0m\u001b[1;33m)\u001b[0m\u001b[1;33m\u001b[0m\u001b[1;33m\u001b[0m\u001b[0m\n",
      "\u001b[1;32mc:\\users\\syed\\appdata\\local\\programs\\python\\python39\\lib\\site-packages\\eth_account\\account.py\u001b[0m in \u001b[0;36msignTransaction\u001b[1;34m(self, transaction_dict, private_key)\u001b[0m\n\u001b[0;32m    614\u001b[0m             \u001b[0mcategory\u001b[0m\u001b[1;33m=\u001b[0m\u001b[0mDeprecationWarning\u001b[0m\u001b[1;33m,\u001b[0m\u001b[1;33m\u001b[0m\u001b[1;33m\u001b[0m\u001b[0m\n\u001b[0;32m    615\u001b[0m         )\n\u001b[1;32m--> 616\u001b[1;33m         \u001b[1;32mreturn\u001b[0m \u001b[0mself\u001b[0m\u001b[1;33m.\u001b[0m\u001b[0msign_transaction\u001b[0m\u001b[1;33m(\u001b[0m\u001b[0mtransaction_dict\u001b[0m\u001b[1;33m,\u001b[0m \u001b[0mprivate_key\u001b[0m\u001b[1;33m)\u001b[0m\u001b[1;33m\u001b[0m\u001b[1;33m\u001b[0m\u001b[0m\n\u001b[0m\u001b[0;32m    617\u001b[0m \u001b[1;33m\u001b[0m\u001b[0m\n\u001b[0;32m    618\u001b[0m     \u001b[1;33m@\u001b[0m\u001b[0mcombomethod\u001b[0m\u001b[1;33m\u001b[0m\u001b[1;33m\u001b[0m\u001b[0m\n",
      "\u001b[1;32mc:\\users\\syed\\appdata\\local\\programs\\python\\python39\\lib\\site-packages\\eth_utils\\decorators.py\u001b[0m in \u001b[0;36m_wrapper\u001b[1;34m(*args, **kwargs)\u001b[0m\n\u001b[0;32m     16\u001b[0m         \u001b[1;32mdef\u001b[0m \u001b[0m_wrapper\u001b[0m\u001b[1;33m(\u001b[0m\u001b[1;33m*\u001b[0m\u001b[0margs\u001b[0m\u001b[1;33m:\u001b[0m \u001b[0mAny\u001b[0m\u001b[1;33m,\u001b[0m \u001b[1;33m**\u001b[0m\u001b[0mkwargs\u001b[0m\u001b[1;33m:\u001b[0m \u001b[0mAny\u001b[0m\u001b[1;33m)\u001b[0m \u001b[1;33m->\u001b[0m \u001b[0mAny\u001b[0m\u001b[1;33m:\u001b[0m\u001b[1;33m\u001b[0m\u001b[1;33m\u001b[0m\u001b[0m\n\u001b[0;32m     17\u001b[0m             \u001b[1;32mif\u001b[0m \u001b[0mobj\u001b[0m \u001b[1;32mis\u001b[0m \u001b[1;32mnot\u001b[0m \u001b[1;32mNone\u001b[0m\u001b[1;33m:\u001b[0m\u001b[1;33m\u001b[0m\u001b[1;33m\u001b[0m\u001b[0m\n\u001b[1;32m---> 18\u001b[1;33m                 \u001b[1;32mreturn\u001b[0m \u001b[0mself\u001b[0m\u001b[1;33m.\u001b[0m\u001b[0mmethod\u001b[0m\u001b[1;33m(\u001b[0m\u001b[0mobj\u001b[0m\u001b[1;33m,\u001b[0m \u001b[1;33m*\u001b[0m\u001b[0margs\u001b[0m\u001b[1;33m,\u001b[0m \u001b[1;33m**\u001b[0m\u001b[0mkwargs\u001b[0m\u001b[1;33m)\u001b[0m\u001b[1;33m\u001b[0m\u001b[1;33m\u001b[0m\u001b[0m\n\u001b[0m\u001b[0;32m     19\u001b[0m             \u001b[1;32melse\u001b[0m\u001b[1;33m:\u001b[0m\u001b[1;33m\u001b[0m\u001b[1;33m\u001b[0m\u001b[0m\n\u001b[0;32m     20\u001b[0m                 \u001b[1;32mreturn\u001b[0m \u001b[0mself\u001b[0m\u001b[1;33m.\u001b[0m\u001b[0mmethod\u001b[0m\u001b[1;33m(\u001b[0m\u001b[0mobjtype\u001b[0m\u001b[1;33m,\u001b[0m \u001b[1;33m*\u001b[0m\u001b[0margs\u001b[0m\u001b[1;33m,\u001b[0m \u001b[1;33m**\u001b[0m\u001b[0mkwargs\u001b[0m\u001b[1;33m)\u001b[0m\u001b[1;33m\u001b[0m\u001b[1;33m\u001b[0m\u001b[0m\n",
      "\u001b[1;32mc:\\users\\syed\\appdata\\local\\programs\\python\\python39\\lib\\site-packages\\eth_account\\account.py\u001b[0m in \u001b[0;36msign_transaction\u001b[1;34m(self, transaction_dict, private_key)\u001b[0m\n\u001b[0;32m    740\u001b[0m             \u001b[0ms\u001b[0m\u001b[1;33m,\u001b[0m\u001b[1;33m\u001b[0m\u001b[1;33m\u001b[0m\u001b[0m\n\u001b[0;32m    741\u001b[0m             \u001b[0mencoded_transaction\u001b[0m\u001b[1;33m,\u001b[0m\u001b[1;33m\u001b[0m\u001b[1;33m\u001b[0m\u001b[0m\n\u001b[1;32m--> 742\u001b[1;33m         ) = sign_transaction_dict(account._key_obj, sanitized_transaction)\n\u001b[0m\u001b[0;32m    743\u001b[0m         \u001b[0mtransaction_hash\u001b[0m \u001b[1;33m=\u001b[0m \u001b[0mkeccak\u001b[0m\u001b[1;33m(\u001b[0m\u001b[0mencoded_transaction\u001b[0m\u001b[1;33m)\u001b[0m\u001b[1;33m\u001b[0m\u001b[1;33m\u001b[0m\u001b[0m\n\u001b[0;32m    744\u001b[0m \u001b[1;33m\u001b[0m\u001b[0m\n",
      "\u001b[1;32mc:\\users\\syed\\appdata\\local\\programs\\python\\python39\\lib\\site-packages\\eth_account\\_utils\\signing.py\u001b[0m in \u001b[0;36msign_transaction_dict\u001b[1;34m(eth_key, transaction_dict)\u001b[0m\n\u001b[0;32m     30\u001b[0m \u001b[1;32mdef\u001b[0m \u001b[0msign_transaction_dict\u001b[0m\u001b[1;33m(\u001b[0m\u001b[0meth_key\u001b[0m\u001b[1;33m,\u001b[0m \u001b[0mtransaction_dict\u001b[0m\u001b[1;33m)\u001b[0m\u001b[1;33m:\u001b[0m\u001b[1;33m\u001b[0m\u001b[1;33m\u001b[0m\u001b[0m\n\u001b[0;32m     31\u001b[0m     \u001b[1;31m# generate RLP-serializable transaction, with defaults filled\u001b[0m\u001b[1;33m\u001b[0m\u001b[1;33m\u001b[0m\u001b[1;33m\u001b[0m\u001b[0m\n\u001b[1;32m---> 32\u001b[1;33m     \u001b[0munsigned_transaction\u001b[0m \u001b[1;33m=\u001b[0m \u001b[0mserializable_unsigned_transaction_from_dict\u001b[0m\u001b[1;33m(\u001b[0m\u001b[0mtransaction_dict\u001b[0m\u001b[1;33m)\u001b[0m\u001b[1;33m\u001b[0m\u001b[1;33m\u001b[0m\u001b[0m\n\u001b[0m\u001b[0;32m     33\u001b[0m \u001b[1;33m\u001b[0m\u001b[0m\n\u001b[0;32m     34\u001b[0m     \u001b[0mtransaction_hash\u001b[0m \u001b[1;33m=\u001b[0m \u001b[0munsigned_transaction\u001b[0m\u001b[1;33m.\u001b[0m\u001b[0mhash\u001b[0m\u001b[1;33m(\u001b[0m\u001b[1;33m)\u001b[0m\u001b[1;33m\u001b[0m\u001b[1;33m\u001b[0m\u001b[0m\n",
      "\u001b[1;32mc:\\users\\syed\\appdata\\local\\programs\\python\\python39\\lib\\site-packages\\eth_account\\_utils\\legacy_transactions.py\u001b[0m in \u001b[0;36mserializable_unsigned_transaction_from_dict\u001b[1;34m(transaction_dict)\u001b[0m\n\u001b[0;32m     38\u001b[0m         \u001b[1;32mreturn\u001b[0m \u001b[0mTypedTransaction\u001b[0m\u001b[1;33m.\u001b[0m\u001b[0mfrom_dict\u001b[0m\u001b[1;33m(\u001b[0m\u001b[0mtransaction_dict\u001b[0m\u001b[1;33m)\u001b[0m\u001b[1;33m\u001b[0m\u001b[1;33m\u001b[0m\u001b[0m\n\u001b[0;32m     39\u001b[0m \u001b[1;33m\u001b[0m\u001b[0m\n\u001b[1;32m---> 40\u001b[1;33m     \u001b[0massert_valid_fields\u001b[0m\u001b[1;33m(\u001b[0m\u001b[0mtransaction_dict\u001b[0m\u001b[1;33m)\u001b[0m\u001b[1;33m\u001b[0m\u001b[1;33m\u001b[0m\u001b[0m\n\u001b[0m\u001b[0;32m     41\u001b[0m     filled_transaction = pipe(\n\u001b[0;32m     42\u001b[0m         \u001b[0mtransaction_dict\u001b[0m\u001b[1;33m,\u001b[0m\u001b[1;33m\u001b[0m\u001b[1;33m\u001b[0m\u001b[0m\n",
      "\u001b[1;32mc:\\users\\syed\\appdata\\local\\programs\\python\\python39\\lib\\site-packages\\eth_account\\_utils\\legacy_transactions.py\u001b[0m in \u001b[0;36massert_valid_fields\u001b[1;34m(transaction_dict)\u001b[0m\n\u001b[0;32m     91\u001b[0m     \u001b[0mmissing_keys\u001b[0m \u001b[1;33m=\u001b[0m \u001b[0mREQUIRED_TRANSACTION_KEYS\u001b[0m\u001b[1;33m.\u001b[0m\u001b[0mdifference\u001b[0m\u001b[1;33m(\u001b[0m\u001b[0mtransaction_dict\u001b[0m\u001b[1;33m.\u001b[0m\u001b[0mkeys\u001b[0m\u001b[1;33m(\u001b[0m\u001b[1;33m)\u001b[0m\u001b[1;33m)\u001b[0m\u001b[1;33m\u001b[0m\u001b[1;33m\u001b[0m\u001b[0m\n\u001b[0;32m     92\u001b[0m     \u001b[1;32mif\u001b[0m \u001b[0mmissing_keys\u001b[0m\u001b[1;33m:\u001b[0m\u001b[1;33m\u001b[0m\u001b[1;33m\u001b[0m\u001b[0m\n\u001b[1;32m---> 93\u001b[1;33m         \u001b[1;32mraise\u001b[0m \u001b[0mTypeError\u001b[0m\u001b[1;33m(\u001b[0m\u001b[1;34m\"Transaction must include these fields: %r\"\u001b[0m \u001b[1;33m%\u001b[0m \u001b[0mmissing_keys\u001b[0m\u001b[1;33m)\u001b[0m\u001b[1;33m\u001b[0m\u001b[1;33m\u001b[0m\u001b[0m\n\u001b[0m\u001b[0;32m     94\u001b[0m \u001b[1;33m\u001b[0m\u001b[0m\n\u001b[0;32m     95\u001b[0m     \u001b[1;31m# check if any extra keys were specified\u001b[0m\u001b[1;33m\u001b[0m\u001b[1;33m\u001b[0m\u001b[1;33m\u001b[0m\u001b[0m\n",
      "\u001b[1;31mTypeError\u001b[0m: Transaction must include these fields: {'nonce'}"
     ]
    }
   ],
   "source": [
    "dist = []\n",
    "dist_gas=[]\n",
    "sample = X_test[0].tolist()\n",
    "for i in range(X_train.shape[0]):\n",
    "    a = X_train[i].tolist()\n",
    "    dist_gas.append(get_euc_distance(a,sample, account2, private_key2,contract))\n",
    "    dist.append(contract.functions.set_dist().call())\n",
    "unsort = list(range(len(y_train)))\n",
    "len(dist)"
   ]
  },
  {
   "cell_type": "code",
   "execution_count": null,
   "id": "settled-blank",
   "metadata": {},
   "outputs": [],
   "source": [
    "# dist"
   ]
  },
  {
   "cell_type": "code",
   "execution_count": null,
   "id": "crucial-junction",
   "metadata": {},
   "outputs": [],
   "source": [
    "# get sorted distance\n",
    "sort_dis_gas = get_sorted_distance(dist,unsort,account1, private_key1,contract)"
   ]
  },
  {
   "cell_type": "code",
   "execution_count": null,
   "id": "molecular-egyptian",
   "metadata": {},
   "outputs": [],
   "source": [
    "sorted_pos= contract.functions.set_pos().call()"
   ]
  },
  {
   "cell_type": "code",
   "execution_count": null,
   "id": "organic-destination",
   "metadata": {},
   "outputs": [],
   "source": [
    "# sorted_pos_gas = get_sorted_pos(sorted_dist1,dist, account2, private_key2,contract)\n",
    "ylabel = y_train.tolist()"
   ]
  },
  {
   "cell_type": "code",
   "execution_count": null,
   "id": "perceived-magnet",
   "metadata": {},
   "outputs": [],
   "source": [
    "# sorted_pos = contract.functions.set_pos().call()\n",
    "get_predict(ylabel, account1, private_key1,contract)"
   ]
  },
  {
   "cell_type": "code",
   "execution_count": null,
   "id": "suited-brass",
   "metadata": {},
   "outputs": [],
   "source": [
    "contract.functions.set_predict().call()"
   ]
  },
  {
   "cell_type": "code",
   "execution_count": null,
   "id": "respected-stereo",
   "metadata": {},
   "outputs": [],
   "source": [
    "# predict the number\n",
    "print(y_test[0])"
   ]
  },
  {
   "cell_type": "code",
   "execution_count": null,
   "id": "confidential-folks",
   "metadata": {},
   "outputs": [],
   "source": [
    "from sklearn.metrics import accuracy_score\n",
    "accuracy_score(y_test, pred)"
   ]
  },
  {
   "cell_type": "code",
   "execution_count": null,
   "id": "limited-hunger",
   "metadata": {},
   "outputs": [],
   "source": [
    "neigh = KNeighborsClassifier(n_neighbors=3)\n",
    ">>> neigh.fit(X, y)\n",
    "KNeighborsClassifier(...)\n",
    ">>> print(neigh.predict([[1.1]]))\n",
    "[0]\n",
    ">>> print(neigh.predict_proba([[0.9]]))"
   ]
  }
 ],
 "metadata": {
  "kernelspec": {
   "display_name": "Python 3",
   "language": "python",
   "name": "python3"
  },
  "language_info": {
   "codemirror_mode": {
    "name": "ipython",
    "version": 3
   },
   "file_extension": ".py",
   "mimetype": "text/x-python",
   "name": "python",
   "nbconvert_exporter": "python",
   "pygments_lexer": "ipython3",
   "version": "3.9.2"
  }
 },
 "nbformat": 4,
 "nbformat_minor": 5
}
