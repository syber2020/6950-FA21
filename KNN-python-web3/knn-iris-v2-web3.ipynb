{
 "cells": [
  {
   "cell_type": "code",
   "execution_count": 17,
   "id": "atmospheric-slide",
   "metadata": {},
   "outputs": [],
   "source": [
    "# k-nearest neighbors on the Iris Flowers Dataset\n",
    "from random import seed\n",
    "from random import randrange\n",
    "from csv import reader\n",
    "from math import sqrt\n",
    "import numpy as np\n",
    "import matplotlib.pyplot as plt\n",
    "from mpl_toolkits.mplot3d import Axes3D\n",
    "from sklearn import datasets\n",
    "from sklearn.decomposition import PCA\n",
    "from sklearn.model_selection import train_test_split\n",
    "from sklearn.neighbors import KNeighborsClassifier\n",
    "import time \n"
   ]
  },
  {
   "cell_type": "code",
   "execution_count": 18,
   "id": "hispanic-redhead",
   "metadata": {},
   "outputs": [
    {
     "data": {
      "text/plain": [
       "True"
      ]
     },
     "execution_count": 18,
     "metadata": {},
     "output_type": "execute_result"
    }
   ],
   "source": [
    "import numpy as np\n",
    "import json\n",
    "from web3 import Web3\n",
    "import time\n",
    "ganache_url = \"HTTP://127.0.0.1:8545\"\n",
    "# ropsten_url =\"https://ropsten.infura.io/v3/6072fdc3b95c407caa681f63ebaf72b8\"\n",
    "web3 = Web3(Web3.HTTPProvider(ganache_url))\n",
    "# web3 = Web3(Web3.HTTPProvider(ropsten_url))\n",
    "web3.isConnected()"
   ]
  },
  {
   "cell_type": "code",
   "execution_count": 19,
   "id": "centered-tennis",
   "metadata": {},
   "outputs": [],
   "source": [
    "abi = json.loads('[ { \"inputs\": [ { \"internalType\": \"int256[]\", \"name\": \"a\", \"type\": \"int256[]\" }, { \"internalType\": \"int256[]\", \"name\": \"b\", \"type\": \"int256[]\" } ], \"name\": \"euc_distance\", \"outputs\": [ { \"internalType\": \"int256\", \"name\": \"\", \"type\": \"int256\" } ], \"stateMutability\": \"nonpayable\", \"type\": \"function\" }, { \"inputs\": [ { \"internalType\": \"uint256[]\", \"name\": \"label\", \"type\": \"uint256[]\" } ], \"name\": \"get_predict\", \"outputs\": [], \"stateMutability\": \"nonpayable\", \"type\": \"function\" }, { \"inputs\": [], \"name\": \"set_dist\", \"outputs\": [ { \"internalType\": \"int256\", \"name\": \"\", \"type\": \"int256\" } ], \"stateMutability\": \"view\", \"type\": \"function\" }, { \"inputs\": [], \"name\": \"set_pos\", \"outputs\": [ { \"internalType\": \"uint256[]\", \"name\": \"\", \"type\": \"uint256[]\" } ], \"stateMutability\": \"view\", \"type\": \"function\" }, { \"inputs\": [], \"name\": \"set_predict\", \"outputs\": [ { \"internalType\": \"uint256\", \"name\": \"\", \"type\": \"uint256\" } ], \"stateMutability\": \"view\", \"type\": \"function\" }, { \"inputs\": [], \"name\": \"set_sort_dist\", \"outputs\": [ { \"internalType\": \"uint256[]\", \"name\": \"\", \"type\": \"uint256[]\" } ], \"stateMutability\": \"view\", \"type\": \"function\" }, { \"inputs\": [ { \"internalType\": \"uint256[]\", \"name\": \"data\", \"type\": \"uint256[]\" }, { \"internalType\": \"uint256[]\", \"name\": \"pos\", \"type\": \"uint256[]\" } ], \"name\": \"sort_dist\", \"outputs\": [ { \"internalType\": \"uint256[]\", \"name\": \"\", \"type\": \"uint256[]\" }, { \"internalType\": \"uint256[]\", \"name\": \"\", \"type\": \"uint256[]\" } ], \"stateMutability\": \"nonpayable\", \"type\": \"function\" } ]')\n",
    "cont_address = \"0xc3facDa10F2D9170D5472bdC7e09A673D96BbED3\"\n",
    "contract = web3.eth.contract(address=cont_address,abi=abi)"
   ]
  },
  {
   "cell_type": "code",
   "execution_count": 20,
   "id": "solid-destruction",
   "metadata": {},
   "outputs": [],
   "source": [
    "account1 = \"0xacF9197258fEB28d7c2333c0625841Cc9A33A794\"\n",
    "private_key1 = \"edbc15277f4f7bae99b111c25be1a67372186cdcc972d8257598637ce54fda42\"\n",
    "account2 = \"0xcbd7C06c8d7988A62e7a8a84D59d748D5A790db1\"\n",
    "private_key2=\"b5b736f3ca08acf6d8acd03eadeb48e164544b8f9f40a08c83fdfc89a1e565b2\"\n",
    "account3 =\"0x27bD68B531761c280B41FC8f4f2cE2346F6ce45b\"\n",
    "private_key3 =\"07bd02e881fe8949eef1033f22a30a7ffb7b5be78ed11966483df03d6897e123\" "
   ]
  },
  {
   "cell_type": "code",
   "execution_count": 21,
   "id": "surprised-declaration",
   "metadata": {},
   "outputs": [],
   "source": [
    "#reset position array\n",
    "def reset_pos(x, account, private_key,contract):\n",
    "    nonce = web3.eth.getTransactionCount(account)\n",
    "    tx_store = contract.functions.reset_pos(\n",
    "        x\n",
    "         ).buildTransaction({\n",
    "        'gas': 3000000,\n",
    "        'gasPrice': web3.toWei('10', 'gwei'),\n",
    "        'from': account,\n",
    "        'nonce': nonce\n",
    "        })\n",
    "\n",
    "    signed_txn = web3.eth.account.signTransaction(tx_store, private_key=private_key)\n",
    "    start_time = time.time()\n",
    "    tx_hash = web3.eth.sendRawTransaction(signed_txn.rawTransaction)\n",
    "    tx_receipt = web3.eth.waitForTransactionReceipt(tx_hash)\n",
    "    end_time = time.time()\n",
    "    return(tx_receipt.gasUsed)\n",
    "#     print(\"the stored number is \", contract.functions.retrieve().call())"
   ]
  },
  {
   "cell_type": "code",
   "execution_count": 22,
   "id": "massive-camcorder",
   "metadata": {},
   "outputs": [],
   "source": [
    "#eucledean distance function from contract\n",
    "def get_euc_distance(x,y, account, private_key,contract):\n",
    "    nonce = web3.eth.getTransactionCount(account)\n",
    "    tx_store = contract.functions.euc_distance(\n",
    "        x,y\n",
    "         ).buildTransaction({\n",
    "        'gas': 3000000,\n",
    "        'gasPrice': web3.toWei('10', 'gwei'),\n",
    "        'from': account,\n",
    "        'nonce': nonce\n",
    "        })\n",
    "\n",
    "    signed_txn = web3.eth.account.signTransaction(tx_store, private_key=private_key)\n",
    "    start_time = time.time()\n",
    "    tx_hash = web3.eth.sendRawTransaction(signed_txn.rawTransaction)\n",
    "    tx_receipt = web3.eth.waitForTransactionReceipt(tx_hash)\n",
    "    end_time = time.time()\n",
    "    return(tx_receipt.gasUsed)\n"
   ]
  },
  {
   "cell_type": "code",
   "execution_count": 23,
   "id": "efficient-longer",
   "metadata": {},
   "outputs": [],
   "source": [
    "#sort distance from contract\n",
    "def get_sorted_distance(x,y, account, private_key,contract):\n",
    "    nonce = web3.eth.getTransactionCount(account)\n",
    "    tx_store = contract.functions.sort_dist(\n",
    "        x,y\n",
    "         ).buildTransaction({\n",
    "        'gas': 8000000,\n",
    "        'gasPrice': web3.toWei('10', 'gwei'),\n",
    "        'from': account,\n",
    "        'nonce': nonce\n",
    "        })\n",
    "\n",
    "    signed_txn = web3.eth.account.signTransaction(tx_store, private_key=private_key)\n",
    "    tx_hash = web3.eth.sendRawTransaction(signed_txn.rawTransaction)\n",
    "    tx_receipt = web3.eth.waitForTransactionReceipt(tx_hash)\n",
    "    return(tx_receipt.gasUsed)"
   ]
  },
  {
   "cell_type": "code",
   "execution_count": 24,
   "id": "likely-racing",
   "metadata": {},
   "outputs": [],
   "source": [
    "#predict position\n",
    "def get_predict(x, account, private_key,contract):\n",
    "    nonce = web3.eth.getTransactionCount(account)\n",
    "    tx_store = contract.functions.get_predict(\n",
    "        x\n",
    "         ).buildTransaction({\n",
    "        'gas': 80000000,\n",
    "        'gasPrice': web3.toWei('10', 'gwei'),\n",
    "        'from': account,\n",
    "        'nonce': nonce\n",
    "        })\n",
    "\n",
    "    signed_txn = web3.eth.account.signTransaction(tx_store, private_key=private_key)\n",
    "    tx_hash = web3.eth.sendRawTransaction(signed_txn.rawTransaction)\n",
    "    tx_receipt = web3.eth.waitForTransactionReceipt(tx_hash)\n",
    "    return(tx_receipt.gasUsed)\n"
   ]
  },
  {
   "cell_type": "code",
   "execution_count": 25,
   "id": "scheduled-participation",
   "metadata": {},
   "outputs": [],
   "source": [
    "\n",
    "# import some data to play with\n",
    "iris = datasets.load_iris()\n",
    "X_train, X_test, y_train, y_test = train_test_split(iris.data, iris.target, test_size=0.30, random_state=42)\n",
    "X_train = (X_train * 10).astype(int)\n",
    "X_test = (X_test * 10).astype(int)"
   ]
  },
  {
   "cell_type": "code",
   "execution_count": 26,
   "id": "least-bulgaria",
   "metadata": {},
   "outputs": [],
   "source": [
    "a = X_train[0].tolist()\n",
    "sample = X_test[0].tolist()"
   ]
  },
  {
   "cell_type": "code",
   "execution_count": 27,
   "id": "guided-laser",
   "metadata": {},
   "outputs": [
    {
     "name": "stdout",
     "output_type": "stream",
     "text": [
      "[55, 24, 37, 10] [61, 28, 47, 12]\n"
     ]
    }
   ],
   "source": [
    "print(a,sample)"
   ]
  },
  {
   "cell_type": "code",
   "execution_count": 28,
   "id": "veterinary-device",
   "metadata": {},
   "outputs": [
    {
     "data": {
      "text/plain": [
       "(45, 105)"
      ]
     },
     "execution_count": 28,
     "metadata": {},
     "output_type": "execute_result"
    }
   ],
   "source": [
    "predicted =[] \n",
    "total_dist_gas=[]\n",
    "total_sorted_gas=[]\n",
    "total_pred_gas=[]\n",
    "\n",
    "dist_arr =np.zeros((len(y_test),len(y_train)))\n",
    "dist_arr.shape"
   ]
  },
  {
   "cell_type": "code",
   "execution_count": 29,
   "id": "angry-olympus",
   "metadata": {},
   "outputs": [],
   "source": [
    "# dist_arr[0]=x"
   ]
  },
  {
   "cell_type": "code",
   "execution_count": 30,
   "id": "varying-relation",
   "metadata": {},
   "outputs": [],
   "source": [
    "# dist_arr[0]"
   ]
  },
  {
   "cell_type": "code",
   "execution_count": 31,
   "id": "talented-messaging",
   "metadata": {},
   "outputs": [
    {
     "name": "stdout",
     "output_type": "stream",
     "text": [
      "0\n",
      "1\n",
      "2\n",
      "3\n",
      "4\n",
      "5\n",
      "6\n",
      "7\n",
      "8\n",
      "9\n",
      "10\n",
      "11\n",
      "12\n",
      "13\n",
      "14\n",
      "15\n",
      "16\n",
      "17\n",
      "18\n",
      "19\n",
      "20\n",
      "21\n",
      "22\n",
      "23\n",
      "24\n",
      "25\n",
      "26\n",
      "27\n",
      "28\n",
      "29\n",
      "30\n",
      "31\n",
      "32\n",
      "33\n",
      "34\n",
      "35\n",
      "36\n",
      "37\n",
      "38\n",
      "39\n",
      "40\n",
      "41\n",
      "42\n",
      "43\n",
      "44\n"
     ]
    }
   ],
   "source": [
    "\n",
    "for i in range(len(y_test)):  \n",
    "    print(i)\n",
    "    dist = []\n",
    "    \n",
    "    dist_gas=[]\n",
    "    sample = X_test[i].tolist()\n",
    "    for j in range(X_train.shape[0]):\n",
    "        a = X_train[j].tolist()\n",
    "        dist_gas.append(get_euc_distance(a,sample,account3, private_key3,contract))\n",
    "        dist.append(contract.functions.set_dist().call())\n",
    "    x = np.array(dist)\n",
    "    dist_arr[i] = x\n",
    "#     print(dist_arr[i])\n",
    "    total_dist_gas.append(sum(dist_gas))\n"
   ]
  },
  {
   "cell_type": "code",
   "execution_count": 32,
   "id": "practical-devon",
   "metadata": {},
   "outputs": [
    {
     "data": {
      "text/plain": [
       "[31511,\n",
       " 31511,\n",
       " 31511,\n",
       " 31511,\n",
       " 31620,\n",
       " 31511,\n",
       " 31620,\n",
       " 31511,\n",
       " 31075,\n",
       " 31620,\n",
       " 31402,\n",
       " 31075,\n",
       " 31075,\n",
       " 26875,\n",
       " 31511,\n",
       " 31620,\n",
       " 31184,\n",
       " 31184,\n",
       " 31075,\n",
       " 31511,\n",
       " 31075,\n",
       " 31511,\n",
       " 31620,\n",
       " 31184,\n",
       " 31511,\n",
       " 31511,\n",
       " 31075,\n",
       " 31511,\n",
       " 31511,\n",
       " 31511,\n",
       " 31511,\n",
       " 31511,\n",
       " 31511,\n",
       " 31075,\n",
       " 31402,\n",
       " 31620,\n",
       " 31184,\n",
       " 31184,\n",
       " 31511,\n",
       " 31511,\n",
       " 31184,\n",
       " 31511,\n",
       " 31075,\n",
       " 31075,\n",
       " 31511,\n",
       " 31402,\n",
       " 31620,\n",
       " 31511,\n",
       " 31511,\n",
       " 31729,\n",
       " 31511,\n",
       " 31293,\n",
       " 31293,\n",
       " 31511,\n",
       " 31511,\n",
       " 31184,\n",
       " 31075,\n",
       " 31293,\n",
       " 31511,\n",
       " 31511,\n",
       " 31184,\n",
       " 31620,\n",
       " 31620,\n",
       " 31293,\n",
       " 31511,\n",
       " 31511,\n",
       " 31511,\n",
       " 27311,\n",
       " 31620,\n",
       " 30966,\n",
       " 31511,\n",
       " 31402,\n",
       " 31511,\n",
       " 31402,\n",
       " 31511,\n",
       " 31511,\n",
       " 31402,\n",
       " 31511,\n",
       " 31511,\n",
       " 30748,\n",
       " 31402,\n",
       " 31620,\n",
       " 31511,\n",
       " 31075,\n",
       " 31402,\n",
       " 31620,\n",
       " 27311,\n",
       " 31075,\n",
       " 31620,\n",
       " 31184,\n",
       " 31511,\n",
       " 31620,\n",
       " 31511,\n",
       " 31511,\n",
       " 31511,\n",
       " 31511,\n",
       " 31511,\n",
       " 31511,\n",
       " 31511,\n",
       " 31075,\n",
       " 31511,\n",
       " 31511,\n",
       " 31184,\n",
       " 31402,\n",
       " 31511]"
      ]
     },
     "execution_count": 32,
     "metadata": {},
     "output_type": "execute_result"
    }
   ],
   "source": [
    "dist_gas"
   ]
  },
  {
   "cell_type": "code",
   "execution_count": 33,
   "id": "failing-involvement",
   "metadata": {},
   "outputs": [],
   "source": [
    "a = np.array(dist_gas)\n",
    "np.savetxt('distance_gas.csv', a, delimiter=',')"
   ]
  },
  {
   "cell_type": "code",
   "execution_count": 34,
   "id": "intelligent-improvement",
   "metadata": {},
   "outputs": [
    {
     "data": {
      "text/plain": [
       "array([[12.,  5., 10., ..., 38.,  7., 18.],\n",
       "       [25., 37., 42., ...,  5., 27., 48.],\n",
       "       [41., 24., 20., ..., 65., 36., 12.],\n",
       "       ...,\n",
       "       [17.,  6.,  9., ..., 39., 12., 14.],\n",
       "       [28., 42., 46., ...,  4., 31., 52.],\n",
       "       [26., 40., 44., ...,  5., 29., 51.]])"
      ]
     },
     "execution_count": 34,
     "metadata": {},
     "output_type": "execute_result"
    }
   ],
   "source": [
    "dist_arr"
   ]
  },
  {
   "cell_type": "code",
   "execution_count": 47,
   "id": "frozen-vinyl",
   "metadata": {},
   "outputs": [
    {
     "ename": "AttributeError",
     "evalue": "module 'numpy' has no attribute 'arrange'",
     "output_type": "error",
     "traceback": [
      "\u001b[1;31m---------------------------------------------------------------------------\u001b[0m",
      "\u001b[1;31mAttributeError\u001b[0m                            Traceback (most recent call last)",
      "\u001b[1;32m<ipython-input-47-dec6e84b8c91>\u001b[0m in \u001b[0;36m<module>\u001b[1;34m\u001b[0m\n\u001b[1;32m----> 1\u001b[1;33m \u001b[0mdatapoints\u001b[0m\u001b[1;33m=\u001b[0m\u001b[0mnp\u001b[0m\u001b[1;33m.\u001b[0m\u001b[0marrange\u001b[0m\u001b[1;33m(\u001b[0m\u001b[1;36m105\u001b[0m\u001b[1;33m)\u001b[0m\u001b[1;33m\u001b[0m\u001b[1;33m\u001b[0m\u001b[0m\n\u001b[0m\u001b[0;32m      2\u001b[0m \u001b[0mdata\u001b[0m \u001b[1;33m=\u001b[0m \u001b[0mdatapoints\u001b[0m\u001b[1;33m.\u001b[0m\u001b[0mtolist\u001b[0m\u001b[1;33m(\u001b[0m\u001b[1;33m)\u001b[0m\u001b[1;33m\u001b[0m\u001b[1;33m\u001b[0m\u001b[0m\n\u001b[0;32m      3\u001b[0m \u001b[1;31m# Gas_mean = [29654,80656,108084,136223,164402,192607,220863,249146,277481,305854,591689]\u001b[0m\u001b[1;33m\u001b[0m\u001b[1;33m\u001b[0m\u001b[1;33m\u001b[0m\u001b[0m\n\u001b[0;32m      4\u001b[0m \u001b[1;31m# Gas_variance=[89761,116422,160750,205789,250868,295973,341129,386312,431547,476820,931655]\u001b[0m\u001b[1;33m\u001b[0m\u001b[1;33m\u001b[0m\u001b[1;33m\u001b[0m\u001b[0m\n\u001b[0;32m      5\u001b[0m \u001b[1;33m\u001b[0m\u001b[0m\n",
      "\u001b[1;32mc:\\users\\syed\\appdata\\local\\programs\\python\\python39\\lib\\site-packages\\numpy\\__init__.py\u001b[0m in \u001b[0;36m__getattr__\u001b[1;34m(attr)\u001b[0m\n\u001b[0;32m    212\u001b[0m                 \u001b[1;32mreturn\u001b[0m \u001b[0mTester\u001b[0m\u001b[1;33m\u001b[0m\u001b[1;33m\u001b[0m\u001b[0m\n\u001b[0;32m    213\u001b[0m             \u001b[1;32melse\u001b[0m\u001b[1;33m:\u001b[0m\u001b[1;33m\u001b[0m\u001b[1;33m\u001b[0m\u001b[0m\n\u001b[1;32m--> 214\u001b[1;33m                 raise AttributeError(\"module {!r} has no attribute \"\n\u001b[0m\u001b[0;32m    215\u001b[0m                                      \"{!r}\".format(__name__, attr))\n\u001b[0;32m    216\u001b[0m \u001b[1;33m\u001b[0m\u001b[0m\n",
      "\u001b[1;31mAttributeError\u001b[0m: module 'numpy' has no attribute 'arrange'"
     ]
    }
   ],
   "source": [
    "\n",
    "\n",
    "datapoints=np.arange(105)\n",
    "data = datapoints.tolist()\n",
    "# Gas_mean = [29654,80656,108084,136223,164402,192607,220863,249146,277481,305854,591689]\n",
    "# Gas_variance=[89761,116422,160750,205789,250868,295973,341129,386312,431547,476820,931655]\n",
    "\n",
    "gas = dist_gas\n",
    "\n",
    "# bx = plt.subplots()\n",
    "fig = plt.figure(figsize=(10, 10))\n",
    "plt.plot(datapoints,gas,marker='o', color='b',label ='Mean',linewidth=2.0)\n",
    "# plt.plot(datapoints,Gas_variance,marker='o', color='r',label = 'Variance',linewidth=2.0)\n",
    "plt.ticklabel_format(style='plain')\n",
    "leg = plt.legend()\n",
    "fig.suptitle('Mean  And Vairiance Computational Cost Scalability',fontsize=12, )\n",
    "plt.xlabel('Number of datapoints for training',fontsize=12)\n",
    "plt.ylabel('Gas Usage with Gas Price 10Gwei',fontsize=12)\n",
    "plt.xticks(fontsize=14)\n",
    "plt.yticks(fontsize=14)\n",
    "# plt.set(xlabel='Data points', ylabel='Gas Use',\n",
    "#        title='Gas use versus Mean & variance Calculation')\n",
    "# plt.show()\n",
    "# plt.savefig('cost.pdf')"
   ]
  },
  {
   "cell_type": "code",
   "execution_count": 35,
   "id": "hollywood-reliance",
   "metadata": {},
   "outputs": [],
   "source": [
    "# print(total_dist_gas)\n",
    "# print(sort_dis_gas)\n",
    "# print(pred_gas)"
   ]
  },
  {
   "cell_type": "code",
   "execution_count": 36,
   "id": "facial-reason",
   "metadata": {},
   "outputs": [],
   "source": [
    "# print(y_train[64])"
   ]
  },
  {
   "cell_type": "code",
   "execution_count": 37,
   "id": "metric-geometry",
   "metadata": {},
   "outputs": [],
   "source": [
    "# a= list(range(10))\n",
    "# b= list(range(10))\n",
    "# c = 0\n",
    "# d = len(a)\n"
   ]
  },
  {
   "cell_type": "code",
   "execution_count": 38,
   "id": "crucial-junction",
   "metadata": {},
   "outputs": [],
   "source": [
    "# sort_dis_gas = get_sorted_distance(a,b,c,d,account3, private_key3,contract)"
   ]
  },
  {
   "cell_type": "code",
   "execution_count": 39,
   "id": "confident-polyester",
   "metadata": {},
   "outputs": [],
   "source": [
    "# ylabel = list(range(10))"
   ]
  },
  {
   "cell_type": "code",
   "execution_count": 40,
   "id": "organic-destination",
   "metadata": {},
   "outputs": [],
   "source": [
    "# web3.eth.get_block('latest')\n",
    "# pred_gas = get_predict(ylabel, account3, private_key3,contract)"
   ]
  },
  {
   "cell_type": "code",
   "execution_count": 41,
   "id": "middle-congo",
   "metadata": {},
   "outputs": [],
   "source": [
    "# predicted"
   ]
  },
  {
   "cell_type": "code",
   "execution_count": 42,
   "id": "labeled-requirement",
   "metadata": {},
   "outputs": [],
   "source": [
    "# y_test"
   ]
  },
  {
   "cell_type": "code",
   "execution_count": 43,
   "id": "confidential-folks",
   "metadata": {},
   "outputs": [],
   "source": [
    "# from sklearn.metrics import accuracy_score\n",
    "# accuracy_score(y_test, pred)"
   ]
  },
  {
   "cell_type": "code",
   "execution_count": 44,
   "id": "limited-hunger",
   "metadata": {},
   "outputs": [],
   "source": [
    "# neigh = KNeighborsClassifier(n_neighbors=3)\n",
    "# >>> neigh.fit(X, y)\n",
    "# KNeighborsClassifier(...)\n",
    "# >>> print(neigh.predict([[1.1]]))\n",
    "# [0]\n",
    "# >>> print(neigh.predict_proba([[0.9]]))"
   ]
  }
 ],
 "metadata": {
  "kernelspec": {
   "display_name": "Python 3",
   "language": "python",
   "name": "python3"
  },
  "language_info": {
   "codemirror_mode": {
    "name": "ipython",
    "version": 3
   },
   "file_extension": ".py",
   "mimetype": "text/x-python",
   "name": "python",
   "nbconvert_exporter": "python",
   "pygments_lexer": "ipython3",
   "version": "3.9.2"
  }
 },
 "nbformat": 4,
 "nbformat_minor": 5
}
