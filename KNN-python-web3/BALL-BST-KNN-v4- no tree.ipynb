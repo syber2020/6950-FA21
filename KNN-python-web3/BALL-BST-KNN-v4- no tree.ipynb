{
 "cells": [
  {
   "cell_type": "code",
   "execution_count": 27,
   "id": "approximate-bargain",
   "metadata": {},
   "outputs": [],
   "source": [
    "# k-nearest neighbors on the Iris Flowers Dataset\n",
    "from random import seed\n",
    "from random import randrange\n",
    "from csv import reader\n",
    "from math import sqrt\n",
    "import numpy as np\n",
    "import matplotlib.pyplot as plt\n",
    "from mpl_toolkits.mplot3d import Axes3D\n",
    "from sklearn import datasets\n",
    "from sklearn.decomposition import PCA\n",
    "from sklearn.model_selection import train_test_split\n",
    "from sklearn.neighbors import KNeighborsClassifier\n",
    "from scipy.spatial import distance\n",
    "import random\n"
   ]
  },
  {
   "cell_type": "code",
   "execution_count": 28,
   "id": "atomic-penetration",
   "metadata": {},
   "outputs": [],
   "source": [
    "# Python program to demonstrate\n",
    "# insert operation in binary search tree\n",
    " \n",
    "# A utility class that represents\n",
    "# an individual node in a BST\n",
    " \n",
    " \n",
    "class Node:\n",
    "    def __init__(self, key, data,l):\n",
    "        self.left = None\n",
    "        self.right = None\n",
    "        self.val = key\n",
    "        self.arr = data\n",
    "        self.label = l\n",
    " \n",
    "# A utility function to insert\n",
    "# a new node with the given key\n",
    " \n",
    " \n",
    "def insert(root, key, data, n):\n",
    "    if root is None:\n",
    "        return Node(key,data,n)\n",
    "    else:\n",
    "        if root.val == key:\n",
    "            return root\n",
    "        elif root.val < key:\n",
    "            root.right = insert(root.right, key,data,n)\n",
    "        else:\n",
    "            root.left = insert(root.left, key,data,n)\n",
    "    return root\n",
    " \n",
    "# A utility function to do inorder tree traversal\n",
    " \n",
    " \n",
    "def inorder(root):\n",
    "    if root:\n",
    "#         print(\"setting left\")\n",
    "        inorder(root.left)\n",
    "        \n",
    "#         print(\"printing values\")\n",
    "        print(root.val, root.arr,root.label)\n",
    "\n",
    "#         print(\"set to right\")\n",
    "        inorder(root.right)\n",
    "\n",
    "# Driver program to test the above functions\n",
    "# Let us create the following BST\n",
    "#    50\n",
    "#  /     \\\n",
    "# 30     70\n",
    "#  / \\ / \\\n",
    "# 20 40 60 80\n",
    " \n",
    "def distance1(root, key,index,dist):\n",
    "    if root is None:\n",
    "        print(\" it is none\")\n",
    "        return Node(key,index)\n",
    "    else:\n",
    "        if root.val == key:\n",
    "            print(root.val)\n",
    "#             dist.append(root.val)\n",
    "            return root\n",
    "        elif root.val > key:\n",
    "            print(root.val-key)\n",
    "            dist.append(root.val-key)\n",
    "            root.right = distance1(root.right,key,index,dist)\n",
    "        else:\n",
    "            print(root.val-key)\n",
    "            root.left = distance1(root.left,key,index,dist)\n",
    "    \n",
    "    return dist"
   ]
  },
  {
   "cell_type": "code",
   "execution_count": 29,
   "id": "needed-samoa",
   "metadata": {},
   "outputs": [],
   "source": [
    "def centroid(arr):\n",
    "    x = np.zeros(4)\n",
    "    length = arr.shape[0]\n",
    "    sum_x1 = np.sum(arr[:, 0])\n",
    "    sum_x2 = np.sum(arr[:, 1])\n",
    "    sum_x3 = np.sum(arr[:, 2])\n",
    "    sum_x4 = np.sum(arr[:, 3])\n",
    "    x[0] =  sum_x1/length; x[1] =  sum_x2/length; x[2] =  sum_x3/length; x[3] =  sum_x4/length\n",
    "    return x"
   ]
  },
  {
   "cell_type": "code",
   "execution_count": 30,
   "id": "continuous-functionality",
   "metadata": {},
   "outputs": [],
   "source": [
    "# r = Node(50,[5,5,5,5],5)\n",
    "# r = insert(r, 40,[1,2,3,4], 3)\n",
    "# r = insert(r, 20,[2,2,2,2], 2)\n",
    "# r = insert(r, 30,[2,2,2,2], 4)\n",
    "# Print inoder traversal of the BST\n",
    "# inorder(r)\n"
   ]
  },
  {
   "cell_type": "code",
   "execution_count": 31,
   "id": "accredited-statement",
   "metadata": {},
   "outputs": [],
   "source": [
    "iris = datasets.load_iris()\n",
    "X_train, X_test, y_train, y_test = train_test_split(iris.data, iris.target, test_size=0.30, random_state=42)\n",
    "X_train = X_train *10\n",
    "X_test = X_test*10\n",
    "rpoint = 0\n",
    "temp = 0\n",
    "c1=[]\n",
    "c2=[]"
   ]
  },
  {
   "cell_type": "markdown",
   "id": "remarkable-nitrogen",
   "metadata": {},
   "source": [
    "## Getting the first cluster c1 from centroid c"
   ]
  },
  {
   "cell_type": "code",
   "execution_count": 32,
   "id": "reasonable-hours",
   "metadata": {},
   "outputs": [],
   "source": [
    "# getting the first cluster c1 from centroid c\n",
    "# r = Node(rpoint,X_train[rpoint],rpoint)\n",
    "def get_cluster(rpoint,train):\n",
    "    temp =0\n",
    "    for i in range (len(X_train)):\n",
    "        a = X_train[rpoint]\n",
    "        b = X_train[i]\n",
    "        dis = distance.euclidean(a, b)\n",
    "        if(dis>temp):\n",
    "            temp = dis\n",
    "            position = i\n",
    "    print(\"printing radius of centroid 1 is :\",temp)\n",
    "    print(\"position of cluster 1 is : \",position, X_train[position],y_train[position])\n",
    "    pos = position\n",
    "    return pos"
   ]
  },
  {
   "cell_type": "markdown",
   "id": "widespread-coral",
   "metadata": {},
   "source": [
    "## Separate cluster 1 & 2"
   ]
  },
  {
   "cell_type": "code",
   "execution_count": 33,
   "id": "alternate-factory",
   "metadata": {},
   "outputs": [],
   "source": [
    "def sep_cluster(pos1 ,pos2, train):\n",
    "    for i in range (len(X_train)):\n",
    "            a = pos1\n",
    "            b = pos2\n",
    "            X_train[i]\n",
    "            dis1 = distance.euclidean(X_train[a], X_train[i])\n",
    "            dis2 = distance.euclidean(X_train[b], X_train[i])\n",
    "            if(dis1>dis2):\n",
    "                c2.append(i)   \n",
    "            else: \n",
    "                c1.append(i)\n",
    "    c1_a = np.zeros((4,len(c1)))\n",
    "    c2_a = np.zeros((4,len(c2)))\n",
    "    print(c1,c2)\n",
    "    return(c1,c2)"
   ]
  },
  {
   "cell_type": "markdown",
   "id": "unsigned-duplicate",
   "metadata": {},
   "source": [
    "## Getting centroids of cluster 1 and cluster 2"
   ]
  },
  {
   "cell_type": "code",
   "execution_count": 34,
   "id": "extra-lightweight",
   "metadata": {},
   "outputs": [],
   "source": [
    "def get_centroid(c1,c2):\n",
    "    c1a = np.zeros((len(c1),4))\n",
    "    for i in range(len(c1)):\n",
    "        c1a[i] = X_train[c1[i]]\n",
    "    c2a = np.zeros((len(c2),4))\n",
    "    for i in range(len(c2)):\n",
    "        c2a[i] = X_train[c2[i]]\n",
    "\n",
    "    c1_cent = centroid(c1a)    \n",
    "    c2_cent = centroid(c2a)\n",
    "    \n",
    "    return(c1_cent,c2_cent)"
   ]
  },
  {
   "cell_type": "code",
   "execution_count": 35,
   "id": "coral-companion",
   "metadata": {},
   "outputs": [
    {
     "name": "stdout",
     "output_type": "stream",
     "text": [
      "printing radius of centroid 1 is : 41.52107898405339\n",
      "position of cluster 1 is :  22 [77. 38. 67. 22.] 2\n",
      "printing radius of centroid 1 is : 69.26037828369117\n",
      "position of cluster 1 is :  52 [43. 30. 11.  1.] 0\n",
      "[1, 2, 3, 4, 5, 6, 7, 9, 15, 19, 21, 22, 24, 25, 27, 28, 30, 31, 35, 39, 41, 44, 46, 47, 48, 49, 53, 54, 58, 59, 61, 62, 64, 65, 66, 67, 68, 70, 71, 72, 75, 77, 78, 81, 82, 85, 86, 88, 90, 91, 92, 94, 95, 96, 97, 98, 100, 101, 104] [0, 8, 10, 11, 12, 13, 14, 16, 17, 18, 20, 23, 26, 29, 32, 33, 34, 36, 37, 38, 40, 42, 43, 45, 50, 51, 52, 55, 56, 57, 60, 63, 69, 73, 74, 76, 79, 80, 83, 84, 87, 89, 93, 99, 102, 103]\n"
     ]
    }
   ],
   "source": [
    "c1_pos = get_cluster(0,X_train)\n",
    "c2_pos = get_cluster(c1_pos,X_train)\n",
    "c1,c2 = sep_cluster(c1_pos ,c2_pos, X_train)\n",
    "c1_cent, c2_cent = get_centroid(c1,c2)"
   ]
  },
  {
   "cell_type": "code",
   "execution_count": null,
   "id": "willing-humanity",
   "metadata": {},
   "outputs": [],
   "source": []
  }
 ],
 "metadata": {
  "kernelspec": {
   "display_name": "Python 3",
   "language": "python",
   "name": "python3"
  },
  "language_info": {
   "codemirror_mode": {
    "name": "ipython",
    "version": 3
   },
   "file_extension": ".py",
   "mimetype": "text/x-python",
   "name": "python",
   "nbconvert_exporter": "python",
   "pygments_lexer": "ipython3",
   "version": "3.9.2"
  }
 },
 "nbformat": 4,
 "nbformat_minor": 5
}
