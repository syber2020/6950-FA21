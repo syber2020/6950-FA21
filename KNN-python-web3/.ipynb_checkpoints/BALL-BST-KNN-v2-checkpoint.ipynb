{
 "cells": [
  {
   "cell_type": "code",
   "execution_count": 16,
   "id": "approximate-bargain",
   "metadata": {},
   "outputs": [],
   "source": [
    "# k-nearest neighbors on the Iris Flowers Dataset\n",
    "from random import seed\n",
    "from random import randrange\n",
    "from csv import reader\n",
    "from math import sqrt\n",
    "import numpy as np\n",
    "import matplotlib.pyplot as plt\n",
    "from mpl_toolkits.mplot3d import Axes3D\n",
    "from sklearn import datasets\n",
    "from sklearn.decomposition import PCA\n",
    "from sklearn.model_selection import train_test_split\n",
    "from sklearn.neighbors import KNeighborsClassifier\n",
    "from scipy.spatial import distance\n",
    "import random\n"
   ]
  },
  {
   "cell_type": "code",
   "execution_count": 17,
   "id": "atomic-penetration",
   "metadata": {},
   "outputs": [],
   "source": [
    "# Python program to demonstrate\n",
    "# insert operation in binary search tree\n",
    " \n",
    "# A utility class that represents\n",
    "# an individual node in a BST\n",
    " \n",
    " \n",
    "class Node:\n",
    "    def __init__(self, key, data,l):\n",
    "        self.left = None\n",
    "        self.right = None\n",
    "        self.val = key\n",
    "        self.arr = data\n",
    "        self.label = l\n",
    " \n",
    "# A utility function to insert\n",
    "# a new node with the given key\n",
    " \n",
    " \n",
    "def insert(root, key, data, n):\n",
    "    if root is None:\n",
    "        return Node(key,data,n)\n",
    "    else:\n",
    "        if root.val == key:\n",
    "            return root\n",
    "        elif root.val < key:\n",
    "            root.right = insert(root.right, key,data,n)\n",
    "        else:\n",
    "            root.left = insert(root.left, key,data,n)\n",
    "    return root\n",
    " \n",
    "# A utility function to do inorder tree traversal\n",
    " \n",
    " \n",
    "def inorder(root):\n",
    "    if root:\n",
    "#         print(\"setting left\")\n",
    "        inorder(root.left)\n",
    "        \n",
    "#         print(\"printing values\")\n",
    "        print(root.val, root.arr,root.label)\n",
    "\n",
    "#         print(\"set to right\")\n",
    "        inorder(root.right)\n",
    "\n",
    "# Driver program to test the above functions\n",
    "# Let us create the following BST\n",
    "#    50\n",
    "#  /     \\\n",
    "# 30     70\n",
    "#  / \\ / \\\n",
    "# 20 40 60 80\n",
    " \n",
    "def distance1(root, key,index,dist):\n",
    "    if root is None:\n",
    "        print(\" it is none\")\n",
    "        return Node(key,index)\n",
    "    else:\n",
    "        if root.val == key:\n",
    "            print(root.val)\n",
    "#             dist.append(root.val)\n",
    "            return root\n",
    "        elif root.val > key:\n",
    "            print(root.val-key)\n",
    "            dist.append(root.val-key)\n",
    "            root.right = distance1(root.right,key,index,dist)\n",
    "        else:\n",
    "            print(root.val-key)\n",
    "            root.left = distance1(root.left,key,index,dist)\n",
    "    \n",
    "    return dist"
   ]
  },
  {
   "cell_type": "code",
   "execution_count": 18,
   "id": "continuous-functionality",
   "metadata": {},
   "outputs": [],
   "source": [
    "# r = Node(50,[5,5,5,5],5)\n",
    "# r = insert(r, 40,[1,2,3,4], 3)\n",
    "# r = insert(r, 20,[2,2,2,2], 2)\n",
    "# r = insert(r, 30,[2,2,2,2], 4)\n",
    "# Print inoder traversal of the BST\n",
    "# inorder(r)\n"
   ]
  },
  {
   "cell_type": "code",
   "execution_count": 19,
   "id": "accredited-statement",
   "metadata": {},
   "outputs": [],
   "source": [
    "iris = datasets.load_iris()\n",
    "X_train, X_test, y_train, y_test = train_test_split(iris.data, iris.target, test_size=0.30, random_state=42)\n",
    "X_train = X_train *10\n",
    "X_test = X_test*10\n",
    "rpoint = 0\n",
    "temp = 0\n",
    "c1=[]\n",
    "c2=[]"
   ]
  },
  {
   "cell_type": "code",
   "execution_count": 20,
   "id": "reasonable-hours",
   "metadata": {},
   "outputs": [
    {
     "name": "stdout",
     "output_type": "stream",
     "text": [
      "printing radius of centroid 1 is : 41.52107898405339\n",
      "position of cluster 1 is :  22 [77. 38. 67. 22.] 2\n"
     ]
    }
   ],
   "source": [
    "# getting the first cluster c1 from centroid c\n",
    "r = Node(rpoint,X_train[rpoint],rpoint)\n",
    "for i in range (len(X_train)):\n",
    "    a = X_train[rpoint]\n",
    "    b = X_train[i]\n",
    "    dis = distance.euclidean(a, b)\n",
    "    if(dis>temp):\n",
    "        temp = dis\n",
    "        position = i\n",
    "print(\"printing radius of centroid 1 is :\",temp)\n",
    "print(\"position of cluster 1 is : \",position, X_train[position],y_train[position])\n",
    "c1.append(position)"
   ]
  },
  {
   "cell_type": "code",
   "execution_count": 21,
   "id": "sublime-restriction",
   "metadata": {},
   "outputs": [],
   "source": [
    "r = insert(r,position, X_train[position], y_train[position])"
   ]
  },
  {
   "cell_type": "code",
   "execution_count": 22,
   "id": "happy-graham",
   "metadata": {},
   "outputs": [
    {
     "name": "stdout",
     "output_type": "stream",
     "text": [
      "0 [55. 24. 37. 10.] 0\n",
      "22 [77. 38. 67. 22.] 2\n"
     ]
    }
   ],
   "source": [
    "inorder(r)"
   ]
  },
  {
   "cell_type": "code",
   "execution_count": 23,
   "id": "voluntary-reality",
   "metadata": {},
   "outputs": [
    {
     "name": "stdout",
     "output_type": "stream",
     "text": [
      "printing position of cluster C2 is : 8 [51. 35. 14.  2.] 0\n"
     ]
    }
   ],
   "source": [
    "# getting the second cluster c2 from previos cluster c1\n",
    "for i in range (len(X_train)):\n",
    "    a = X_train[position]\n",
    "    b = X_train[i]\n",
    "    dis = distance.euclidean(a, b)\n",
    "    if(dis>temp):\n",
    "        temp = dis\n",
    "        position = i\n",
    "print(\"printing position of cluster C2 is :\",position, X_train[position],y_train[position])\n",
    "r = insert(r,position, X_train[position], y_train[position])\n",
    "c2.append(position)"
   ]
  },
  {
   "cell_type": "code",
   "execution_count": 24,
   "id": "alternate-factory",
   "metadata": {},
   "outputs": [
    {
     "name": "stdout",
     "output_type": "stream",
     "text": [
      "[22, 1, 2, 3, 4, 6, 7, 9, 15, 22, 24, 25, 27, 28, 30, 31, 35, 39, 41, 44, 46, 47, 48, 49, 53, 54, 58, 59, 61, 62, 64, 65, 66, 67, 68, 70, 72, 75, 77, 81, 82, 85, 86, 88, 90, 91, 92, 94, 95, 96, 97, 98, 104] [8, 0, 5, 8, 10, 11, 12, 13, 14, 16, 17, 18, 19, 20, 21, 23, 26, 29, 32, 33, 34, 36, 37, 38, 40, 42, 43, 45, 50, 51, 52, 55, 56, 57, 60, 63, 69, 71, 73, 74, 76, 78, 79, 80, 83, 84, 87, 89, 93, 99, 100, 101, 102, 103]\n"
     ]
    }
   ],
   "source": [
    "# Separate cluster 1 & 2\n",
    "# print(c1[0])\n",
    "# print(c2[0])\n",
    "\n",
    "for i in range (len(X_train)):\n",
    "        a = c1[0]\n",
    "        b = c2[0]\n",
    "        X_train[i]\n",
    "        dis1 = distance.euclidean(X_train[a], X_train[i])\n",
    "        dis2 = distance.euclidean(X_train[b], X_train[i])\n",
    "        if(dis1>dis2):\n",
    "            c2.append(i)\n",
    "            \n",
    "        else: \n",
    "            c1.append(i)\n",
    "c1_a = np.zeros((4,len(c1)))\n",
    "c2_a = np.zeros((4,len(c2)))\n",
    "print(c1,c2)            "
   ]
  },
  {
   "cell_type": "code",
   "execution_count": 102,
   "id": "regular-wound",
   "metadata": {},
   "outputs": [
    {
     "name": "stdout",
     "output_type": "stream",
     "text": [
      "22 [77. 38. 67. 22.] 2\n",
      "30 [54. 30. 45. 15.] 1\n"
     ]
    }
   ],
   "source": [
    "# search new clusters in c1\n",
    "temp =0\n",
    "a = X_train[random.choice(c1)]\n",
    "for item in c1:\n",
    "    b = X_train[item]\n",
    "    dis = distance.euclidean(a, b)\n",
    "    if(dis>temp):\n",
    "        temp = dis\n",
    "        position = item\n",
    "print(position, X_train[position],y_train[position])\n",
    "y_train[position]\n",
    "r = insert(r,position, X_train[position], y_train[position])\n",
    "\n",
    "a = X_train[position]\n",
    "for item in c1:\n",
    "    b = X_train[item]\n",
    "    dis = distance.euclidean(a, b)\n",
    "    if(dis>temp):\n",
    "        temp = dis\n",
    "        position = item\n",
    "print(position, X_train[position],y_train[position])\n",
    "y_train[position]\n",
    "r = insert(r,position, X_train[position], y_train[position])\n",
    "\n"
   ]
  },
  {
   "cell_type": "code",
   "execution_count": 103,
   "id": "afraid-assault",
   "metadata": {},
   "outputs": [
    {
     "name": "stdout",
     "output_type": "stream",
     "text": [
      "52 [43. 30. 11.  1.] 0\n",
      "101 [49. 25. 45. 17.] 2\n"
     ]
    }
   ],
   "source": [
    "temp =0\n",
    "a = X_train[random.choice(c2)]\n",
    "for item in c2:\n",
    "    b = X_train[item]\n",
    "    dis = distance.euclidean(a, b)\n",
    "    if(dis>temp):\n",
    "        temp = dis\n",
    "        position = item\n",
    "print(position, X_train[position],y_train[position])\n",
    "y_train[position]\n",
    "r = insert(r,position, X_train[position], y_train[position])\n",
    "\n",
    "a = X_train[position]\n",
    "for item in c2:\n",
    "    b = X_train[item]\n",
    "    dis = distance.euclidean(a, b)\n",
    "    if(dis>temp):\n",
    "        temp = dis\n",
    "        position = item\n",
    "print(position, X_train[position],y_train[position])\n",
    "y_train[position]\n",
    "r = insert(r,position, X_train[position], y_train[position])"
   ]
  },
  {
   "cell_type": "code",
   "execution_count": 104,
   "id": "jewish-tanzania",
   "metadata": {},
   "outputs": [
    {
     "name": "stdout",
     "output_type": "stream",
     "text": [
      "0 [55. 24. 37. 10.] 0\n",
      "8 [51. 35. 14.  2.] 0\n",
      "22 [77. 38. 67. 22.] 2\n",
      "30 [54. 30. 45. 15.] 1\n",
      "52 [43. 30. 11.  1.] 0\n",
      "101 [49. 25. 45. 17.] 2\n"
     ]
    }
   ],
   "source": [
    "inorder(r)"
   ]
  },
  {
   "cell_type": "code",
   "execution_count": 105,
   "id": "organized-slave",
   "metadata": {},
   "outputs": [
    {
     "ename": "TypeError",
     "evalue": "unsupported operand type(s) for -: 'int' and 'NoneType'",
     "output_type": "error",
     "traceback": [
      "\u001b[1;31m---------------------------------------------------------------------------\u001b[0m",
      "\u001b[1;31mTypeError\u001b[0m                                 Traceback (most recent call last)",
      "\u001b[1;32m<ipython-input-105-b2fd7e15d474>\u001b[0m in \u001b[0;36m<module>\u001b[1;34m\u001b[0m\n\u001b[1;32m----> 1\u001b[1;33m \u001b[0msearch\u001b[0m\u001b[1;33m(\u001b[0m\u001b[0mr\u001b[0m\u001b[1;33m,\u001b[0m \u001b[1;33m[\u001b[0m\u001b[1;36m10\u001b[0m\u001b[1;33m,\u001b[0m\u001b[1;36m30\u001b[0m\u001b[1;33m,\u001b[0m\u001b[1;36m40\u001b[0m\u001b[1;33m,\u001b[0m\u001b[1;36m50\u001b[0m\u001b[1;33m]\u001b[0m\u001b[1;33m)\u001b[0m\u001b[1;33m\u001b[0m\u001b[1;33m\u001b[0m\u001b[0m\n\u001b[0m",
      "\u001b[1;32m<ipython-input-94-8fa72c525086>\u001b[0m in \u001b[0;36msearch\u001b[1;34m(root, data)\u001b[0m\n\u001b[0;32m     41\u001b[0m \u001b[1;32mdef\u001b[0m \u001b[0msearch\u001b[0m\u001b[1;33m(\u001b[0m\u001b[0mroot\u001b[0m\u001b[1;33m,\u001b[0m \u001b[0mdata\u001b[0m\u001b[1;33m)\u001b[0m\u001b[1;33m:\u001b[0m\u001b[1;33m\u001b[0m\u001b[1;33m\u001b[0m\u001b[0m\n\u001b[0;32m     42\u001b[0m     \u001b[0mdist\u001b[0m \u001b[1;33m=\u001b[0m\u001b[1;33m[\u001b[0m\u001b[1;33m]\u001b[0m\u001b[1;33m\u001b[0m\u001b[1;33m\u001b[0m\u001b[0m\n\u001b[1;32m---> 43\u001b[1;33m     \u001b[0mdist\u001b[0m\u001b[1;33m.\u001b[0m\u001b[0mappend\u001b[0m\u001b[1;33m(\u001b[0m\u001b[0mdistance\u001b[0m\u001b[1;33m.\u001b[0m\u001b[0meuclidean\u001b[0m\u001b[1;33m(\u001b[0m\u001b[0mdata\u001b[0m\u001b[1;33m,\u001b[0m \u001b[0mroot\u001b[0m\u001b[1;33m.\u001b[0m\u001b[0mleft\u001b[0m\u001b[1;33m)\u001b[0m\u001b[1;33m)\u001b[0m\u001b[1;33m\u001b[0m\u001b[1;33m\u001b[0m\u001b[0m\n\u001b[0m\u001b[0;32m     44\u001b[0m     \u001b[0mprint\u001b[0m\u001b[1;33m(\u001b[0m\u001b[0mdist\u001b[0m\u001b[1;33m)\u001b[0m\u001b[1;33m\u001b[0m\u001b[1;33m\u001b[0m\u001b[0m\n\u001b[0;32m     45\u001b[0m \u001b[1;33m\u001b[0m\u001b[0m\n",
      "\u001b[1;32mc:\\users\\syed\\appdata\\local\\programs\\python\\python39\\lib\\site-packages\\scipy\\spatial\\distance.py\u001b[0m in \u001b[0;36meuclidean\u001b[1;34m(u, v, w)\u001b[0m\n\u001b[0;32m    624\u001b[0m \u001b[1;33m\u001b[0m\u001b[0m\n\u001b[0;32m    625\u001b[0m     \"\"\"\n\u001b[1;32m--> 626\u001b[1;33m     \u001b[1;32mreturn\u001b[0m \u001b[0mminkowski\u001b[0m\u001b[1;33m(\u001b[0m\u001b[0mu\u001b[0m\u001b[1;33m,\u001b[0m \u001b[0mv\u001b[0m\u001b[1;33m,\u001b[0m \u001b[0mp\u001b[0m\u001b[1;33m=\u001b[0m\u001b[1;36m2\u001b[0m\u001b[1;33m,\u001b[0m \u001b[0mw\u001b[0m\u001b[1;33m=\u001b[0m\u001b[0mw\u001b[0m\u001b[1;33m)\u001b[0m\u001b[1;33m\u001b[0m\u001b[1;33m\u001b[0m\u001b[0m\n\u001b[0m\u001b[0;32m    627\u001b[0m \u001b[1;33m\u001b[0m\u001b[0m\n\u001b[0;32m    628\u001b[0m \u001b[1;33m\u001b[0m\u001b[0m\n",
      "\u001b[1;32mc:\\users\\syed\\appdata\\local\\programs\\python\\python39\\lib\\site-packages\\scipy\\spatial\\distance.py\u001b[0m in \u001b[0;36mminkowski\u001b[1;34m(u, v, p, w)\u001b[0m\n\u001b[0;32m    515\u001b[0m     \u001b[1;32mif\u001b[0m \u001b[0mp\u001b[0m \u001b[1;33m<\u001b[0m \u001b[1;36m1\u001b[0m\u001b[1;33m:\u001b[0m\u001b[1;33m\u001b[0m\u001b[1;33m\u001b[0m\u001b[0m\n\u001b[0;32m    516\u001b[0m         \u001b[1;32mraise\u001b[0m \u001b[0mValueError\u001b[0m\u001b[1;33m(\u001b[0m\u001b[1;34m\"p must be at least 1\"\u001b[0m\u001b[1;33m)\u001b[0m\u001b[1;33m\u001b[0m\u001b[1;33m\u001b[0m\u001b[0m\n\u001b[1;32m--> 517\u001b[1;33m     \u001b[0mu_v\u001b[0m \u001b[1;33m=\u001b[0m \u001b[0mu\u001b[0m \u001b[1;33m-\u001b[0m \u001b[0mv\u001b[0m\u001b[1;33m\u001b[0m\u001b[1;33m\u001b[0m\u001b[0m\n\u001b[0m\u001b[0;32m    518\u001b[0m     \u001b[1;32mif\u001b[0m \u001b[0mw\u001b[0m \u001b[1;32mis\u001b[0m \u001b[1;32mnot\u001b[0m \u001b[1;32mNone\u001b[0m\u001b[1;33m:\u001b[0m\u001b[1;33m\u001b[0m\u001b[1;33m\u001b[0m\u001b[0m\n\u001b[0;32m    519\u001b[0m         \u001b[0mw\u001b[0m \u001b[1;33m=\u001b[0m \u001b[0m_validate_weights\u001b[0m\u001b[1;33m(\u001b[0m\u001b[0mw\u001b[0m\u001b[1;33m)\u001b[0m\u001b[1;33m\u001b[0m\u001b[1;33m\u001b[0m\u001b[0m\n",
      "\u001b[1;31mTypeError\u001b[0m: unsupported operand type(s) for -: 'int' and 'NoneType'"
     ]
    }
   ],
   "source": [
    "search(r, [10,30,40,50])"
   ]
  },
  {
   "cell_type": "code",
   "execution_count": 106,
   "id": "explicit-commissioner",
   "metadata": {},
   "outputs": [
    {
     "name": "stdout",
     "output_type": "stream",
     "text": [
      "101\n",
      "22 [77. 38. 67. 22.] 2\n"
     ]
    },
    {
     "data": {
      "text/plain": [
       "2"
      ]
     },
     "execution_count": 106,
     "metadata": {},
     "output_type": "execute_result"
    }
   ],
   "source": [
    "temp =0\n",
    "print(position)\n",
    "for item in c1:\n",
    "    a = X_train[position]\n",
    "    b = X_train[item]\n",
    "    dis = distance.euclidean(a, b)\n",
    "    if(dis>temp):\n",
    "        temp = dis\n",
    "        position = item\n",
    "print(position, X_train[position],y_train[position])\n",
    "y_train[position]\n"
   ]
  },
  {
   "cell_type": "code",
   "execution_count": 93,
   "id": "active-difficulty",
   "metadata": {},
   "outputs": [
    {
     "name": "stdout",
     "output_type": "stream",
     "text": [
      "41.52107898405339 0 [55. 24. 37. 10.]\n"
     ]
    },
    {
     "data": {
      "text/plain": [
       "1"
      ]
     },
     "execution_count": 93,
     "metadata": {},
     "output_type": "execute_result"
    }
   ],
   "source": [
    "import random\n",
    "for i in range (len(X_train)):\n",
    "    a = X_train[position]\n",
    "    b = X_train[i]\n",
    "    dis = distance.euclidean(a, b)\n",
    "    if(dis>temp):\n",
    "        temp = dis\n",
    "        position = i\n",
    "print(temp,position, X_train[position])\n",
    "y_train[position]"
   ]
  },
  {
   "cell_type": "code",
   "execution_count": null,
   "id": "measured-point",
   "metadata": {},
   "outputs": [],
   "source": []
  },
  {
   "cell_type": "code",
   "execution_count": null,
   "id": "accredited-structure",
   "metadata": {},
   "outputs": [],
   "source": []
  }
 ],
 "metadata": {
  "kernelspec": {
   "display_name": "Python 3",
   "language": "python",
   "name": "python3"
  },
  "language_info": {
   "codemirror_mode": {
    "name": "ipython",
    "version": 3
   },
   "file_extension": ".py",
   "mimetype": "text/x-python",
   "name": "python",
   "nbconvert_exporter": "python",
   "pygments_lexer": "ipython3",
   "version": "3.9.2"
  }
 },
 "nbformat": 4,
 "nbformat_minor": 5
}
