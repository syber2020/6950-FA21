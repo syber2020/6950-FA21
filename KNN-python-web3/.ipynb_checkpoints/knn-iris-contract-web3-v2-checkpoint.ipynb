{
 "cells": [
  {
   "cell_type": "code",
   "execution_count": 243,
   "id": "atmospheric-slide",
   "metadata": {},
   "outputs": [],
   "source": [
    "# k-nearest neighbors on the Iris Flowers Dataset\n",
    "from random import seed\n",
    "from random import randrange\n",
    "from csv import reader\n",
    "from math import sqrt\n",
    "import numpy as np\n",
    "import matplotlib.pyplot as plt\n",
    "from mpl_toolkits.mplot3d import Axes3D\n",
    "from sklearn import datasets\n",
    "from sklearn.decomposition import PCA\n",
    "from sklearn.model_selection import train_test_split\n",
    "from sklearn.neighbors import KNeighborsClassifier\n",
    "\n"
   ]
  },
  {
   "cell_type": "code",
   "execution_count": 244,
   "id": "hispanic-redhead",
   "metadata": {},
   "outputs": [
    {
     "data": {
      "text/plain": [
       "True"
      ]
     },
     "execution_count": 244,
     "metadata": {},
     "output_type": "execute_result"
    }
   ],
   "source": [
    "import numpy as np\n",
    "import json\n",
    "from web3 import Web3\n",
    "import time\n",
    "ganache_url = \"HTTP://127.0.0.1:8545\"\n",
    "# ropsten_url =\"https://ropsten.infura.io/v3/6072fdc3b95c407caa681f63ebaf72b8\"\n",
    "web3 = Web3(Web3.HTTPProvider(ganache_url))\n",
    "# web3 = Web3(Web3.HTTPProvider(ropsten_url))\n",
    "web3.isConnected()"
   ]
  },
  {
   "cell_type": "code",
   "execution_count": 245,
   "id": "centered-tennis",
   "metadata": {},
   "outputs": [],
   "source": [
    "abi = json.loads('[ { \"inputs\": [ { \"internalType\": \"int256[]\", \"name\": \"a\", \"type\": \"int256[]\" }, { \"internalType\": \"int256[]\", \"name\": \"b\", \"type\": \"int256[]\" } ], \"name\": \"euc_distance\", \"outputs\": [ { \"internalType\": \"int256\", \"name\": \"\", \"type\": \"int256\" } ], \"stateMutability\": \"nonpayable\", \"type\": \"function\" }, { \"inputs\": [ { \"internalType\": \"uint256[]\", \"name\": \"label\", \"type\": \"uint256[]\" } ], \"name\": \"get_predict\", \"outputs\": [], \"stateMutability\": \"nonpayable\", \"type\": \"function\" }, { \"inputs\": [], \"name\": \"set_dist\", \"outputs\": [ { \"internalType\": \"int256\", \"name\": \"\", \"type\": \"int256\" } ], \"stateMutability\": \"view\", \"type\": \"function\" }, { \"inputs\": [], \"name\": \"set_pos\", \"outputs\": [ { \"internalType\": \"uint256[]\", \"name\": \"\", \"type\": \"uint256[]\" } ], \"stateMutability\": \"view\", \"type\": \"function\" }, { \"inputs\": [], \"name\": \"set_predict\", \"outputs\": [ { \"internalType\": \"uint256\", \"name\": \"\", \"type\": \"uint256\" } ], \"stateMutability\": \"view\", \"type\": \"function\" }, { \"inputs\": [], \"name\": \"set_sort_dist\", \"outputs\": [ { \"internalType\": \"uint256[]\", \"name\": \"\", \"type\": \"uint256[]\" } ], \"stateMutability\": \"view\", \"type\": \"function\" }, { \"inputs\": [ { \"internalType\": \"uint256[]\", \"name\": \"data\", \"type\": \"uint256[]\" }, { \"internalType\": \"uint256[]\", \"name\": \"pos\", \"type\": \"uint256[]\" } ], \"name\": \"sort_dist\", \"outputs\": [ { \"internalType\": \"uint256[]\", \"name\": \"\", \"type\": \"uint256[]\" }, { \"internalType\": \"uint256[]\", \"name\": \"\", \"type\": \"uint256[]\" } ], \"stateMutability\": \"nonpayable\", \"type\": \"function\" } ]')\n",
    "cont_address = \"0xC152f4CC0F7741daAC904839f6378C4308915996\"\n",
    "contract = web3.eth.contract(address=cont_address,abi=abi)"
   ]
  },
  {
   "cell_type": "code",
   "execution_count": 256,
   "id": "solid-destruction",
   "metadata": {},
   "outputs": [],
   "source": [
    "account1 = \"0x461C6E0aa34BE377B8a99A993031134d2ED87259\"\n",
    "private_key1 = \"420fdae2c43e99d4ea80454a7f61bb5d7409affbba062e5cb583385fce1cd181\"\n",
    "account2 = \"0xD6b4cE68F63827363eceea7533df7ce3FbbFC024\"\n",
    "private_key2=\"c559fcdacf554d3e63f2e0673d0e1399b4bdaf211605853fd86359195485c3c4\""
   ]
  },
  {
   "cell_type": "code",
   "execution_count": 247,
   "id": "surprised-declaration",
   "metadata": {},
   "outputs": [],
   "source": [
    "#reset position array\n",
    "def reset_pos(x, account, private_key,contract):\n",
    "    nonce = web3.eth.getTransactionCount(account)\n",
    "    tx_store = contract.functions.reset_pos(\n",
    "        x\n",
    "         ).buildTransaction({\n",
    "        'gas': 3000000,\n",
    "        'gasPrice': web3.toWei('10', 'gwei'),\n",
    "        'from': account,\n",
    "        'nonce': nonce\n",
    "        })\n",
    "\n",
    "    signed_txn = web3.eth.account.signTransaction(tx_store, private_key=private_key)\n",
    "    start_time = time.time()\n",
    "    tx_hash = web3.eth.sendRawTransaction(signed_txn.rawTransaction)\n",
    "    tx_receipt = web3.eth.waitForTransactionReceipt(tx_hash)\n",
    "    end_time = time.time()\n",
    "    return(tx_receipt.gasUsed)\n",
    "#     print(\"the stored number is \", contract.functions.retrieve().call())"
   ]
  },
  {
   "cell_type": "code",
   "execution_count": 248,
   "id": "massive-camcorder",
   "metadata": {},
   "outputs": [],
   "source": [
    "#eucledean distance function from contract\n",
    "def get_euc_distance(x,y, account, private_key,contract):\n",
    "    nonce = web3.eth.getTransactionCount(account)\n",
    "    tx_store = contract.functions.euc_distance(\n",
    "        x,y\n",
    "         ).buildTransaction({\n",
    "        'gas': 3000000,\n",
    "        'gasPrice': web3.toWei('10', 'gwei'),\n",
    "        'from': account,\n",
    "        'nonce': nonce\n",
    "        })\n",
    "\n",
    "    signed_txn = web3.eth.account.signTransaction(tx_store, private_key=private_key)\n",
    "    start_time = time.time()\n",
    "    tx_hash = web3.eth.sendRawTransaction(signed_txn.rawTransaction)\n",
    "    tx_receipt = web3.eth.waitForTransactionReceipt(tx_hash)\n",
    "    end_time = time.time()\n",
    "    return(tx_receipt.gasUsed)\n"
   ]
  },
  {
   "cell_type": "code",
   "execution_count": 249,
   "id": "efficient-longer",
   "metadata": {},
   "outputs": [],
   "source": [
    "#sort distance from contract\n",
    "def get_sorted_distance(x,y, account, private_key,contract):\n",
    "    nonce = web3.eth.getTransactionCount(account)\n",
    "    tx_store = contract.functions.sort_dist(\n",
    "        x,y\n",
    "         ).buildTransaction({\n",
    "        'gas': 8000000,\n",
    "        'gasPrice': web3.toWei('100', 'gwei'),\n",
    "        'from': account,\n",
    "        'nonce': nonce\n",
    "        })\n",
    "\n",
    "    signed_txn = web3.eth.account.signTransaction(tx_store, private_key=private_key)\n",
    "    start_time = time.time()\n",
    "    tx_hash = web3.eth.sendRawTransaction(signed_txn.rawTransaction)\n",
    "    tx_receipt = web3.eth.waitForTransactionReceipt(tx_hash)\n",
    "\n",
    "    end_time = time.time()\n",
    "    return(tx_receipt.gasUsed)\n",
    "#     print(\"the stored number is \", contract.functions.retrieve().call())"
   ]
  },
  {
   "cell_type": "code",
   "execution_count": 250,
   "id": "likely-racing",
   "metadata": {},
   "outputs": [],
   "source": [
    "#predict position\n",
    "def get_predict(x, account, private_key,contract):\n",
    "    nonce = web3.eth.getTransactionCount(account)\n",
    "    tx_store = contract.functions.get_predict(\n",
    "        x\n",
    "         ).buildTransaction({\n",
    "        'gas': 8000000,\n",
    "        'gasPrice': web3.toWei('1000', 'gwei'),\n",
    "        'from': account,\n",
    "        'nonce': nonce\n",
    "        })\n",
    "\n",
    "    signed_txn = web3.eth.account.signTransaction(tx_store, private_key=private_key)\n",
    "    start_time = time.time()\n",
    "    tx_hash = web3.eth.sendRawTransaction(signed_txn.rawTransaction)\n",
    "    tx_receipt = web3.eth.waitForTransactionReceipt(tx_hash)\n",
    "\n",
    "    end_time = time.time()\n",
    "    return(tx_receipt.gasUsed)\n",
    "#     print(\"the stored number is \", contract.functions.retrieve().call())"
   ]
  },
  {
   "cell_type": "code",
   "execution_count": 251,
   "id": "scheduled-participation",
   "metadata": {},
   "outputs": [],
   "source": [
    "\n",
    "# import some data to play with\n",
    "iris = datasets.load_iris()\n",
    "X_train, X_test, y_train, y_test = train_test_split(iris.data, iris.target, test_size=0.30, random_state=42)\n",
    "X_train = (X_train * 10).astype(int)\n",
    "X_test = (X_test * 10).astype(int)"
   ]
  },
  {
   "cell_type": "code",
   "execution_count": 252,
   "id": "least-bulgaria",
   "metadata": {},
   "outputs": [],
   "source": [
    "a = X_train[0].tolist()\n",
    "sample = X_test[0].tolist()"
   ]
  },
  {
   "cell_type": "code",
   "execution_count": 253,
   "id": "guided-laser",
   "metadata": {},
   "outputs": [
    {
     "name": "stdout",
     "output_type": "stream",
     "text": [
      "[55, 24, 37, 10] [61, 28, 47, 12]\n"
     ]
    }
   ],
   "source": [
    "print(a,sample)"
   ]
  },
  {
   "cell_type": "code",
   "execution_count": 257,
   "id": "talented-messaging",
   "metadata": {},
   "outputs": [
    {
     "data": {
      "text/plain": [
       "105"
      ]
     },
     "execution_count": 257,
     "metadata": {},
     "output_type": "execute_result"
    }
   ],
   "source": [
    "dist = []\n",
    "dist_gas=[]\n",
    "sample = X_test[0].tolist()\n",
    "for i in range(X_train.shape[0]):\n",
    "    a = X_train[i].tolist()\n",
    "    dist_gas.append(get_euc_distance(a,sample, account2, private_key2,contract))\n",
    "    dist.append(contract.functions.set_dist().call())\n",
    "unsort = list(range(len(y_train)))\n",
    "len(dist)"
   ]
  },
  {
   "cell_type": "code",
   "execution_count": 270,
   "id": "facial-reason",
   "metadata": {},
   "outputs": [],
   "source": [
    "# dist"
   ]
  },
  {
   "cell_type": "code",
   "execution_count": 259,
   "id": "crucial-junction",
   "metadata": {},
   "outputs": [],
   "source": [
    "# get sorted distance\n",
    "sort_dis_gas = get_sorted_distance(dist,unsort,account1, private_key1,contract)"
   ]
  },
  {
   "cell_type": "code",
   "execution_count": 260,
   "id": "molecular-egyptian",
   "metadata": {},
   "outputs": [],
   "source": [
    "sorted_pos= contract.functions.set_pos().call()"
   ]
  },
  {
   "cell_type": "code",
   "execution_count": 265,
   "id": "organic-destination",
   "metadata": {},
   "outputs": [],
   "source": [
    "# sorted_pos_gas = get_sorted_pos(sorted_dist1,dist, account2, private_key2,contract)\n",
    "ylabel = y_train.tolist()"
   ]
  },
  {
   "cell_type": "code",
   "execution_count": 267,
   "id": "perceived-magnet",
   "metadata": {},
   "outputs": [
    {
     "data": {
      "text/plain": [
       "58657"
      ]
     },
     "execution_count": 267,
     "metadata": {},
     "output_type": "execute_result"
    }
   ],
   "source": [
    "# sorted_pos = contract.functions.set_pos().call()\n",
    "get_predict(ylabel, account1, private_key1,contract)"
   ]
  },
  {
   "cell_type": "code",
   "execution_count": 268,
   "id": "suited-brass",
   "metadata": {},
   "outputs": [
    {
     "data": {
      "text/plain": [
       "2"
      ]
     },
     "execution_count": 268,
     "metadata": {},
     "output_type": "execute_result"
    }
   ],
   "source": [
    "contract.functions.set_predict().call()"
   ]
  },
  {
   "cell_type": "code",
   "execution_count": 269,
   "id": "respected-stereo",
   "metadata": {},
   "outputs": [
    {
     "name": "stdout",
     "output_type": "stream",
     "text": [
      "1\n"
     ]
    }
   ],
   "source": [
    "# predict the number\n",
    "print(y_test[0])"
   ]
  },
  {
   "cell_type": "code",
   "execution_count": null,
   "id": "confidential-folks",
   "metadata": {},
   "outputs": [],
   "source": [
    "from sklearn.metrics import accuracy_score\n",
    "accuracy_score(y_test, pred)"
   ]
  },
  {
   "cell_type": "code",
   "execution_count": null,
   "id": "limited-hunger",
   "metadata": {},
   "outputs": [],
   "source": [
    "neigh = KNeighborsClassifier(n_neighbors=3)\n",
    ">>> neigh.fit(X, y)\n",
    "KNeighborsClassifier(...)\n",
    ">>> print(neigh.predict([[1.1]]))\n",
    "[0]\n",
    ">>> print(neigh.predict_proba([[0.9]]))"
   ]
  }
 ],
 "metadata": {
  "kernelspec": {
   "display_name": "Python 3",
   "language": "python",
   "name": "python3"
  },
  "language_info": {
   "codemirror_mode": {
    "name": "ipython",
    "version": 3
   },
   "file_extension": ".py",
   "mimetype": "text/x-python",
   "name": "python",
   "nbconvert_exporter": "python",
   "pygments_lexer": "ipython3",
   "version": "3.9.2"
  }
 },
 "nbformat": 4,
 "nbformat_minor": 5
}
