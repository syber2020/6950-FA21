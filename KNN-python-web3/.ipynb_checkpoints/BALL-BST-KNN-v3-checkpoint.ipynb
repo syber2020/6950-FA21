{
 "cells": [
  {
   "cell_type": "code",
   "execution_count": 118,
   "id": "approximate-bargain",
   "metadata": {},
   "outputs": [],
   "source": [
    "# k-nearest neighbors on the Iris Flowers Dataset\n",
    "from random import seed\n",
    "from random import randrange\n",
    "from csv import reader\n",
    "from math import sqrt\n",
    "import numpy as np\n",
    "import matplotlib.pyplot as plt\n",
    "from mpl_toolkits.mplot3d import Axes3D\n",
    "from sklearn import datasets\n",
    "from sklearn.decomposition import PCA\n",
    "from sklearn.model_selection import train_test_split\n",
    "from sklearn.neighbors import KNeighborsClassifier\n",
    "from scipy.spatial import distance\n",
    "import random\n"
   ]
  },
  {
   "cell_type": "code",
   "execution_count": 119,
   "id": "atomic-penetration",
   "metadata": {},
   "outputs": [],
   "source": [
    "# Python program to demonstrate\n",
    "# insert operation in binary search tree\n",
    " \n",
    "# A utility class that represents\n",
    "# an individual node in a BST\n",
    " \n",
    " \n",
    "class Node:\n",
    "    def __init__(self, key, data,l):\n",
    "        self.left = None\n",
    "        self.right = None\n",
    "        self.val = key\n",
    "        self.arr = data\n",
    "        self.label = l\n",
    " \n",
    "# A utility function to insert\n",
    "# a new node with the given key\n",
    " \n",
    " \n",
    "def insert(root, key, data, n):\n",
    "    if root is None:\n",
    "        return Node(key,data,n)\n",
    "    else:\n",
    "        if root.val == key:\n",
    "            return root\n",
    "        elif root.val < key:\n",
    "            root.right = insert(root.right, key,data,n)\n",
    "        else:\n",
    "            root.left = insert(root.left, key,data,n)\n",
    "    return root\n",
    " \n",
    "# A utility function to do inorder tree traversal\n",
    " \n",
    " \n",
    "def inorder(root):\n",
    "    if root:\n",
    "#         print(\"setting left\")\n",
    "        inorder(root.left)\n",
    "        \n",
    "#         print(\"printing values\")\n",
    "        print(root.val, root.arr,root.label)\n",
    "\n",
    "#         print(\"set to right\")\n",
    "        inorder(root.right)\n",
    "\n",
    "# Driver program to test the above functions\n",
    "# Let us create the following BST\n",
    "#    50\n",
    "#  /     \\\n",
    "# 30     70\n",
    "#  / \\ / \\\n",
    "# 20 40 60 80\n",
    " \n",
    "def distance1(root, key,index,dist):\n",
    "    if root is None:\n",
    "        print(\" it is none\")\n",
    "        return Node(key,index)\n",
    "    else:\n",
    "        if root.val == key:\n",
    "            print(root.val)\n",
    "#             dist.append(root.val)\n",
    "            return root\n",
    "        elif root.val > key:\n",
    "            print(root.val-key)\n",
    "            dist.append(root.val-key)\n",
    "            root.right = distance1(root.right,key,index,dist)\n",
    "        else:\n",
    "            print(root.val-key)\n",
    "            root.left = distance1(root.left,key,index,dist)\n",
    "    \n",
    "    return dist"
   ]
  },
  {
   "cell_type": "code",
   "execution_count": 120,
   "id": "needed-samoa",
   "metadata": {},
   "outputs": [],
   "source": [
    "def centroid(arr):\n",
    "    x = np.zeros(4)\n",
    "    length = arr.shape[0]\n",
    "    sum_x1 = np.sum(arr[:, 0])\n",
    "    sum_x2 = np.sum(arr[:, 1])\n",
    "    sum_x3 = np.sum(arr[:, 2])\n",
    "    sum_x4 = np.sum(arr[:, 3])\n",
    "    x[0] =  sum_x1/length; x[1] =  sum_x2/length; x[2] =  sum_x3/length; x[3] =  sum_x4/length\n",
    "    return x"
   ]
  },
  {
   "cell_type": "code",
   "execution_count": 121,
   "id": "continuous-functionality",
   "metadata": {},
   "outputs": [],
   "source": [
    "# r = Node(50,[5,5,5,5],5)\n",
    "# r = insert(r, 40,[1,2,3,4], 3)\n",
    "# r = insert(r, 20,[2,2,2,2], 2)\n",
    "# r = insert(r, 30,[2,2,2,2], 4)\n",
    "# Print inoder traversal of the BST\n",
    "# inorder(r)\n"
   ]
  },
  {
   "cell_type": "code",
   "execution_count": 122,
   "id": "accredited-statement",
   "metadata": {},
   "outputs": [],
   "source": [
    "iris = datasets.load_iris()\n",
    "X_train, X_test, y_train, y_test = train_test_split(iris.data, iris.target, test_size=0.30, random_state=42)\n",
    "X_train = X_train *10\n",
    "X_test = X_test*10\n",
    "rpoint = 0\n",
    "temp = 0\n",
    "c1=[]\n",
    "c2=[]"
   ]
  },
  {
   "cell_type": "markdown",
   "id": "remarkable-nitrogen",
   "metadata": {},
   "source": [
    "## Getting the first cluster c1 from centroid c"
   ]
  },
  {
   "cell_type": "code",
   "execution_count": 123,
   "id": "reasonable-hours",
   "metadata": {},
   "outputs": [
    {
     "name": "stdout",
     "output_type": "stream",
     "text": [
      "printing radius of centroid 1 is : 41.52107898405339\n",
      "position of cluster 1 is :  22 [77. 38. 67. 22.] 2\n"
     ]
    }
   ],
   "source": [
    "# getting the first cluster c1 from centroid c\n",
    "r = Node(rpoint,X_train[rpoint],rpoint)\n",
    "for i in range (len(X_train)):\n",
    "    a = X_train[rpoint]\n",
    "    b = X_train[i]\n",
    "    dis = distance.euclidean(a, b)\n",
    "    if(dis>temp):\n",
    "        temp = dis\n",
    "        position = i\n",
    "print(\"printing radius of centroid 1 is :\",temp)\n",
    "print(\"position of cluster 1 is : \",position, X_train[position],y_train[position])\n",
    "c1.append(position)"
   ]
  },
  {
   "cell_type": "code",
   "execution_count": 124,
   "id": "sublime-restriction",
   "metadata": {},
   "outputs": [],
   "source": [
    "r = insert(r,position, X_train[position], y_train[position])"
   ]
  },
  {
   "cell_type": "code",
   "execution_count": 125,
   "id": "happy-graham",
   "metadata": {},
   "outputs": [
    {
     "name": "stdout",
     "output_type": "stream",
     "text": [
      "0 [55. 24. 37. 10.] 0\n",
      "22 [77. 38. 67. 22.] 2\n"
     ]
    }
   ],
   "source": [
    "inorder(r)"
   ]
  },
  {
   "cell_type": "markdown",
   "id": "authentic-remark",
   "metadata": {},
   "source": [
    "## Getting the second cluster c2 from previos cluster c1"
   ]
  },
  {
   "cell_type": "code",
   "execution_count": 126,
   "id": "voluntary-reality",
   "metadata": {},
   "outputs": [
    {
     "name": "stdout",
     "output_type": "stream",
     "text": [
      "printing position of cluster C2 is : 8 [51. 35. 14.  2.] 0\n"
     ]
    }
   ],
   "source": [
    "\n",
    "for i in range (len(X_train)):\n",
    "    a = X_train[position]\n",
    "    b = X_train[i]\n",
    "    dis = distance.euclidean(a, b)\n",
    "    if(dis>temp):\n",
    "        temp = dis\n",
    "        position = i\n",
    "print(\"printing position of cluster C2 is :\",position, X_train[position],y_train[position])\n",
    "r = insert(r,position, X_train[position], y_train[position])\n",
    "c2.append(position)"
   ]
  },
  {
   "cell_type": "markdown",
   "id": "widespread-coral",
   "metadata": {},
   "source": [
    "## Separate cluster 1 & 2"
   ]
  },
  {
   "cell_type": "code",
   "execution_count": 127,
   "id": "alternate-factory",
   "metadata": {},
   "outputs": [
    {
     "name": "stdout",
     "output_type": "stream",
     "text": [
      "[22, 1, 2, 3, 4, 6, 7, 9, 15, 22, 24, 25, 27, 28, 30, 31, 35, 39, 41, 44, 46, 47, 48, 49, 53, 54, 58, 59, 61, 62, 64, 65, 66, 67, 68, 70, 72, 75, 77, 81, 82, 85, 86, 88, 90, 91, 92, 94, 95, 96, 97, 98, 104] [8, 0, 5, 8, 10, 11, 12, 13, 14, 16, 17, 18, 19, 20, 21, 23, 26, 29, 32, 33, 34, 36, 37, 38, 40, 42, 43, 45, 50, 51, 52, 55, 56, 57, 60, 63, 69, 71, 73, 74, 76, 78, 79, 80, 83, 84, 87, 89, 93, 99, 100, 101, 102, 103]\n"
     ]
    }
   ],
   "source": [
    "for i in range (len(X_train)):\n",
    "        a = c1[0]\n",
    "        b = c2[0]\n",
    "        X_train[i]\n",
    "        dis1 = distance.euclidean(X_train[a], X_train[i])\n",
    "        dis2 = distance.euclidean(X_train[b], X_train[i])\n",
    "        if(dis1>dis2):\n",
    "            c2.append(i)\n",
    "            \n",
    "        else: \n",
    "            c1.append(i)\n",
    "c1_a = np.zeros((4,len(c1)))\n",
    "c2_a = np.zeros((4,len(c2)))\n",
    "print(c1,c2)            "
   ]
  },
  {
   "cell_type": "markdown",
   "id": "unsigned-duplicate",
   "metadata": {},
   "source": [
    "## Getting centroids of cluster 1 and cluster 2"
   ]
  },
  {
   "cell_type": "code",
   "execution_count": 128,
   "id": "extra-lightweight",
   "metadata": {},
   "outputs": [],
   "source": [
    "c1a = np.zeros((len(c1),4))\n",
    "for i in range(len(c1)):\n",
    "    c1a[i] = X_train[c1[i]]\n",
    "c2a = np.zeros((len(c2),4))\n",
    "for i in range(len(c2)):\n",
    "    c2a[i] = X_train[c2[i]]\n",
    "\n",
    "c1_cent = centroid(c1a)    \n",
    "c2_cent = centroid(c2a)"
   ]
  },
  {
   "cell_type": "code",
   "execution_count": 129,
   "id": "allied-testimony",
   "metadata": {},
   "outputs": [
    {
     "name": "stdout",
     "output_type": "stream",
     "text": [
      "[65.30188679 29.8490566  53.1509434  18.50943396] [51.88888889 30.57407407 24.59259259  6.37037037]\n"
     ]
    }
   ],
   "source": [
    "print(c1_cent,c2_cent)"
   ]
  },
  {
   "cell_type": "markdown",
   "id": "known-unemployment",
   "metadata": {},
   "source": [
    "## Getting subclusters of cluster 1 which are c11 and c12"
   ]
  },
  {
   "cell_type": "code",
   "execution_count": 142,
   "id": "natural-metallic",
   "metadata": {},
   "outputs": [
    {
     "name": "stdout",
     "output_type": "stream",
     "text": [
      "printing distance of  c11 point from cluster c1 is : 20.180786678011245\n",
      "position of cluster c11 is :  0 [55. 24. 37. 10.] 1\n",
      "printing distance of centroid 12 from centroid 11 is : 23.850938848410504\n",
      "position of cluster 12 is :  51 [44. 29. 14.  2.] 0\n"
     ]
    }
   ],
   "source": [
    "\n",
    "temp=0\n",
    "for i in range (len(c1a)):\n",
    "    b = c1a[i]\n",
    "    dis = distance.euclidean(c1_cent, b)\n",
    "    if(dis>temp):\n",
    "        temp = dis\n",
    "        position = i\n",
    "print(\"printing distance of  c11 point from cluster c1 is :\",temp)\n",
    "print(\"position of cluster c11 is : \",position, X_train[position],y_train[position])\n",
    "c11_pos =position  \n",
    "\n",
    "temp=0\n",
    "for i in range (len(c2a)):\n",
    "    b = c2a[i]\n",
    "    dis = distance.euclidean(c2_cent, b)\n",
    "    if(dis>temp):\n",
    "        temp = dis\n",
    "        position = i\n",
    "print(\"printing distance of centroid 12 from centroid 11 is :\",temp)\n",
    "print(\"position of cluster 12 is : \",position, X_train[position],y_train[position])\n",
    "c12_pos = position"
   ]
  },
  {
   "cell_type": "code",
   "execution_count": 147,
   "id": "accurate-rhythm",
   "metadata": {},
   "outputs": [
    {
     "data": {
      "text/plain": [
       "array([[51., 35., 14.,  2.],\n",
       "       [55., 24., 37., 10.],\n",
       "       [57., 29., 42., 13.],\n",
       "       [51., 35., 14.,  2.],\n",
       "       [58., 27., 41., 10.],\n",
       "       [52., 34., 14.,  2.],\n",
       "       [50., 35., 13.,  3.],\n",
       "       [51., 38., 19.,  4.],\n",
       "       [50., 20., 35., 10.],\n",
       "       [48., 34., 19.,  2.],\n",
       "       [50., 30., 16.,  2.],\n",
       "       [51., 33., 17.,  5.],\n",
       "       [56., 27., 42., 13.],\n",
       "       [51., 34., 15.,  2.],\n",
       "       [57., 30., 42., 12.],\n",
       "       [46., 32., 14.,  2.],\n",
       "       [55., 42., 14.,  2.],\n",
       "       [60., 22., 40., 10.],\n",
       "       [55., 23., 40., 13.],\n",
       "       [54., 39., 17.,  4.],\n",
       "       [50., 23., 33., 10.],\n",
       "       [50., 33., 14.,  2.],\n",
       "       [50., 32., 12.,  2.],\n",
       "       [55., 24., 38., 11.],\n",
       "       [49., 31., 15.,  2.],\n",
       "       [50., 34., 15.,  2.],\n",
       "       [50., 35., 16.,  6.],\n",
       "       [51., 25., 30., 11.],\n",
       "       [55., 25., 40., 13.],\n",
       "       [44., 29., 14.,  2.],\n",
       "       [43., 30., 11.,  1.],\n",
       "       [46., 31., 15.,  2.],\n",
       "       [51., 35., 14.,  3.],\n",
       "       [44., 30., 13.,  2.],\n",
       "       [46., 34., 14.,  3.],\n",
       "       [47., 32., 13.,  2.],\n",
       "       [51., 38., 16.,  2.],\n",
       "       [59., 30., 42., 15.],\n",
       "       [57., 26., 35., 10.],\n",
       "       [52., 27., 39., 14.],\n",
       "       [45., 23., 13.,  3.],\n",
       "       [55., 26., 44., 12.],\n",
       "       [53., 37., 15.,  2.],\n",
       "       [56., 30., 41., 13.],\n",
       "       [51., 37., 15.,  4.],\n",
       "       [49., 24., 33., 10.],\n",
       "       [49., 36., 14.,  1.],\n",
       "       [49., 30., 14.,  2.],\n",
       "       [57., 28., 41., 13.],\n",
       "       [54., 34., 17.,  2.],\n",
       "       [61., 28., 40., 13.],\n",
       "       [49., 25., 45., 17.],\n",
       "       [58., 40., 12.,  2.],\n",
       "       [58., 26., 40., 12.]])"
      ]
     },
     "execution_count": 147,
     "metadata": {},
     "output_type": "execute_result"
    }
   ],
   "source": [
    "c2a"
   ]
  },
  {
   "cell_type": "markdown",
   "id": "handed-depression",
   "metadata": {},
   "source": [
    "## Separate cluster of points for c11 and c12"
   ]
  },
  {
   "cell_type": "code",
   "execution_count": 144,
   "id": "scheduled-dover",
   "metadata": {},
   "outputs": [
    {
     "name": "stdout",
     "output_type": "stream",
     "text": [
      "[0, 1, 2, 3, 4, 5, 6, 7, 8, 9, 10, 11, 12, 13, 14, 15, 16, 17, 18, 19, 20, 21, 22, 23, 24, 25, 26, 27, 28, 29, 30, 31, 32, 33, 34, 35, 36, 37, 38, 39, 40, 41, 42, 43, 44, 45, 46, 47, 48, 49, 50, 51, 52] []\n"
     ]
    }
   ],
   "source": [
    "c11=[]\n",
    "c12=[]\n",
    "for i in range (len(c1a)):\n",
    "        a = c1[c11_pos]\n",
    "        b = c2[c12_pos]\n",
    "        dis1 = distance.euclidean(a, c1a[i])\n",
    "        dis2 = distance.euclidean(b, c2a[i])\n",
    "#         print(dis1, dis2)\n",
    "        if(dis1>dis2):\n",
    "            c12.append(i)   \n",
    "        else: \n",
    "            c11.append(i)\n",
    "# c1_a = np.zeros((4,len(c1)))\n",
    "# c2_a = np.zeros((4,len(c2)))\n",
    "print(c11,c12)   "
   ]
  },
  {
   "cell_type": "code",
   "execution_count": 145,
   "id": "rolled-hands",
   "metadata": {},
   "outputs": [
    {
     "name": "stdout",
     "output_type": "stream",
     "text": [
      "1\n",
      "2\n",
      "2\n",
      "1\n",
      "2\n",
      "1\n",
      "2\n",
      "1\n",
      "0\n",
      "2\n",
      "1\n",
      "0\n",
      "0\n",
      "0\n",
      "1\n",
      "2\n",
      "0\n",
      "0\n",
      "0\n",
      "1\n",
      "0\n",
      "1\n",
      "2\n",
      "0\n",
      "1\n",
      "2\n",
      "0\n",
      "2\n",
      "2\n",
      "1\n",
      "1\n",
      "2\n",
      "1\n",
      "0\n",
      "1\n",
      "2\n",
      "0\n",
      "0\n",
      "1\n",
      "1\n",
      "0\n",
      "2\n",
      "0\n",
      "0\n",
      "1\n",
      "1\n",
      "2\n",
      "1\n",
      "2\n",
      "2\n",
      "1\n",
      "0\n",
      "0\n"
     ]
    }
   ],
   "source": []
  },
  {
   "cell_type": "markdown",
   "id": "clean-edgar",
   "metadata": {},
   "source": [
    "# Getting centroids of cluster 11 and cluster 12"
   ]
  },
  {
   "cell_type": "code",
   "execution_count": 97,
   "id": "regular-wound",
   "metadata": {},
   "outputs": [
    {
     "name": "stdout",
     "output_type": "stream",
     "text": [
      "22 [77. 38. 67. 22.] 2\n",
      "30 [54. 30. 45. 15.] 1\n"
     ]
    }
   ],
   "source": [
    "temp =0\n",
    "a = c1_cent\n",
    "for item in c1:\n",
    "    b = X_train[item]\n",
    "    dis = distance.euclidean(a, b)\n",
    "    if(dis>temp):\n",
    "        temp = dis\n",
    "        position = item\n",
    "print(position, X_train[position],y_train[position])\n",
    "y_train[position]\n",
    "r = insert(r,position, X_train[position], y_train[position])\n",
    "\n",
    "a = X_train[position]\n",
    "for item in c1:\n",
    "    b = X_train[item]\n",
    "    dis = distance.euclidean(a, b)\n",
    "    if(dis>temp):\n",
    "        temp = dis\n",
    "        position = item\n",
    "print(position, X_train[position],y_train[position])\n",
    "y_train[position]\n",
    "r = insert(r,position, X_train[position], y_train[position])\n",
    "\n"
   ]
  },
  {
   "cell_type": "code",
   "execution_count": 103,
   "id": "afraid-assault",
   "metadata": {},
   "outputs": [
    {
     "name": "stdout",
     "output_type": "stream",
     "text": [
      "52 [43. 30. 11.  1.] 0\n",
      "101 [49. 25. 45. 17.] 2\n"
     ]
    }
   ],
   "source": [
    "temp =0\n",
    "a = X_train[random.choice(c2)]\n",
    "for item in c2:\n",
    "    b = X_train[item]\n",
    "    dis = distance.euclidean(a, b)\n",
    "    if(dis>temp):\n",
    "        temp = dis\n",
    "        position = item\n",
    "print(position, X_train[position],y_train[position])\n",
    "y_train[position]\n",
    "r = insert(r,position, X_train[position], y_train[position])\n",
    "\n",
    "a = X_train[position]\n",
    "for item in c2:\n",
    "    b = X_train[item]\n",
    "    dis = distance.euclidean(a, b)\n",
    "    if(dis>temp):\n",
    "        temp = dis\n",
    "        position = item\n",
    "print(position, X_train[position],y_train[position])\n",
    "y_train[position]\n",
    "r = insert(r,position, X_train[position], y_train[position])"
   ]
  },
  {
   "cell_type": "code",
   "execution_count": 104,
   "id": "jewish-tanzania",
   "metadata": {},
   "outputs": [
    {
     "name": "stdout",
     "output_type": "stream",
     "text": [
      "0 [55. 24. 37. 10.] 0\n",
      "8 [51. 35. 14.  2.] 0\n",
      "22 [77. 38. 67. 22.] 2\n",
      "30 [54. 30. 45. 15.] 1\n",
      "52 [43. 30. 11.  1.] 0\n",
      "101 [49. 25. 45. 17.] 2\n"
     ]
    }
   ],
   "source": [
    "inorder(r)"
   ]
  },
  {
   "cell_type": "code",
   "execution_count": 105,
   "id": "organized-slave",
   "metadata": {},
   "outputs": [
    {
     "ename": "TypeError",
     "evalue": "unsupported operand type(s) for -: 'int' and 'NoneType'",
     "output_type": "error",
     "traceback": [
      "\u001b[1;31m---------------------------------------------------------------------------\u001b[0m",
      "\u001b[1;31mTypeError\u001b[0m                                 Traceback (most recent call last)",
      "\u001b[1;32m<ipython-input-105-b2fd7e15d474>\u001b[0m in \u001b[0;36m<module>\u001b[1;34m\u001b[0m\n\u001b[1;32m----> 1\u001b[1;33m \u001b[0msearch\u001b[0m\u001b[1;33m(\u001b[0m\u001b[0mr\u001b[0m\u001b[1;33m,\u001b[0m \u001b[1;33m[\u001b[0m\u001b[1;36m10\u001b[0m\u001b[1;33m,\u001b[0m\u001b[1;36m30\u001b[0m\u001b[1;33m,\u001b[0m\u001b[1;36m40\u001b[0m\u001b[1;33m,\u001b[0m\u001b[1;36m50\u001b[0m\u001b[1;33m]\u001b[0m\u001b[1;33m)\u001b[0m\u001b[1;33m\u001b[0m\u001b[1;33m\u001b[0m\u001b[0m\n\u001b[0m",
      "\u001b[1;32m<ipython-input-94-8fa72c525086>\u001b[0m in \u001b[0;36msearch\u001b[1;34m(root, data)\u001b[0m\n\u001b[0;32m     41\u001b[0m \u001b[1;32mdef\u001b[0m \u001b[0msearch\u001b[0m\u001b[1;33m(\u001b[0m\u001b[0mroot\u001b[0m\u001b[1;33m,\u001b[0m \u001b[0mdata\u001b[0m\u001b[1;33m)\u001b[0m\u001b[1;33m:\u001b[0m\u001b[1;33m\u001b[0m\u001b[1;33m\u001b[0m\u001b[0m\n\u001b[0;32m     42\u001b[0m     \u001b[0mdist\u001b[0m \u001b[1;33m=\u001b[0m\u001b[1;33m[\u001b[0m\u001b[1;33m]\u001b[0m\u001b[1;33m\u001b[0m\u001b[1;33m\u001b[0m\u001b[0m\n\u001b[1;32m---> 43\u001b[1;33m     \u001b[0mdist\u001b[0m\u001b[1;33m.\u001b[0m\u001b[0mappend\u001b[0m\u001b[1;33m(\u001b[0m\u001b[0mdistance\u001b[0m\u001b[1;33m.\u001b[0m\u001b[0meuclidean\u001b[0m\u001b[1;33m(\u001b[0m\u001b[0mdata\u001b[0m\u001b[1;33m,\u001b[0m \u001b[0mroot\u001b[0m\u001b[1;33m.\u001b[0m\u001b[0mleft\u001b[0m\u001b[1;33m)\u001b[0m\u001b[1;33m)\u001b[0m\u001b[1;33m\u001b[0m\u001b[1;33m\u001b[0m\u001b[0m\n\u001b[0m\u001b[0;32m     44\u001b[0m     \u001b[0mprint\u001b[0m\u001b[1;33m(\u001b[0m\u001b[0mdist\u001b[0m\u001b[1;33m)\u001b[0m\u001b[1;33m\u001b[0m\u001b[1;33m\u001b[0m\u001b[0m\n\u001b[0;32m     45\u001b[0m \u001b[1;33m\u001b[0m\u001b[0m\n",
      "\u001b[1;32mc:\\users\\syed\\appdata\\local\\programs\\python\\python39\\lib\\site-packages\\scipy\\spatial\\distance.py\u001b[0m in \u001b[0;36meuclidean\u001b[1;34m(u, v, w)\u001b[0m\n\u001b[0;32m    624\u001b[0m \u001b[1;33m\u001b[0m\u001b[0m\n\u001b[0;32m    625\u001b[0m     \"\"\"\n\u001b[1;32m--> 626\u001b[1;33m     \u001b[1;32mreturn\u001b[0m \u001b[0mminkowski\u001b[0m\u001b[1;33m(\u001b[0m\u001b[0mu\u001b[0m\u001b[1;33m,\u001b[0m \u001b[0mv\u001b[0m\u001b[1;33m,\u001b[0m \u001b[0mp\u001b[0m\u001b[1;33m=\u001b[0m\u001b[1;36m2\u001b[0m\u001b[1;33m,\u001b[0m \u001b[0mw\u001b[0m\u001b[1;33m=\u001b[0m\u001b[0mw\u001b[0m\u001b[1;33m)\u001b[0m\u001b[1;33m\u001b[0m\u001b[1;33m\u001b[0m\u001b[0m\n\u001b[0m\u001b[0;32m    627\u001b[0m \u001b[1;33m\u001b[0m\u001b[0m\n\u001b[0;32m    628\u001b[0m \u001b[1;33m\u001b[0m\u001b[0m\n",
      "\u001b[1;32mc:\\users\\syed\\appdata\\local\\programs\\python\\python39\\lib\\site-packages\\scipy\\spatial\\distance.py\u001b[0m in \u001b[0;36mminkowski\u001b[1;34m(u, v, p, w)\u001b[0m\n\u001b[0;32m    515\u001b[0m     \u001b[1;32mif\u001b[0m \u001b[0mp\u001b[0m \u001b[1;33m<\u001b[0m \u001b[1;36m1\u001b[0m\u001b[1;33m:\u001b[0m\u001b[1;33m\u001b[0m\u001b[1;33m\u001b[0m\u001b[0m\n\u001b[0;32m    516\u001b[0m         \u001b[1;32mraise\u001b[0m \u001b[0mValueError\u001b[0m\u001b[1;33m(\u001b[0m\u001b[1;34m\"p must be at least 1\"\u001b[0m\u001b[1;33m)\u001b[0m\u001b[1;33m\u001b[0m\u001b[1;33m\u001b[0m\u001b[0m\n\u001b[1;32m--> 517\u001b[1;33m     \u001b[0mu_v\u001b[0m \u001b[1;33m=\u001b[0m \u001b[0mu\u001b[0m \u001b[1;33m-\u001b[0m \u001b[0mv\u001b[0m\u001b[1;33m\u001b[0m\u001b[1;33m\u001b[0m\u001b[0m\n\u001b[0m\u001b[0;32m    518\u001b[0m     \u001b[1;32mif\u001b[0m \u001b[0mw\u001b[0m \u001b[1;32mis\u001b[0m \u001b[1;32mnot\u001b[0m \u001b[1;32mNone\u001b[0m\u001b[1;33m:\u001b[0m\u001b[1;33m\u001b[0m\u001b[1;33m\u001b[0m\u001b[0m\n\u001b[0;32m    519\u001b[0m         \u001b[0mw\u001b[0m \u001b[1;33m=\u001b[0m \u001b[0m_validate_weights\u001b[0m\u001b[1;33m(\u001b[0m\u001b[0mw\u001b[0m\u001b[1;33m)\u001b[0m\u001b[1;33m\u001b[0m\u001b[1;33m\u001b[0m\u001b[0m\n",
      "\u001b[1;31mTypeError\u001b[0m: unsupported operand type(s) for -: 'int' and 'NoneType'"
     ]
    }
   ],
   "source": [
    "search(r, [10,30,40,50])"
   ]
  },
  {
   "cell_type": "code",
   "execution_count": 106,
   "id": "explicit-commissioner",
   "metadata": {},
   "outputs": [
    {
     "name": "stdout",
     "output_type": "stream",
     "text": [
      "101\n",
      "22 [77. 38. 67. 22.] 2\n"
     ]
    },
    {
     "data": {
      "text/plain": [
       "2"
      ]
     },
     "execution_count": 106,
     "metadata": {},
     "output_type": "execute_result"
    }
   ],
   "source": [
    "temp =0\n",
    "print(position)\n",
    "for item in c1:\n",
    "    a = X_train[position]\n",
    "    b = X_train[item]\n",
    "    dis = distance.euclidean(a, b)\n",
    "    if(dis>temp):\n",
    "        temp = dis\n",
    "        position = item\n",
    "print(position, X_train[position],y_train[position])\n",
    "y_train[position]\n"
   ]
  },
  {
   "cell_type": "code",
   "execution_count": 93,
   "id": "active-difficulty",
   "metadata": {},
   "outputs": [
    {
     "name": "stdout",
     "output_type": "stream",
     "text": [
      "41.52107898405339 0 [55. 24. 37. 10.]\n"
     ]
    },
    {
     "data": {
      "text/plain": [
       "1"
      ]
     },
     "execution_count": 93,
     "metadata": {},
     "output_type": "execute_result"
    }
   ],
   "source": [
    "import random\n",
    "for i in range (len(X_train)):\n",
    "    a = X_train[position]\n",
    "    b = X_train[i]\n",
    "    dis = distance.euclidean(a, b)\n",
    "    if(dis>temp):\n",
    "        temp = dis\n",
    "        position = i\n",
    "print(temp,position, X_train[position])\n",
    "y_train[position]"
   ]
  },
  {
   "cell_type": "code",
   "execution_count": null,
   "id": "measured-point",
   "metadata": {},
   "outputs": [],
   "source": []
  },
  {
   "cell_type": "code",
   "execution_count": null,
   "id": "accredited-structure",
   "metadata": {},
   "outputs": [],
   "source": []
  }
 ],
 "metadata": {
  "kernelspec": {
   "display_name": "Python 3",
   "language": "python",
   "name": "python3"
  },
  "language_info": {
   "codemirror_mode": {
    "name": "ipython",
    "version": 3
   },
   "file_extension": ".py",
   "mimetype": "text/x-python",
   "name": "python",
   "nbconvert_exporter": "python",
   "pygments_lexer": "ipython3",
   "version": "3.9.2"
  }
 },
 "nbformat": 4,
 "nbformat_minor": 5
}
