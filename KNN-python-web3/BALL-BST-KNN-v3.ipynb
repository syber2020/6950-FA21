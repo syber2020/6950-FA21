{
 "cells": [
  {
   "cell_type": "code",
   "execution_count": 34,
   "id": "approximate-bargain",
   "metadata": {},
   "outputs": [],
   "source": [
    "# k-nearest neighbors on the Iris Flowers Dataset\n",
    "from random import seed\n",
    "from random import randrange\n",
    "from csv import reader\n",
    "from math import sqrt\n",
    "import numpy as np\n",
    "import matplotlib.pyplot as plt\n",
    "from mpl_toolkits.mplot3d import Axes3D\n",
    "from sklearn import datasets\n",
    "from sklearn.decomposition import PCA\n",
    "from sklearn.model_selection import train_test_split\n",
    "from sklearn.neighbors import KNeighborsClassifier\n",
    "from scipy.spatial import distance\n",
    "import random\n"
   ]
  },
  {
   "cell_type": "code",
   "execution_count": 35,
   "id": "atomic-penetration",
   "metadata": {},
   "outputs": [],
   "source": [
    "# Python program to demonstrate\n",
    "# insert operation in binary search tree\n",
    " \n",
    "# A utility class that represents\n",
    "# an individual node in a BST\n",
    " \n",
    " \n",
    "class Node:\n",
    "    def __init__(self, key, data,l):\n",
    "        self.left = None\n",
    "        self.right = None\n",
    "        self.val = key\n",
    "        self.arr = data\n",
    "        self.label = l\n",
    " \n",
    "# A utility function to insert\n",
    "# a new node with the given key\n",
    " \n",
    " \n",
    "def insert(root, key, data, n):\n",
    "    if root is None:\n",
    "        return Node(key,data,n)\n",
    "    else:\n",
    "        if root.val == key:\n",
    "            return root\n",
    "        elif root.val < key:\n",
    "            root.right = insert(root.right, key,data,n)\n",
    "        else:\n",
    "            root.left = insert(root.left, key,data,n)\n",
    "    return root\n",
    " \n",
    "# A utility function to do inorder tree traversal\n",
    " \n",
    " \n",
    "def inorder(root):\n",
    "    if root:\n",
    "#         print(\"setting left\")\n",
    "        inorder(root.left)\n",
    "        \n",
    "#         print(\"printing values\")\n",
    "        print(root.val, root.arr,root.label)\n",
    "\n",
    "#         print(\"set to right\")\n",
    "        inorder(root.right)\n",
    "\n",
    "# Driver program to test the above functions\n",
    "# Let us create the following BST\n",
    "#    50\n",
    "#  /     \\\n",
    "# 30     70\n",
    "#  / \\ / \\\n",
    "# 20 40 60 80\n",
    " \n",
    "def distance1(root, key,index,dist):\n",
    "    if root is None:\n",
    "        print(\" it is none\")\n",
    "        return Node(key,index)\n",
    "    else:\n",
    "        if root.val == key:\n",
    "            print(root.val)\n",
    "#             dist.append(root.val)\n",
    "            return root\n",
    "        elif root.val > key:\n",
    "            print(root.val-key)\n",
    "            dist.append(root.val-key)\n",
    "            root.right = distance1(root.right,key,index,dist)\n",
    "        else:\n",
    "            print(root.val-key)\n",
    "            root.left = distance1(root.left,key,index,dist)\n",
    "    \n",
    "    return dist"
   ]
  },
  {
   "cell_type": "code",
   "execution_count": 36,
   "id": "needed-samoa",
   "metadata": {},
   "outputs": [],
   "source": [
    "def centroid(arr):\n",
    "    x = np.zeros(4)\n",
    "    length = arr.shape[0]\n",
    "    sum_x1 = np.sum(arr[:, 0])\n",
    "    sum_x2 = np.sum(arr[:, 1])\n",
    "    sum_x3 = np.sum(arr[:, 2])\n",
    "    sum_x4 = np.sum(arr[:, 3])\n",
    "    x[0] =  sum_x1/length; x[1] =  sum_x2/length; x[2] =  sum_x3/length; x[3] =  sum_x4/length\n",
    "    return x"
   ]
  },
  {
   "cell_type": "code",
   "execution_count": 37,
   "id": "continuous-functionality",
   "metadata": {},
   "outputs": [],
   "source": [
    "# r = Node(50,[5,5,5,5],5)\n",
    "# r = insert(r, 40,[1,2,3,4], 3)\n",
    "# r = insert(r, 20,[2,2,2,2], 2)\n",
    "# r = insert(r, 30,[2,2,2,2], 4)\n",
    "# Print inoder traversal of the BST\n",
    "# inorder(r)\n"
   ]
  },
  {
   "cell_type": "code",
   "execution_count": 38,
   "id": "accredited-statement",
   "metadata": {},
   "outputs": [],
   "source": [
    "iris = datasets.load_iris()\n",
    "X_train, X_test, y_train, y_test = train_test_split(iris.data, iris.target, test_size=0.30, random_state=42)\n",
    "X_train = X_train *10\n",
    "X_test = X_test*10\n",
    "rpoint = 0\n",
    "temp = 0\n",
    "c1=[]\n",
    "c2=[]"
   ]
  },
  {
   "cell_type": "markdown",
   "id": "remarkable-nitrogen",
   "metadata": {},
   "source": [
    "## Getting the first cluster c1 from centroid c"
   ]
  },
  {
   "cell_type": "code",
   "execution_count": 39,
   "id": "reasonable-hours",
   "metadata": {},
   "outputs": [
    {
     "name": "stdout",
     "output_type": "stream",
     "text": [
      "printing radius of centroid 1 is : 41.52107898405339\n",
      "position of cluster 1 is :  22 [77. 38. 67. 22.] 2\n"
     ]
    }
   ],
   "source": [
    "# getting the first cluster c1 from centroid c\n",
    "r = Node(rpoint,X_train[rpoint],rpoint)\n",
    "for i in range (len(X_train)):\n",
    "    a = X_train[rpoint]\n",
    "    b = X_train[i]\n",
    "    dis = distance.euclidean(a, b)\n",
    "    if(dis>temp):\n",
    "        temp = dis\n",
    "        position = i\n",
    "print(\"printing radius of centroid 1 is :\",temp)\n",
    "print(\"position of cluster 1 is : \",position, X_train[position],y_train[position])\n",
    "c1_pos = position"
   ]
  },
  {
   "cell_type": "code",
   "execution_count": 40,
   "id": "sublime-restriction",
   "metadata": {},
   "outputs": [],
   "source": [
    "r = insert(r,position, X_train[position], y_train[position])"
   ]
  },
  {
   "cell_type": "code",
   "execution_count": 41,
   "id": "happy-graham",
   "metadata": {},
   "outputs": [
    {
     "name": "stdout",
     "output_type": "stream",
     "text": [
      "0 [55. 24. 37. 10.] 0\n",
      "22 [77. 38. 67. 22.] 2\n"
     ]
    }
   ],
   "source": [
    "inorder(r)"
   ]
  },
  {
   "cell_type": "markdown",
   "id": "authentic-remark",
   "metadata": {},
   "source": [
    "## Getting the second cluster c2 from previos cluster c1"
   ]
  },
  {
   "cell_type": "code",
   "execution_count": 42,
   "id": "voluntary-reality",
   "metadata": {},
   "outputs": [
    {
     "name": "stdout",
     "output_type": "stream",
     "text": [
      "printing position of cluster C2 is : 52 [43. 30. 11.  1.] 0\n"
     ]
    }
   ],
   "source": [
    "\n",
    "for i in range (len(X_train)):\n",
    "    a = X_train[c1_pos]\n",
    "    b = X_train[i]\n",
    "    dis = distance.euclidean(a, b)\n",
    "    if(dis>temp):\n",
    "        temp = dis\n",
    "        position = i\n",
    "print(\"printing position of cluster C2 is :\",position, X_train[position],y_train[position])\n",
    "r = insert(r,position, X_train[position], y_train[position])\n",
    "c2_pos=position"
   ]
  },
  {
   "cell_type": "markdown",
   "id": "widespread-coral",
   "metadata": {},
   "source": [
    "## Separate cluster 1 & 2"
   ]
  },
  {
   "cell_type": "code",
   "execution_count": 43,
   "id": "alternate-factory",
   "metadata": {},
   "outputs": [
    {
     "name": "stdout",
     "output_type": "stream",
     "text": [
      "[1, 2, 3, 4, 5, 6, 7, 9, 15, 19, 21, 22, 24, 25, 27, 28, 30, 31, 35, 39, 41, 44, 46, 47, 48, 49, 53, 54, 58, 59, 61, 62, 64, 65, 66, 67, 68, 70, 71, 72, 75, 77, 78, 81, 82, 85, 86, 88, 90, 91, 92, 94, 95, 96, 97, 98, 100, 101, 104] [0, 8, 10, 11, 12, 13, 14, 16, 17, 18, 20, 23, 26, 29, 32, 33, 34, 36, 37, 38, 40, 42, 43, 45, 50, 51, 52, 55, 56, 57, 60, 63, 69, 73, 74, 76, 79, 80, 83, 84, 87, 89, 93, 99, 102, 103]\n"
     ]
    }
   ],
   "source": [
    "for i in range (len(X_train)):\n",
    "        a = c1_pos\n",
    "        b = c2_pos\n",
    "        X_train[i]\n",
    "        dis1 = distance.euclidean(X_train[a], X_train[i])\n",
    "        dis2 = distance.euclidean(X_train[b], X_train[i])\n",
    "        if(dis1>dis2):\n",
    "            c2.append(i)\n",
    "            \n",
    "        else: \n",
    "            c1.append(i)\n",
    "c1_a = np.zeros((4,len(c1)))\n",
    "c2_a = np.zeros((4,len(c2)))\n",
    "print(c1,c2)            "
   ]
  },
  {
   "cell_type": "markdown",
   "id": "unsigned-duplicate",
   "metadata": {},
   "source": [
    "## Getting centroids of cluster 1 and cluster 2"
   ]
  },
  {
   "cell_type": "code",
   "execution_count": 44,
   "id": "extra-lightweight",
   "metadata": {},
   "outputs": [],
   "source": [
    "c1a = np.zeros((len(c1),4))\n",
    "for i in range(len(c1)):\n",
    "    c1a[i] = X_train[c1[i]]\n",
    "c2a = np.zeros((len(c2),4))\n",
    "for i in range(len(c2)):\n",
    "    c2a[i] = X_train[c2[i]]\n",
    "\n",
    "c1_cent = centroid(c1a)    \n",
    "c2_cent = centroid(c2a)"
   ]
  },
  {
   "cell_type": "code",
   "execution_count": 45,
   "id": "allied-testimony",
   "metadata": {},
   "outputs": [
    {
     "name": "stdout",
     "output_type": "stream",
     "text": [
      "[64.03389831 29.47457627 51.6440678  17.86440678] [51.23913043 30.89130435 22.10869565  5.36956522]\n"
     ]
    }
   ],
   "source": [
    "print(c1_cent,c2_cent)"
   ]
  },
  {
   "cell_type": "markdown",
   "id": "known-unemployment",
   "metadata": {},
   "source": [
    "## Getting subclusters of cluster 1 which are c11 and c12"
   ]
  },
  {
   "cell_type": "code",
   "execution_count": 50,
   "id": "natural-metallic",
   "metadata": {},
   "outputs": [
    {
     "name": "stdout",
     "output_type": "stream",
     "text": [
      "printing distance of  c11 point from cluster c1 is : 22.219595586732\n",
      "position of cluster c11 is :  11 [77. 38. 67. 22.] 0\n"
     ]
    }
   ],
   "source": [
    "\n",
    "temp=0\n",
    "for i in range (len(c1a)):\n",
    "    b = c1a[i]\n",
    "    dis = distance.euclidean(c1_cent, b)\n",
    "    if(dis>temp):\n",
    "        temp = dis\n",
    "        position = i\n",
    "print(\"printing distance of  c11 point from cluster c1 is :\",temp)\n",
    "c11_pos =position \n",
    "print(\"position of cluster c11 is : \",position, c1a[position],y_train[position])\n",
    " \n"
   ]
  },
  {
   "cell_type": "code",
   "execution_count": 52,
   "id": "minimal-reviewer",
   "metadata": {},
   "outputs": [
    {
     "name": "stdout",
     "output_type": "stream",
     "text": [
      "printing distance of centroid 12 from centroid 11 is : 38.23610858861032\n",
      "position of cluster c12 is :  57 [49. 25. 45. 17.] 0\n"
     ]
    }
   ],
   "source": [
    "\n",
    "temp=0\n",
    "for i in range (len(c1a)):\n",
    "    a = c1a[c11_pos]\n",
    "    b = c1a[i]\n",
    "    dis = distance.euclidean(a, b)\n",
    "    if(dis>temp):\n",
    "        temp = dis\n",
    "        position = i\n",
    "print(\"printing distance of centroid 12 from centroid 11 is :\",temp)\n",
    "print(\"position of cluster c12 is : \",position, c1a[position],y_train[position])\n",
    "c12_pos = position"
   ]
  },
  {
   "cell_type": "markdown",
   "id": "handed-depression",
   "metadata": {},
   "source": [
    "## Separate cluster of points for c11 and c12"
   ]
  },
  {
   "cell_type": "code",
   "execution_count": 54,
   "id": "scheduled-dover",
   "metadata": {},
   "outputs": [
    {
     "name": "stdout",
     "output_type": "stream",
     "text": [
      "[1, 3, 5, 7, 11, 17, 18, 19, 20, 22, 25, 27, 29, 30, 31, 36, 37, 39, 43, 44, 45, 46, 47, 48, 49, 50, 51, 58] [0, 2, 4, 6, 8, 9, 10, 12, 13, 14, 15, 16, 21, 23, 24, 26, 28, 32, 33, 34, 35, 38, 40, 41, 42, 52, 53, 54, 55, 56, 57]\n"
     ]
    }
   ],
   "source": [
    "c11=[]\n",
    "c12=[]\n",
    "for i in range (len(c1a)):\n",
    "        a = c1_pos\n",
    "        b = c2_pos\n",
    "        dis1 = distance.euclidean(c1a[c1_pos], c1a[i])\n",
    "        dis2 = distance.euclidean(c1a[c2_pos], c1a[i])\n",
    "#         print(dis1, dis2)\n",
    "        if(dis1>dis2):\n",
    "            c12.append(i)   \n",
    "        else: \n",
    "            c11.append(i)\n",
    "# c1_a = np.zeros((4,len(c1)))\n",
    "# c2_a = np.zeros((4,len(c2)))\n",
    "print(c11,c12)   "
   ]
  },
  {
   "cell_type": "markdown",
   "id": "clean-edgar",
   "metadata": {},
   "source": [
    "# Getting centroids of cluster 11 and cluster 12"
   ]
  },
  {
   "cell_type": "code",
   "execution_count": 58,
   "id": "regular-wound",
   "metadata": {},
   "outputs": [],
   "source": [
    "c11a = np.zeros((len(c11),4))\n",
    "for i in range(len(c11)):\n",
    "    c1a[i] = X_train[c11[i]]\n",
    "c12a = np.zeros((len(c12),4))\n",
    "for i in range(len(c12)):\n",
    "    c2a[i] = X_train[c12[i]]\n",
    "\n",
    "c1_cent = centroid(c11a)    \n",
    "c2_cent = centroid(c12a)"
   ]
  }
 ],
 "metadata": {
  "kernelspec": {
   "display_name": "Python 3",
   "language": "python",
   "name": "python3"
  },
  "language_info": {
   "codemirror_mode": {
    "name": "ipython",
    "version": 3
   },
   "file_extension": ".py",
   "mimetype": "text/x-python",
   "name": "python",
   "nbconvert_exporter": "python",
   "pygments_lexer": "ipython3",
   "version": "3.9.2"
  }
 },
 "nbformat": 4,
 "nbformat_minor": 5
}
