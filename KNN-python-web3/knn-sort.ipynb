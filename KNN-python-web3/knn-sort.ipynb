{
 "cells": [
  {
   "cell_type": "code",
   "execution_count": 43,
   "id": "atmospheric-slide",
   "metadata": {},
   "outputs": [],
   "source": [
    "# k-nearest neighbors on the Iris Flowers Dataset\n",
    "from random import seed\n",
    "from random import randrange\n",
    "from csv import reader\n",
    "from math import sqrt\n",
    "import numpy as np\n",
    "import matplotlib.pyplot as plt\n",
    "from mpl_toolkits.mplot3d import Axes3D\n",
    "from sklearn import datasets\n",
    "from sklearn.decomposition import PCA\n",
    "from sklearn.model_selection import train_test_split\n",
    "from sklearn.neighbors import KNeighborsClassifier\n",
    "import time \n"
   ]
  },
  {
   "cell_type": "code",
   "execution_count": 44,
   "id": "hispanic-redhead",
   "metadata": {},
   "outputs": [
    {
     "data": {
      "text/plain": [
       "True"
      ]
     },
     "execution_count": 44,
     "metadata": {},
     "output_type": "execute_result"
    }
   ],
   "source": [
    "import numpy as np\n",
    "import json\n",
    "from web3 import Web3\n",
    "import time\n",
    "ganache_url = \"HTTP://127.0.0.1:8545\"\n",
    "# ropsten_url =\"https://ropsten.infura.io/v3/6072fdc3b95c407caa681f63ebaf72b8\"\n",
    "web3 = Web3(Web3.HTTPProvider(ganache_url))\n",
    "# web3 = Web3(Web3.HTTPProvider(ropsten_url))\n",
    "web3.isConnected()"
   ]
  },
  {
   "cell_type": "code",
   "execution_count": 45,
   "id": "centered-tennis",
   "metadata": {},
   "outputs": [],
   "source": [
    "abi = json.loads('[ { \"inputs\": [], \"name\": \"set_sorted_pos\", \"outputs\": [ { \"internalType\": \"uint256[]\", \"name\": \"\", \"type\": \"uint256[]\" } ], \"stateMutability\": \"view\", \"type\": \"function\" }, { \"inputs\": [ { \"internalType\": \"uint256[]\", \"name\": \"data\", \"type\": \"uint256[]\" }, { \"internalType\": \"uint256[]\", \"name\": \"pos\", \"type\": \"uint256[]\" } ], \"name\": \"sort_dist\", \"outputs\": [ { \"internalType\": \"uint256[]\", \"name\": \"\", \"type\": \"uint256[]\" }, { \"internalType\": \"uint256[]\", \"name\": \"\", \"type\": \"uint256[]\" } ], \"stateMutability\": \"nonpayable\", \"type\": \"function\" } ]')\n",
    "cont_address = \"0x2836427Ac90CC91847e4A8d0b92ac754cBA91109\"\n",
    "contract = web3.eth.contract(address=cont_address,abi=abi)"
   ]
  },
  {
   "cell_type": "code",
   "execution_count": 46,
   "id": "solid-destruction",
   "metadata": {},
   "outputs": [],
   "source": [
    "account1 = \"0xacF9197258fEB28d7c2333c0625841Cc9A33A794\"\n",
    "private_key1 = \"edbc15277f4f7bae99b111c25be1a67372186cdcc972d8257598637ce54fda42\"\n",
    "account2 = \"0xcbd7C06c8d7988A62e7a8a84D59d748D5A790db1\"\n",
    "private_key2=\"b5b736f3ca08acf6d8acd03eadeb48e164544b8f9f40a08c83fdfc89a1e565b2\"\n",
    "account3 =\"0x27bD68B531761c280B41FC8f4f2cE2346F6ce45b\"\n",
    "private_key3 =\"07bd02e881fe8949eef1033f22a30a7ffb7b5be78ed11966483df03d6897e123\" "
   ]
  },
  {
   "cell_type": "code",
   "execution_count": 70,
   "id": "efficient-longer",
   "metadata": {},
   "outputs": [],
   "source": [
    "#sort distance from contract\n",
    "def get_sorted_distance(x,y, account, private_key,contract):\n",
    "    nonce = web3.eth.getTransactionCount(account)\n",
    "    tx_store = contract.functions.sort_dist(\n",
    "        x,y\n",
    "         ).buildTransaction({\n",
    "        'gas': 8000000,\n",
    "        'gasPrice': web3.toWei('10', 'gwei'),\n",
    "        'from': account,\n",
    "        'nonce': nonce\n",
    "        })\n",
    "\n",
    "    signed_txn = web3.eth.account.signTransaction(tx_store, private_key=private_key)\n",
    "    tx_hash = web3.eth.sendRawTransaction(signed_txn.rawTransaction)\n",
    "    tx_receipt = web3.eth.waitForTransactionReceipt(tx_hash)\n",
    "    return(tx_receipt)"
   ]
  },
  {
   "cell_type": "code",
   "execution_count": 55,
   "id": "scheduled-participation",
   "metadata": {},
   "outputs": [],
   "source": [
    "\n",
    "# import some data to play with\n",
    "iris = datasets.load_iris()\n",
    "X_train, X_test, y_train, y_test = train_test_split(iris.data, iris.target, test_size=0.30, random_state=42)\n",
    "X_train = (X_train * 10).astype(int)\n",
    "X_test = (X_test * 10).astype(int)"
   ]
  },
  {
   "cell_type": "code",
   "execution_count": 56,
   "id": "least-bulgaria",
   "metadata": {},
   "outputs": [],
   "source": [
    "a = X_train[0].tolist()\n",
    "sample = X_test[0].tolist()"
   ]
  },
  {
   "cell_type": "code",
   "execution_count": 57,
   "id": "guided-laser",
   "metadata": {},
   "outputs": [],
   "source": [
    "a= list(range(100))\n",
    "b= list(range(100))"
   ]
  },
  {
   "cell_type": "code",
   "execution_count": 71,
   "id": "solved-buddy",
   "metadata": {},
   "outputs": [
    {
     "ename": "ValueError",
     "evalue": "{'message': \"the tx doesn't have the correct nonce. account has nonce of: 2357 tx has nonce of: 2356\", 'code': -32000, 'data': {'stack': \"TXRejectedError: the tx doesn't have the correct nonce. account has nonce of: 2357 tx has nonce of: 2356\\n    at validateNonce (C:\\\\Program Files\\\\WindowsApps\\\\GanacheUI_2.5.4.0_x64__5dg5pnz03psnj\\\\app\\\\resources\\\\static\\\\node\\\\node_modules\\\\ganache-core\\\\lib\\\\statemanager.js:1017:11)\\n    at C:\\\\Program Files\\\\WindowsApps\\\\GanacheUI_2.5.4.0_x64__5dg5pnz03psnj\\\\app\\\\resources\\\\static\\\\node\\\\node_modules\\\\ganache-core\\\\lib\\\\statemanager.js:1026:7\\n    at C:\\\\Program Files\\\\WindowsApps\\\\GanacheUI_2.5.4.0_x64__5dg5pnz03psnj\\\\app\\\\resources\\\\static\\\\node\\\\node_modules\\\\ganache-core\\\\lib\\\\blockchain_double.js:444:5\\n    at C:\\\\Program Files\\\\WindowsApps\\\\GanacheUI_2.5.4.0_x64__5dg5pnz03psnj\\\\app\\\\resources\\\\static\\\\node\\\\node_modules\\\\ganache-core\\\\node_modules\\\\merkle-patricia-tree\\\\baseTrie.js:97:9\\n    at C:\\\\Program Files\\\\WindowsApps\\\\GanacheUI_2.5.4.0_x64__5dg5pnz03psnj\\\\app\\\\resources\\\\static\\\\node\\\\node_modules\\\\ganache-core\\\\node_modules\\\\merkle-patricia-tree\\\\baseTrie.js:520:18\\n    at Object._return [as return] (C:\\\\Program Files\\\\WindowsApps\\\\GanacheUI_2.5.4.0_x64__5dg5pnz03psnj\\\\app\\\\resources\\\\static\\\\node\\\\node_modules\\\\ganache-core\\\\node_modules\\\\merkle-patricia-tree\\\\baseTrie.js:545:13)\\n    at processNode (C:\\\\Program Files\\\\WindowsApps\\\\GanacheUI_2.5.4.0_x64__5dg5pnz03psnj\\\\app\\\\resources\\\\static\\\\node\\\\node_modules\\\\ganache-core\\\\node_modules\\\\merkle-patricia-tree\\\\baseTrie.js:325:34)\\n    at processNode (C:\\\\Program Files\\\\WindowsApps\\\\GanacheUI_2.5.4.0_x64__5dg5pnz03psnj\\\\app\\\\resources\\\\static\\\\node\\\\node_modules\\\\ganache-core\\\\node_modules\\\\merkle-patricia-tree\\\\baseTrie.js:579:9)\\n    at C:\\\\Program Files\\\\WindowsApps\\\\GanacheUI_2.5.4.0_x64__5dg5pnz03psnj\\\\app\\\\resources\\\\static\\\\node\\\\node_modules\\\\ganache-core\\\\node_modules\\\\merkle-patricia-tree\\\\baseTrie.js:574:17\\n    at C:\\\\Program Files\\\\WindowsApps\\\\GanacheUI_2.5.4.0_x64__5dg5pnz03psnj\\\\app\\\\resources\\\\static\\\\node\\\\node_modules\\\\ganache-core\\\\node_modules\\\\merkle-patricia-tree\\\\baseTrie.js:212:11\\n    at processTicksAndRejections (internal/process/task_queues.js:75:11)\", 'name': 'TXRejectedError'}}",
     "output_type": "error",
     "traceback": [
      "\u001b[1;31m---------------------------------------------------------------------------\u001b[0m",
      "\u001b[1;31mValueError\u001b[0m                                Traceback (most recent call last)",
      "\u001b[1;32m<ipython-input-71-7d448118b203>\u001b[0m in \u001b[0;36m<module>\u001b[1;34m\u001b[0m\n\u001b[0;32m      1\u001b[0m \u001b[1;31m# for i in range(100):\u001b[0m\u001b[1;33m\u001b[0m\u001b[1;33m\u001b[0m\u001b[1;33m\u001b[0m\u001b[0m\n\u001b[0;32m      2\u001b[0m \u001b[1;31m#     print(i)\u001b[0m\u001b[1;33m\u001b[0m\u001b[1;33m\u001b[0m\u001b[1;33m\u001b[0m\u001b[0m\n\u001b[1;32m----> 3\u001b[1;33m \u001b[0msort_dis_gas\u001b[0m \u001b[1;33m=\u001b[0m \u001b[0mget_sorted_distance\u001b[0m\u001b[1;33m(\u001b[0m\u001b[0ma\u001b[0m\u001b[1;33m,\u001b[0m\u001b[0mb\u001b[0m\u001b[1;33m,\u001b[0m\u001b[0maccount3\u001b[0m\u001b[1;33m,\u001b[0m \u001b[0mprivate_key3\u001b[0m\u001b[1;33m,\u001b[0m\u001b[0mcontract\u001b[0m\u001b[1;33m)\u001b[0m\u001b[1;33m\u001b[0m\u001b[1;33m\u001b[0m\u001b[0m\n\u001b[0m",
      "\u001b[1;32m<ipython-input-70-72db444fc665>\u001b[0m in \u001b[0;36mget_sorted_distance\u001b[1;34m(x, y, account, private_key, contract)\u001b[0m\n\u001b[0;32m     12\u001b[0m \u001b[1;33m\u001b[0m\u001b[0m\n\u001b[0;32m     13\u001b[0m     \u001b[0msigned_txn\u001b[0m \u001b[1;33m=\u001b[0m \u001b[0mweb3\u001b[0m\u001b[1;33m.\u001b[0m\u001b[0meth\u001b[0m\u001b[1;33m.\u001b[0m\u001b[0maccount\u001b[0m\u001b[1;33m.\u001b[0m\u001b[0msignTransaction\u001b[0m\u001b[1;33m(\u001b[0m\u001b[0mtx_store\u001b[0m\u001b[1;33m,\u001b[0m \u001b[0mprivate_key\u001b[0m\u001b[1;33m=\u001b[0m\u001b[0mprivate_key\u001b[0m\u001b[1;33m)\u001b[0m\u001b[1;33m\u001b[0m\u001b[1;33m\u001b[0m\u001b[0m\n\u001b[1;32m---> 14\u001b[1;33m     \u001b[0mtx_hash\u001b[0m \u001b[1;33m=\u001b[0m \u001b[0mweb3\u001b[0m\u001b[1;33m.\u001b[0m\u001b[0meth\u001b[0m\u001b[1;33m.\u001b[0m\u001b[0msendRawTransaction\u001b[0m\u001b[1;33m(\u001b[0m\u001b[0msigned_txn\u001b[0m\u001b[1;33m.\u001b[0m\u001b[0mrawTransaction\u001b[0m\u001b[1;33m)\u001b[0m\u001b[1;33m\u001b[0m\u001b[1;33m\u001b[0m\u001b[0m\n\u001b[0m\u001b[0;32m     15\u001b[0m     \u001b[0mtx_receipt\u001b[0m \u001b[1;33m=\u001b[0m \u001b[0mweb3\u001b[0m\u001b[1;33m.\u001b[0m\u001b[0meth\u001b[0m\u001b[1;33m.\u001b[0m\u001b[0mwaitForTransactionReceipt\u001b[0m\u001b[1;33m(\u001b[0m\u001b[0mtx_hash\u001b[0m\u001b[1;33m)\u001b[0m\u001b[1;33m\u001b[0m\u001b[1;33m\u001b[0m\u001b[0m\n\u001b[0;32m     16\u001b[0m     \u001b[1;32mreturn\u001b[0m\u001b[1;33m(\u001b[0m\u001b[0mtx_receipt\u001b[0m\u001b[1;33m)\u001b[0m\u001b[1;33m\u001b[0m\u001b[1;33m\u001b[0m\u001b[0m\n",
      "\u001b[1;32mc:\\users\\syed\\appdata\\local\\programs\\python\\python39\\lib\\site-packages\\web3\\module.py\u001b[0m in \u001b[0;36mcaller\u001b[1;34m(*args, **kwargs)\u001b[0m\n\u001b[0;32m     55\u001b[0m             \u001b[1;32mreturn\u001b[0m \u001b[0mLogFilter\u001b[0m\u001b[1;33m(\u001b[0m\u001b[0meth_module\u001b[0m\u001b[1;33m=\u001b[0m\u001b[0mmodule\u001b[0m\u001b[1;33m,\u001b[0m \u001b[0mfilter_id\u001b[0m\u001b[1;33m=\u001b[0m\u001b[0merr\u001b[0m\u001b[1;33m.\u001b[0m\u001b[0mfilter_id\u001b[0m\u001b[1;33m)\u001b[0m\u001b[1;33m\u001b[0m\u001b[1;33m\u001b[0m\u001b[0m\n\u001b[0;32m     56\u001b[0m         \u001b[0mresult_formatters\u001b[0m\u001b[1;33m,\u001b[0m \u001b[0merror_formatters\u001b[0m\u001b[1;33m,\u001b[0m \u001b[0mnull_result_formatters\u001b[0m \u001b[1;33m=\u001b[0m \u001b[0mresponse_formatters\u001b[0m\u001b[1;33m\u001b[0m\u001b[1;33m\u001b[0m\u001b[0m\n\u001b[1;32m---> 57\u001b[1;33m         result = w3.manager.request_blocking(method_str,\n\u001b[0m\u001b[0;32m     58\u001b[0m                                              \u001b[0mparams\u001b[0m\u001b[1;33m,\u001b[0m\u001b[1;33m\u001b[0m\u001b[1;33m\u001b[0m\u001b[0m\n\u001b[0;32m     59\u001b[0m                                              \u001b[0merror_formatters\u001b[0m\u001b[1;33m,\u001b[0m\u001b[1;33m\u001b[0m\u001b[1;33m\u001b[0m\u001b[0m\n",
      "\u001b[1;32mc:\\users\\syed\\appdata\\local\\programs\\python\\python39\\lib\\site-packages\\web3\\manager.py\u001b[0m in \u001b[0;36mrequest_blocking\u001b[1;34m(self, method, params, error_formatters, null_result_formatters)\u001b[0m\n\u001b[0;32m    185\u001b[0m         \"\"\"\n\u001b[0;32m    186\u001b[0m         \u001b[0mresponse\u001b[0m \u001b[1;33m=\u001b[0m \u001b[0mself\u001b[0m\u001b[1;33m.\u001b[0m\u001b[0m_make_request\u001b[0m\u001b[1;33m(\u001b[0m\u001b[0mmethod\u001b[0m\u001b[1;33m,\u001b[0m \u001b[0mparams\u001b[0m\u001b[1;33m)\u001b[0m\u001b[1;33m\u001b[0m\u001b[1;33m\u001b[0m\u001b[0m\n\u001b[1;32m--> 187\u001b[1;33m         return self.formatted_response(response,\n\u001b[0m\u001b[0;32m    188\u001b[0m                                        \u001b[0mparams\u001b[0m\u001b[1;33m,\u001b[0m\u001b[1;33m\u001b[0m\u001b[1;33m\u001b[0m\u001b[0m\n\u001b[0;32m    189\u001b[0m                                        \u001b[0merror_formatters\u001b[0m\u001b[1;33m,\u001b[0m\u001b[1;33m\u001b[0m\u001b[1;33m\u001b[0m\u001b[0m\n",
      "\u001b[1;32mc:\\users\\syed\\appdata\\local\\programs\\python\\python39\\lib\\site-packages\\web3\\manager.py\u001b[0m in \u001b[0;36mformatted_response\u001b[1;34m(self, response, params, error_formatters, null_result_formatters)\u001b[0m\n\u001b[0;32m    166\u001b[0m         \u001b[1;32mif\u001b[0m \u001b[1;34m\"error\"\u001b[0m \u001b[1;32min\u001b[0m \u001b[0mresponse\u001b[0m\u001b[1;33m:\u001b[0m\u001b[1;33m\u001b[0m\u001b[1;33m\u001b[0m\u001b[0m\n\u001b[0;32m    167\u001b[0m             \u001b[0mapply_error_formatters\u001b[0m\u001b[1;33m(\u001b[0m\u001b[0merror_formatters\u001b[0m\u001b[1;33m,\u001b[0m \u001b[0mresponse\u001b[0m\u001b[1;33m)\u001b[0m\u001b[1;33m\u001b[0m\u001b[1;33m\u001b[0m\u001b[0m\n\u001b[1;32m--> 168\u001b[1;33m             \u001b[1;32mraise\u001b[0m \u001b[0mValueError\u001b[0m\u001b[1;33m(\u001b[0m\u001b[0mresponse\u001b[0m\u001b[1;33m[\u001b[0m\u001b[1;34m\"error\"\u001b[0m\u001b[1;33m]\u001b[0m\u001b[1;33m)\u001b[0m\u001b[1;33m\u001b[0m\u001b[1;33m\u001b[0m\u001b[0m\n\u001b[0m\u001b[0;32m    169\u001b[0m         \u001b[1;32melif\u001b[0m \u001b[0mresponse\u001b[0m\u001b[1;33m[\u001b[0m\u001b[1;34m'result'\u001b[0m\u001b[1;33m]\u001b[0m \u001b[1;32min\u001b[0m \u001b[0mNULL_RESPONSES\u001b[0m\u001b[1;33m:\u001b[0m\u001b[1;33m\u001b[0m\u001b[1;33m\u001b[0m\u001b[0m\n\u001b[0;32m    170\u001b[0m             \u001b[1;31m# null_result_formatters raise either a BlockNotFound\u001b[0m\u001b[1;33m\u001b[0m\u001b[1;33m\u001b[0m\u001b[1;33m\u001b[0m\u001b[0m\n",
      "\u001b[1;31mValueError\u001b[0m: {'message': \"the tx doesn't have the correct nonce. account has nonce of: 2357 tx has nonce of: 2356\", 'code': -32000, 'data': {'stack': \"TXRejectedError: the tx doesn't have the correct nonce. account has nonce of: 2357 tx has nonce of: 2356\\n    at validateNonce (C:\\\\Program Files\\\\WindowsApps\\\\GanacheUI_2.5.4.0_x64__5dg5pnz03psnj\\\\app\\\\resources\\\\static\\\\node\\\\node_modules\\\\ganache-core\\\\lib\\\\statemanager.js:1017:11)\\n    at C:\\\\Program Files\\\\WindowsApps\\\\GanacheUI_2.5.4.0_x64__5dg5pnz03psnj\\\\app\\\\resources\\\\static\\\\node\\\\node_modules\\\\ganache-core\\\\lib\\\\statemanager.js:1026:7\\n    at C:\\\\Program Files\\\\WindowsApps\\\\GanacheUI_2.5.4.0_x64__5dg5pnz03psnj\\\\app\\\\resources\\\\static\\\\node\\\\node_modules\\\\ganache-core\\\\lib\\\\blockchain_double.js:444:5\\n    at C:\\\\Program Files\\\\WindowsApps\\\\GanacheUI_2.5.4.0_x64__5dg5pnz03psnj\\\\app\\\\resources\\\\static\\\\node\\\\node_modules\\\\ganache-core\\\\node_modules\\\\merkle-patricia-tree\\\\baseTrie.js:97:9\\n    at C:\\\\Program Files\\\\WindowsApps\\\\GanacheUI_2.5.4.0_x64__5dg5pnz03psnj\\\\app\\\\resources\\\\static\\\\node\\\\node_modules\\\\ganache-core\\\\node_modules\\\\merkle-patricia-tree\\\\baseTrie.js:520:18\\n    at Object._return [as return] (C:\\\\Program Files\\\\WindowsApps\\\\GanacheUI_2.5.4.0_x64__5dg5pnz03psnj\\\\app\\\\resources\\\\static\\\\node\\\\node_modules\\\\ganache-core\\\\node_modules\\\\merkle-patricia-tree\\\\baseTrie.js:545:13)\\n    at processNode (C:\\\\Program Files\\\\WindowsApps\\\\GanacheUI_2.5.4.0_x64__5dg5pnz03psnj\\\\app\\\\resources\\\\static\\\\node\\\\node_modules\\\\ganache-core\\\\node_modules\\\\merkle-patricia-tree\\\\baseTrie.js:325:34)\\n    at processNode (C:\\\\Program Files\\\\WindowsApps\\\\GanacheUI_2.5.4.0_x64__5dg5pnz03psnj\\\\app\\\\resources\\\\static\\\\node\\\\node_modules\\\\ganache-core\\\\node_modules\\\\merkle-patricia-tree\\\\baseTrie.js:579:9)\\n    at C:\\\\Program Files\\\\WindowsApps\\\\GanacheUI_2.5.4.0_x64__5dg5pnz03psnj\\\\app\\\\resources\\\\static\\\\node\\\\node_modules\\\\ganache-core\\\\node_modules\\\\merkle-patricia-tree\\\\baseTrie.js:574:17\\n    at C:\\\\Program Files\\\\WindowsApps\\\\GanacheUI_2.5.4.0_x64__5dg5pnz03psnj\\\\app\\\\resources\\\\static\\\\node\\\\node_modules\\\\ganache-core\\\\node_modules\\\\merkle-patricia-tree\\\\baseTrie.js:212:11\\n    at processTicksAndRejections (internal/process/task_queues.js:75:11)\", 'name': 'TXRejectedError'}}"
     ]
    }
   ],
   "source": [
    "# for i in range(100):\n",
    "#     print(i)\n",
    "sort_dis_gas = get_sorted_distance(a,b,account3, private_key3,contract)\n"
   ]
  },
  {
   "cell_type": "code",
   "execution_count": 52,
   "id": "expected-conflict",
   "metadata": {},
   "outputs": [
    {
     "data": {
      "text/plain": [
       "AttributeDict({'transactionHash': HexBytes('0xd81daf777419edaabe2ca21c68241ae87dd3dfc5c92a738bd8c90e1ac7afe834'),\n",
       " 'transactionIndex': 0,\n",
       " 'blockHash': HexBytes('0x4f8ca1b53c0402e04b90fec4953a66e71845b97fdc803969ad53177ef14c59e8'),\n",
       " 'blockNumber': 2476,\n",
       " 'from': '0x27bD68B531761c280B41FC8f4f2cE2346F6ce45b',\n",
       " 'to': '0x2836427Ac90CC91847e4A8d0b92ac754cBA91109',\n",
       " 'gasUsed': 4198527,\n",
       " 'cumulativeGasUsed': 4198527,\n",
       " 'contractAddress': None,\n",
       " 'logs': [],\n",
       " 'status': 1,\n",
       " 'logsBloom': HexBytes('0x00000000000000000000000000000000000000000000000000000000000000000000000000000000000000000000000000000000000000000000000000000000000000000000000000000000000000000000000000000000000000000000000000000000000000000000000000000000000000000000000000000000000000000000000000000000000000000000000000000000000000000000000000000000000000000000000000000000000000000000000000000000000000000000000000000000000000000000000000000000000000000000000000000000000000000000000000000000000000000000000000000000000000000000000000000000')})"
      ]
     },
     "execution_count": 52,
     "metadata": {},
     "output_type": "execute_result"
    }
   ],
   "source": [
    "sort_dis_gas"
   ]
  },
  {
   "cell_type": "code",
   "execution_count": null,
   "id": "positive-hollywood",
   "metadata": {},
   "outputs": [],
   "source": [
    "web3.eth.getTransactionCount(account)"
   ]
  },
  {
   "cell_type": "code",
   "execution_count": null,
   "id": "talented-messaging",
   "metadata": {},
   "outputs": [],
   "source": [
    "# predicted =[] \n",
    "# total_dist_gas=[]\n",
    "# total_sorted_gas=[]\n",
    "# total_pred_gas=[]\n",
    "# acc=account1\n",
    "# for i in range(len(y_test)):  \n",
    "#     print(i)\n",
    "#     dist = []\n",
    "#     dist_gas=[]\n",
    "#     sample = X_test[i].tolist()\n",
    "#     for i in range(X_train.shape[0]):\n",
    "#         a = X_train[i].tolist()\n",
    "#         dist_gas.append(get_euc_distance(a,sample,account3, private_key3,contract))\n",
    "#         dist.append(contract.functions.set_dist().call())\n",
    "#     unsort = list(range(len(y_train)))\n",
    "#     total_dist_gas.append(sum(dist_gas))\n",
    "#     # get sorted distance\n",
    "#     time.sleep(5)\n",
    "#     sort_dis_gas = get_sorted_distance(dist,unsort,account3, private_key3,contract)\n",
    "#     total_sorted_gas.append(sort_dis_gas)\n",
    "#     # sorted_pos_gas = get_sorted_pos(sorted_dist1,dist, account2, private_key2,contract)\n",
    "#     sorted_pos= contract.functions.set_pos().call()\n",
    "#     ylabel = y_train.tolist()\n",
    "#     # sorted_pos = contract.functions.set_pos().call()\n",
    "#     pred_gas = get_predict(ylabel, account3, private_key3,contract)\n",
    "#     total_pred_gas.append(pred_gas)\n",
    "#     predicted.append(contract.functions.set_predict().call())"
   ]
  },
  {
   "cell_type": "code",
   "execution_count": null,
   "id": "quiet-ferry",
   "metadata": {},
   "outputs": [],
   "source": [
    "print(total_dist_gas)\n",
    "print(sort_dis_gas)\n",
    "print(pred_gas)"
   ]
  },
  {
   "cell_type": "code",
   "execution_count": null,
   "id": "facial-reason",
   "metadata": {},
   "outputs": [],
   "source": [
    "print(y_train[64])"
   ]
  },
  {
   "cell_type": "code",
   "execution_count": null,
   "id": "detailed-repository",
   "metadata": {},
   "outputs": [],
   "source": [
    "a= list(range(10))\n",
    "b= list(range(10))\n",
    "c = 0\n",
    "d = len(a)\n"
   ]
  },
  {
   "cell_type": "code",
   "execution_count": null,
   "id": "crucial-junction",
   "metadata": {},
   "outputs": [],
   "source": [
    "sort_dis_gas = get_sorted_distance(a,b,c,d,account3, private_key3,contract)"
   ]
  },
  {
   "cell_type": "code",
   "execution_count": null,
   "id": "sweet-athletics",
   "metadata": {},
   "outputs": [],
   "source": [
    "ylabel = list(range(10))"
   ]
  },
  {
   "cell_type": "code",
   "execution_count": null,
   "id": "organic-destination",
   "metadata": {},
   "outputs": [],
   "source": [
    "# web3.eth.get_block('latest')\n",
    "pred_gas = get_predict(ylabel, account3, private_key3,contract)"
   ]
  },
  {
   "cell_type": "code",
   "execution_count": null,
   "id": "employed-johns",
   "metadata": {},
   "outputs": [],
   "source": [
    "predicted"
   ]
  },
  {
   "cell_type": "code",
   "execution_count": null,
   "id": "pregnant-juice",
   "metadata": {},
   "outputs": [],
   "source": [
    "y_test"
   ]
  },
  {
   "cell_type": "code",
   "execution_count": null,
   "id": "confidential-folks",
   "metadata": {},
   "outputs": [],
   "source": [
    "# from sklearn.metrics import accuracy_score\n",
    "# accuracy_score(y_test, pred)"
   ]
  },
  {
   "cell_type": "code",
   "execution_count": null,
   "id": "limited-hunger",
   "metadata": {},
   "outputs": [],
   "source": [
    "# neigh = KNeighborsClassifier(n_neighbors=3)\n",
    "# >>> neigh.fit(X, y)\n",
    "# KNeighborsClassifier(...)\n",
    "# >>> print(neigh.predict([[1.1]]))\n",
    "# [0]\n",
    "# >>> print(neigh.predict_proba([[0.9]]))"
   ]
  }
 ],
 "metadata": {
  "kernelspec": {
   "display_name": "Python 3",
   "language": "python",
   "name": "python3"
  },
  "language_info": {
   "codemirror_mode": {
    "name": "ipython",
    "version": 3
   },
   "file_extension": ".py",
   "mimetype": "text/x-python",
   "name": "python",
   "nbconvert_exporter": "python",
   "pygments_lexer": "ipython3",
   "version": "3.9.2"
  }
 },
 "nbformat": 4,
 "nbformat_minor": 5
}
