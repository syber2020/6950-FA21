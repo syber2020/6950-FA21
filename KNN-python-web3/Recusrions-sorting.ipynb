{
 "cells": [
  {
   "cell_type": "code",
   "execution_count": 1,
   "id": "broadband-employer",
   "metadata": {},
   "outputs": [
    {
     "name": "stdout",
     "output_type": "stream",
     "text": [
      "0 1 2 3 5 7 "
     ]
    }
   ],
   "source": [
    "# Recursive Python3 code to sort\n",
    "# an array using selection sort\n",
    "\n",
    "# Return minimum index\n",
    "def minIndex( a , i , j ):\n",
    "\tif i == j:\n",
    "\t\treturn i\n",
    "\t\t\n",
    "\t# Find minimum of remaining elements\n",
    "\tk = minIndex(a, i + 1, j)\n",
    "\t\n",
    "\t# Return minimum of current\n",
    "\t# and remaining.\n",
    "\treturn (i if a[i] < a[k] else k)\n",
    "\t\n",
    "# Recursive selection sort. n is\n",
    "# size of a[] and index is index of\n",
    "# starting element.\n",
    "def recurSelectionSort(a, n, index = 0):\n",
    "\n",
    "\t# Return when starting and\n",
    "\t# size are same\n",
    "\tif index == n:\n",
    "\t\treturn -1\n",
    "\t\t\n",
    "\t# calling minimum index function\n",
    "\t# for minimum index\n",
    "\tk = minIndex(a, index, n-1)\n",
    "\t\n",
    "\t# Swapping when index and minimum\n",
    "\t# index are not same\n",
    "\tif k != index:\n",
    "\t\ta[k], a[index] = a[index], a[k]\n",
    "\t\t\n",
    "\t# Recursively calling selection\n",
    "\t# sort function\n",
    "\trecurSelectionSort(a, n, index + 1)\n",
    "\t\n",
    "# Driver code\n",
    "\n",
    "arr = [3, 1, 5, 2, 7, 0]\n",
    "n = len(arr)\n",
    "\n",
    "# Calling function\n",
    "recurSelectionSort(arr, n)\n",
    "\n",
    "# printing sorted array\n",
    "for i in arr:\n",
    "\tprint(i, end = ' ')\n",
    "\t\n",
    "# This code is contributed by \"Sharad_Bhardwaj\".\n"
   ]
  },
  {
   "cell_type": "code",
   "execution_count": null,
   "id": "verified-adult",
   "metadata": {},
   "outputs": [],
   "source": []
  }
 ],
 "metadata": {
  "kernelspec": {
   "display_name": "Python 3",
   "language": "python",
   "name": "python3"
  },
  "language_info": {
   "codemirror_mode": {
    "name": "ipython",
    "version": 3
   },
   "file_extension": ".py",
   "mimetype": "text/x-python",
   "name": "python",
   "nbconvert_exporter": "python",
   "pygments_lexer": "ipython3",
   "version": "3.9.2"
  }
 },
 "nbformat": 4,
 "nbformat_minor": 5
}
