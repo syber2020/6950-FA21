{
 "cells": [
  {
   "cell_type": "code",
   "execution_count": 106,
   "id": "presidential-commodity",
   "metadata": {},
   "outputs": [],
   "source": [
    "# Simple Linear Regression on the Swedish Insurance Dataset\n",
    "# import libraries\n",
    "from random import seed\n",
    "from random import randrange\n",
    "from csv import reader\n",
    "from math import sqrt\n",
    "import pandas as pd\n",
    "from sklearn.model_selection import train_test_split\n",
    "import numpy as np"
   ]
  },
  {
   "cell_type": "code",
   "execution_count": 107,
   "id": "attached-practice",
   "metadata": {},
   "outputs": [],
   "source": [
    "#get all the dataset\n",
    "dataset = pd.read_csv(\"insurance.csv\")\n",
    "train, test = train_test_split(dataset, test_size=0.3, random_state=25)\n",
    "train_x = train['X'].to_numpy()\n",
    "train_y = train['Y'].to_numpy()\n",
    "test_x = test['X'].to_numpy()\n",
    "test_y = test['Y'].to_numpy()"
   ]
  },
  {
   "cell_type": "code",
   "execution_count": 108,
   "id": "elect-treat",
   "metadata": {},
   "outputs": [],
   "source": [
    "def rmse_metric(actual, predicted):\n",
    "\tsum_error = 0.0\n",
    "\tfor i in range(len(actual)):\n",
    "\t\tprediction_error = predicted[i] - actual[i]\n",
    "\t\tsum_error += (prediction_error ** 2)\n",
    "\tmean_error = sum_error / float(len(actual))\n",
    "\treturn sqrt(mean_error)"
   ]
  },
  {
   "cell_type": "code",
   "execution_count": 109,
   "id": "exposed-caribbean",
   "metadata": {},
   "outputs": [
    {
     "name": "stdout",
     "output_type": "stream",
     "text": [
      "mean of x is : 24.431818181818183\n",
      "mean of y is : 101.07045454545455\n",
      "variance of x is: 23652.79545454546\n",
      "variance of y is: 323899.93159090896\n",
      "79536.06136363636\n"
     ]
    }
   ],
   "source": [
    "# get means, variance and covariance of data\n",
    "# mean of input and output\n",
    "sx =0; sy =0; vx =0; vy=0\n",
    "for i in range(len(train_x)):\n",
    "    sx = sx + train_x[i]\n",
    "    sy = sy + train_y[i]\n",
    "mx = sx/len(train_x)\n",
    "my = sy/len(train_y)\n",
    "print(\"mean of x is :\",mx)\n",
    "print(\"mean of y is :\",my)\n",
    "\n",
    "# get variances of x\n",
    "for i in range(len(train_x)):\n",
    "    vx = vx+pow((train_x[i] - mx),2)\n",
    "    vy = vy+pow((train_y[i] - my),2)\n",
    "print(\"variance of x is:\",vx)\n",
    "print(\"variance of y is:\",vy)\n",
    "\n",
    "\n",
    "#getting covariance\n",
    "cov = 0\n",
    "for i in range(len(train_x)):\n",
    "    cov = cov+ ((train_x[i]-mx)*(train_y[i]-my))\n",
    "print(cov)\n"
   ]
  },
  {
   "cell_type": "code",
   "execution_count": 110,
   "id": "valuable-database",
   "metadata": {},
   "outputs": [
    {
     "name": "stdout",
     "output_type": "stream",
     "text": [
      "B0 is: 18.914812779192957 B1 is : 3.3626495234562883\n"
     ]
    }
   ],
   "source": [
    "#Estimate coeffecients B0 and B1 for y = B0 + B1 * x\n",
    "B1 = cov / vx\n",
    "B0 = my-B1*mx\n",
    "print(\"B0 is:\",B0, \"B1 is :\",B1)"
   ]
  },
  {
   "cell_type": "code",
   "execution_count": 111,
   "id": "southern-wilderness",
   "metadata": {},
   "outputs": [
    {
     "name": "stdout",
     "output_type": "stream",
     "text": [
      "[32.36541087301811, 382.0809613124721, 96.25575181868759, 65.991906107581, 55.90395753721213, 59.26660706066842, 42.45335944338697, 123.1569480063379, 55.90395753721213, 92.8931022952313, 143.33284514707563, 18.914812779192957, 35.7280603964744, 65.991906107581, 96.25575181868759, 49.178658490299554, 62.629256584124704, 55.90395753721213, 62.629256584124704]\n",
      "[ 38.1 392.5  39.6  77.5  21.3  58.1  48.8 209.8  23.5 161.5 152.8   0.\n",
      "  40.3  95.5 113.   87.4  89.9  57.2  31.9]\n"
     ]
    }
   ],
   "source": [
    "pred = []\n",
    "for i in range(len(test_x)):\n",
    "    pred.append( B0 + B1 * test_x[i])\n",
    "print(pred)\n",
    "print(test_y)"
   ]
  },
  {
   "cell_type": "code",
   "execution_count": 112,
   "id": "presidential-nylon",
   "metadata": {},
   "outputs": [
    {
     "data": {
      "text/plain": [
       "34.608104410617685"
      ]
     },
     "execution_count": 112,
     "metadata": {},
     "output_type": "execute_result"
    }
   ],
   "source": [
    "#Calculate RMSE\n",
    "rmse = rmse_metric(test_y,pred)\n",
    "rmse"
   ]
  },
  {
   "cell_type": "code",
   "execution_count": 113,
   "id": "royal-hands",
   "metadata": {},
   "outputs": [
    {
     "name": "stdout",
     "output_type": "stream",
     "text": [
      "44\n"
     ]
    }
   ],
   "source": [
    "print(len(train_x))"
   ]
  },
  {
   "cell_type": "code",
   "execution_count": null,
   "id": "generic-reunion",
   "metadata": {},
   "outputs": [],
   "source": []
  }
 ],
 "metadata": {
  "kernelspec": {
   "display_name": "Python 3",
   "language": "python",
   "name": "python3"
  },
  "language_info": {
   "codemirror_mode": {
    "name": "ipython",
    "version": 3
   },
   "file_extension": ".py",
   "mimetype": "text/x-python",
   "name": "python",
   "nbconvert_exporter": "python",
   "pygments_lexer": "ipython3",
   "version": "3.9.2"
  }
 },
 "nbformat": 4,
 "nbformat_minor": 5
}
