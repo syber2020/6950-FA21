{
 "cells": [
  {
   "cell_type": "code",
   "execution_count": 5,
   "id": "eight-mercury",
   "metadata": {},
   "outputs": [],
   "source": [
    "import numpy as np\n",
    "import pandas as pd\n",
    "from sklearn.model_selection import train_test_split\n",
    "from sklearn.datasets import load_diabetes"
   ]
  },
  {
   "cell_type": "code",
   "execution_count": 6,
   "id": "fifty-simon",
   "metadata": {},
   "outputs": [
    {
     "data": {
      "text/plain": [
       "151.0"
      ]
     },
     "execution_count": 6,
     "metadata": {},
     "output_type": "execute_result"
    }
   ],
   "source": [
    "data = load_diabetes()\n",
    "X = data.data\n",
    "y = data.target\n",
    "X_train, X_test, y_train, y_test = train_test_split(X, y, test_size=0.2, random_state=42)\n",
    "y[0]"
   ]
  },
  {
   "cell_type": "code",
   "execution_count": 7,
   "id": "dimensional-academy",
   "metadata": {},
   "outputs": [],
   "source": [
    "X_train_num = np.dot(X_train,1000).astype(int)\n",
    "X_test_num = np.dot(X_test,1000).astype(int)\n",
    "y_train_num = y_train\n",
    "y_test_num = y_test"
   ]
  },
  {
   "cell_type": "code",
   "execution_count": 8,
   "id": "naughty-auditor",
   "metadata": {},
   "outputs": [
    {
     "name": "stdout",
     "output_type": "stream",
     "text": [
      "[[ 70  50  12 ...  34  27  -1]\n",
      " [ -9  50 -18 ...  71   0  19]\n",
      " [  5 -44  49 ...  -2  17 -13]\n",
      " ...\n",
      " [ 30 -44 -20 ... -39 -10  -1]\n",
      " [-12 -44 -23 ...  -2 -38 -38]\n",
      " [-92 -44  28 ... -39  -5  -1]]\n"
     ]
    }
   ],
   "source": [
    "print(X_train_num)"
   ]
  },
  {
   "cell_type": "code",
   "execution_count": 9,
   "id": "social-dressing",
   "metadata": {},
   "outputs": [],
   "source": [
    "X_train_den = np.full(X_train.shape, 1000) \n",
    "X_test_den = np.full(X_test.shape, 1000) \n",
    "y_train_den = np.ones(len(y_train))\n",
    "y_test_den = np.ones(len(y_test))"
   ]
  },
  {
   "cell_type": "code",
   "execution_count": 10,
   "id": "seventh-bulgaria",
   "metadata": {},
   "outputs": [
    {
     "name": "stdout",
     "output_type": "stream",
     "text": [
      "[[1000 1000 1000 ... 1000 1000 1000]\n",
      " [1000 1000 1000 ... 1000 1000 1000]\n",
      " [1000 1000 1000 ... 1000 1000 1000]\n",
      " ...\n",
      " [1000 1000 1000 ... 1000 1000 1000]\n",
      " [1000 1000 1000 ... 1000 1000 1000]\n",
      " [1000 1000 1000 ... 1000 1000 1000]]\n"
     ]
    }
   ],
   "source": [
    "print(X_train_den)"
   ]
  },
  {
   "cell_type": "code",
   "execution_count": 24,
   "id": "boring-overview",
   "metadata": {},
   "outputs": [],
   "source": [
    "#condensed function multiply and add matrix with numerator and denominator one row at a time\n",
    "# Python Program to find the L.C.M. of two input number\n",
    "from math import gcd\n",
    "def compute_lcm(x, y):\n",
    "   # choose the greater number \n",
    "    if (x > y):\n",
    "        greater = x\n",
    "    else:\n",
    "        greater = y\n",
    "    while(True):\n",
    "        if(x==0):\n",
    "            lcm = y\n",
    "            break\n",
    "        elif(y==0):\n",
    "            lcm = x\n",
    "            break\n",
    "        elif((greater % x == 0) and (greater % y == 0)):\n",
    "            lcm = greater\n",
    "            break\n",
    "        greater += 1\n",
    "    return lcm\n",
    " \n",
    "#Subtracting 2 numbers of the form a/b -c/d\n",
    "def subtraction(a,b,c,d):\n",
    "    den = compute_lcm(b,d)\n",
    "    if b ==0:\n",
    "        num = c ; den = d\n",
    "    elif d==0:\n",
    "        num= a ; den = b\n",
    "    else:    \n",
    "        num = ((den/b)*a) - ((den/d)*c)\n",
    "    return num,den\n",
    "\n",
    "#adding array of elements of the form x/y\n",
    "def add_array(a_num,a_den):\n",
    "    #will work for an int array of any length\n",
    "    lcm = 1;sum1 =0\n",
    "    for i in a_den:\n",
    "        lcm = int(lcm*i/gcd(lcm, i))\n",
    "#     print(lcm)\n",
    "    for i in range(len(a_num)):\n",
    "        sum1 = sum1 + (a_num[i]*(a_den[i]/lcm))\n",
    "        print(a_num[i],a_den[i],lcm)\n",
    "        \n",
    "#     print(sum1)\n",
    "    return sum1,lcm\n",
    "\n",
    "#adding two numbers of the form a/b + c/d\n",
    "def addition(a,b,c,d):\n",
    "    den = compute_lcm(b,d)\n",
    "    if b ==0:\n",
    "        num = c ; den = d\n",
    "    elif d==0:\n",
    "        num= a ; den = b\n",
    "    else:    \n",
    "        num = ((den/b)*a) + ((den/d)*c)\n",
    "    return float(num),float(den)\n",
    "\n",
    "#multiplying two arrays of fraction and adding them  for row by column multiplicatino\n",
    "def multiply(a_num,a_den,b_num, b_den):\n",
    "    print(type(a_num))\n",
    "    z_num = np.zeros(len(a_num)).astype(int)\n",
    "    z_den = np.zeros(len(a_den)).astype(int)\n",
    "    print(a_num,a_den)                                   \n",
    "    for i in range(len(a_num)):\n",
    "        z_num[i]=(a_num[i]*b_num[i])\n",
    "        z_den[i]=(a_den[i]*b_den[i])\n",
    "    num,den = add_array(z_num,z_den)\n",
    "    print(\"multiplication results is\",num,den) \n",
    "    return num,den\n",
    "    "
   ]
  },
  {
   "cell_type": "code",
   "execution_count": 12,
   "id": "selective-championship",
   "metadata": {},
   "outputs": [],
   "source": [
    "# a= np.ones(3).astype(int)\n",
    "# b= np.ones(3).astype(int)\n",
    "\n",
    "# x = np.asarray(a.tolist())\n",
    "# print (x)"
   ]
  },
  {
   "cell_type": "code",
   "execution_count": 13,
   "id": "proper-young",
   "metadata": {},
   "outputs": [],
   "source": [
    "# type(a[0])"
   ]
  },
  {
   "cell_type": "code",
   "execution_count": 14,
   "id": "suspected-sessions",
   "metadata": {},
   "outputs": [],
   "source": [
    "# add_array(a,b)"
   ]
  },
  {
   "cell_type": "code",
   "execution_count": 15,
   "id": "original-luther",
   "metadata": {},
   "outputs": [],
   "source": [
    "#claculate y_hat =wx+b | x is in the form a single array and w is in the form of array too\n",
    "# need toc hange w into wnum and wden\n",
    "def y_hat(w_num,w_den,x_num,x_den,b):\n",
    "    y_hat_num = np.zeros(x_num.shape[0]).astype(int)\n",
    "    y_hat_den = np.zeros(x_den.shape[0]).astype(int)\n",
    "    #multiplying w and x\n",
    "    for i in range(x_num.shape[0]):\n",
    "        print(\"iteration number \",i)\n",
    "        x_n = x_num[i] \n",
    "        x_d = x_den[i] \n",
    "        print(x_n,x_d,w_num,w_den)\n",
    "        temp_n, temp_d = multiply(x_n,x_d,w_num,w_den)\n",
    "        print(\"printing temporary values\",temp_n,temp_d)\n",
    "        y_hat_num[i],y_hat_den[i] = addition( temp_n, temp_d,b[0],b[1])          \n",
    "#     print(\"y_hat values for this iterationsa are\",y_hat_num,y_hat_den)\n",
    "    return y_hat_num, y_hat_den"
   ]
  },
  {
   "cell_type": "code",
   "execution_count": null,
   "id": "modular-extension",
   "metadata": {},
   "outputs": [],
   "source": []
  },
  {
   "cell_type": "code",
   "execution_count": 16,
   "id": "overall-hampshire",
   "metadata": {},
   "outputs": [],
   "source": [
    "# b =[1,100]\n",
    "# w_n = [1,1,1,1,1,1,1,1,1,1]; w_d =[2,2,2,2,2,2,2,2,2,2]\n",
    "# x_n = X_train_num[:2]; x_d = X_train_den[:2]\n",
    "# y_hat(w_n,w_d,x_n,x_d,b)"
   ]
  },
  {
   "cell_type": "code",
   "execution_count": 17,
   "id": "tight-proportion",
   "metadata": {},
   "outputs": [],
   "source": [
    "#calculating mean square values\n",
    "def mse(y_hat_num,y_hat_den,y_num,y_den,n):\n",
    "    num=0;den =0\n",
    "    for i in range(len(y_hat_num)):\n",
    "        num1,den1=subtraction(y_num[i],y_den[i],y_hat_num[i],y_hat_den[i])\n",
    "        num1 = num1*num1\n",
    "        den1 = den1*den1\n",
    "        num,den = addition(num,den,num1,den1)\n",
    "    den = den * n\n",
    "    print(num,den)\n",
    "    return num,den"
   ]
  },
  {
   "cell_type": "code",
   "execution_count": 18,
   "id": "guided-logan",
   "metadata": {},
   "outputs": [
    {
     "name": "stdout",
     "output_type": "stream",
     "text": [
      "2.0 72.0\n"
     ]
    }
   ],
   "source": [
    "a =[2,2]\n",
    "b =[3,3]\n",
    "c= [1,1]\n",
    "d= [2,2]\n",
    "n = 2\n",
    "mse(a,b,c,d,n)"
   ]
  },
  {
   "cell_type": "code",
   "execution_count": 19,
   "id": "informational-suspension",
   "metadata": {},
   "outputs": [],
   "source": [
    "#calculating subtraction of Y_hat Y\n",
    "def y_hat_substraction(y_hat_num,y_hat_den,y_num,y_den):\n",
    "    y_diff =np.zeros((y_hat_num.shape[0],2))\n",
    "    for i in range(len(y_hat_num)):\n",
    "        y_diff[i][0],y_diff[i][1] = subtraction(y_hat_num[i],y_hat_den[i], y_num[i], y_den[i])\n",
    "    return y_diff\n",
    "\n"
   ]
  },
  {
   "cell_type": "code",
   "execution_count": 20,
   "id": "younger-shareware",
   "metadata": {},
   "outputs": [],
   "source": [
    "#getting delta w with respect \n",
    "#need change - can call the subtraction of y_hat from y\n",
    "def delta_w(y_hat_num,y_hat_den, y_num, y_den,x_num, x_den, n):\n",
    "    del_w_num = np.zeros(x_num.shape[1])\n",
    "    del_w_den = np.zeros(x_num.shape[1])\n",
    "    \n",
    "    x_num = x_num.T\n",
    "    x_den = x_den.T\n",
    "    \n",
    "    \n",
    "    sub_num = np.zeros(len(y_hat_num))\n",
    "    sub_den = np.zeros(len(y_hat_num))\n",
    "    \n",
    "    \n",
    "    #subtracting y_hat from y\n",
    "    for i in range(len(y_hat_num)):\n",
    "        sub_num[i],sub_den[i] = subtraction(y_hat_num[i],y_hat_den[i],y_num[i],y_den[i])\n",
    "    print(\"subtraction results of y_hat and y \", sub_num,sub_den)\n",
    "    x_num = x_num.T\n",
    "    x_den = x_den.T\n",
    "    \n",
    "    #Multiplying x with the previous result and saving in 10 arrays as there are 10 features \n",
    "    for i in range(len(del_w_num)):\n",
    "        del_w_num[i],del_w_den[i] = multiply(sub_num[i],sub_den[i], x_num[i],x_den[i])\n",
    "        del_w_num[i] = del_w_num*2\n",
    "        del_w_den[i] = del_w_den*n\n",
    "        \n",
    "    return del_w_num,del_w_den\n",
    "    "
   ]
  },
  {
   "cell_type": "code",
   "execution_count": 21,
   "id": "environmental-optimization",
   "metadata": {},
   "outputs": [],
   "source": [
    "#getting delta b \n",
    "#need change - can call the function of y_hat subtractino\n",
    "def delta_b(y_hat_num,y_hat_den,y_num,y_den):\n",
    "    sub_num = np.zeros(len(y_hat_num))\n",
    "    sub_den = np.zeros(len(y_hat_num))\n",
    "    \n",
    "    for i in range(len(y_hat_num)):\n",
    "        sub_num[i],sub_den[i] = subtraction(y_hat_num[i],y_hat_den[i],y_num[i],y_den[i])\n",
    "        sub_num[i] = sub_num[i]*2\n",
    "        sub_den[i] = sub_den[i]*n\n",
    "    return sub_num,sub_den"
   ]
  },
  {
   "cell_type": "code",
   "execution_count": 22,
   "id": "golden-browse",
   "metadata": {},
   "outputs": [],
   "source": [
    "# get new weights and biases\n",
    "def get_new_params(lr, dw_num,dw_den,db_num,db_den,w_num,w_den,b_num,b_den):\n",
    "    \n",
    "    for i in range(len(dw_num)):\n",
    "        dw_num[i]= dw_num[i]*lr[0]\n",
    "        dw_den[i]= dw_den[i]*lr[1]\n",
    "   \n",
    "    btemp_num = lr[0] * db_num\n",
    "    btemp_den = lr[1] * db_den \n",
    "\n",
    "    \n",
    "    for i in range(len(dw_num)):\n",
    "        dw_num[i],dw_den[i] = subtraction(w_num[i],w_den[i],dw_num[i],dw_den[i]) \n",
    "    \n",
    "    db_num,db_den = subtraction(b_num,b_den,btemp_num,btemp_den)\n",
    "    return  dw_num,dw_den,db_num,db_den"
   ]
  },
  {
   "cell_type": "code",
   "execution_count": 23,
   "id": "ancient-plaintiff",
   "metadata": {},
   "outputs": [],
   "source": [
    "# w = np.zeros((X_train.shape[1],2))\n",
    "# b = np.zeros(2)\n",
    "# lr = np.array([1,100])\n",
    "# nw_num= np.zeros((X_train.shape[1]))\n",
    "# nw_den= np.zeros((X_train.shape[1]))\n",
    "# nb_num=nb_den =0\n",
    "# for i in range(10000):\n",
    "#     # finding y_hat \n",
    "#     y_hat_num = np.zeros(len(y_train_num))\n",
    "#     y_hat_den = np.zeros(len(y_train_num))\n",
    "#     for i in range(y_train_num.shape[0]):\n",
    "#         y_hat_num[i], y_hat_den[i] = y_hat(w,X_train_num[i],X_train_den[i],b)\n",
    "\n",
    "#     #get the MSE\n",
    "#     n = len(y_train_num)\n",
    "#     mse_num,mse_den = mse(y_hat_num,y_hat_den,y_train_num,y_train_den,n)\n",
    "# #     print(mse_num,mse_den)\n",
    "\n",
    "#     #get y_hat subtraction\n",
    "#     y_hat_diff = np.zeros((len(y_train_num),2))\n",
    "#     y_hat_diff =  y_hat_substraction(y_hat_num,y_hat_den,y_train_num,y_train_den)\n",
    "\n",
    "#     #get delta_w \n",
    "#     delta_w_num,delta_w_den = delta_w(y_hat_diff,X_train_num,X_train_den,y_hat_diff.shape[0])\n",
    "#     # print(delta_w_num,delta_w_den)\n",
    "\n",
    "#     #get delta_b\n",
    "#     delta_b_num,delta_b_den = delta_b(y_hat_diff)\n",
    "# #     print(delta_b_num,delta_b_den)\n",
    "\n",
    "#     #get new_delta\n",
    "    \n",
    "#     nw_num, nw_den,nb_num,nb_den = get_new_deltas(lr,delta_w_num,delta_w_den,delta_b_num,delta_b_den,nw_num,nw_den,nb_num,nb_den)\n",
    "# print(nw_num, nw_den,nb_num,nb_den)"
   ]
  },
  {
   "cell_type": "code",
   "execution_count": null,
   "id": "renewable-allah",
   "metadata": {},
   "outputs": [],
   "source": []
  }
 ],
 "metadata": {
  "kernelspec": {
   "display_name": "Python 3",
   "language": "python",
   "name": "python3"
  },
  "language_info": {
   "codemirror_mode": {
    "name": "ipython",
    "version": 3
   },
   "file_extension": ".py",
   "mimetype": "text/x-python",
   "name": "python",
   "nbconvert_exporter": "python",
   "pygments_lexer": "ipython3",
   "version": "3.9.2"
  }
 },
 "nbformat": 4,
 "nbformat_minor": 5
}
