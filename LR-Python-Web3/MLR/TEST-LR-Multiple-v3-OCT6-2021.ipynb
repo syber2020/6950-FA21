{
 "cells": [
  {
   "cell_type": "code",
   "execution_count": 382,
   "id": "eight-mercury",
   "metadata": {},
   "outputs": [],
   "source": [
    "import numpy as np\n",
    "import pandas as pd\n",
    "from sklearn.model_selection import train_test_split\n",
    "from sklearn.datasets import load_diabetes"
   ]
  },
  {
   "cell_type": "code",
   "execution_count": 383,
   "id": "fifty-simon",
   "metadata": {},
   "outputs": [
    {
     "data": {
      "text/plain": [
       "151.0"
      ]
     },
     "execution_count": 383,
     "metadata": {},
     "output_type": "execute_result"
    }
   ],
   "source": [
    "data = load_diabetes()\n",
    "X = data.data\n",
    "y = data.target\n",
    "X_train, X_test, y_train, y_test = train_test_split(X, y, test_size=0.2, random_state=42)\n",
    "y[0]"
   ]
  },
  {
   "cell_type": "code",
   "execution_count": 384,
   "id": "dimensional-academy",
   "metadata": {},
   "outputs": [],
   "source": [
    "X_train_num = np.dot(X_train,100).astype(int)\n",
    "X_test_num = np.dot(X_test,100).astype(int)\n",
    "y_train_num = y_train\n",
    "y_test_num = y_test"
   ]
  },
  {
   "cell_type": "code",
   "execution_count": 385,
   "id": "social-dressing",
   "metadata": {},
   "outputs": [],
   "source": [
    "X_train_den = np.full(X_train.shape, 100) \n",
    "X_test_den = np.full(X_test.shape, 100) \n",
    "y_train_den = np.ones(len(y_train))\n",
    "y_test_den = np.ones(len(y_test))"
   ]
  },
  {
   "cell_type": "code",
   "execution_count": 430,
   "id": "boring-overview",
   "metadata": {},
   "outputs": [],
   "source": [
    "# Python Program to find the L.C.M. of two input number\n",
    "def compute_lcm(x, y):\n",
    "   # choose the greater number \n",
    "    if (x > y):\n",
    "        greater = x\n",
    "    else:\n",
    "        greater = y\n",
    "    while(True):\n",
    "        if(x==0):\n",
    "            lcm = y\n",
    "            break\n",
    "        elif(y==0):\n",
    "            lcm = x\n",
    "            break\n",
    "        elif((greater % x == 0) and (greater % y == 0)):\n",
    "            lcm = greater\n",
    "            break\n",
    "        greater += 1\n",
    "    return lcm\n",
    "# multiplying a/b and c/d\n",
    "def multiply(a,b,c,d): # of the form a/b * c/d\n",
    "    num = a*c\n",
    "    den = b*d\n",
    "    return num,den\n",
    "#adding num and den version of the form a/b and c/d\n",
    "def addition(a,b,c,d):\n",
    "    den = compute_lcm(b,d)\n",
    "#     den = b*d\n",
    "    if b ==0:\n",
    "        num = c ; den = d\n",
    "    elif d==0:\n",
    "        num= a ; den = b\n",
    "    else:    \n",
    "        num = ((den/b)*a) + ((den/d)*c)\n",
    "#     print(num,den)\n",
    "    return float(num),float(den)\n",
    "\n",
    "#subtraction between a/b and c/d\n",
    "def subtraction(a,b,c,d):\n",
    "    den = compute_lcm(b,d)\n",
    "    if b ==0:\n",
    "        num = c ; den = d\n",
    "    elif d==0:\n",
    "        num= a ; den = b\n",
    "    else:    \n",
    "        num = ((den/b)*a) - ((den/d)*c)\n",
    "    return num,den\n",
    "    \n",
    "\n",
    "#claculate y_hat =wx+b | x is in the form a single array and w is in the form of array too\n",
    "def y_hat(w,x_num,x_den,b):\n",
    "    num=0; den =0\n",
    "#     print(len(w))\n",
    "    #multiplying w and x\n",
    "    for i in range (len(w)):\n",
    "#         print(w[i][0],x_num[i])\n",
    "        mul_num = w[i][0] * x_num[i]\n",
    "#         print(w[i][0],x_den[i])\n",
    "        mul_den = w[i][1] * x_den[i]\n",
    "#         print(mul_num,mul_den)\n",
    "        num,den = addition(num,den,mul_num,mul_den)\n",
    "#         print(num,den,mul_num,mul_den)\n",
    "    #adding with bias\n",
    "    num,den = addition(num,den,b[0],b[1]) \n",
    "#     print(num,den)\n",
    "    return num,den    \n",
    "#calculating (y-y_hat)**2\n",
    "def mse(y_hat_num,y_hat_den,y_num,y_den,n):\n",
    "    num=0;den =0\n",
    "    for i in range(len(y_hat_num)):\n",
    "        num1,den1=subtraction(y_num[i],y_den[i],y_hat_num[i],y_hat_den[i])\n",
    "        num1 = num1*num1\n",
    "        den1 = den1*den1\n",
    "        num,den = addition(num,den,num1,den1)\n",
    "    den = den * n\n",
    "    print(num,den)\n",
    "    return num,den\n",
    "\n",
    "#calculating subtraction of Y_hat Y\n",
    "def y_hat_substraction(y_hat_num,y_hat_den,y_num,y_den):\n",
    "    y_diff =np.zeros((y_hat_num.shape[0],2))\n",
    "    for i in range(len(y_hat_num)):\n",
    "        y_diff[i][0],y_diff[i][1] = subtraction(y_hat_num[i],y_hat_den[i], y_num[i], y_den[i])\n",
    "    return y_diff\n",
    "\n",
    "#calculating multiplication of subtraction and X\n",
    "def delta_w(y_diff,x_num,x_den,n):\n",
    "    sum_num=0;sum_den=0;wnum=np.zeros(x_num.shape[1]);wden=np.zeros(x_num.shape[1])\n",
    "    x_num = x_num.T\n",
    "    x_den = x_den.T\n",
    "    for i in range(x_num.shape[0]):\n",
    "        for j in range (y_diff.shape[1]):\n",
    "            z_num = x_num[j]\n",
    "            z_den = x_den[j] \n",
    "            num,den = multiply(z_num[j],z_den[j],y_diff[j][0], y_diff[j][1])    \n",
    "            sum_num,sum_den = addition(num,den,sum_num,sum_den)\n",
    "        delta_w_num = sum_num*2\n",
    "        delta_w_den = sum_den*n\n",
    "        wnum[i]=sum_num\n",
    "        wden[i]=sum_den\n",
    "    print(wnum,wden)\n",
    "    return wnum,wden\n",
    "def delta_b(y):\n",
    "    num=0;den=0\n",
    "    for i in range (y.shape[0]):\n",
    "        num,den = addition(num,den,y[i][0], y[i][1])\n",
    "    num = num *2\n",
    "    den = den*y.shape[0]\n",
    "    return num,den\n",
    "\n",
    "def get_new_deltas(lr, dw_num,dw_den,db_num,db_den,w_num,w_den,b_num,b_den):\n",
    "#     wtemp_num = lr[0] * dw_num\n",
    "#     wtemp_den = lr[1] * dw_den\n",
    "#     btemp_num = lr[0] * db_num\n",
    "#     btemp_den = lr[1] * db_den \n",
    "#     dw_num,dw_den = subtraction(w_num,w_den,wtemp_num,wtemp_den)\n",
    "#     db_num,db_den = subtraction(b_num,b_den,btemp_num,btemp_den)\n",
    "    \n",
    "    for i in range(len(dw_num)):\n",
    "        dw_num[i]= dw_num[i]*lr[0]\n",
    "        dw_den[i]= dw_den[i]*lr[1]\n",
    "    btemp_num = lr[0] * db_num\n",
    "    btemp_den = lr[1] * db_den \n",
    "    \n",
    "    for i in range(len(dw_num)):\n",
    "        dw_num[i],dw_den[i] = subtraction(w_num,w_den,dw_num[i],dw_den[i]) \n",
    "    db_num,db_den = subtraction(b_num,b_den,btemp_num,btemp_den)\n",
    "    return  dw_num,dw_den,db_num,db_den"
   ]
  },
  {
   "cell_type": "code",
   "execution_count": 431,
   "id": "ancient-plaintiff",
   "metadata": {},
   "outputs": [],
   "source": [
    "w = np.zeros((X_train.shape[1],2))\n",
    "b = np.zeros(2)\n"
   ]
  },
  {
   "cell_type": "code",
   "execution_count": 432,
   "id": "mexican-sunset",
   "metadata": {},
   "outputs": [],
   "source": [
    "# finding y_hat \n",
    "y_hat_num = np.zeros(len(y_train_num))\n",
    "y_hat_den = np.zeros(len(y_train_num))\n",
    "for i in range(y_train_num.shape[0]):\n",
    "    y_hat_num[i], y_hat_den[i] = y_hat(w,X_train_num[i],X_train_den[i],b)"
   ]
  },
  {
   "cell_type": "code",
   "execution_count": 433,
   "id": "accessory-spring",
   "metadata": {},
   "outputs": [
    {
     "name": "stdout",
     "output_type": "stream",
     "text": [
      "10488097.0 353.0\n",
      "10488097.0 353.0\n"
     ]
    }
   ],
   "source": [
    "#get the MSE\n",
    "n = len(y_train_num)\n",
    "mse_num,mse_den = mse(y_hat_num,y_hat_den,y_train_num,y_train_den,n)\n",
    "print(mse_num,mse_den)"
   ]
  },
  {
   "cell_type": "code",
   "execution_count": 434,
   "id": "oriental-vacation",
   "metadata": {},
   "outputs": [],
   "source": [
    "#get y_hat subtraction\n",
    "y_hat_diff = np.zeros((len(y_train_num),2))\n",
    "y_hat_diff =  y_hat_substraction(y_hat_num,y_hat_den,y_train_num,y_train_den)\n"
   ]
  },
  {
   "cell_type": "code",
   "execution_count": 435,
   "id": "ranking-panama",
   "metadata": {},
   "outputs": [
    {
     "data": {
      "text/plain": [
       "353"
      ]
     },
     "execution_count": 435,
     "metadata": {},
     "output_type": "execute_result"
    }
   ],
   "source": [
    "y_hat_diff.shape[0]"
   ]
  },
  {
   "cell_type": "code",
   "execution_count": 436,
   "id": "israeli-treaty",
   "metadata": {},
   "outputs": [
    {
     "name": "stdout",
     "output_type": "stream",
     "text": [
      "[ 7  5  1  5  3  4 -3  3  2  0]\n"
     ]
    }
   ],
   "source": [
    "print(X_train_num[0])"
   ]
  },
  {
   "cell_type": "code",
   "execution_count": 437,
   "id": "outer-triangle",
   "metadata": {},
   "outputs": [
    {
     "name": "stdout",
     "output_type": "stream",
     "text": [
      "[ 1758.  3516.  5274.  7032.  8790. 10548. 12306. 14064. 15822. 17580.] [100. 100. 100. 100. 100. 100. 100. 100. 100. 100.]\n"
     ]
    }
   ],
   "source": [
    "#get delta_w \n",
    "delta_w_num,delta_w_den = delta_w(y_hat_diff,X_train_num,X_train_den,y_hat_diff.shape[0])\n",
    "# print(delta_w_num,delta_w_den)"
   ]
  },
  {
   "cell_type": "code",
   "execution_count": 438,
   "id": "faced-worthy",
   "metadata": {},
   "outputs": [
    {
     "name": "stdout",
     "output_type": "stream",
     "text": [
      "108538.0 353.0\n"
     ]
    }
   ],
   "source": [
    "#get delta_b\n",
    "delta_b_num,delta_b_den = delta_b(y_hat_diff)\n",
    "print(delta_b_num,delta_b_den)"
   ]
  },
  {
   "cell_type": "code",
   "execution_count": 439,
   "id": "elegant-electronics",
   "metadata": {},
   "outputs": [],
   "source": [
    "lr = np.array([1,100])"
   ]
  },
  {
   "cell_type": "code",
   "execution_count": 440,
   "id": "placed-today",
   "metadata": {},
   "outputs": [
    {
     "name": "stdout",
     "output_type": "stream",
     "text": [
      "[ 1758.  3516.  5274.  7032.  8790. 10548. 12306. 14064. 15822. 17580.] [10000. 10000. 10000. 10000. 10000. 10000. 10000. 10000. 10000. 10000.] 108538.0 35300.0\n"
     ]
    }
   ],
   "source": [
    "#get new_delta\n",
    "nw_num=nw_den=nb_num=nb_den =0\n",
    "nw_num, nw_den,nb_num,nb_den = get_new_deltas(lr,delta_w_num,delta_w_den,delta_b_num,delta_b_den,nw_num,nw_den,nb_num,nb_den)\n",
    "print(nw_num, nw_den,nb_num,nb_den)"
   ]
  },
  {
   "cell_type": "code",
   "execution_count": null,
   "id": "renewable-allah",
   "metadata": {},
   "outputs": [],
   "source": []
  }
 ],
 "metadata": {
  "kernelspec": {
   "display_name": "Python 3",
   "language": "python",
   "name": "python3"
  },
  "language_info": {
   "codemirror_mode": {
    "name": "ipython",
    "version": 3
   },
   "file_extension": ".py",
   "mimetype": "text/x-python",
   "name": "python",
   "nbconvert_exporter": "python",
   "pygments_lexer": "ipython3",
   "version": "3.9.2"
  }
 },
 "nbformat": 4,
 "nbformat_minor": 5
}
