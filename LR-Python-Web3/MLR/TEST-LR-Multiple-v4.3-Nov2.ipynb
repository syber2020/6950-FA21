{
 "cells": [
  {
   "cell_type": "code",
   "execution_count": 66,
   "id": "eight-mercury",
   "metadata": {},
   "outputs": [],
   "source": [
    "import numpy as np\n",
    "import pandas as pd\n",
    "from sklearn.model_selection import train_test_split\n",
    "from sklearn.datasets import load_diabetes"
   ]
  },
  {
   "cell_type": "code",
   "execution_count": 67,
   "id": "fifty-simon",
   "metadata": {},
   "outputs": [
    {
     "data": {
      "text/plain": [
       "151.0"
      ]
     },
     "execution_count": 67,
     "metadata": {},
     "output_type": "execute_result"
    }
   ],
   "source": [
    "data = load_diabetes()\n",
    "X = data.data\n",
    "y = data.target\n",
    "X_train, X_test, y_train, y_test = train_test_split(X, y, test_size=0.2, random_state=42)\n",
    "y[0]"
   ]
  },
  {
   "cell_type": "code",
   "execution_count": 68,
   "id": "dimensional-academy",
   "metadata": {},
   "outputs": [],
   "source": [
    "X_train_num = np.dot(X_train,1000).astype(int)\n",
    "X_test_num = np.dot(X_test,1000).astype(int)\n",
    "y_train_num = y_train\n",
    "y_test_num = y_test"
   ]
  },
  {
   "cell_type": "code",
   "execution_count": 69,
   "id": "naughty-auditor",
   "metadata": {},
   "outputs": [
    {
     "name": "stdout",
     "output_type": "stream",
     "text": [
      "[[ 70  50  12 ...  34  27  -1]\n",
      " [ -9  50 -18 ...  71   0  19]\n",
      " [  5 -44  49 ...  -2  17 -13]\n",
      " ...\n",
      " [ 30 -44 -20 ... -39 -10  -1]\n",
      " [-12 -44 -23 ...  -2 -38 -38]\n",
      " [-92 -44  28 ... -39  -5  -1]]\n"
     ]
    }
   ],
   "source": [
    "print(X_train_num)"
   ]
  },
  {
   "cell_type": "code",
   "execution_count": 70,
   "id": "social-dressing",
   "metadata": {},
   "outputs": [],
   "source": [
    "X_train_den = np.full(X_train.shape, 1000) \n",
    "X_test_den = np.full(X_test.shape, 1000) \n",
    "y_train_den = np.ones(len(y_train))\n",
    "y_test_den = np.ones(len(y_test))"
   ]
  },
  {
   "cell_type": "code",
   "execution_count": 71,
   "id": "seventh-bulgaria",
   "metadata": {},
   "outputs": [
    {
     "name": "stdout",
     "output_type": "stream",
     "text": [
      "[[1000 1000 1000 ... 1000 1000 1000]\n",
      " [1000 1000 1000 ... 1000 1000 1000]\n",
      " [1000 1000 1000 ... 1000 1000 1000]\n",
      " ...\n",
      " [1000 1000 1000 ... 1000 1000 1000]\n",
      " [1000 1000 1000 ... 1000 1000 1000]\n",
      " [1000 1000 1000 ... 1000 1000 1000]]\n"
     ]
    }
   ],
   "source": [
    "print(X_train_den)"
   ]
  },
  {
   "cell_type": "code",
   "execution_count": 72,
   "id": "boring-overview",
   "metadata": {},
   "outputs": [],
   "source": [
    "#condensed function multiply and add matrix with numerator and denominator one row at a time\n",
    "# Python Program to find the L.C.M. of two input number\n",
    "from math import gcd\n",
    "def compute_lcm(x, y):\n",
    "   # choose the greater number \n",
    "    if (x > y):\n",
    "        greater = x\n",
    "    else:\n",
    "        greater = y\n",
    "    while(True):\n",
    "        if(x==0):\n",
    "            lcm = y\n",
    "            break\n",
    "        elif(y==0):\n",
    "            lcm = x\n",
    "            break\n",
    "        elif((greater % x == 0) and (greater % y == 0)):\n",
    "            lcm = greater\n",
    "            break\n",
    "        greater += 1\n",
    "    return lcm\n",
    " \n",
    "#Subtracting 2 numbers of the form a/b -c/d\n",
    "def subtraction(a,b,c,d):\n",
    "    den = compute_lcm(b,d)\n",
    "    if b ==0:\n",
    "        num = c ; den = d\n",
    "    elif d==0:\n",
    "        num= a ; den = b\n",
    "    else:    \n",
    "        num = ((den/b)*a) - ((den/d)*c)\n",
    "    return num,den\n",
    "\n",
    "#adding array of elements of the form x/y\n",
    "def add_array(a_num,a_den):\n",
    "    #will work for an int array of any length\n",
    "    lcm = 1;sum1 =0\n",
    "    for i in a_den:\n",
    "        lcm = int(lcm*i/gcd(lcm, i))\n",
    "#     print(\"lcm is \",lcm)\n",
    "    for i in range(len(a_num)):\n",
    "        sum1 = sum1 + (a_num[i]*(a_den[i]/lcm))\n",
    "#         print(a_num[i],a_den[i],lcm)      \n",
    "#     print(\"sum is \", sum1)\n",
    "    return sum1,lcm\n",
    "\n",
    "#adding two numbers of the form a/b + c/d\n",
    "def addition(a,b,c,d):\n",
    "    den = compute_lcm(b,d)\n",
    "    if b ==0:\n",
    "        num = c ; den = d\n",
    "    elif d==0:\n",
    "        num= a ; den = b\n",
    "    else:    \n",
    "        num = ((den/b)*a) + ((den/d)*c)\n",
    "    return int(num),int(den)\n",
    "\n",
    "#multiplying two arrays of fraction and adding them  for row by column multiplicatino\n",
    "def multiply(a_num,a_den,b_num, b_den):\n",
    "#     print(type(a_num))\n",
    "    z_num = np.zeros(len(a_num)).astype(int)\n",
    "    z_den = np.zeros(len(a_den)).astype(int)\n",
    "#     print(a_num,a_den)                                   \n",
    "    for i in range(len(a_num)):\n",
    "        z_num[i]=(a_num[i]*b_num[i])     \n",
    "        z_den[i]=(a_den[i]*b_den[i])\n",
    "    \n",
    "    x = z_num.tolist()\n",
    "    y = z_den.tolist()\n",
    "#     print(\"Printing z_num and z_den\", x , y )\n",
    "    num,den = add_array(x,y)\n",
    "#     print(\"multiplication results is\",num,den) \n",
    "    return num,den\n",
    "    "
   ]
  },
  {
   "cell_type": "code",
   "execution_count": 73,
   "id": "original-luther",
   "metadata": {},
   "outputs": [],
   "source": [
    "#claculate y_hat =wx+b | x is in the form a single array and w is in the form of array too\n",
    "# need toc hange w into wnum and wden\n",
    "def y_hat(w_num,w_den,x_num,x_den,b):\n",
    "    y_hat_num = np.zeros(x_num.shape[0]).astype(int)\n",
    "    y_hat_den = np.zeros(x_den.shape[0]).astype(int)\n",
    "    #multiplying w and x\n",
    "    for i in range(x_num.shape[0]):\n",
    "#         print(\"iteration number \",i)\n",
    "        x_n = x_num[i] \n",
    "        x_d = x_den[i] \n",
    "#         print(x_n,x_d,w_num,w_den)\n",
    "        temp_n, temp_d = multiply(x_n,x_d,w_num,w_den)\n",
    "#         print(\"printing temporary values\",temp_n,temp_d)\n",
    "        y_hat_num[i],y_hat_den[i] = addition( temp_n, temp_d,b[0],b[1])          \n",
    "#     print(\"y_hat values for this iterationsa are\",y_hat_num,y_hat_den)\n",
    "    return y_hat_num,y_hat_den"
   ]
  },
  {
   "cell_type": "code",
   "execution_count": 74,
   "id": "tight-proportion",
   "metadata": {},
   "outputs": [],
   "source": [
    "#calculating mean square values\n",
    "def mse(y_hat_num,y_hat_den,y_num,y_den,n):\n",
    "    num=0;den =0\n",
    "    for i in range(len(y_hat_num)):\n",
    "        num1,den1=subtraction(y_num[i],y_den[i],y_hat_num[i],y_hat_den[i])\n",
    "        num1 = num1*num1\n",
    "        den1 = den1*den1\n",
    "        num,den = addition(num,den,num1,den1)\n",
    "    den = den * n\n",
    "#     print(num,den)\n",
    "    return num,den"
   ]
  },
  {
   "cell_type": "code",
   "execution_count": 75,
   "id": "informational-suspension",
   "metadata": {},
   "outputs": [],
   "source": [
    "#calculating subtraction of Y_hat Y\n",
    "def y_hat_substraction(y_hat_num,y_hat_den,y_num,y_den):\n",
    "    y_diff =np.zeros((y_hat_num.shape[0],2))\n",
    "    for i in range(len(y_hat_num)):\n",
    "        y_diff[i][0],y_diff[i][1] = subtraction(y_hat_num[i],y_hat_den[i], y_num[i], y_den[i])\n",
    "    return y_diff\n",
    "\n"
   ]
  },
  {
   "cell_type": "code",
   "execution_count": 76,
   "id": "younger-shareware",
   "metadata": {},
   "outputs": [],
   "source": [
    "#getting delta w with respect \n",
    "#need change - can call the subtraction of y_hat from y\n",
    "def delta_w(y_hat_diff,x_num, x_den, n):\n",
    "    del_w_num = np.zeros(x_num.shape[1])\n",
    "    del_w_den = np.zeros(x_num.shape[1])\n",
    "    \n",
    "    x_num = x_num.T\n",
    "    x_den = x_den.T\n",
    "    y_num = y_hat_diff[:,0]\n",
    "    y_den = y_hat_diff[:,1]\n",
    "    \n",
    "#     print(\"getting delta w num and den \")\n",
    "    for i in range(len(del_w_num)):\n",
    "#         print(\"printing X\",len(x_num[i]))\n",
    "#         print(\"printing X\",len(x_den[i]))\n",
    "#         print(\"printing y diff\",len( y_num))\n",
    "#         print(\"printing y diff\", len(y_den))\n",
    "        del_w_num[i],del_w_den[i] = multiply(x_num[i],x_den[i],y_num,y_den)\n",
    "        del_w_num[i] = del_w_num[i]*2\n",
    "        del_w_den[i] = del_w_den[i]*n\n",
    "#     print(\"delta w num and den are\",del_w_num,del_w_den)\n",
    "    return del_w_num,del_w_den\n",
    "\n",
    "    \n",
    "    "
   ]
  },
  {
   "cell_type": "code",
   "execution_count": 77,
   "id": "environmental-optimization",
   "metadata": {},
   "outputs": [],
   "source": [
    "#getting delta b \n",
    "def delta_b(y_hat_diff):\n",
    "\n",
    "#     print(type(y_hat_diff))\n",
    "    yh_num = np.array(y_hat_diff[:,0]).astype(int)\n",
    "    yh_den = np.array(y_hat_diff[:,1]).astype(int)\n",
    "#     print(type(yh_num[0]))\n",
    "#     print(type(yh_den[0]))    \n",
    "#     print(yh_num)\n",
    "#     print(yh_den)\n",
    "    num,den = add_array(yh_num, yh_den)\n",
    "    num = num*2\n",
    "    den = den*len(yh_num)\n",
    "#     print(\"printing delta_b\", num,den)\n",
    "    return num,den"
   ]
  },
  {
   "cell_type": "code",
   "execution_count": 78,
   "id": "golden-browse",
   "metadata": {},
   "outputs": [],
   "source": [
    "# get new weights and biases\n",
    "def get_new_params(lr, dw_num,dw_den,db_num,db_den,w_num,w_den,b_num,b_den):\n",
    "    \n",
    "    for i in range(len(dw_num)):\n",
    "        dw_num[i]= dw_num[i]*lr[0]\n",
    "        dw_den[i]= dw_den[i]*lr[1]\n",
    "   \n",
    "    btemp_num = lr[0] * db_num\n",
    "    btemp_den = lr[1] * db_den \n",
    "    \n",
    "\n",
    "    \n",
    "    for i in range(len(dw_num)):\n",
    "        dw_num[i],dw_den[i] = subtraction(w_num[i],w_den[i],dw_num[i],dw_den[i]) \n",
    "    \n",
    "    db_num,db_den = subtraction(b_num,b_den,btemp_num,btemp_den)\n",
    "    print(\"printing new weight parameters\", dw_num,dw_den)\n",
    "    print(\"printing new bias parameters\",db_num,db_den)\n",
    "    return  dw_num,dw_den,db_num,db_den"
   ]
  },
  {
   "cell_type": "code",
   "execution_count": 79,
   "id": "roman-horizon",
   "metadata": {},
   "outputs": [],
   "source": [
    "wnum = np.ones(10)\n",
    "wden = np.ones(10)\n",
    "b =[1,1]\n",
    "bnum =1\n",
    "bden =1\n",
    "lr = [1,100]"
   ]
  },
  {
   "cell_type": "code",
   "execution_count": 80,
   "id": "broken-education",
   "metadata": {},
   "outputs": [],
   "source": [
    "#getting y_hat = wx+b and , this matches with my main code\n",
    "yh_num,yh_den = y_hat(wnum,wden,X_train_num, X_train_den,b) "
   ]
  },
  {
   "cell_type": "code",
   "execution_count": 81,
   "id": "published-symposium",
   "metadata": {},
   "outputs": [],
   "source": [
    "#getting MSE, MSE matches with my main code\n",
    "mse_num,mse_den= mse(yh_num, yh_den, y_train_num,y_train_den,len(yh_num))"
   ]
  },
  {
   "cell_type": "code",
   "execution_count": 82,
   "id": "underlying-recall",
   "metadata": {},
   "outputs": [],
   "source": [
    "y_diff = y_hat_substraction(yh_num,yh_den,y_train_num,y_train_den)\n",
    "# y_diff"
   ]
  },
  {
   "cell_type": "code",
   "execution_count": 83,
   "id": "loaded-thought",
   "metadata": {},
   "outputs": [],
   "source": [
    "# get delta_W\n",
    "delw_num,delw_den = delta_w(y_diff,X_train_num,X_train_den, len(yh_num))"
   ]
  },
  {
   "cell_type": "code",
   "execution_count": 84,
   "id": "large-progress",
   "metadata": {},
   "outputs": [],
   "source": [
    "# get delta_b\n",
    "delb_num, delb_den = delta_b(y_diff)"
   ]
  },
  {
   "cell_type": "code",
   "execution_count": 85,
   "id": "meaningful-newsletter",
   "metadata": {
    "scrolled": true
   },
   "outputs": [
    {
     "name": "stdout",
     "output_type": "stream",
     "text": [
      "printing new weight parameters [3.59394489e+10 3.53375973e+10 3.70446325e+10 3.66004778e+10\n",
      " 3.57590156e+10 3.56139281e+10 3.42229814e+10 3.64692167e+10\n",
      " 3.68681834e+10 3.65277629e+10] [3.53e+10 3.53e+10 3.53e+10 3.53e+10 3.53e+10 3.53e+10 3.53e+10 3.53e+10\n",
      " 3.53e+10 3.53e+10]\n",
      "printing new bias parameters 143127636.0 35300000\n"
     ]
    }
   ],
   "source": [
    "#get new parameters\n",
    "wf_num,wf_den,bf_num,bf_den = get_new_params(lr, delw_num,delw_den,delb_num,delb_den,wnum,wden,bnum,bden)"
   ]
  },
  {
   "cell_type": "code",
   "execution_count": 86,
   "id": "accepting-republic",
   "metadata": {},
   "outputs": [],
   "source": [
    "#normalize weights and bias\n",
    "def normalize_weights_bias(wnum,wden, bnum,bden):\n",
    "    wn_num = np.zeros(10) \n",
    "    wn_den = np.zeros(10)\n",
    "    for i in range (len(wf_num)):\n",
    "        wn_num[i] = int((wnum[i]/wden[i]) * 1000)\n",
    "        wn_den[i] = 1000\n",
    "    bnum = int(bnum/bden * 1000)\n",
    "    bden = 1000\n",
    "    \n",
    "    print(wn_num, bnum, bden)\n",
    "    return wn_num, wn_den,bnum, bden\n"
   ]
  },
  {
   "cell_type": "code",
   "execution_count": 87,
   "id": "vital-window",
   "metadata": {},
   "outputs": [
    {
     "name": "stdout",
     "output_type": "stream",
     "text": [
      "[1018. 1001. 1049. 1036. 1013. 1008.  969. 1033. 1044. 1034.] 4054 1000\n"
     ]
    }
   ],
   "source": [
    "wn_num,wn_den, bn_num, bn_den = normalize_weights_bias(wf_num,wf_den,bf_num,bf_den)"
   ]
  }
 ],
 "metadata": {
  "kernelspec": {
   "display_name": "Python 3",
   "language": "python",
   "name": "python3"
  },
  "language_info": {
   "codemirror_mode": {
    "name": "ipython",
    "version": 3
   },
   "file_extension": ".py",
   "mimetype": "text/x-python",
   "name": "python",
   "nbconvert_exporter": "python",
   "pygments_lexer": "ipython3",
   "version": "3.9.2"
  }
 },
 "nbformat": 4,
 "nbformat_minor": 5
}
