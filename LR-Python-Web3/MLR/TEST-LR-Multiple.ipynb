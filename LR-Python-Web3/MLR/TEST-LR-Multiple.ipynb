{
 "cells": [
  {
   "cell_type": "code",
   "execution_count": 37,
   "id": "eight-mercury",
   "metadata": {},
   "outputs": [],
   "source": [
    "import numpy as np\n",
    "import pandas as pd\n",
    "from sklearn.model_selection import train_test_split\n",
    "from sklearn.datasets import load_diabetes"
   ]
  },
  {
   "cell_type": "code",
   "execution_count": 38,
   "id": "fifty-simon",
   "metadata": {},
   "outputs": [
    {
     "data": {
      "text/plain": [
       "array([ 0.03807591,  0.05068012,  0.06169621,  0.02187235, -0.0442235 ,\n",
       "       -0.03482076, -0.04340085, -0.00259226,  0.01990842, -0.01764613])"
      ]
     },
     "execution_count": 38,
     "metadata": {},
     "output_type": "execute_result"
    }
   ],
   "source": [
    "data = load_diabetes()\n",
    "X = data.data\n",
    "y = data.target\n",
    "X_train, X_test, y_train, y_test = train_test_split(X, y, test_size=0.2, random_state=42)\n",
    "X[0]"
   ]
  },
  {
   "cell_type": "code",
   "execution_count": 39,
   "id": "dimensional-academy",
   "metadata": {},
   "outputs": [],
   "source": [
    "X_train_num = np.dot(X_train,100).astype(int)\n",
    "X_test_num = np.dot(X_test,100).astype(int)\n",
    "y_train_num = np.dot(X_train,100).astype(int)\n",
    "y_test_num = np.dot(X_test,100).astype(int)"
   ]
  },
  {
   "cell_type": "code",
   "execution_count": 40,
   "id": "standard-primary",
   "metadata": {},
   "outputs": [],
   "source": [
    "# calculate MS"
   ]
  },
  {
   "cell_type": "code",
   "execution_count": 41,
   "id": "social-dressing",
   "metadata": {},
   "outputs": [],
   "source": [
    "X_train_den = np.full(X_train.shape, 100) \n",
    "X_test_den = np.full(X_test.shape, 100) \n",
    "y_train_den = np.full(y_train.shape, 100) \n",
    "y_test_den = np.full(y_test.shape, 100) "
   ]
  },
  {
   "cell_type": "code",
   "execution_count": 64,
   "id": "boring-overview",
   "metadata": {},
   "outputs": [],
   "source": [
    "# Python Program to find the L.C.M. of two input number\n",
    "def compute_lcm(x, y):\n",
    "   # choose the greater number\n",
    "    if (x > y):\n",
    "        greater = x\n",
    "    else:\n",
    "        greater = y\n",
    "    while(True):\n",
    "        if((greater % x == 0) and (greater % y == 0)):\n",
    "            lcm = greater\n",
    "            break\n",
    "        greater += 1\n",
    "    return lcm\n",
    "\n",
    "# multiplying a/b and c/d\n",
    "def multiply(a,b,c,d): # of the form a/b * c/d\n",
    "    num = a*c\n",
    "    den = b*d\n",
    "    return num,den\n",
    "\n",
    "#adding num and den version of the form a/b and c/d\n",
    "def addition(a,b,c,d):\n",
    "    den = compute_lcm(b,d)\n",
    "#     den = b*d\n",
    "    num = ((den/b)*a) + ((den/d)*c)\n",
    "#     print(num,den)\n",
    "    return float(num),float(den)\n",
    "\n",
    "\n",
    "#subtraction between a/b and c/d\n",
    "def subtraction(a,b,c,d):\n",
    "    den = compute_lcm(b,d)\n",
    "    num = ((den/b)*a) - ((den/d)*c)\n",
    "    return num,den\n",
    "    \n",
    "#Calculate MSE\n",
    "def mse_metric(n,y_num,y_den, y_hat_num,y_hat_den):\n",
    "    sum =0; mse_num=0; mse_den=0; num=0; den=0\n",
    "    for i in range(len(y_num)):\n",
    "        tmp_num, tmp_den = subtraction(y_num[i],y_den[i], y_hat_num,y_hat_den)\n",
    "        print(int(tmp_num),int(tmp_den))\n",
    "        num,den = addition(num,den,int(tmp_num),int(tmp_den))\n",
    "    mse_num =num\n",
    "    mse_den = den * n\n",
    "    return mse_num,mse_den\n",
    "        "
   ]
  },
  {
   "cell_type": "code",
   "execution_count": 63,
   "id": "mexican-sunset",
   "metadata": {},
   "outputs": [
    {
     "name": "stdout",
     "output_type": "stream",
     "text": [
      "3 8\n"
     ]
    },
    {
     "ename": "ZeroDivisionError",
     "evalue": "integer division or modulo by zero",
     "output_type": "error",
     "traceback": [
      "\u001b[1;31m---------------------------------------------------------------------------\u001b[0m",
      "\u001b[1;31mZeroDivisionError\u001b[0m                         Traceback (most recent call last)",
      "\u001b[1;32m<ipython-input-63-4bad941e2412>\u001b[0m in \u001b[0;36m<module>\u001b[1;34m\u001b[0m\n\u001b[1;32m----> 1\u001b[1;33m \u001b[0mnum\u001b[0m\u001b[1;33m,\u001b[0m\u001b[0mden\u001b[0m \u001b[1;33m=\u001b[0m \u001b[0mmse_metric\u001b[0m\u001b[1;33m(\u001b[0m\u001b[1;36m10\u001b[0m\u001b[1;33m,\u001b[0m\u001b[1;33m[\u001b[0m\u001b[1;36m1\u001b[0m\u001b[1;33m,\u001b[0m\u001b[1;36m1\u001b[0m\u001b[1;33m,\u001b[0m\u001b[1;36m1\u001b[0m\u001b[1;33m,\u001b[0m\u001b[1;36m1\u001b[0m\u001b[1;33m,\u001b[0m\u001b[1;36m1\u001b[0m\u001b[1;33m]\u001b[0m\u001b[1;33m,\u001b[0m\u001b[1;33m[\u001b[0m\u001b[1;36m2\u001b[0m\u001b[1;33m,\u001b[0m\u001b[1;36m2\u001b[0m\u001b[1;33m,\u001b[0m\u001b[1;36m2\u001b[0m\u001b[1;33m,\u001b[0m\u001b[1;36m2\u001b[0m\u001b[1;33m,\u001b[0m\u001b[1;36m2\u001b[0m\u001b[1;33m]\u001b[0m\u001b[1;33m,\u001b[0m \u001b[1;36m1\u001b[0m\u001b[1;33m,\u001b[0m\u001b[1;36m8\u001b[0m\u001b[1;33m)\u001b[0m\u001b[1;33m\u001b[0m\u001b[1;33m\u001b[0m\u001b[0m\n\u001b[0m",
      "\u001b[1;32m<ipython-input-62-bee3fdabaacb>\u001b[0m in \u001b[0;36mmse_metric\u001b[1;34m(n, y_num, y_den, y_hat_num, y_hat_den)\u001b[0m\n\u001b[0;32m     40\u001b[0m         \u001b[0mtmp_num\u001b[0m\u001b[1;33m,\u001b[0m \u001b[0mtmp_den\u001b[0m \u001b[1;33m=\u001b[0m \u001b[0msubtraction\u001b[0m\u001b[1;33m(\u001b[0m\u001b[0my_num\u001b[0m\u001b[1;33m[\u001b[0m\u001b[0mi\u001b[0m\u001b[1;33m]\u001b[0m\u001b[1;33m,\u001b[0m\u001b[0my_den\u001b[0m\u001b[1;33m[\u001b[0m\u001b[0mi\u001b[0m\u001b[1;33m]\u001b[0m\u001b[1;33m,\u001b[0m \u001b[0my_hat_num\u001b[0m\u001b[1;33m,\u001b[0m\u001b[0my_hat_den\u001b[0m\u001b[1;33m)\u001b[0m\u001b[1;33m\u001b[0m\u001b[1;33m\u001b[0m\u001b[0m\n\u001b[0;32m     41\u001b[0m         \u001b[0mprint\u001b[0m\u001b[1;33m(\u001b[0m\u001b[0mint\u001b[0m\u001b[1;33m(\u001b[0m\u001b[0mtmp_num\u001b[0m\u001b[1;33m)\u001b[0m\u001b[1;33m,\u001b[0m\u001b[0mint\u001b[0m\u001b[1;33m(\u001b[0m\u001b[0mtmp_den\u001b[0m\u001b[1;33m)\u001b[0m\u001b[1;33m)\u001b[0m\u001b[1;33m\u001b[0m\u001b[1;33m\u001b[0m\u001b[0m\n\u001b[1;32m---> 42\u001b[1;33m         \u001b[0mnum\u001b[0m\u001b[1;33m,\u001b[0m\u001b[0mden\u001b[0m \u001b[1;33m=\u001b[0m \u001b[0maddition\u001b[0m\u001b[1;33m(\u001b[0m\u001b[0mnum\u001b[0m\u001b[1;33m,\u001b[0m\u001b[0mden\u001b[0m\u001b[1;33m,\u001b[0m\u001b[0mint\u001b[0m\u001b[1;33m(\u001b[0m\u001b[0mtmp_num\u001b[0m\u001b[1;33m)\u001b[0m\u001b[1;33m,\u001b[0m\u001b[0mint\u001b[0m\u001b[1;33m(\u001b[0m\u001b[0mtmp_den\u001b[0m\u001b[1;33m)\u001b[0m\u001b[1;33m)\u001b[0m\u001b[1;33m\u001b[0m\u001b[1;33m\u001b[0m\u001b[0m\n\u001b[0m\u001b[0;32m     43\u001b[0m     \u001b[0mmse_num\u001b[0m \u001b[1;33m=\u001b[0m\u001b[0mnum\u001b[0m\u001b[1;33m\u001b[0m\u001b[1;33m\u001b[0m\u001b[0m\n\u001b[0;32m     44\u001b[0m     \u001b[0mmse_den\u001b[0m \u001b[1;33m=\u001b[0m \u001b[0mden\u001b[0m \u001b[1;33m*\u001b[0m \u001b[0mn\u001b[0m\u001b[1;33m\u001b[0m\u001b[1;33m\u001b[0m\u001b[0m\n",
      "\u001b[1;32m<ipython-input-62-bee3fdabaacb>\u001b[0m in \u001b[0;36maddition\u001b[1;34m(a, b, c, d)\u001b[0m\n\u001b[0;32m     21\u001b[0m \u001b[1;31m#adding num and den version of the form a/b and c/d\u001b[0m\u001b[1;33m\u001b[0m\u001b[1;33m\u001b[0m\u001b[1;33m\u001b[0m\u001b[0m\n\u001b[0;32m     22\u001b[0m \u001b[1;32mdef\u001b[0m \u001b[0maddition\u001b[0m\u001b[1;33m(\u001b[0m\u001b[0ma\u001b[0m\u001b[1;33m,\u001b[0m\u001b[0mb\u001b[0m\u001b[1;33m,\u001b[0m\u001b[0mc\u001b[0m\u001b[1;33m,\u001b[0m\u001b[0md\u001b[0m\u001b[1;33m)\u001b[0m\u001b[1;33m:\u001b[0m\u001b[1;33m\u001b[0m\u001b[1;33m\u001b[0m\u001b[0m\n\u001b[1;32m---> 23\u001b[1;33m     \u001b[0mden\u001b[0m \u001b[1;33m=\u001b[0m \u001b[0mcompute_lcm\u001b[0m\u001b[1;33m(\u001b[0m\u001b[0mb\u001b[0m\u001b[1;33m,\u001b[0m\u001b[0md\u001b[0m\u001b[1;33m)\u001b[0m\u001b[1;33m\u001b[0m\u001b[1;33m\u001b[0m\u001b[0m\n\u001b[0m\u001b[0;32m     24\u001b[0m \u001b[1;31m#     den = b*d\u001b[0m\u001b[1;33m\u001b[0m\u001b[1;33m\u001b[0m\u001b[1;33m\u001b[0m\u001b[0m\n\u001b[0;32m     25\u001b[0m     \u001b[0mnum\u001b[0m \u001b[1;33m=\u001b[0m \u001b[1;33m(\u001b[0m\u001b[1;33m(\u001b[0m\u001b[0mden\u001b[0m\u001b[1;33m/\u001b[0m\u001b[0mb\u001b[0m\u001b[1;33m)\u001b[0m\u001b[1;33m*\u001b[0m\u001b[0ma\u001b[0m\u001b[1;33m)\u001b[0m \u001b[1;33m+\u001b[0m \u001b[1;33m(\u001b[0m\u001b[1;33m(\u001b[0m\u001b[0mden\u001b[0m\u001b[1;33m/\u001b[0m\u001b[0md\u001b[0m\u001b[1;33m)\u001b[0m\u001b[1;33m*\u001b[0m\u001b[0mc\u001b[0m\u001b[1;33m)\u001b[0m\u001b[1;33m\u001b[0m\u001b[1;33m\u001b[0m\u001b[0m\n",
      "\u001b[1;32m<ipython-input-62-bee3fdabaacb>\u001b[0m in \u001b[0;36mcompute_lcm\u001b[1;34m(x, y)\u001b[0m\n\u001b[0;32m      7\u001b[0m         \u001b[0mgreater\u001b[0m \u001b[1;33m=\u001b[0m \u001b[0my\u001b[0m\u001b[1;33m\u001b[0m\u001b[1;33m\u001b[0m\u001b[0m\n\u001b[0;32m      8\u001b[0m     \u001b[1;32mwhile\u001b[0m\u001b[1;33m(\u001b[0m\u001b[1;32mTrue\u001b[0m\u001b[1;33m)\u001b[0m\u001b[1;33m:\u001b[0m\u001b[1;33m\u001b[0m\u001b[1;33m\u001b[0m\u001b[0m\n\u001b[1;32m----> 9\u001b[1;33m         \u001b[1;32mif\u001b[0m\u001b[1;33m(\u001b[0m\u001b[1;33m(\u001b[0m\u001b[0mgreater\u001b[0m \u001b[1;33m%\u001b[0m \u001b[0mx\u001b[0m \u001b[1;33m==\u001b[0m \u001b[1;36m0\u001b[0m\u001b[1;33m)\u001b[0m \u001b[1;32mand\u001b[0m \u001b[1;33m(\u001b[0m\u001b[0mgreater\u001b[0m \u001b[1;33m%\u001b[0m \u001b[0my\u001b[0m \u001b[1;33m==\u001b[0m \u001b[1;36m0\u001b[0m\u001b[1;33m)\u001b[0m\u001b[1;33m)\u001b[0m\u001b[1;33m:\u001b[0m\u001b[1;33m\u001b[0m\u001b[1;33m\u001b[0m\u001b[0m\n\u001b[0m\u001b[0;32m     10\u001b[0m             \u001b[0mlcm\u001b[0m \u001b[1;33m=\u001b[0m \u001b[0mgreater\u001b[0m\u001b[1;33m\u001b[0m\u001b[1;33m\u001b[0m\u001b[0m\n\u001b[0;32m     11\u001b[0m             \u001b[1;32mbreak\u001b[0m\u001b[1;33m\u001b[0m\u001b[1;33m\u001b[0m\u001b[0m\n",
      "\u001b[1;31mZeroDivisionError\u001b[0m: integer division or modulo by zero"
     ]
    }
   ],
   "source": [
    "num,den = mse_metric(10,[1,1,1,1,1],[2,2,2,2,2], 1,8)"
   ]
  },
  {
   "cell_type": "code",
   "execution_count": null,
   "id": "accessory-spring",
   "metadata": {},
   "outputs": [],
   "source": []
  }
 ],
 "metadata": {
  "kernelspec": {
   "display_name": "Python 3",
   "language": "python",
   "name": "python3"
  },
  "language_info": {
   "codemirror_mode": {
    "name": "ipython",
    "version": 3
   },
   "file_extension": ".py",
   "mimetype": "text/x-python",
   "name": "python",
   "nbconvert_exporter": "python",
   "pygments_lexer": "ipython3",
   "version": "3.9.2"
  }
 },
 "nbformat": 4,
 "nbformat_minor": 5
}
