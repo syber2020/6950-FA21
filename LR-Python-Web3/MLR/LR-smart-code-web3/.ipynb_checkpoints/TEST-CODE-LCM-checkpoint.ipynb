{
 "cells": [
  {
   "cell_type": "code",
   "execution_count": 2,
   "id": "geographic-spread",
   "metadata": {},
   "outputs": [
    {
     "data": {
      "text/plain": [
       "True"
      ]
     },
     "execution_count": 2,
     "metadata": {},
     "output_type": "execute_result"
    }
   ],
   "source": [
    "# starting web3 operations\n",
    "import numpy as np\n",
    "import json\n",
    "from web3 import Web3\n",
    "import time\n",
    "import numpy as np\n",
    "import pandas as pd\n",
    "from sklearn.model_selection import train_test_split\n",
    "from sklearn.datasets import load_diabetes\n",
    "\n",
    "ganache_url = \"HTTP://127.0.0.1:8545\"\n",
    "# ropsten_url =\"https://ropsten.infura.io/v3/6072fdc3b95c407caa681f63ebaf72b8\"\n",
    "web3 = Web3(Web3.HTTPProvider(ganache_url))\n",
    "# web3 = Web3(Web3.HTTPProvider(ropsten_url))\n",
    "web3.isConnected()"
   ]
  },
  {
   "cell_type": "code",
   "execution_count": 3,
   "id": "union-september",
   "metadata": {},
   "outputs": [],
   "source": [
    "abi = json.loads('[ { \"inputs\": [ { \"internalType\": \"int256[]\", \"name\": \"wnum\", \"type\": \"int256[]\" }, { \"internalType\": \"int256[]\", \"name\": \"wden\", \"type\": \"int256[]\" }, { \"internalType\": \"int256\", \"name\": \"bnum\", \"type\": \"int256\" }, { \"internalType\": \"int256\", \"name\": \"bden\", \"type\": \"int256\" } ], \"stateMutability\": \"nonpayable\", \"type\": \"constructor\" }, { \"inputs\": [], \"name\": \"get_delta_b\", \"outputs\": [], \"stateMutability\": \"nonpayable\", \"type\": \"function\" }, { \"inputs\": [ { \"internalType\": \"int256[]\", \"name\": \"xnum\", \"type\": \"int256[]\" }, { \"internalType\": \"int256[]\", \"name\": \"xden\", \"type\": \"int256[]\" } ], \"name\": \"get_delta_w\", \"outputs\": [], \"stateMutability\": \"nonpayable\", \"type\": \"function\" }, { \"inputs\": [ { \"internalType\": \"int256[]\", \"name\": \"yhnum\", \"type\": \"int256[]\" }, { \"internalType\": \"int256[]\", \"name\": \"yhden\", \"type\": \"int256[]\" }, { \"internalType\": \"int256[]\", \"name\": \"ynum\", \"type\": \"int256[]\" }, { \"internalType\": \"int256[]\", \"name\": \"yden\", \"type\": \"int256[]\" } ], \"name\": \"get_mse\", \"outputs\": [ { \"internalType\": \"int256\", \"name\": \"\", \"type\": \"int256\" }, { \"internalType\": \"int256\", \"name\": \"\", \"type\": \"int256\" } ], \"stateMutability\": \"nonpayable\", \"type\": \"function\" }, { \"inputs\": [], \"name\": \"get_new_parameters\", \"outputs\": [], \"stateMutability\": \"nonpayable\", \"type\": \"function\" }, { \"inputs\": [ { \"internalType\": \"int256[]\", \"name\": \"x_num\", \"type\": \"int256[]\" }, { \"internalType\": \"int256[]\", \"name\": \"x_den\", \"type\": \"int256[]\" } ], \"name\": \"get_y_hat\", \"outputs\": [], \"stateMutability\": \"nonpayable\", \"type\": \"function\" }, { \"inputs\": [ { \"internalType\": \"int256[]\", \"name\": \"ynum\", \"type\": \"int256[]\" }, { \"internalType\": \"int256[]\", \"name\": \"yden\", \"type\": \"int256[]\" } ], \"name\": \"get_y_hat_subtraction\", \"outputs\": [ { \"internalType\": \"int256[]\", \"name\": \"\", \"type\": \"int256[]\" }, { \"internalType\": \"int256[]\", \"name\": \"\", \"type\": \"int256[]\" } ], \"stateMutability\": \"nonpayable\", \"type\": \"function\" }, { \"inputs\": [], \"name\": \"set_bias\", \"outputs\": [ { \"internalType\": \"int256\", \"name\": \"\", \"type\": \"int256\" }, { \"internalType\": \"int256\", \"name\": \"\", \"type\": \"int256\" } ], \"stateMutability\": \"view\", \"type\": \"function\" }, { \"inputs\": [], \"name\": \"set_delta_b\", \"outputs\": [ { \"internalType\": \"int256\", \"name\": \"\", \"type\": \"int256\" }, { \"internalType\": \"int256\", \"name\": \"\", \"type\": \"int256\" } ], \"stateMutability\": \"view\", \"type\": \"function\" }, { \"inputs\": [], \"name\": \"set_delta_w\", \"outputs\": [ { \"internalType\": \"int256[]\", \"name\": \"\", \"type\": \"int256[]\" }, { \"internalType\": \"int256[]\", \"name\": \"\", \"type\": \"int256[]\" } ], \"stateMutability\": \"view\", \"type\": \"function\" }, { \"inputs\": [], \"name\": \"set_mse\", \"outputs\": [ { \"internalType\": \"int256\", \"name\": \"\", \"type\": \"int256\" }, { \"internalType\": \"int256\", \"name\": \"\", \"type\": \"int256\" } ], \"stateMutability\": \"view\", \"type\": \"function\" }, { \"inputs\": [], \"name\": \"set_weights\", \"outputs\": [ { \"internalType\": \"int256[]\", \"name\": \"\", \"type\": \"int256[]\" }, { \"internalType\": \"int256[]\", \"name\": \"\", \"type\": \"int256[]\" } ], \"stateMutability\": \"view\", \"type\": \"function\" }, { \"inputs\": [], \"name\": \"set_y_hat\", \"outputs\": [ { \"internalType\": \"int256[]\", \"name\": \"\", \"type\": \"int256[]\" }, { \"internalType\": \"int256[]\", \"name\": \"\", \"type\": \"int256[]\" } ], \"stateMutability\": \"view\", \"type\": \"function\" }, { \"inputs\": [], \"name\": \"set_y_hat_subtraction\", \"outputs\": [ { \"internalType\": \"int256[]\", \"name\": \"\", \"type\": \"int256[]\" }, { \"internalType\": \"int256[]\", \"name\": \"\", \"type\": \"int256[]\" } ], \"stateMutability\": \"view\", \"type\": \"function\" } ]')\n",
    "cont_address = \"0xF1656C65E2ecE09bb8fcCd63aA2AB0b5A7105219\"\n",
    "contract = web3.eth.contract(address=cont_address,abi=abi)"
   ]
  },
  {
   "cell_type": "code",
   "execution_count": 4,
   "id": "induced-commodity",
   "metadata": {},
   "outputs": [],
   "source": [
    "account1 = \"0x37bfB436392DaAE0E91EdcD9c4128FBcADF3919d\"\n",
    "private_key1 = \"e72044de2331844a3c0232dc23d43fb8ca4f555854b4da07e2fb530d003e5e2d\"\n",
    "account2 = \"0xfbD8f1F5878b0b5b3E627e7cc14617b05B582867\"\n",
    "private_key2=\"56c8f569b23a423f9d66d46f86f7ada7ba0d28dfba03c34f661bb15358b042bb\""
   ]
  },
  {
   "cell_type": "code",
   "execution_count": 5,
   "id": "scheduled-bristol",
   "metadata": {},
   "outputs": [
    {
     "data": {
      "text/plain": [
       "[[4158, 1, 1, 1, 1, 1, 1, 1, 1, 1], [4200, 1, 1, 1, 1, 1, 1, 1, 1, 1]]"
      ]
     },
     "execution_count": 5,
     "metadata": {},
     "output_type": "execute_result"
    }
   ],
   "source": [
    "#try to see the parameters from the constructor\n",
    "contract.functions.set_weights().call()"
   ]
  },
  {
   "cell_type": "code",
   "execution_count": 6,
   "id": "attractive-salvation",
   "metadata": {},
   "outputs": [
    {
     "data": {
      "text/plain": [
       "[178, 200]"
      ]
     },
     "execution_count": 6,
     "metadata": {},
     "output_type": "execute_result"
    }
   ],
   "source": [
    "contract.functions.set_bias().call()"
   ]
  },
  {
   "cell_type": "code",
   "execution_count": 7,
   "id": "loose-worcester",
   "metadata": {},
   "outputs": [],
   "source": [
    "#    parameters in smart contract definition\n",
    "#    int lcm ; int sub_num; int sub_den;int[] z_num; int[] z_den;int[] yh_num; int[] yh_den;\n",
    "#    int[] yh_sub_num; int[] yh_sub_den; int[] del_w_num; int[] del_w_den; int del_b_num; int del_b_den;\n",
    "#    int[] _wnum; int[] _wden; int _b_num; int _b_den; int lr_num; int lr_den;"
   ]
  },
  {
   "cell_type": "code",
   "execution_count": 8,
   "id": "shared-large",
   "metadata": {},
   "outputs": [],
   "source": [
    "#shortening numners \n",
    "def shorter(c,d):\n",
    "    c = int(c)\n",
    "    d = int(d)\n",
    "    if(c<0):\n",
    "        n = c*(-1)\n",
    "        if(len(str(n))==len(str(d)) and len(str(n))>3):      \n",
    "            a = f\"{n:.0f}\"\n",
    "            a = str(a[:-3])\n",
    "            a = int(a)*(-1)\n",
    "            b = f\"{d:.0f}\"\n",
    "            b = str(b[:-3])\n",
    "            b = int(b)\n",
    "        elif(len(str(n))>=3 and len(str(d))>=3):\n",
    "            a = f\"{n:.0f}\"\n",
    "            a = str(a)\n",
    "            b = f\"{d:.0f}\"\n",
    "            b = str(b)\n",
    "            if(len(str(a))<len(str(b))):\n",
    "                s = len(str(a))-2\n",
    "            else:\n",
    "                s = len(str(b))-2\n",
    "            a = int(a[:-s])\n",
    "            b = int(b[:-s])\n",
    "            a = a*-1 \n",
    "        else:\n",
    "            a = int(n*-1)\n",
    "            b = d\n",
    "    elif(len(str(c))==len(str(d)) and len(str(c))>3):      \n",
    "            a = f\"{c:.0f}\"\n",
    "            a = str(a[:-2])\n",
    "            a = int(a)\n",
    "            b = f\"{d:.0f}\"\n",
    "            b = str(b[:-2])\n",
    "            b = int(b)\n",
    "#     elif(len(str(c))==1 and len(str(d))>3):\n",
    "#         a = int(0)\n",
    "#         b = int(1)\n",
    "    elif(len(str(c))>3 and len(str(d))>3):\n",
    "            a = f\"{c:.0f}\"\n",
    "            a = str(a)\n",
    "            b = f\"{d:.0f}\"\n",
    "            b = str(b)\n",
    "            if(len(str(a))<len(str(b))):\n",
    "                s = len(str(a))-3\n",
    "            else:\n",
    "                s = len(str(b))-3\n",
    "            a = int(a[:-s])\n",
    "            b = int(b[:-s])\n",
    "    else:\n",
    "        a = c\n",
    "        b = d\n",
    "    return a,b"
   ]
  },
  {
   "cell_type": "code",
   "execution_count": 9,
   "id": "round-friendship",
   "metadata": {},
   "outputs": [],
   "source": [
    "def get_yhat(x_train_num,x_train_den, account, private_key, contract):\n",
    "    nonce = web3.eth.getTransactionCount(account)\n",
    "    tx_store = contract.functions.get_y_hat(\n",
    "        x_train_num,x_train_den\n",
    "         ).buildTransaction({\n",
    "        'gas': 3000000,\n",
    "        'gasPrice': web3.toWei('100', 'gwei'),\n",
    "        'from': account,\n",
    "        'nonce': nonce\n",
    "        })\n",
    "\n",
    "    signed_txn = web3.eth.account.signTransaction(tx_store, private_key=private_key)\n",
    "    start_time = time.time()\n",
    "    tx_hash = web3.eth.sendRawTransaction(signed_txn.rawTransaction)\n",
    "    tx_receipt = web3.eth.waitForTransactionReceipt(tx_hash)\n",
    "    end_time = time.time()\n",
    "#     print(\"time taken for thsi transaction is\",end_time -start_time)\n",
    "    print(\"gas used for this transactino is\",tx_receipt.gasUsed)\n",
    "    print(tx_receipt)\n",
    "#     print(\"the stored number is \", contract.functions.retrieve().call())"
   ]
  },
  {
   "cell_type": "code",
   "execution_count": 10,
   "id": "corporate-insulation",
   "metadata": {},
   "outputs": [],
   "source": [
    "def get_mse(yh_num, yh_den, y_num,y_den,account, private_key,contract):\n",
    "    nonce = web3.eth.getTransactionCount(account)\n",
    "    tx_store = contract.functions.get_mse(\n",
    "        yh_num, yh_den, y_num,y_den\n",
    "         ).buildTransaction({\n",
    "        'gas': 3000000,\n",
    "        'gasPrice': web3.toWei('100', 'gwei'),\n",
    "        'from': account,\n",
    "        'nonce': nonce\n",
    "        })\n",
    "\n",
    "    signed_txn = web3.eth.account.signTransaction(tx_store, private_key=private_key)\n",
    "    start_time = time.time()\n",
    "    tx_hash = web3.eth.sendRawTransaction(signed_txn.rawTransaction)\n",
    "    tx_receipt = web3.eth.waitForTransactionReceipt(tx_hash)\n",
    "    end_time = time.time()\n",
    "#     print(\"time taken for thsi transaction is\",end_time -start_time)\n",
    "#     print(\"gas used for this transactino is\",tx_receipt.gasUsed)\n",
    "#     print(\"the stored number is \", contract.functions.retrieve().call())"
   ]
  },
  {
   "cell_type": "code",
   "execution_count": 11,
   "id": "swedish-pixel",
   "metadata": {},
   "outputs": [],
   "source": [
    "def get_yhat_subtraction(ynum,yden, account, private_key,contract):\n",
    "    nonce = web3.eth.getTransactionCount(account)\n",
    "    tx_store = contract.functions.get_y_hat_subtraction(\n",
    "        ynum,yden\n",
    "         ).buildTransaction({\n",
    "        'gas': 3000000,\n",
    "        'gasPrice': web3.toWei('100', 'gwei'),\n",
    "        'from': account,\n",
    "        'nonce': nonce\n",
    "        })\n",
    "\n",
    "    signed_txn = web3.eth.account.signTransaction(tx_store, private_key=private_key)\n",
    "    start_time = time.time()\n",
    "    tx_hash = web3.eth.sendRawTransaction(signed_txn.rawTransaction)\n",
    "    tx_receipt = web3.eth.waitForTransactionReceipt(tx_hash)\n",
    "    end_time = time.time()\n",
    "#     print(\"time taken for thsi transaction is\",end_time -start_time)\n",
    "#     print(\"gas used for this transactino is\",tx_receipt.gasUsed)\n",
    "#     print(\"the stored number is \", contract.functions.retrieve().call())"
   ]
  },
  {
   "cell_type": "code",
   "execution_count": 12,
   "id": "traditional-daily",
   "metadata": {},
   "outputs": [],
   "source": [
    "def get_delta_w(x_train_num,x_train_den, account, private_key,contract):\n",
    "    nonce = web3.eth.getTransactionCount(account)\n",
    "    tx_store = contract.functions.get_delta_w(\n",
    "        x_train_num,x_train_den\n",
    "         ).buildTransaction({\n",
    "        'gas': 3000000,\n",
    "        'gasPrice': web3.toWei('10', 'gwei'),\n",
    "        'from': account,\n",
    "        'nonce': nonce\n",
    "        })\n",
    "\n",
    "    signed_txn = web3.eth.account.signTransaction(tx_store, private_key=private_key)\n",
    "    start_time = time.time()\n",
    "    tx_hash = web3.eth.sendRawTransaction(signed_txn.rawTransaction)\n",
    "    tx_receipt = web3.eth.waitForTransactionReceipt(tx_hash)\n",
    "    end_time = time.time()\n",
    "#     print(\"time taken for thsi transaction is\",end_time -start_time)\n",
    "#     print(\"gas used for this transactino is\",tx_receipt.gasUsed)\n",
    "#     print(\"the stored number is \", contract.functions.retrieve().call())"
   ]
  },
  {
   "cell_type": "code",
   "execution_count": 13,
   "id": "worst-charger",
   "metadata": {},
   "outputs": [],
   "source": [
    "def get_delta_b(account, private_key,contract):\n",
    "    nonce = web3.eth.getTransactionCount(account)\n",
    "    tx_store = contract.functions.get_delta_b(\n",
    "         ).buildTransaction({\n",
    "        'gas': 100000,\n",
    "        'gasPrice': web3.toWei('10', 'gwei'),\n",
    "        'from': account,\n",
    "        'nonce': nonce\n",
    "        })\n",
    "\n",
    "    signed_txn = web3.eth.account.signTransaction(tx_store, private_key=private_key)\n",
    "    start_time = time.time()\n",
    "    tx_hash = web3.eth.sendRawTransaction(signed_txn.rawTransaction)\n",
    "    tx_receipt = web3.eth.waitForTransactionReceipt(tx_hash)\n",
    "    end_time = time.time()\n",
    "#     print(\"time taken for thsi transaction is\",end_time -start_time)\n",
    "#     print(\"gas used for this transactino is\",tx_receipt.gasUsed)\n",
    "#     print(\"the stored number is \", contract.functions.retrieve().call())"
   ]
  },
  {
   "cell_type": "code",
   "execution_count": 14,
   "id": "small-modification",
   "metadata": {},
   "outputs": [],
   "source": [
    "def get_new_params(account, private_key,contract):\n",
    "    nonce = web3.eth.getTransactionCount(account)\n",
    "    tx_store = contract.functions.get_new_parameters(\n",
    "         ).buildTransaction({\n",
    "        'gas': 100000,\n",
    "        'gasPrice': web3.toWei('10', 'gwei'),\n",
    "        'from': account,\n",
    "        'nonce': nonce\n",
    "        })\n",
    "\n",
    "    signed_txn = web3.eth.account.signTransaction(tx_store, private_key=private_key)\n",
    "    start_time = time.time()\n",
    "    tx_hash = web3.eth.sendRawTransaction(signed_txn.rawTransaction)\n",
    "    tx_receipt = web3.eth.waitForTransactionReceipt(tx_hash)\n",
    "    end_time = time.time()\n",
    "#     print(\"time taken for thsi transaction is\",end_time -start_time)\n",
    "#     print(\"gas used for this transactino is\",tx_receipt.gasUsed)\n",
    "#     print(\"the stored number is \", contract.functions.retrieve().call())"
   ]
  },
  {
   "cell_type": "code",
   "execution_count": 15,
   "id": "korean-thomson",
   "metadata": {},
   "outputs": [],
   "source": [
    "# get the dataset\n",
    "data = load_diabetes()\n",
    "X = data.data\n",
    "y = data.target\n",
    "X_train, X_test, y_train, y_test = train_test_split(X, y, test_size=0.2, random_state=42)\n",
    "\n",
    "# normalize to fractions for numerator\n",
    "X_train_num = np.dot(X_train,1000).astype(int)\n",
    "X_test_num = np.dot(X_test,1000).astype(int)\n",
    "y_train_num = y_train\n",
    "y_test_num = y_test\n",
    "\n",
    "#normalize tof ractions in denominator\n",
    "X_train_den = np.full(X_train.shape, 1000) \n",
    "X_test_den = np.full(X_test.shape, 1000) \n",
    "y_train_den = np.ones(len(y_train))\n",
    "y_test_den = np.ones(len(y_test))\n"
   ]
  },
  {
   "cell_type": "code",
   "execution_count": 16,
   "id": "mathematical-czech",
   "metadata": {},
   "outputs": [],
   "source": [
    "temp_train_num = X_train_num[0]  \n",
    "temp_train_den = X_train_den[0]"
   ]
  },
  {
   "cell_type": "code",
   "execution_count": 17,
   "id": "taken-junior",
   "metadata": {},
   "outputs": [
    {
     "data": {
      "text/plain": [
       "numpy.ndarray"
      ]
     },
     "execution_count": 17,
     "metadata": {},
     "output_type": "execute_result"
    }
   ],
   "source": [
    "type(temp_train_num)"
   ]
  },
  {
   "cell_type": "code",
   "execution_count": null,
   "id": "greatest-memory",
   "metadata": {},
   "outputs": [],
   "source": []
  }
 ],
 "metadata": {
  "kernelspec": {
   "display_name": "Python 3",
   "language": "python",
   "name": "python3"
  },
  "language_info": {
   "codemirror_mode": {
    "name": "ipython",
    "version": 3
   },
   "file_extension": ".py",
   "mimetype": "text/x-python",
   "name": "python",
   "nbconvert_exporter": "python",
   "pygments_lexer": "ipython3",
   "version": "3.9.2"
  }
 },
 "nbformat": 4,
 "nbformat_minor": 5
}
