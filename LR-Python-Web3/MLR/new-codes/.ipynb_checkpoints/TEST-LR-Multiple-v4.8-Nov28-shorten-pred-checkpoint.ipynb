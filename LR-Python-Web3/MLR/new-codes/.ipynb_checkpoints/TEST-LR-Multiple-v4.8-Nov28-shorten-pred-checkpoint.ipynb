{
 "cells": [
  {
   "cell_type": "code",
   "execution_count": 1,
   "id": "eight-mercury",
   "metadata": {},
   "outputs": [],
   "source": [
    "import numpy as np\n",
    "import pandas as pd\n",
    "from sklearn.model_selection import train_test_split\n",
    "from sklearn.datasets import load_diabetes\n",
    "from sklearn.metrics import r2_score\n",
    "from sklearn.metrics import mean_squared_error"
   ]
  },
  {
   "cell_type": "code",
   "execution_count": 2,
   "id": "isolated-miracle",
   "metadata": {},
   "outputs": [
    {
     "data": {
      "text/plain": [
       "9223372036854775807"
      ]
     },
     "execution_count": 2,
     "metadata": {},
     "output_type": "execute_result"
    }
   ],
   "source": [
    "import sys\n",
    "sys.maxsize"
   ]
  },
  {
   "cell_type": "code",
   "execution_count": 3,
   "id": "fifty-simon",
   "metadata": {},
   "outputs": [
    {
     "data": {
      "text/plain": [
       "151.0"
      ]
     },
     "execution_count": 3,
     "metadata": {},
     "output_type": "execute_result"
    }
   ],
   "source": [
    "data = load_diabetes()\n",
    "X = data.data\n",
    "y = data.target\n",
    "X_train, X_test, y_train, y_test = train_test_split(X, y, test_size=0.2, random_state=42)\n",
    "y[0]"
   ]
  },
  {
   "cell_type": "code",
   "execution_count": 4,
   "id": "level-audio",
   "metadata": {},
   "outputs": [
    {
     "data": {
      "text/plain": [
       "array([219.,  70., 202., 230., 111.,  84., 242., 272.,  94.,  96.,  94.,\n",
       "       252.,  99., 297., 135.,  67., 295., 264., 170., 275., 310.,  64.,\n",
       "       128., 232., 129., 118., 263.,  77.,  48., 107., 140., 113.,  90.,\n",
       "       164., 180., 233.,  42.,  84., 172.,  63.,  48., 108., 156., 168.,\n",
       "        90.,  52., 200.,  87.,  90., 258., 136., 158.,  69.,  72., 171.,\n",
       "        95.,  72., 151., 168.,  60., 122.,  52., 187., 102., 214., 248.,\n",
       "       181., 110., 140., 202., 101., 222., 281.,  61.,  89.,  91., 186.,\n",
       "       220., 237., 233.,  68., 190.,  96.,  72., 153.,  98.,  37.,  63.,\n",
       "       184.])"
      ]
     },
     "execution_count": 4,
     "metadata": {},
     "output_type": "execute_result"
    }
   ],
   "source": [
    "y_test"
   ]
  },
  {
   "cell_type": "code",
   "execution_count": 5,
   "id": "apart-thought",
   "metadata": {},
   "outputs": [
    {
     "data": {
      "text/plain": [
       "array([[ 0.03807591,  0.05068012,  0.06169621, ..., -0.00259226,\n",
       "         0.01990842, -0.01764613],\n",
       "       [-0.00188202, -0.04464164, -0.05147406, ..., -0.03949338,\n",
       "        -0.06832974, -0.09220405],\n",
       "       [ 0.08529891,  0.05068012,  0.04445121, ..., -0.00259226,\n",
       "         0.00286377, -0.02593034],\n",
       "       ...,\n",
       "       [ 0.04170844,  0.05068012, -0.01590626, ..., -0.01107952,\n",
       "        -0.04687948,  0.01549073],\n",
       "       [-0.04547248, -0.04464164,  0.03906215, ...,  0.02655962,\n",
       "         0.04452837, -0.02593034],\n",
       "       [-0.04547248, -0.04464164, -0.0730303 , ..., -0.03949338,\n",
       "        -0.00421986,  0.00306441]])"
      ]
     },
     "execution_count": 5,
     "metadata": {},
     "output_type": "execute_result"
    }
   ],
   "source": [
    "X"
   ]
  },
  {
   "cell_type": "code",
   "execution_count": 6,
   "id": "dimensional-academy",
   "metadata": {},
   "outputs": [],
   "source": [
    "X_train_num = np.dot(X_train,1000).astype(int)\n",
    "X_test_num = np.dot(X_test,1000).astype(int)\n",
    "y_train_num = y_train\n",
    "y_test_num = y_test"
   ]
  },
  {
   "cell_type": "code",
   "execution_count": 7,
   "id": "naughty-auditor",
   "metadata": {},
   "outputs": [
    {
     "name": "stdout",
     "output_type": "stream",
     "text": [
      "[[ 70  50  12 ...  34  27  -1]\n",
      " [ -9  50 -18 ...  71   0  19]\n",
      " [  5 -44  49 ...  -2  17 -13]\n",
      " ...\n",
      " [ 30 -44 -20 ... -39 -10  -1]\n",
      " [-12 -44 -23 ...  -2 -38 -38]\n",
      " [-92 -44  28 ... -39  -5  -1]]\n"
     ]
    }
   ],
   "source": [
    "print(X_train_num)"
   ]
  },
  {
   "cell_type": "code",
   "execution_count": 8,
   "id": "social-dressing",
   "metadata": {},
   "outputs": [],
   "source": [
    "X_train_den = np.full(X_train.shape, 1000) \n",
    "X_test_den = np.full(X_test.shape, 1000) \n",
    "y_train_den = np.ones(len(y_train))\n",
    "y_test_den = np.ones(len(y_test))"
   ]
  },
  {
   "cell_type": "code",
   "execution_count": 9,
   "id": "seventh-bulgaria",
   "metadata": {},
   "outputs": [
    {
     "name": "stdout",
     "output_type": "stream",
     "text": [
      "[[1000 1000 1000 ... 1000 1000 1000]\n",
      " [1000 1000 1000 ... 1000 1000 1000]\n",
      " [1000 1000 1000 ... 1000 1000 1000]\n",
      " ...\n",
      " [1000 1000 1000 ... 1000 1000 1000]\n",
      " [1000 1000 1000 ... 1000 1000 1000]\n",
      " [1000 1000 1000 ... 1000 1000 1000]]\n"
     ]
    }
   ],
   "source": [
    "print(X_train_den)"
   ]
  },
  {
   "cell_type": "code",
   "execution_count": 10,
   "id": "fifteen-genome",
   "metadata": {},
   "outputs": [],
   "source": [
    "#shortening numners \n",
    "def shorter(c,d):\n",
    "    c = int(c)\n",
    "    d = int(d)\n",
    "    if(c<0):\n",
    "        n = c*(-1)\n",
    "        if(len(str(n))==len(str(d)) and len(str(n))>3):      \n",
    "            a = f\"{n:.0f}\"\n",
    "            a = str(a[:-3])\n",
    "            a = int(a)*(-1)\n",
    "            b = f\"{d:.0f}\"\n",
    "            b = str(b[:-3])\n",
    "            b = int(b)\n",
    "        elif(len(str(n))>=3 and len(str(d))>=3):\n",
    "            a = f\"{n:.0f}\"\n",
    "            a = str(a)\n",
    "            b = f\"{d:.0f}\"\n",
    "            b = str(b)\n",
    "            if(len(str(a))<len(str(b))):\n",
    "                s = len(str(a))-2\n",
    "            else:\n",
    "                s = len(str(b))-2\n",
    "            a = int(a[:-s])\n",
    "            b = int(b[:-s])\n",
    "            a = a*-1 \n",
    "        else:\n",
    "            a = int(n*-1)\n",
    "            b = d\n",
    "    elif(len(str(c))==len(str(d)) and len(str(c))>3):      \n",
    "            a = f\"{c:.0f}\"\n",
    "            a = str(a[:-2])\n",
    "            a = int(a)\n",
    "            b = f\"{d:.0f}\"\n",
    "            b = str(b[:-2])\n",
    "            b = int(b)\n",
    "#     elif(len(str(c))==1 and len(str(d))>3):\n",
    "#         a = int(0)\n",
    "#         b = int(1)\n",
    "    elif(len(str(c))>3 and len(str(d))>3):\n",
    "            a = f\"{c:.0f}\"\n",
    "            a = str(a)\n",
    "            b = f\"{d:.0f}\"\n",
    "            b = str(b)\n",
    "            if(len(str(a))<len(str(b))):\n",
    "                s = len(str(a))-3\n",
    "            else:\n",
    "                s = len(str(b))-3\n",
    "            a = int(a[:-s])\n",
    "            b = int(b[:-s])\n",
    "    else:\n",
    "        a = c\n",
    "        b = d\n",
    "    return a,b"
   ]
  },
  {
   "cell_type": "code",
   "execution_count": 11,
   "id": "boring-overview",
   "metadata": {},
   "outputs": [],
   "source": [
    "#condensed function multiply and add matrix with numerator and denominator one row at a time\n",
    "# Python Program to find the L.C.M. of two input number\n",
    "from math import gcd\n",
    "def compute_lcm(x, y):\n",
    "   # choose the greater number \n",
    "    if (x > y):\n",
    "        greater = x\n",
    "    else:\n",
    "        greater = y\n",
    "    while(True):\n",
    "        if(x==0):\n",
    "            lcm = y\n",
    "            break\n",
    "        elif(y==0):\n",
    "            lcm = x\n",
    "            break\n",
    "        elif((greater % x == 0) and (greater % y == 0)):\n",
    "            lcm = greater\n",
    "            break\n",
    "        greater += 1\n",
    "    return lcm\n",
    " \n",
    "#Subtracting 2 numbers of the form a/b -c/d\n",
    "def subtraction(a,b,c,d):\n",
    "    den = compute_lcm(b,d)\n",
    "    if b ==0:\n",
    "        num = c ; den = d\n",
    "    elif d==0:\n",
    "        num= a ; den = b\n",
    "    else:    \n",
    "        num = ((den/b)*a) - ((den/d)*c)\n",
    "    return num,den\n",
    "\n",
    "#adding array of elements of the form x/y\n",
    "def add_array(a_num,a_den):\n",
    "    #will work for an int array of any length\n",
    "    lcm = 1;sum1 =0\n",
    "    for i in a_den:\n",
    "        lcm = int(lcm*i/gcd(lcm, i))\n",
    "#     print(\"lcm is \",lcm)\n",
    "    for i in range(len(a_num)):\n",
    "        sum1 = sum1 + (a_num[i]*(a_den[i]/lcm))\n",
    "#         print(a_num[i],a_den[i],lcm)      \n",
    "#     print(\"sum is \", sum1)\n",
    "    return sum1,lcm\n",
    "\n",
    "#adding two numbers of the form a/b + c/d\n",
    "def addition(a,b,c,d):\n",
    "    den = compute_lcm(b,d)\n",
    "    if b ==0:\n",
    "        num = c ; den = d\n",
    "    elif d==0:\n",
    "        num= a ; den = b\n",
    "    else:    \n",
    "        num = ((den/b)*a) + ((den/d)*c)\n",
    "    return int(num),int(den)\n",
    "\n",
    "#multiplying two arrays of fraction and adding them  for row by column multiplication\n",
    "def multiply(a_num,a_den,b_num, b_den):\n",
    "#     print(type(a_num))\n",
    "    z_num = np.zeros(len(a_num)).astype(int)\n",
    "    z_den = np.zeros(len(a_den)).astype(int)\n",
    "#     print(\"printing anum,aden,bnum,bden\",a_num,a_den,b_num,b_den)                                   \n",
    "    for i in range(len(a_num)):\n",
    "        z_num[i]=(a_num[i]*b_num[i])     \n",
    "        z_den[i]=(a_den[i]*b_den[i])\n",
    "    \n",
    "    x = z_num.tolist()\n",
    "    y = z_den.tolist()\n",
    "#     print(\"Printing z_num and z_den\", x , y )\n",
    "    num,den = add_array(x,y)\n",
    "#     print(\"multiplication results is\",num,den) \n",
    "    return num,den\n",
    "    "
   ]
  },
  {
   "cell_type": "code",
   "execution_count": 12,
   "id": "original-luther",
   "metadata": {},
   "outputs": [],
   "source": [
    "#claculate y_hat =wx+b | x is in the form a single array and w is in the form of array too\n",
    "# need toc hange w into wnum and wden\n",
    "def y_hat(w_num,w_den,x_num,x_den,b):\n",
    "    y_hat_num = np.zeros(x_num.shape[0]).astype(int)\n",
    "    y_hat_den = np.zeros(x_den.shape[0]).astype(int)\n",
    "    #multiplying w and x\n",
    "    for i in range(x_num.shape[0]):\n",
    "#         print(\"iteration number \",i)\n",
    "        x_n = x_num[i] \n",
    "        x_d = x_den[i] \n",
    "#         print(x_n,x_d,w_num,w_den)\n",
    "        temp_n, temp_d = multiply(x_n,x_d,w_num,w_den)\n",
    "#         print(\"printing temporary values\",temp_n,temp_d)\n",
    "        y_hat_num[i],y_hat_den[i] = addition( temp_n, temp_d,b[0],b[1])\n",
    "        y_hat_num[i],y_hat_den[i] = shorter(y_hat_num[i],y_hat_den[i])   #trying this\n",
    "#     print(\"y_hat values for this iterationsa are\",y_hat_num,y_hat_den)\n",
    "    return y_hat_num,y_hat_den"
   ]
  },
  {
   "cell_type": "code",
   "execution_count": 13,
   "id": "tight-proportion",
   "metadata": {},
   "outputs": [],
   "source": [
    "#calculating mean square values\n",
    "def mse(y_hat_num,y_hat_den,y_num,y_den,n):\n",
    "    num=0;den =0\n",
    "    for i in range(len(y_hat_num)):\n",
    "        num1,den1=subtraction(y_num[i],y_den[i],y_hat_num[i],y_hat_den[i])\n",
    "        num1 = num1*num1\n",
    "        den1 = den1*den1\n",
    "        num,den = addition(num,den,num1,den1)\n",
    "    den = den * n\n",
    "#     print(num,den)\n",
    "    return num,den"
   ]
  },
  {
   "cell_type": "code",
   "execution_count": 14,
   "id": "informational-suspension",
   "metadata": {},
   "outputs": [],
   "source": [
    "#calculating subtraction of Y_hat Y\n",
    "def y_hat_substraction(y_hat_num,y_hat_den,y_num,y_den):\n",
    "    y_diff =np.zeros((y_hat_num.shape[0],2))\n",
    "    for i in range(len(y_hat_num)):\n",
    "        y_diff[i][0],y_diff[i][1] = subtraction(y_hat_num[i],y_hat_den[i], y_num[i], y_den[i])\n",
    "    return y_diff\n",
    "\n"
   ]
  },
  {
   "cell_type": "code",
   "execution_count": 15,
   "id": "younger-shareware",
   "metadata": {},
   "outputs": [],
   "source": [
    "#getting delta w with respect \n",
    "#need change - can call the subtraction of y_hat from y\n",
    "def delta_w(y_hat_diff,x_num, x_den, n):\n",
    "    del_w_num = np.zeros(x_num.shape[1])\n",
    "    del_w_den = np.zeros(x_num.shape[1])\n",
    "    \n",
    "    x_num = x_num.T\n",
    "    x_den = x_den.T\n",
    "    y_num = y_hat_diff[:,0]\n",
    "    y_den = y_hat_diff[:,1]\n",
    "    \n",
    "#     print(\"getting delta w num and den \")\n",
    "    for i in range(len(del_w_num)):\n",
    "#         print(\"printing X\",len(x_num[i]))\n",
    "#         print(\"printing X\",len(x_den[i]))\n",
    "#         print(\"printing y diff\",len( y_num))\n",
    "#         print(\"printing y diff\", len(y_den))\n",
    "        del_w_num[i],del_w_den[i] = multiply(x_num[i],x_den[i],y_num,y_den)\n",
    "        del_w_num[i] = del_w_num[i]*2\n",
    "        del_w_den[i] = del_w_den[i]*n\n",
    "#     print(\"delta w num and den are\",del_w_num,del_w_den)\n",
    "    return del_w_num,del_w_den\n",
    "\n",
    "    \n",
    "    "
   ]
  },
  {
   "cell_type": "code",
   "execution_count": 16,
   "id": "environmental-optimization",
   "metadata": {},
   "outputs": [],
   "source": [
    "#getting delta b \n",
    "def delta_b(y_hat_diff):\n",
    "\n",
    "#     print(type(y_hat_diff))\n",
    "    yh_num = np.array(y_hat_diff[:,0]).astype(int)\n",
    "    yh_den = np.array(y_hat_diff[:,1]).astype(int)\n",
    "#     print(type(yh_num[0]))\n",
    "#     print(type(yh_den[0]))    \n",
    "#     print(\"printing yh_num\",yh_num)\n",
    "#     print(\"printing yh_den\",yh_den)\n",
    "    num,den = add_array(yh_num, yh_den)\n",
    "    num = num*2\n",
    "    den = den*len(yh_num)\n",
    "#     print(\"printing delta_b\", num,den)\n",
    "    return num,den"
   ]
  },
  {
   "cell_type": "code",
   "execution_count": 17,
   "id": "golden-browse",
   "metadata": {},
   "outputs": [],
   "source": [
    "# get new weights and biases\n",
    "def get_new_params(lr, dw_num,dw_den,db_num,db_den,w_num,w_den,b_num,b_den):\n",
    "    \n",
    "    for i in range(len(dw_num)):\n",
    "        dw_num[i]= dw_num[i]*lr[0]\n",
    "        dw_den[i]= dw_den[i]*lr[1]\n",
    "   \n",
    "    btemp_num = lr[0] * db_num\n",
    "    btemp_den = lr[1] * db_den \n",
    "\n",
    "    for i in range(len(dw_num)):\n",
    "        dw_num[i],dw_den[i] = subtraction(w_num[i],w_den[i],dw_num[i],dw_den[i]) \n",
    "    \n",
    "    db_num,db_den = subtraction(b_num,b_den,btemp_num,btemp_den)\n",
    "#     print(\"printing new weight parameters\", dw_num,dw_den)\n",
    "#     print(\"printing new bias parameters\",db_num,db_den)\n",
    "    return  dw_num,dw_den,db_num,db_den"
   ]
  },
  {
   "cell_type": "code",
   "execution_count": 18,
   "id": "smooth-filling",
   "metadata": {},
   "outputs": [],
   "source": [
    "#normalize weights and bias\n",
    "def normalize_weights_bias(wnum,wden, bnum,bden):\n",
    "    wn_num = np.zeros(10) \n",
    "    wn_den = np.zeros(10)\n",
    "    for i in range (len(wf_num)):\n",
    "        wn_num[i] = int((wnum[i]/wden[i]) * 100)\n",
    "        wn_den[i] = 100\n",
    "    bnum = int(bnum/bden * 100)\n",
    "    bden = 100\n",
    "    \n",
    "#     print(\"Normalizing weights and biases\",wn_num,wn_den, bnum, bden)\n",
    "    return wn_num, wn_den,bnum, bden"
   ]
  },
  {
   "cell_type": "code",
   "execution_count": 19,
   "id": "roman-horizon",
   "metadata": {},
   "outputs": [],
   "source": [
    "wnum = np.ones(10)\n",
    "wden = np.ones(10)\n",
    "b =[1,1]\n",
    "bnum =1\n",
    "bden =1\n",
    "lr = [1,1000]"
   ]
  },
  {
   "cell_type": "code",
   "execution_count": 20,
   "id": "governmental-flight",
   "metadata": {},
   "outputs": [
    {
     "name": "stdout",
     "output_type": "stream",
     "text": [
      "[63. 62. 67. 66. 62. 62.  0. 63. 66. 66.] [100. 100. 100. 100. 100. 100. 100. 100. 100. 100.] 12946 100\n"
     ]
    }
   ],
   "source": [
    "#getting y_hat = wx+b and , this matches with my main code\n",
    "wnum = np.ones(10)\n",
    "wden = np.ones(10)\n",
    "b =[1,1]\n",
    "bnum =1\n",
    "bden =1\n",
    "lr = [1,1000]\n",
    "loss_num =[]\n",
    "loss_den=[]\n",
    "for i in range(1000):\n",
    "    yh_num,yh_den = y_hat(wnum,wden,X_train_num, X_train_den,b)\n",
    "#     print(\"bias is \",(b))\n",
    "#     print(\"printing y_hat results\",yh_num, yh_den)\n",
    "\n",
    "    #getting MSE, MSE matches with my main code\n",
    "    mse_num,mse_den= mse(yh_num, yh_den, y_train_num,y_train_den,len(yh_num))\n",
    "    loss_num.append(mse_num)\n",
    "    loss_den.append(mse_den)\n",
    "#     print(\"loss is \",mse_num, mse_den)\n",
    "\n",
    "    #getting y_hat differenc\n",
    "    y_diff = y_hat_substraction(yh_num,yh_den,y_train_num,y_train_den)\n",
    "    y_diff\n",
    "\n",
    "    # get delta_W\n",
    "    delw_num,delw_den = delta_w(y_diff,X_train_num,X_train_den, len(yh_num))\n",
    "\n",
    "    # get delta_b\n",
    "    delb_num, delb_den = delta_b(y_diff)\n",
    "\n",
    "    #get new parameters\n",
    "    wf_num,wf_den,bf_num,bf_den = get_new_params(lr, delw_num,delw_den,delb_num,delb_den,wnum,wden,bnum,bden)\n",
    "\n",
    "    #normalize weights and bias parameters\n",
    "    wnum,wden, bnum, bden = normalize_weights_bias(wf_num,wf_den,bf_num,bf_den)\n",
    "    b[0] = bnum\n",
    "    b[1] = bden\n",
    "print(wnum,wden, bnum, bden)"
   ]
  },
  {
   "cell_type": "code",
   "execution_count": 21,
   "id": "convertible-secretariat",
   "metadata": {},
   "outputs": [],
   "source": [
    "loss1000 = []\n",
    "for i in range(len(loss_num)):\n",
    "    loss1000.append(loss_num[i]/loss_den[i])"
   ]
  },
  {
   "cell_type": "code",
   "execution_count": 22,
   "id": "acceptable-enlargement",
   "metadata": {},
   "outputs": [
    {
     "name": "stdout",
     "output_type": "stream",
     "text": [
      "[ 1096.     0.  4021.  2979.  1095.   444. -1938.  2351.  3238.  2168.] [100. 100. 100. 100. 100. 100. 100. 100. 100. 100.] 15317 100\n"
     ]
    }
   ],
   "source": [
    "#getting y_hat = wx+b and , this matches with my main code\n",
    "wnum = np.ones(10)\n",
    "wden = np.ones(10)\n",
    "b =[1,1]\n",
    "bnum =1\n",
    "bden =1\n",
    "lr = [1,100]\n",
    "loss_num =[]\n",
    "loss_den=[]\n",
    "for i in range(1000):\n",
    "    yh_num,yh_den = y_hat(wnum,wden,X_train_num, X_train_den,b)\n",
    "#     print(\"bias is \",(b))\n",
    "#     print(\"printing y_hat results\",yh_num, yh_den)\n",
    "\n",
    "    #getting MSE, MSE matches with my main code\n",
    "    mse_num,mse_den= mse(yh_num, yh_den, y_train_num,y_train_den,len(yh_num))\n",
    "    loss_num.append(mse_num)\n",
    "    loss_den.append(mse_den)\n",
    "#     print(\"loss is \",mse_num, mse_den)\n",
    "\n",
    "    #getting y_hat differenc\n",
    "    y_diff = y_hat_substraction(yh_num,yh_den,y_train_num,y_train_den)\n",
    "    y_diff\n",
    "\n",
    "    # get delta_W\n",
    "    delw_num,delw_den = delta_w(y_diff,X_train_num,X_train_den, len(yh_num))\n",
    "\n",
    "    # get delta_b\n",
    "    delb_num, delb_den = delta_b(y_diff)\n",
    "\n",
    "    #get new parameters\n",
    "    wf_num,wf_den,bf_num,bf_den = get_new_params(lr, delw_num,delw_den,delb_num,delb_den,wnum,wden,bnum,bden)\n",
    "\n",
    "    #normalize weights and bias parameters\n",
    "    wnum,wden, bnum, bden = normalize_weights_bias(wf_num,wf_den,bf_num,bf_den)\n",
    "    b[0] = bnum\n",
    "    b[1] = bden\n",
    "print(wnum,wden, bnum, bden)"
   ]
  },
  {
   "cell_type": "code",
   "execution_count": 23,
   "id": "instructional-worthy",
   "metadata": {},
   "outputs": [],
   "source": [
    "loss100 = []\n",
    "for i in range(len(loss_num)):\n",
    "    loss100.append(loss_num[i]/loss_den[i])"
   ]
  },
  {
   "cell_type": "code",
   "execution_count": null,
   "id": "complex-buffalo",
   "metadata": {},
   "outputs": [],
   "source": [
    "#getting y_hat = wx+b and , this matches with my main code\n",
    "wnum = np.ones(10)\n",
    "wden = np.ones(10)\n",
    "b =[1,1]\n",
    "bnum =1\n",
    "bden =1\n",
    "lr = [1,10]\n",
    "loss_num =[]\n",
    "loss_den=[]\n",
    "for i in range(1000):\n",
    "    yh_num,yh_den = y_hat(wnum,wden,X_train_num, X_train_den,b)\n",
    "#     print(\"bias is \",(b))\n",
    "#     print(\"printing y_hat results\",yh_num, yh_den)\n",
    "\n",
    "    #getting MSE, MSE matches with my main code\n",
    "    mse_num,mse_den= mse(yh_num, yh_den, y_train_num,y_train_den,len(yh_num))\n",
    "    loss_num.append(mse_num)\n",
    "    loss_den.append(mse_den)\n",
    "#     print(\"loss is \",mse_num, mse_den)\n",
    "\n",
    "    #getting y_hat differenc\n",
    "    y_diff = y_hat_substraction(yh_num,yh_den,y_train_num,y_train_den)\n",
    "    y_diff\n",
    "\n",
    "    # get delta_W\n",
    "    delw_num,delw_den = delta_w(y_diff,X_train_num,X_train_den, len(yh_num))\n",
    "\n",
    "    # get delta_b\n",
    "    delb_num, delb_den = delta_b(y_diff)\n",
    "\n",
    "    #get new parameters\n",
    "    wf_num,wf_den,bf_num,bf_den = get_new_params(lr, delw_num,delw_den,delb_num,delb_den,wnum,wden,bnum,bden)\n",
    "\n",
    "    #normalize weights and bias parameters\n",
    "    wnum,wden, bnum, bden = normalize_weights_bias(wf_num,wf_den,bf_num,bf_den)\n",
    "    b[0] = bnum\n",
    "    b[1] = bden\n",
    "print(wnum,wden, bnum, bden)"
   ]
  },
  {
   "cell_type": "code",
   "execution_count": null,
   "id": "planned-fantasy",
   "metadata": {},
   "outputs": [],
   "source": [
    "loss10 = []\n",
    "for i in range(len(loss_num)):\n",
    "    loss10.append(loss_num[i]/loss_den[i])"
   ]
  },
  {
   "cell_type": "code",
   "execution_count": null,
   "id": "visible-possession",
   "metadata": {},
   "outputs": [],
   "source": [
    "print(loss10)"
   ]
  },
  {
   "cell_type": "code",
   "execution_count": null,
   "id": "democratic-familiar",
   "metadata": {},
   "outputs": [],
   "source": [
    "#getting y_hat = wx+b and , this matches with my main code\n",
    "wnum = np.ones(10)\n",
    "wden = np.ones(10)\n",
    "b =[1,1]\n",
    "bnum =1\n",
    "bden =1\n",
    "lr = [5,10]\n",
    "loss_num =[]\n",
    "loss_den=[]\n",
    "for i in range(1000):\n",
    "    yh_num,yh_den = y_hat(wnum,wden,X_train_num, X_train_den,b)\n",
    "#     print(\"bias is \",(b))\n",
    "#     print(\"printing y_hat results\",yh_num, yh_den)\n",
    "\n",
    "    #getting MSE, MSE matches with my main code\n",
    "    mse_num,mse_den= mse(yh_num, yh_den, y_train_num,y_train_den,len(yh_num))\n",
    "    loss_num.append(mse_num)\n",
    "    loss_den.append(mse_den)\n",
    "#     print(\"loss is \",mse_num, mse_den)\n",
    "#     print(\"mse\",mse_num, mse_den)\n",
    "    #getting y_hat differenc\n",
    "    y_diff = y_hat_substraction(yh_num,yh_den,y_train_num,y_train_den)\n",
    "#     print(\"y_diff printing\",y_diff)\n",
    "\n",
    "    # get delta_W\n",
    "    delw_num,delw_den = delta_w(y_diff,X_train_num,X_train_den, len(yh_num))\n",
    "#     print(\"delta w values\", delw_num, delw_den)\n",
    "    # get delta_b\n",
    "    delb_num, delb_den = delta_b(y_diff)\n",
    "#     print(\"delta b \", delb_num, delb_den)\n",
    "    #get new parameters\n",
    "    wf_num,wf_den,bf_num,bf_den = get_new_params(lr, delw_num,delw_den,delb_num,delb_den,wnum,wden,bnum,bden)\n",
    "\n",
    "    #normalize weights and bias parameters\n",
    "    wnum,wden, bnum, bden = normalize_weights_bias(wf_num,wf_den,bf_num,bf_den)\n",
    "    b[0] = bnum\n",
    "    b[1] = bden\n",
    "print(\"normalized weights\",wnum,wden, bnum, bden);"
   ]
  },
  {
   "cell_type": "code",
   "execution_count": null,
   "id": "delayed-camera",
   "metadata": {},
   "outputs": [],
   "source": [
    "loss5 = []\n",
    "for i in range(len(loss_num)):\n",
    "    loss5.append(loss_num[i]/loss_den[i])"
   ]
  },
  {
   "cell_type": "code",
   "execution_count": null,
   "id": "planned-retailer",
   "metadata": {},
   "outputs": [],
   "source": []
  },
  {
   "cell_type": "code",
   "execution_count": null,
   "id": "asian-portsmouth",
   "metadata": {},
   "outputs": [],
   "source": [
    "print(loss5,loss10,loss100,loss1000)"
   ]
  },
  {
   "cell_type": "code",
   "execution_count": null,
   "id": "hollow-butterfly",
   "metadata": {
    "scrolled": true
   },
   "outputs": [],
   "source": [
    "# losses = {}\n",
    "# for lr in [0.5, 0.1, 0.01, 0.001]:\n",
    "#     model = LinearRegression(learning_rate=lr)\n",
    "#     model.fit(X_train, y_train)\n",
    "#     losses[f'LR={str(lr)}'] = model.loss\n",
    "    \n",
    "# import matplotlib.pyplot as plt  \n",
    "# xs = np.arange(len(loss5))\n",
    "\n",
    "# plt.plot(xs, loss5, lw=3, label=\"LR = 0.5\")\n",
    "# plt.plot(xs, loss10, lw=3, label=\"LR = 0.1\")\n",
    "# plt.plot(xs, loss100, lw=3, label=\"LR = 0.01\")\n",
    "# plt.plot(xs, loss1000, lw=3, label=\"LR = 0.001\")\n",
    "# plt.title('Loss per iteration (MSE) for different learning rates in Fractions', size=20)\n",
    "# plt.xlabel('Iteration', size=14)\n",
    "# plt.ylabel('Loss', size=14)\n",
    "# plt.legend()\n",
    "# plt.show()"
   ]
  },
  {
   "cell_type": "code",
   "execution_count": null,
   "id": "intermediate-organizer",
   "metadata": {},
   "outputs": [],
   "source": [
    "# import matplotlib.pyplot as plt  \n",
    "# xs = np.arange(len(loss5))\n",
    "# # plt.plot(xs, losses['LR=0.5'], lw=3, label=f\"LR = 0.5, Final = {losses['LR=0.5'][-1]:.2f}\")\n",
    "\n",
    "\n",
    "# plt.plot(xs, loss5, lw=3, label=f\"LR = 0.5, Final ={int(loss5[-1])} \")\n",
    "# plt.plot(xs, loss10, lw=3, label=f\"LR = 0.1, final ={int(loss10[-1])}\")\n",
    "# plt.plot(xs, loss100, lw=3, label=f\"LR = 0.01, final ={int(loss100[-1])}\")\n",
    "# plt.plot(xs, loss1000, lw=3, label=f\"LR = 0.001, final ={int(loss1000[-1])}\")\n",
    "# # plt.title('Fraction computation MSE for different learning rate', size=20)\n",
    "# plt.xlabel('Iteration', size=14)\n",
    "# plt.ylabel('Loss', size=14)\n",
    "# plt.legend()\n",
    "\n",
    "# plt.savefig(\"python-fraction.pdf\")\n",
    "# plt.show()"
   ]
  },
  {
   "cell_type": "code",
   "execution_count": null,
   "id": "statutory-choice",
   "metadata": {},
   "outputs": [],
   "source": [
    "# gcd(10,100)"
   ]
  },
  {
   "cell_type": "code",
   "execution_count": null,
   "id": "seeing-queensland",
   "metadata": {},
   "outputs": [],
   "source": [
    "print(\"normalized weights\",wnum,wden, bnum, bden);"
   ]
  },
  {
   "cell_type": "code",
   "execution_count": null,
   "id": "czech-greene",
   "metadata": {},
   "outputs": [],
   "source": [
    "w = wnum/wden\n",
    "w"
   ]
  },
  {
   "cell_type": "code",
   "execution_count": null,
   "id": "banner-chrome",
   "metadata": {},
   "outputs": [],
   "source": [
    "b = bnum/bden\n",
    "b"
   ]
  },
  {
   "cell_type": "code",
   "execution_count": null,
   "id": "consolidated-unemployment",
   "metadata": {},
   "outputs": [],
   "source": [
    "y_test"
   ]
  },
  {
   "cell_type": "code",
   "execution_count": null,
   "id": "respective-housing",
   "metadata": {},
   "outputs": [],
   "source": [
    "# perform prediction\n",
    "\n",
    "pred =[]\n",
    "for i in range(X_test.shape[0]):\n",
    "    sum =0\n",
    "    for j in range (len(wnum)):\n",
    "        sum = sum + X_test[i][j] * w[j]\n",
    "    pred.append(sum+b)\n",
    "print(pred)"
   ]
  },
  {
   "cell_type": "code",
   "execution_count": null,
   "id": "suited-kingdom",
   "metadata": {},
   "outputs": [],
   "source": [
    "y_pred = np.array(pred)\n",
    "y_pred"
   ]
  },
  {
   "cell_type": "code",
   "execution_count": null,
   "id": "proud-crazy",
   "metadata": {},
   "outputs": [],
   "source": [
    "score=r2_score(y_test,y_pred)\n",
    "print('r2 socre is' ,score)\n",
    "print('mean_sqrd_error is==',mean_squared_error(y_test,y_pred))\n",
    "print('root_mean_squared error of is==',np.sqrt(mean_squared_error(y_test,y_pred)))"
   ]
  },
  {
   "cell_type": "code",
   "execution_count": null,
   "id": "corporate-polish",
   "metadata": {},
   "outputs": [],
   "source": [
    "y_pred = np.sort(y_pred)\n",
    "y_pred"
   ]
  },
  {
   "cell_type": "code",
   "execution_count": null,
   "id": "dated-texas",
   "metadata": {},
   "outputs": [],
   "source": [
    "y_test = np.sort(y_test)\n",
    "y_test"
   ]
  },
  {
   "cell_type": "code",
   "execution_count": null,
   "id": "reverse-import",
   "metadata": {
    "scrolled": true
   },
   "outputs": [],
   "source": [
    "import matplotlib.pyplot as plt\n",
    "x = np.arange(len(y_test))\n",
    "plt.scatter(x, y_test,label=\"True Value\")\n",
    "plt.scatter(x, y_pred,label=\"Predicted Value\")\n",
    "plt.xlabel('Prediction sample', size=14)\n",
    "plt.ylabel('Predicted value', size=14)\n",
    "plt.legend()\n",
    "plt.savefig('MLR-1000.pdf')\n",
    "plt.show()"
   ]
  },
  {
   "cell_type": "code",
   "execution_count": null,
   "id": "pursuant-portugal",
   "metadata": {},
   "outputs": [],
   "source": [
    "wnum = np.ones(10)\n",
    "wden = np.ones(10)\n",
    "b =[1,1]\n",
    "bnum =1\n",
    "bden =1\n",
    "lr = [5,10]\n",
    "loss_num =[]\n",
    "loss_den=[]\n",
    "for i in range(200):\n",
    "    yh_num,yh_den = y_hat(wnum,wden,X_train_num, X_train_den,b)\n",
    "#     print(\"bias is \",(b))\n",
    "#     print(\"printing y_hat results\",yh_num, yh_den)\n",
    "\n",
    "    #getting MSE, MSE matches with my main code\n",
    "    mse_num,mse_den= mse(yh_num, yh_den, y_train_num,y_train_den,len(yh_num))\n",
    "    loss_num.append(mse_num)\n",
    "    loss_den.append(mse_den)\n",
    "#     print(\"loss is \",mse_num, mse_den)\n",
    "#     print(\"mse\",mse_num, mse_den)\n",
    "    #getting y_hat differenc\n",
    "    y_diff = y_hat_substraction(yh_num,yh_den,y_train_num,y_train_den)\n",
    "#     print(\"y_diff printing\",y_diff)\n",
    "\n",
    "    # get delta_W\n",
    "    delw_num,delw_den = delta_w(y_diff,X_train_num,X_train_den, len(yh_num))\n",
    "#     print(\"delta w values\", delw_num, delw_den)\n",
    "    # get delta_b\n",
    "    delb_num, delb_den = delta_b(y_diff)\n",
    "#     print(\"delta b \", delb_num, delb_den)\n",
    "    #get new parameters\n",
    "    wf_num,wf_den,bf_num,bf_den = get_new_params(lr, delw_num,delw_den,delb_num,delb_den,wnum,wden,bnum,bden)\n",
    "\n",
    "    #normalize weights and bias parameters\n",
    "    wnum,wden, bnum, bden = normalize_weights_bias(wf_num,wf_den,bf_num,bf_den)\n",
    "    b[0] = bnum\n",
    "    b[1] = bden\n",
    "print(\"normalized weights\",wnum,wden, bnum, bden);"
   ]
  },
  {
   "cell_type": "code",
   "execution_count": null,
   "id": "confirmed-opportunity",
   "metadata": {},
   "outputs": [],
   "source": [
    "w = wnum/wden\n",
    "b = bnum/bden\n",
    "pred =[]\n",
    "for i in range(X_test.shape[0]):\n",
    "    sum =0\n",
    "    for j in range (len(wnum)):\n",
    "        sum = sum + X_test[i][j] * w[j]\n",
    "    pred.append(sum+b)\n",
    "y_pred = np.array(pred)\n",
    "y_pred = np.sort(y_pred)\n",
    "y_test = np.sort(y_test)"
   ]
  },
  {
   "cell_type": "code",
   "execution_count": null,
   "id": "popular-convergence",
   "metadata": {},
   "outputs": [],
   "source": [
    "import matplotlib.pyplot as plt\n",
    "x = np.arange(len(y_test))\n",
    "plt.scatter(x, y_test,label=\"True Value\")\n",
    "plt.scatter(x, y_pred,label=\"Predicted Value\")\n",
    "plt.xlabel('Prediction sample', size=14)\n",
    "plt.ylabel('Predicted value', size=14)\n",
    "plt.legend()\n",
    "plt.savefig('MLR-200.pdf')\n",
    "plt.show()"
   ]
  },
  {
   "cell_type": "code",
   "execution_count": null,
   "id": "renewable-tribune",
   "metadata": {},
   "outputs": [],
   "source": []
  }
 ],
 "metadata": {
  "kernelspec": {
   "display_name": "Python 3",
   "language": "python",
   "name": "python3"
  },
  "language_info": {
   "codemirror_mode": {
    "name": "ipython",
    "version": 3
   },
   "file_extension": ".py",
   "mimetype": "text/x-python",
   "name": "python",
   "nbconvert_exporter": "python",
   "pygments_lexer": "ipython3",
   "version": "3.9.2"
  }
 },
 "nbformat": 4,
 "nbformat_minor": 5
}
