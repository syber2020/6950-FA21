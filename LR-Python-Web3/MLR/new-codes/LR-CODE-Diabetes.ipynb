{
 "cells": [
  {
   "cell_type": "code",
   "execution_count": 8,
   "id": "congressional-leeds",
   "metadata": {},
   "outputs": [],
   "source": [
    "import numpy as np\n",
    "import pandas as pd\n",
    "from sklearn.linear_model import LinearRegression\n",
    "from sklearn.model_selection import train_test_split\n",
    "from sklearn.datasets import load_diabetes"
   ]
  },
  {
   "cell_type": "code",
   "execution_count": 9,
   "id": "canadian-employee",
   "metadata": {},
   "outputs": [],
   "source": [
    "data = load_diabetes()\n",
    "X = data.data\n",
    "y = data.target\n",
    "X_train, X_test, y_train, y_test = train_test_split(X, y, test_size=0.2, random_state=42)\n"
   ]
  },
  {
   "cell_type": "code",
   "execution_count": 12,
   "id": "cellular-milan",
   "metadata": {},
   "outputs": [],
   "source": [
    "reg = LinearRegression().fit(X_train,y_train)\n",
    "predicted = reg.predict(X_test)"
   ]
  },
  {
   "cell_type": "markdown",
   "id": "technological-anxiety",
   "metadata": {},
   "source": [
    "## Testing with scikitlearn"
   ]
  },
  {
   "cell_type": "code",
   "execution_count": 19,
   "id": "hispanic-liberia",
   "metadata": {},
   "outputs": [
    {
     "name": "stdout",
     "output_type": "stream",
     "text": [
      "r2 socre is 0.45260660216173787\n",
      "mean_sqrd_error is== 2900.1732878832318\n",
      "root_mean_squared error of is== 53.8532569849144\n"
     ]
    }
   ],
   "source": [
    "# importing r2_score module\n",
    "from sklearn.metrics import r2_score\n",
    "from sklearn.metrics import mean_squared_error\n",
    "# predicting the accuracy score\n",
    "score=r2_score(y_test,predicted)\n",
    "print('r2 socre is' ,score)\n",
    "print('mean_sqrd_error is==',mean_squared_error(y_test,predicted))\n",
    "print('root_mean_squared error of is==',np.sqrt(mean_squared_error(y_test,predicted)))"
   ]
  },
  {
   "cell_type": "code",
   "execution_count": 20,
   "id": "failing-windows",
   "metadata": {},
   "outputs": [],
   "source": [
    "X_train_num = np.dot(X_train,1000).astype(int)\n",
    "X_test_num = np.dot(X_test,1000).astype(int)\n",
    "y_train_num = y_train\n",
    "y_test_num = y_test"
   ]
  },
  {
   "cell_type": "code",
   "execution_count": 21,
   "id": "heard-seafood",
   "metadata": {},
   "outputs": [],
   "source": [
    "reg = LinearRegression().fit(X_train_num,y_train)\n",
    "predicted_num = reg.predict(X_test_num)"
   ]
  },
  {
   "cell_type": "code",
   "execution_count": 22,
   "id": "danish-special",
   "metadata": {},
   "outputs": [
    {
     "name": "stdout",
     "output_type": "stream",
     "text": [
      "r2 socre is 0.450883934494807\n",
      "mean_sqrd_error is== 2909.300242594895\n",
      "root_mean_squared error of is== 53.93792953566993\n"
     ]
    }
   ],
   "source": [
    "# importing r2_score module\n",
    "from sklearn.metrics import r2_score\n",
    "from sklearn.metrics import mean_squared_error\n",
    "# predicting the accuracy score\n",
    "score=r2_score(y_test,predicted_num)\n",
    "print('r2 socre is' ,score)\n",
    "print('mean_sqrd_error is==',mean_squared_error(y_test,predicted_num))\n",
    "print('root_mean_squared error of is==',np.sqrt(mean_squared_error(y_test,predicted_num)))"
   ]
  },
  {
   "cell_type": "markdown",
   "id": "excited-serum",
   "metadata": {},
   "source": [
    "## Manual testing "
   ]
  },
  {
   "cell_type": "code",
   "execution_count": 44,
   "id": "checked-bunch",
   "metadata": {},
   "outputs": [],
   "source": [
    "def multiply(weight, inputs, bias):\n",
    "    yhat = np.dot(weights,inputs) + bias\n",
    "    return yhat\n",
    "def mse_comp (yhat, y):\n",
    "    mse = np.sum(pow((yhat-y),2))\n",
    "    return mse/(len(y))\n",
    "def delta_wb(X, yhat, y):\n",
    "    delw = (1 / X.shape[0]) * (2 * np.dot(X.T, (y_hat - y)))\n",
    "    delb = (1 / X.shape[0]) * (2 * np.sum(y_hat - y))\n",
    "    return delw,delb\n",
    "\n"
   ]
  },
  {
   "cell_type": "code",
   "execution_count": 45,
   "id": "advisory-reflection",
   "metadata": {},
   "outputs": [
    {
     "data": {
      "text/plain": [
       "array([13., 13., 13.])"
      ]
     },
     "execution_count": 45,
     "metadata": {},
     "output_type": "execute_result"
    }
   ],
   "source": [
    "weights = np.ones(3)\n",
    "inputs = np.ones((3,3))\n",
    "bias = 10\n",
    "multiply(weights,inputs,bias)"
   ]
  },
  {
   "cell_type": "code",
   "execution_count": 47,
   "id": "finished-adoption",
   "metadata": {},
   "outputs": [
    {
     "data": {
      "text/plain": [
       "-24.0"
      ]
     },
     "execution_count": 47,
     "metadata": {},
     "output_type": "execute_result"
    }
   ],
   "source": [
    "yhat = np.arange(1,4)\n",
    "y = np.arange(5,8)\n",
    "del_w(inputs,yhat,y)"
   ]
  },
  {
   "cell_type": "code",
   "execution_count": null,
   "id": "bridal-scientist",
   "metadata": {},
   "outputs": [],
   "source": []
  },
  {
   "cell_type": "code",
   "execution_count": null,
   "id": "persistent-array",
   "metadata": {},
   "outputs": [],
   "source": []
  }
 ],
 "metadata": {
  "kernelspec": {
   "display_name": "Python 3",
   "language": "python",
   "name": "python3"
  },
  "language_info": {
   "codemirror_mode": {
    "name": "ipython",
    "version": 3
   },
   "file_extension": ".py",
   "mimetype": "text/x-python",
   "name": "python",
   "nbconvert_exporter": "python",
   "pygments_lexer": "ipython3",
   "version": "3.9.2"
  }
 },
 "nbformat": 4,
 "nbformat_minor": 5
}
