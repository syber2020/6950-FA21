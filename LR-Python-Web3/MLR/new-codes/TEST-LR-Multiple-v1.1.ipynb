{
 "cells": [
  {
   "cell_type": "code",
   "execution_count": 69,
   "id": "powered-plumbing",
   "metadata": {},
   "outputs": [],
   "source": [
    "from sklearn.metrics import r2_score\n",
    "from sklearn.metrics import mean_squared_error\n",
    "from sklearn import preprocessing\n",
    "class LinearRegression:\n",
    "    '''\n",
    "    A class which implements linear regression model with gradient descent.\n",
    "    '''\n",
    "    def __init__(self, learning_rate=0.01, n_iterations=10):\n",
    "        self.learning_rate = learning_rate\n",
    "        self.n_iterations = n_iterations\n",
    "        self.weights, self.bias = None, None\n",
    "        self.loss = []\n",
    "        \n",
    "    @staticmethod\n",
    "    def _mean_squared_error(y, y_hat):\n",
    "        '''\n",
    "        Private method, used to evaluate loss at each iteration.\n",
    "        \n",
    "        :param: y - array, true values\n",
    "        :param: y_hat - array, predicted values\n",
    "        :return: float\n",
    "        '''\n",
    "        error = 0\n",
    "        for i in range(len(y)):\n",
    "            error += (y[i] - y_hat[i]) ** 2\n",
    "        return error / len(y)\n",
    "    \n",
    "    def fit(self, X, y):\n",
    "        '''\n",
    "        Used to calculate the coefficient of the linear regression model.\n",
    "        \n",
    "        :param X: array, features\n",
    "        :param y: array, true values\n",
    "        :return: None\n",
    "        '''\n",
    "        # 1. Initialize weights and bias to zeros\n",
    "        self.weights = np.zeros(X.shape[1])\n",
    "        self.bias = 0\n",
    "        \n",
    "        # 2. Perform gradient descent\n",
    "        for i in range(self.n_iterations):\n",
    "            # Line equation\n",
    "            y_hat = np.dot(X, self.weights) + self.bias\n",
    "            loss = self._mean_squared_error(y, y_hat)\n",
    "            \n",
    "            self.loss.append(loss)\n",
    "            \n",
    "            # Calculate derivatives\n",
    "            partial_w = (1 / X.shape[0]) * (2 * np.dot(X.T, (y_hat - y))).astype(int)\n",
    "            print(\"partial_w printing\",partial_w)\n",
    "            partial_d = (1 / X.shape[0]) * (2 * np.sum(y_hat - y)).astype(int)\n",
    "            print(\"partial_d printing\", partial_d)\n",
    "          \n",
    "            \n",
    "            \n",
    "            self.weights -= (self.learning_rate * partial_w).astype(int)\n",
    "            self.bias -= (self.learning_rate * partial_d).astype(int)\n",
    "            \n",
    "            \n",
    "        print(\"printing y_hat\", y_hat)\n",
    "        print(\"printing weights\", self.weights)\n",
    "        print(\"printing bias\", self.bias)\n",
    "    def predict(self, X):\n",
    "        '''\n",
    "        Makes predictions using the line equation.\n",
    "        \n",
    "        :param X: array, features\n",
    "        :return: array, predictions\n",
    "        '''\n",
    "        return np.dot(X, self.weights) + self.bias"
   ]
  },
  {
   "cell_type": "code",
   "execution_count": 70,
   "id": "mature-canada",
   "metadata": {},
   "outputs": [],
   "source": [
    "from sklearn.datasets import load_diabetes\n",
    "\n",
    "data = load_diabetes()\n",
    "X = data.data\n",
    "y = data.target"
   ]
  },
  {
   "cell_type": "code",
   "execution_count": 71,
   "id": "touched-handy",
   "metadata": {},
   "outputs": [],
   "source": [
    "# print(X)"
   ]
  },
  {
   "cell_type": "code",
   "execution_count": 72,
   "id": "executed-moisture",
   "metadata": {},
   "outputs": [],
   "source": [
    "# print(len(y))"
   ]
  },
  {
   "cell_type": "code",
   "execution_count": 73,
   "id": "massive-evolution",
   "metadata": {},
   "outputs": [
    {
     "data": {
      "text/plain": [
       "(353, 10)"
      ]
     },
     "execution_count": 73,
     "metadata": {},
     "output_type": "execute_result"
    }
   ],
   "source": [
    "from sklearn.model_selection import train_test_split\n",
    "import numpy as np\n",
    "import matplotlib.pyplot as plt\n",
    "\n",
    "X_train, X_test, y_train, y_test = train_test_split(X, y, test_size=0.2, random_state=42)\n",
    "\n",
    "X_train.shape\n",
    "# X_train = np.dot(X_train,1000).astype(int)\n",
    "# X_test = np.dot(X_test,1000).astype(int)\n",
    "# y_train = np.dot(y_train,1000).astype(int)\n",
    "# y_test = np.dot(y_test,1000).astype(int)\n",
    "\n"
   ]
  },
  {
   "cell_type": "code",
   "execution_count": 74,
   "id": "collectible-stomach",
   "metadata": {},
   "outputs": [],
   "source": [
    "# model = LinearRegression()\n",
    "# model.fit(X_train, y_train)\n",
    "# # preds = model.predict(X_test)"
   ]
  },
  {
   "cell_type": "code",
   "execution_count": 75,
   "id": "clear-participation",
   "metadata": {},
   "outputs": [],
   "source": [
    "# xs = np.arange(len(model.loss))\n",
    "# ys = model.loss\n",
    "\n",
    "# plt.plot(xs, ys, lw=3, c='#087E8B')\n",
    "# plt.title('Loss per iteration (MSE)', size=20)\n",
    "# plt.xlabel('Iteration', size=14)\n",
    "# plt.ylabel('Loss', size=14)\n",
    "# plt.show()"
   ]
  },
  {
   "cell_type": "code",
   "execution_count": 76,
   "id": "computational-packet",
   "metadata": {
    "scrolled": true
   },
   "outputs": [],
   "source": [
    "# losses = {}\n",
    "# for lr in [0.5, 0.1, 0.01, 0.001]:\n",
    "#     model = LinearRegression(learning_rate=lr)\n",
    "#     model.fit(X_train, y_train)\n",
    "#     losses[f'LR={str(lr)}'] = model.loss\n",
    "    \n",
    "    \n",
    "# xs = np.arange(len(model.loss))\n",
    "\n",
    "# plt.plot(xs, losses['LR=0.5'], lw=3, label=f\"LR = 0.5, Final = {losses['LR=0.5'][-1]:.2f}\")\n",
    "# plt.plot(xs, losses['LR=0.1'], lw=3, label=f\"LR = 0.1, Final = {losses['LR=0.1'][-1]:.2f}\")\n",
    "# plt.plot(xs, losses['LR=0.01'], lw=3, label=f\"LR = 0.01, Final = {losses['LR=0.01'][-1]:.2f}\")\n",
    "# plt.plot(xs, losses['LR=0.001'], lw=3, label=f\"LR = 0.001, Final = {losses['LR=0.001'][-1]:.2f}\")\n",
    "# # plt.title('Loss per iteration (MSE) for different learning rates with python decimal operations', size=20)\n",
    "# plt.xlabel('Iteration', size=14)\n",
    "# plt.ylabel('Loss', size=14)\n",
    "# plt.legend()\n",
    "# plt.savefig(\"python-mse.pdf\")\n",
    "# plt.show()"
   ]
  },
  {
   "cell_type": "code",
   "execution_count": 77,
   "id": "unlikely-replication",
   "metadata": {},
   "outputs": [],
   "source": [
    "# model = LinearRegression(learning_rate=0.5)\n",
    "# model.fit(X_train, y_train)\n",
    "# preds = model.predict(X_test)\n",
    "\n",
    "# model._mean_squared_error(y_test, preds)"
   ]
  },
  {
   "cell_type": "code",
   "execution_count": 78,
   "id": "polished-diesel",
   "metadata": {},
   "outputs": [],
   "source": [
    "# from sklearn.linear_model import LinearRegression\n",
    "# from sklearn.metrics import mean_squared_error\n",
    "\n",
    "# lr_model = LinearRegression()\n",
    "# lr_model.fit(X_train, y_train)\n",
    "# lr_preds = lr_model.predict(X_test)\n",
    "\n",
    "# mean_squared_error(y_test, lr_preds)"
   ]
  },
  {
   "cell_type": "code",
   "execution_count": 79,
   "id": "daily-clearance",
   "metadata": {},
   "outputs": [],
   "source": [
    "\n",
    "\n",
    "X_train_num = np.dot(X_train,1000).astype(int)\n",
    "X_test_num = np.dot(X_test,1000).astype(int)\n",
    "y_train_num = y_train\n",
    "y_test_num = y_test"
   ]
  },
  {
   "cell_type": "code",
   "execution_count": 80,
   "id": "secondary-techno",
   "metadata": {},
   "outputs": [
    {
     "name": "stdout",
     "output_type": "stream",
     "text": [
      "partial_w printing [-1826.49858357  -114.76487252 -4959.59773371 -3700.74220963\n",
      " -1317.86968839  -904.34560907  3059.09348442 -3329.86402266\n",
      " -4461.96033994 -3497.65439093]\n",
      "partial_d printing -307.4730878186969\n",
      "partial_w printing [ 314094.95184136  202064.49858357  579279.98300283  482200.03966006\n",
      "  440653.1388102   418906.7082153  -456066.70254958  634189.30878187\n",
      "  636913.37110482  559665.43342776]\n",
      "partial_d printing 319.51841359773374\n",
      "partial_w printing [-6083523.08215297 -6083523.08215297 -6083523.08215297 -6083523.08215297\n",
      " -6083523.08215297 -6083523.08215297 -6083523.08215297 -6083523.08215297\n",
      " -6083523.08215297 -6083523.08215297]\n",
      "partial_d printing -83722.34560906516\n",
      "partial_w printing [-6083523.08215297 -6083523.08215297 -6083523.08215297 -6083523.08215297\n",
      " -6083523.08215297 -6083523.08215297 -6083523.08215297 -6083523.08215297\n",
      " -6083523.08215297 -6083523.08215297]\n",
      "partial_d printing 670030.804532578\n",
      "partial_w printing [-6083523.08215297 -6083523.08215297 -6083523.08215297 -6083523.08215297\n",
      " -6083523.08215297 -6083523.08215297 -6083523.08215297 -6083523.08215297\n",
      " -6083523.08215297 -6083523.08215297]\n",
      "partial_d printing 1408709.954674221\n",
      "partial_w printing [-6083523.08215297 -6083523.08215297 -6083523.08215297 -6083523.08215297\n",
      " -6083523.08215297 -6083523.08215297 -6083523.08215297 -6083523.08215297\n",
      " -6083523.08215297 -6083523.08215297]\n",
      "partial_d printing 2132615.104815864\n",
      "partial_w printing [-6083523.08215297 -6083523.08215297 -6083523.08215297 -6083523.08215297\n",
      " -6083523.08215297 -6083523.08215297 -6083523.08215297 -6083523.08215297\n",
      " -6083523.08215297 -6083523.08215297]\n",
      "partial_d printing 2842042.2549575074\n",
      "partial_w printing [-6083523.08215297 -6083523.08215297 -6083523.08215297 -6083523.08215297\n",
      " -6083523.08215297 -6083523.08215297 -6083523.08215297 -6083523.08215297\n",
      " -6083523.08215297 -6083523.08215297]\n",
      "partial_d printing 3537281.4050991503\n",
      "partial_w printing [-6083523.08215297 -6083523.08215297 -6083523.08215297 -6083523.08215297\n",
      " -6083523.08215297 -6083523.08215297 -6083523.08215297 -6083523.08215297\n",
      " -6083523.08215297 -6083523.08215297]\n",
      "partial_d printing 4218616.555240793\n",
      "partial_w printing [-6083523.08215297 -6083523.08215297 -6083523.08215297 -6083523.08215297\n",
      " -6083523.08215297 -6083523.08215297 -6083523.08215297 -6083523.08215297\n",
      " -6083523.08215297 -6083523.08215297]\n",
      "partial_d printing 4886323.7053824365\n",
      "printing y_hat [ 1.22632583e+08 -8.00833000e+05  2.99242520e+07 -1.83404991e+08\n",
      " -1.67960951e+08 -1.86519128e+08  1.30955050e+07  1.44072372e+08\n",
      " -3.82416030e+07 -1.11126038e+08 -6.98874030e+07  7.13071040e+07\n",
      " -1.64205577e+08  8.86483090e+07 -1.49546178e+08  7.79727420e+07\n",
      " -2.16247530e+08 -5.01664400e+06  3.58243990e+07  1.18996490e+08\n",
      " -7.18704690e+07  8.82783000e+06  6.64320520e+07  9.64373740e+07\n",
      "  1.24997442e+08  7.40246470e+07 -5.68021920e+07 -1.05409356e+08\n",
      " -4.82272190e+07 -1.72805172e+08 -1.52394500e+06 -5.68811970e+07\n",
      " -9.62745610e+07 -7.18546110e+07  6.71186230e+07 -9.78077200e+06\n",
      "  5.27145800e+07  1.01682890e+07 -1.22306088e+08  3.16431790e+07\n",
      " -2.25727758e+08  1.61693981e+08 -9.24602350e+07  2.64801960e+07\n",
      "  4.50702570e+07  1.29961053e+08  5.96629150e+07  1.04911356e+08\n",
      "  5.33802560e+07 -7.72902860e+07  9.76386560e+07 -1.69327685e+08\n",
      "  2.03912911e+08  1.99935681e+08 -1.44521316e+08  1.02576471e+08\n",
      "  1.28437291e+08 -2.72573600e+06  1.01783258e+08  9.72277450e+07\n",
      "  8.19903770e+07  8.97139590e+07 -2.21633690e+07  1.44852900e+07\n",
      "  1.39335982e+08 -4.34617880e+07  1.91991030e+07 -1.41849541e+08\n",
      "  1.32221620e+07  1.23559808e+08  1.02306446e+08 -4.06467450e+07\n",
      " -1.41608794e+08 -1.04025543e+08 -3.78213490e+07  2.81929490e+07\n",
      "  1.46561020e+07  1.65543200e+06 -1.68876196e+08 -6.43980290e+07\n",
      " -1.13598040e+07  2.70813480e+07 -1.47677287e+08 -5.61997650e+07\n",
      "  2.06883750e+07  1.15421760e+07  1.91650016e+08  4.83163310e+07\n",
      "  9.45257590e+07  7.38492380e+07  1.25016866e+08 -2.26297630e+07\n",
      "  9.47604730e+07  5.69253060e+07 -1.09360160e+08 -4.62836430e+07\n",
      " -3.18261840e+07 -1.10457211e+08 -1.57365080e+07  7.05593070e+07\n",
      " -1.83509200e+07 -2.50015947e+08 -7.39776850e+07  9.66036950e+07\n",
      "  2.29738580e+07  2.19784265e+08 -1.18315326e+08  1.42354908e+08\n",
      "  2.01395982e+08  1.26224692e+08 -1.43932046e+08  7.78319270e+07\n",
      "  1.17264936e+08  1.56841372e+08 -1.10745918e+08 -6.23397300e+07\n",
      "  7.48555930e+07  1.01359206e+08 -1.39750818e+08  2.99365460e+07\n",
      "  1.57736300e+07  2.93561650e+07  3.15480160e+07 -1.26159448e+08\n",
      " -2.68187860e+07  2.72905372e+08 -1.59751430e+07  9.67619930e+07\n",
      " -4.19951390e+07 -7.94486720e+07  1.07462406e+08  8.42356100e+06\n",
      "  5.64868680e+07 -1.64998600e+08 -2.48619290e+07  1.89389204e+08\n",
      " -6.82244490e+07  8.65312960e+07  1.69459369e+08  1.28416645e+08\n",
      "  2.06988851e+08  1.45760319e+08  1.72340180e+07  7.67610510e+07\n",
      "  8.34282870e+07  1.43138701e+08  2.64990940e+07  1.07837163e+08\n",
      " -6.06001360e+07  1.94179693e+08 -5.57430900e+06  5.62718670e+07\n",
      " -1.07838292e+08 -5.51007030e+07 -1.86771353e+08 -9.61548370e+07\n",
      " -1.56902882e+08  1.24385081e+08 -1.65769222e+08  6.95936940e+07\n",
      "  2.25222382e+08  9.92867450e+07  6.32930550e+07 -1.54935160e+08\n",
      "  7.44681420e+07 -1.14633664e+08 -4.32668980e+07 -1.43496973e+08\n",
      "  6.71643170e+07 -5.72416130e+07 -1.63063060e+07  9.36382900e+06\n",
      " -1.56177230e+07  1.17289587e+08 -2.43870724e+08  7.54444360e+07\n",
      " -4.25951880e+07 -5.42944100e+06  3.53285360e+07 -2.17416211e+08\n",
      "  8.57872410e+07  6.25854570e+07  9.21835780e+07  1.15475051e+08\n",
      " -8.97233230e+07 -1.77861674e+08 -2.87818130e+07 -1.39001672e+08\n",
      "  2.99788460e+07  3.12333110e+07 -2.09939640e+07  2.87308830e+07\n",
      " -1.60772209e+08  1.93136718e+08  7.03038810e+07 -2.25872074e+08\n",
      "  5.52631350e+07 -1.44343946e+08 -3.06862250e+07 -1.92159487e+08\n",
      "  5.62799670e+07  4.62590040e+07 -6.07281480e+07  7.88639490e+07\n",
      " -1.10893744e+08 -4.29859250e+07  1.20490464e+08 -9.09365530e+07\n",
      "  6.49122460e+07 -1.01213657e+08 -1.58236936e+08  1.24336410e+07\n",
      "  1.13163530e+08 -4.80601330e+07  1.59177075e+08 -1.78919860e+07\n",
      " -2.30059162e+08 -1.88734300e+06  6.50009110e+07  1.13255220e+08\n",
      "  2.07304673e+08 -1.52396201e+08 -4.51082760e+07 -1.48890200e+06\n",
      " -1.48823535e+08  5.68608970e+07 -1.15510738e+08  4.57214720e+07\n",
      " -6.93461040e+07 -2.08732621e+08 -4.10849100e+07 -1.24810957e+08\n",
      "  1.25274846e+08 -2.84069880e+07 -2.42166828e+08  8.50815090e+07\n",
      "  7.26788130e+07  4.25973600e+07  6.65765270e+07 -5.75164860e+07\n",
      " -3.47946890e+07  2.20410279e+08 -4.61297880e+07  7.30645500e+07\n",
      " -8.83699920e+07  1.38389860e+08  1.19618823e+08 -5.61477390e+07\n",
      " -2.14335700e+07 -1.27863049e+08  3.00708840e+07  4.12756400e+07\n",
      " -4.99786340e+07  2.43023830e+07 -3.41915620e+07 -9.44184850e+07\n",
      "  1.30655158e+08  1.39170490e+07 -7.94410400e+06  1.85181372e+08\n",
      " -1.99179230e+07  1.67996990e+07  5.26625240e+07  1.14810689e+08\n",
      "  4.45348730e+07  8.09966960e+07 -1.22178610e+07  3.21140720e+07\n",
      "  1.94790952e+08  3.00874600e+06 -2.67208590e+07  1.29233269e+08\n",
      "  1.62183965e+08 -9.93824200e+06 -4.04002360e+07  2.64966794e+08\n",
      " -1.41488200e+07  1.40556021e+08 -1.63529180e+07  1.37942523e+08\n",
      " -3.57704140e+07 -2.40827380e+07  2.68525940e+07 -1.14681923e+08\n",
      "  1.50792696e+08  1.29807450e+07  1.15719104e+08 -1.77356320e+07\n",
      " -1.72591144e+08 -1.46824836e+08  1.44851238e+08  8.63421200e+07\n",
      "  6.15532550e+07 -1.43378870e+07  9.18255390e+07 -4.54112680e+07\n",
      "  6.07909150e+07  2.68735130e+07 -2.10874250e+07 -6.03214880e+07\n",
      " -1.78535375e+08  1.81444871e+08 -2.07985858e+08 -5.14732080e+07\n",
      " -1.07995750e+07 -6.07586460e+07 -3.36335770e+07  2.38511460e+07\n",
      "  2.76437060e+07 -4.83740440e+07 -1.82814320e+07 -4.45785870e+07\n",
      " -5.87050150e+07 -8.96856970e+07 -6.11043260e+07  5.15354140e+07\n",
      " -2.37951501e+08  8.15295820e+07 -7.59195100e+06  7.43100300e+06\n",
      " -3.88552400e+07  2.55618140e+07  4.75025800e+06 -9.75221760e+07\n",
      "  1.44257153e+08 -1.43636571e+08  1.56140773e+08 -1.11461869e+08\n",
      " -3.94484860e+07 -1.61949700e+06 -4.69603450e+07  1.43612700e+06\n",
      " -3.26912370e+07 -1.85318038e+08 -2.82897730e+07  1.12491740e+08\n",
      " -3.80307760e+07  9.78247680e+07 -2.39035590e+07  1.52066800e+06\n",
      "  6.22392440e+07  6.79412060e+07 -1.09395000e+08  4.74112770e+07\n",
      "  1.44973300e+06 -1.32909670e+08  7.77091100e+07  9.97576420e+07\n",
      " -2.15266400e+08  3.50508090e+07 -1.79435170e+07 -9.54975550e+07\n",
      " -2.17257520e+07]\n",
      "printing weights [483558. 484661. 480937. 481895. 482287. 482500. 491210. 480372. 480355.\n",
      " 481118.]\n",
      "printing bias -196117\n"
     ]
    }
   ],
   "source": [
    "model = LinearRegression()\n",
    "model.fit(X_train_num, y_train)\n",
    "# preds = model.predict(X_test_num)"
   ]
  },
  {
   "cell_type": "code",
   "execution_count": 20,
   "id": "exempt-ebony",
   "metadata": {},
   "outputs": [
    {
     "data": {
      "text/plain": [
       "1.9267439436627494e+48"
      ]
     },
     "execution_count": 20,
     "metadata": {},
     "output_type": "execute_result"
    }
   ],
   "source": [
    "mean_squared_error(y_test, preds)"
   ]
  },
  {
   "cell_type": "code",
   "execution_count": null,
   "id": "independent-status",
   "metadata": {},
   "outputs": [],
   "source": []
  },
  {
   "cell_type": "code",
   "execution_count": null,
   "id": "regional-rolling",
   "metadata": {},
   "outputs": [],
   "source": []
  },
  {
   "cell_type": "code",
   "execution_count": null,
   "id": "incorporate-sperm",
   "metadata": {},
   "outputs": [],
   "source": []
  }
 ],
 "metadata": {
  "kernelspec": {
   "display_name": "Python 3",
   "language": "python",
   "name": "python3"
  },
  "language_info": {
   "codemirror_mode": {
    "name": "ipython",
    "version": 3
   },
   "file_extension": ".py",
   "mimetype": "text/x-python",
   "name": "python",
   "nbconvert_exporter": "python",
   "pygments_lexer": "ipython3",
   "version": "3.9.2"
  }
 },
 "nbformat": 4,
 "nbformat_minor": 5
}
