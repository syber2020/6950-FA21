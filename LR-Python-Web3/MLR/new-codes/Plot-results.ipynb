{
 "cells": [
  {
   "cell_type": "code",
   "execution_count": 11,
   "id": "lesser-nepal",
   "metadata": {},
   "outputs": [],
   "source": [
    "import numpy as np\n",
    "import matplotlib.pyplot as plt\n",
    "from sklearn.preprocessing import OrdinalEncoder\n",
    "from sklearn.metrics import r2_score\n",
    "from sklearn.metrics import mean_squared_error\n"
   ]
  },
  {
   "cell_type": "code",
   "execution_count": 12,
   "id": "respected-inside",
   "metadata": {},
   "outputs": [],
   "source": [
    "## Diabetes"
   ]
  },
  {
   "cell_type": "code",
   "execution_count": 13,
   "id": "greek-organizer",
   "metadata": {},
   "outputs": [],
   "source": [
    "diabetes_w_sk = np.array([41.83,-203.43,509.5,325.13,-70.74,-119.38,-216.46,144.31,376.46,111.96])\n",
    "diabetes_w_sc = np.array([39,-201,510,326,-69,-116,-214,145,376,113])\n",
    "x = np.arange(10)"
   ]
  },
  {
   "cell_type": "code",
   "execution_count": 14,
   "id": "working-vietnamese",
   "metadata": {},
   "outputs": [
    {
     "name": "stdout",
     "output_type": "stream",
     "text": [
      "r2 socre is 0.9999346074217945\n",
      "mean_sqrd_error is== 3.7193600000000018\n",
      "root_mean_squared error of is== 1.928564232790809\n"
     ]
    }
   ],
   "source": [
    "# predicting the accuracy score\n",
    "score=r2_score(diabetes_w_sk,diabetes_w_sc)\n",
    "print('r2 socre is' ,score)\n",
    "print('mean_sqrd_error is==',mean_squared_error(diabetes_w_sk,diabetes_w_sc))\n",
    "print('root_mean_squared error of is==',np.sqrt(mean_squared_error(diabetes_w_sk,diabetes_w_sc)))"
   ]
  },
  {
   "cell_type": "code",
   "execution_count": 15,
   "id": "wrapped-flooring",
   "metadata": {},
   "outputs": [],
   "source": [
    "# Real Estate"
   ]
  },
  {
   "cell_type": "code",
   "execution_count": 17,
   "id": "bearing-orange",
   "metadata": {},
   "outputs": [
    {
     "name": "stdout",
     "output_type": "stream",
     "text": [
      "r2 socre is 0.23901649212102472\n",
      "mean_sqrd_error is== 783.4031833333333\n",
      "root_mean_squared error of is== 1.928564232790809\n"
     ]
    }
   ],
   "source": [
    "real_sk = np.array([ 1.37, -6.23, 1.88,  5.70, 0.43,  86.20])\n",
    "real_sc = np.array([22,-7,1,1,1,21])\n",
    "score=r2_score(real_sk,real_sc)\n",
    "print('r2 socre is' ,score)\n",
    "print('mean_sqrd_error is==',mean_squared_error(real_sk,real_sc))\n",
    "print('root_mean_squared error of is==',np.sqrt(mean_squared_error(diabetes_w_sk,diabetes_w_sc)))"
   ]
  },
  {
   "cell_type": "code",
   "execution_count": 20,
   "id": "durable-location",
   "metadata": {},
   "outputs": [
    {
     "name": "stdout",
     "output_type": "stream",
     "text": [
      "r2 socre is 0.6339438129476146\n",
      "mean_sqrd_error is== 4830.065200000001\n",
      "root_mean_squared error of is== 1.928564232790809\n"
     ]
    }
   ],
   "source": [
    "fish_sc = np.array([-47, 385, 372, 332, 187, 421])\n",
    "fish_sk = np.array([90.79,411.35,406.18,354.71,214.45,338.16])\n",
    "score=r2_score(fish_sk,fish_sc)\n",
    "print('r2 socre is' ,score)\n",
    "print('mean_sqrd_error is==',mean_squared_error(fish_sk,fish_sc))\n",
    "print('root_mean_squared error of is==',np.sqrt(mean_squared_error(diabetes_w_sk,diabetes_w_sc)))"
   ]
  },
  {
   "cell_type": "code",
   "execution_count": null,
   "id": "operational-filling",
   "metadata": {},
   "outputs": [],
   "source": []
  }
 ],
 "metadata": {
  "kernelspec": {
   "display_name": "Python 3",
   "language": "python",
   "name": "python3"
  },
  "language_info": {
   "codemirror_mode": {
    "name": "ipython",
    "version": 3
   },
   "file_extension": ".py",
   "mimetype": "text/x-python",
   "name": "python",
   "nbconvert_exporter": "python",
   "pygments_lexer": "ipython3",
   "version": "3.9.2"
  }
 },
 "nbformat": 4,
 "nbformat_minor": 5
}
