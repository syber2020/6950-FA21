{
 "cells": [
  {
   "cell_type": "code",
   "execution_count": 2,
   "id": "lesser-nepal",
   "metadata": {},
   "outputs": [],
   "source": [
    "import numpy as np\n",
    "import matplotlib.pyplot as plt\n",
    "from sklearn.preprocessing import OrdinalEncoder\n",
    "from sklearn.metrics import r2_score\n",
    "from sklearn.metrics import mean_squared_error\n"
   ]
  },
  {
   "cell_type": "code",
   "execution_count": 3,
   "id": "respected-inside",
   "metadata": {},
   "outputs": [],
   "source": [
    "## Diabetes"
   ]
  },
  {
   "cell_type": "code",
   "execution_count": 4,
   "id": "greek-organizer",
   "metadata": {},
   "outputs": [],
   "source": [
    "diabetes_w_sk = np.array([41.83,-203.43,509.5,325.13,-70.74,-119.38,-216.46,144.31,376.46,111.96])\n",
    "diabetes_w_sc = np.array([39,-201,510,326,-69,-116,-214,145,376,113])\n",
    "x = np.arange(10)"
   ]
  },
  {
   "cell_type": "code",
   "execution_count": 5,
   "id": "working-vietnamese",
   "metadata": {},
   "outputs": [
    {
     "name": "stdout",
     "output_type": "stream",
     "text": [
      "r2 socre is 0.9999346074217945\n",
      "mean_sqrd_error is== 3.7193600000000018\n",
      "root_mean_squared error of is== 1.928564232790809\n"
     ]
    }
   ],
   "source": [
    "# predicting the accuracy score\n",
    "score=r2_score(diabetes_w_sk,diabetes_w_sc)\n",
    "print('r2 socre is' ,score)\n",
    "print('mean_sqrd_error is==',mean_squared_error(diabetes_w_sk,diabetes_w_sc))\n",
    "print('root_mean_squared error of is==',np.sqrt(mean_squared_error(diabetes_w_sk,diabetes_w_sc)))"
   ]
  },
  {
   "cell_type": "code",
   "execution_count": 6,
   "id": "wrapped-flooring",
   "metadata": {},
   "outputs": [],
   "source": [
    "# Real Estate"
   ]
  },
  {
   "cell_type": "code",
   "execution_count": 7,
   "id": "bearing-orange",
   "metadata": {},
   "outputs": [
    {
     "name": "stdout",
     "output_type": "stream",
     "text": [
      "r2 socre is 0.23901649212102472\n",
      "mean_sqrd_error is== 783.4031833333333\n",
      "root_mean_squared error of is== 1.928564232790809\n"
     ]
    }
   ],
   "source": [
    "real_sk = np.array([ 1.37, -6.23, 1.88,  5.70, 0.43,  86.20])\n",
    "real_sc = np.array([22,-7,1,1,1,21])\n",
    "score=r2_score(real_sk,real_sc)\n",
    "print('r2 socre is' ,score)\n",
    "print('mean_sqrd_error is==',mean_squared_error(real_sk,real_sc))\n",
    "print('root_mean_squared error of is==',np.sqrt(mean_squared_error(diabetes_w_sk,diabetes_w_sc)))"
   ]
  },
  {
   "cell_type": "code",
   "execution_count": 8,
   "id": "durable-location",
   "metadata": {},
   "outputs": [
    {
     "name": "stdout",
     "output_type": "stream",
     "text": [
      "r2 socre is 0.6339438129476146\n",
      "mean_sqrd_error is== 4830.065200000001\n",
      "root_mean_squared error of is== 1.928564232790809\n"
     ]
    }
   ],
   "source": [
    "fish_sc = np.array([-47, 385, 372, 332, 187, 421])\n",
    "fish_sk = np.array([90.79,411.35,406.18,354.71,214.45,338.16])\n",
    "score=r2_score(fish_sk,fish_sc)\n",
    "print('r2 socre is' ,score)\n",
    "print('mean_sqrd_error is==',mean_squared_error(fish_sk,fish_sc))\n",
    "print('root_mean_squared error of is==',np.sqrt(mean_squared_error(diabetes_w_sk,diabetes_w_sc)))"
   ]
  },
  {
   "cell_type": "code",
   "execution_count": 9,
   "id": "operational-filling",
   "metadata": {
    "scrolled": true
   },
   "outputs": [
    {
     "name": "stdout",
     "output_type": "stream",
     "text": [
      "[1, 1, 1, 1, 1, 1, 1, 1, 1, 1, 1, 1, 1, 1, 1, 1, 1, 1, 1, 1, 1, 1, 1, 1, 1, 1, 1, 1, 1, 1, 1, 1, 1, 1, 1, 1, 1, 1, 1, 1, 1, 1, 1, 1, 1, 1, 1, 1, 1, 1] , [1, 1, 1, 1, 1, 1, 1, 1, 1, 1, 1, 1, 1, 1, 1, 1, 1, 1, 1, 1, 1, 1, 1, 1, 1, 1, 1, 1, 1, 1, 1, 1, 1, 1, 1, 1, 1, 1, 1, 1, 1, 1, 1, 1, 1, 1, 1, 1, 1, 1] , 1 , 1 , 1 , 100\n"
     ]
    }
   ],
   "source": [
    "# deplying smart contract \n",
    "\n",
    "wn = np.ones(50).astype(int).tolist()\n",
    "wd = np.ones(50).astype(int).tolist()\n",
    "bn = 1\n",
    "bd = 1\n",
    "lrn =1\n",
    "lrd = 100\n",
    "print(wn,',',wd,',',bn,',',bd,',',lrn,',',lrd)"
   ]
  },
  {
   "cell_type": "code",
   "execution_count": 18,
   "id": "nasty-interval",
   "metadata": {
    "scrolled": false
   },
   "outputs": [],
   "source": [
    "# get yhat \n",
    "# xn = np.arange(1,26).astype(int).tolist()\n",
    "# xd = np.arange(1,26).astype(int).tolist()\n",
    "# wn = np.arange(1,26).astype(int).tolist()\n",
    "# wd = np.arange(1,26).astype(int).tolist()\n",
    "# print(xn,',',xd,',',wn,',',wd)"
   ]
  },
  {
   "cell_type": "code",
   "execution_count": 34,
   "id": "swedish-reference",
   "metadata": {},
   "outputs": [
    {
     "name": "stdout",
     "output_type": "stream",
     "text": [
      "[1, 2, 3, 4, 5, 6, 7, 8, 9, 10, 11, 12, 13, 14, 15, 16, 17, 18, 19, 20, 21, 22, 23, 24, 25, 26, 27, 28, 29, 30, 31, 32, 33, 34, 35, 36, 37, 38, 39, 40, 41, 42, 43, 44, 45, 46, 47, 48, 49, 50, 51, 52, 53, 54, 55, 56, 57, 58, 59, 60, 61, 62, 63, 64, 65, 66, 67, 68, 69, 70, 71, 72, 73, 74, 75, 76, 77, 78, 79, 80, 81, 82, 83, 84, 85, 86, 87, 88, 89, 90, 91, 92, 93, 94, 95, 96, 97, 98, 99, 100] , [1, 1, 1, 1, 1, 1, 1, 1, 1, 1, 1, 1, 1, 1, 1, 1, 1, 1, 1, 1, 1, 1, 1, 1, 1, 1, 1, 1, 1, 1, 1, 1, 1, 1, 1, 1, 1, 1, 1, 1, 1, 1, 1, 1, 1, 1, 1, 1, 1, 1, 1, 1, 1, 1, 1, 1, 1, 1, 1, 1, 1, 1, 1, 1, 1, 1, 1, 1, 1, 1, 1, 1, 1, 1, 1, 1, 1, 1, 1, 1, 1, 1, 1, 1, 1, 1, 1, 1, 1, 1, 1, 1, 1, 1, 1, 1, 1, 1, 1, 1, 1, 1, 1, 1, 1, 1, 1, 1, 1, 1, 1, 1, 1, 1, 1, 1, 1, 1, 1, 1, 1, 1, 1, 1, 1, 1, 1, 1, 1, 1, 1, 1, 1, 1, 1, 1, 1, 1, 1, 1, 1, 1, 1, 1, 1, 1, 1, 1, 1, 1] , [1, 2, 3, 4, 5, 6, 7, 8, 9, 10, 11, 12, 13, 14, 15, 16, 17, 18, 19, 20] , [1, 1, 1, 1, 1, 1, 1, 1, 1, 1, 1, 1, 1, 1, 1, 1, 1, 1, 1, 1, 1, 1, 1, 1, 1, 1, 1, 1, 1, 1, 1, 1, 1, 1, 1, 1, 1, 1, 1, 1, 1, 1, 1, 1, 1, 1, 1, 1, 1, 1]\n"
     ]
    }
   ],
   "source": [
    "#get mse_diff\n",
    "\n",
    "yhn = np.arange(1,101).astype(int).tolist()\n",
    "yhd = np.full(150,1).astype(int).tolist()\n",
    "yn = np.arange(1,21).astype(int).tolist()\n",
    "yd = np.full(50,1).astype(int).tolist()\n",
    "print(yhn,',',yhd,',',yn,',',yd)"
   ]
  },
  {
   "cell_type": "code",
   "execution_count": 66,
   "id": "posted-province",
   "metadata": {},
   "outputs": [
    {
     "name": "stdout",
     "output_type": "stream",
     "text": [
      "[1, 2, 3, 4, 5, 6, 7, 8, 9, 10, 11, 12, 13, 14, 15, 16, 17, 18, 19, 20, 21, 22, 23, 24, 25] , [1, 1, 1, 1, 1, 1, 1, 1, 1, 1, 1, 1, 1, 1, 1, 1, 1, 1, 1, 1, 1, 1, 1, 1, 1]\n"
     ]
    }
   ],
   "source": [
    "# get delta_w\n",
    "yhn = np.arange(1,26).astype(int).tolist()\n",
    "yhd = np.full(25,1).astype(int).tolist()\n",
    "print(yhn,',',yhd)"
   ]
  },
  {
   "cell_type": "code",
   "execution_count": 73,
   "id": "appointed-attack",
   "metadata": {
    "scrolled": true
   },
   "outputs": [
    {
     "name": "stdout",
     "output_type": "stream",
     "text": [
      "[1, 2, 3, 4, 5, 6, 7, 8, 9, 10, 11, 12, 13, 14, 15, 16, 17, 18, 19, 20, 21, 22, 23, 24, 25, 26, 27, 28, 29, 30, 31, 32, 33, 34, 35, 36, 37, 38, 39, 40, 41, 42, 43, 44, 45, 46, 47, 48, 49, 50, 51, 52, 53, 54, 55, 56, 57, 58, 59, 60, 61, 62, 63, 64, 65, 66, 67, 68, 69, 70, 71, 72, 73, 74, 75, 76, 77, 78, 79, 80, 81, 82, 83, 84, 85, 86, 87, 88, 89, 90, 91, 92, 93, 94, 95, 96, 97, 98, 99, 100, 101, 102, 103, 104, 105, 106, 107, 108, 109, 110, 111, 112, 113, 114, 115, 116, 117, 118, 119, 120, 121, 122, 123, 124, 125, 126, 127, 128, 129, 130, 131, 132, 133, 134, 135, 136, 137, 138, 139, 140, 141, 142, 143, 144, 145, 146, 147, 148, 149, 150] , [1, 1, 1, 1, 1, 1, 1, 1, 1, 1, 1, 1, 1, 1, 1, 1, 1, 1, 1, 1, 1, 1, 1, 1, 1, 1, 1, 1, 1, 1, 1, 1, 1, 1, 1, 1, 1, 1, 1, 1, 1, 1, 1, 1, 1, 1, 1, 1, 1, 1, 1, 1, 1, 1, 1, 1, 1, 1, 1, 1, 1, 1, 1, 1, 1, 1, 1, 1, 1, 1, 1, 1, 1, 1, 1, 1, 1, 1, 1, 1, 1, 1, 1, 1, 1, 1, 1, 1, 1, 1, 1, 1, 1, 1, 1, 1, 1, 1, 1, 1, 1, 1, 1, 1, 1, 1, 1, 1, 1, 1, 1, 1, 1, 1, 1, 1, 1, 1, 1, 1, 1, 1, 1, 1, 1, 1, 1, 1, 1, 1, 1, 1, 1, 1, 1, 1, 1, 1, 1, 1, 1, 1, 1, 1, 1, 1, 1, 1, 1, 1] , [1, 2, 3, 4, 5, 6, 7, 8, 9, 10, 11, 12, 13, 14, 15, 16, 17, 18, 19, 20, 21, 22, 23, 24, 25, 26, 27, 28, 29, 30, 31, 32, 33, 34, 35, 36, 37, 38, 39, 40, 41, 42, 43, 44, 45, 46, 47, 48, 49, 50, 51, 52, 53, 54, 55, 56, 57, 58, 59, 60, 61, 62, 63, 64, 65, 66, 67, 68, 69, 70, 71, 72, 73, 74, 75, 76, 77, 78, 79, 80, 81, 82, 83, 84, 85, 86, 87, 88, 89, 90, 91, 92, 93, 94, 95, 96, 97, 98, 99, 100, 101, 102, 103, 104, 105, 106, 107, 108, 109, 110, 111, 112, 113, 114, 115, 116, 117, 118, 119, 120, 121, 122, 123, 124, 125, 126, 127, 128, 129, 130, 131, 132, 133, 134, 135, 136, 137, 138, 139, 140, 141, 142, 143, 144, 145, 146, 147, 148, 149, 150] , [1, 1, 1, 1, 1, 1, 1, 1, 1, 1, 1, 1, 1, 1, 1, 1, 1, 1, 1, 1, 1, 1, 1, 1, 1, 1, 1, 1, 1, 1, 1, 1, 1, 1, 1, 1, 1, 1, 1, 1, 1, 1, 1, 1, 1, 1, 1, 1, 1, 1, 1, 1, 1, 1, 1, 1, 1, 1, 1, 1, 1, 1, 1, 1, 1, 1, 1, 1, 1, 1, 1, 1, 1, 1, 1, 1, 1, 1, 1, 1, 1, 1, 1, 1, 1, 1, 1, 1, 1, 1, 1, 1, 1, 1, 1, 1, 1, 1, 1, 1, 1, 1, 1, 1, 1, 1, 1, 1, 1, 1, 1, 1, 1, 1, 1, 1, 1, 1, 1, 1, 1, 1, 1, 1, 1, 1, 1, 1, 1, 1, 1, 1, 1, 1, 1, 1, 1, 1, 1, 1, 1, 1, 1, 1, 1, 1, 1, 1, 1, 1]\n"
     ]
    }
   ],
   "source": [
    "#get delta_w\n",
    "\n",
    "xn = np.arange(1,151).astype(int).tolist()\n",
    "xd = np.full(150,1).astype(int).tolist()\n",
    "yn = np.arange(1,151).astype(int).tolist()\n",
    "yd = np.full(150,1).astype(int).tolist()\n",
    "print(xn,',',xd,',',yn,',',yd)"
   ]
  },
  {
   "cell_type": "code",
   "execution_count": null,
   "id": "assured-titanium",
   "metadata": {},
   "outputs": [],
   "source": []
  }
 ],
 "metadata": {
  "kernelspec": {
   "display_name": "Python 3",
   "language": "python",
   "name": "python3"
  },
  "language_info": {
   "codemirror_mode": {
    "name": "ipython",
    "version": 3
   },
   "file_extension": ".py",
   "mimetype": "text/x-python",
   "name": "python",
   "nbconvert_exporter": "python",
   "pygments_lexer": "ipython3",
   "version": "3.9.2"
  }
 },
 "nbformat": 4,
 "nbformat_minor": 5
}
