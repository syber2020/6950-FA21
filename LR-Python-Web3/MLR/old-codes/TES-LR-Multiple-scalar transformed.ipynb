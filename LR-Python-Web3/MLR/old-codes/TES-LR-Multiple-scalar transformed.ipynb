{
 "cells": [
  {
   "cell_type": "code",
   "execution_count": 54,
   "id": "powered-plumbing",
   "metadata": {},
   "outputs": [],
   "source": [
    "class LinearRegression:\n",
    "    '''\n",
    "    A class which implements linear regression model with gradient descent.\n",
    "    '''\n",
    "    def __init__(self, learning_rate=0.01, n_iterations=10000):\n",
    "        self.learning_rate = learning_rate\n",
    "        self.n_iterations = n_iterations\n",
    "        self.weights, self.bias = None, None\n",
    "        self.loss = []\n",
    "        \n",
    "    @staticmethod\n",
    "    def _mean_squared_error(y, y_hat):\n",
    "        '''\n",
    "        Private method, used to evaluate loss at each iteration.\n",
    "        \n",
    "        :param: y - array, true values\n",
    "        :param: y_hat - array, predicted values\n",
    "        :return: float\n",
    "        '''\n",
    "        error = 0\n",
    "        for i in range(len(y)):\n",
    "            error += (y[i] - y_hat[i]) ** 2\n",
    "        return error / len(y)\n",
    "    \n",
    "    def fit(self, X, y):\n",
    "        '''\n",
    "        Used to calculate the coefficient of the linear regression model.\n",
    "        \n",
    "        :param X: array, features\n",
    "        :param y: array, true values\n",
    "        :return: None\n",
    "        '''\n",
    "        # 1. Initialize weights and bias to zeros\n",
    "        self.weights = np.zeros(X.shape[1])\n",
    "        self.bias = 0\n",
    "        \n",
    "        # 2. Perform gradient descent\n",
    "        for i in range(self.n_iterations):\n",
    "            # Line equation\n",
    "            y_hat = np.dot(X, self.weights) + self.bias\n",
    "            loss = self._mean_squared_error(y, y_hat)\n",
    "            \n",
    "            self.loss.append(loss)\n",
    "            \n",
    "            # Calculate derivatives\n",
    "            partial_w = (1 / X.shape[0]) * (2 * np.dot(X.T, (y_hat - y)))\n",
    "#             print(\"partial_w printing\",partial_w)\n",
    "            partial_d = (1 / X.shape[0]) * (2 * np.sum(y_hat - y))\n",
    "#             print(\"partial_d printing\", partial_d)\n",
    "            # Update the coefficients\n",
    "            self.weights -= self.learning_rate * partial_w\n",
    "            self.bias -= self.learning_rate * partial_d\n",
    "            \n",
    "#         print(\"printing y_hat\", len(y_hat))\n",
    "#         print(\"printing weights\", self.weights)\n",
    "#         print(\"printing bias\", self.bias)\n",
    "    def predict(self, X):\n",
    "        '''\n",
    "        Makes predictions using the line equation.\n",
    "        \n",
    "        :param X: array, features\n",
    "        :return: array, predictions\n",
    "        '''\n",
    "        return np.dot(X, self.weights) + self.bias"
   ]
  },
  {
   "cell_type": "code",
   "execution_count": 55,
   "id": "mature-canada",
   "metadata": {},
   "outputs": [],
   "source": [
    "from sklearn.datasets import load_diabetes\n",
    "\n",
    "data = load_diabetes()\n",
    "X = data.data\n",
    "y = data.target"
   ]
  },
  {
   "cell_type": "code",
   "execution_count": 56,
   "id": "bound-surgeon",
   "metadata": {},
   "outputs": [
    {
     "name": "stdout",
     "output_type": "stream",
     "text": [
      "[[ 0.03807591  0.05068012  0.06169621 ... -0.00259226  0.01990842\n",
      "  -0.01764613]\n",
      " [-0.00188202 -0.04464164 -0.05147406 ... -0.03949338 -0.06832974\n",
      "  -0.09220405]\n",
      " [ 0.08529891  0.05068012  0.04445121 ... -0.00259226  0.00286377\n",
      "  -0.02593034]\n",
      " ...\n",
      " [ 0.04170844  0.05068012 -0.01590626 ... -0.01107952 -0.04687948\n",
      "   0.01549073]\n",
      " [-0.04547248 -0.04464164  0.03906215 ...  0.02655962  0.04452837\n",
      "  -0.02593034]\n",
      " [-0.04547248 -0.04464164 -0.0730303  ... -0.03949338 -0.00421986\n",
      "   0.00306441]]\n"
     ]
    }
   ],
   "source": [
    "print(X)"
   ]
  },
  {
   "cell_type": "code",
   "execution_count": 47,
   "id": "reliable-parallel",
   "metadata": {},
   "outputs": [
    {
     "name": "stdout",
     "output_type": "stream",
     "text": [
      "442\n"
     ]
    }
   ],
   "source": [
    "print(len(y))"
   ]
  },
  {
   "cell_type": "code",
   "execution_count": 48,
   "id": "massive-evolution",
   "metadata": {},
   "outputs": [
    {
     "data": {
      "text/plain": [
       "(353, 10)"
      ]
     },
     "execution_count": 48,
     "metadata": {},
     "output_type": "execute_result"
    }
   ],
   "source": [
    "from sklearn.model_selection import train_test_split\n",
    "import numpy as np\n",
    "import matplotlib.pyplot as plt\n",
    "\n",
    "X_train, X_test, y_train, y_test = train_test_split(X, y, test_size=0.2, random_state=42)\n",
    "\n",
    "X_train.shape\n",
    "# X_train = np.dot(X_train,1000).astype(int)\n",
    "# X_test = np.dot(X_test,1000).astype(int)\n",
    "# y_train = np.dot(y_train,1000).astype(int)\n",
    "# y_test = np.dot(y_test,1000).astype(int)\n",
    "\n"
   ]
  },
  {
   "cell_type": "code",
   "execution_count": null,
   "id": "russian-clerk",
   "metadata": {},
   "outputs": [],
   "source": []
  },
  {
   "cell_type": "code",
   "execution_count": 49,
   "id": "collectible-stomach",
   "metadata": {},
   "outputs": [
    {
     "name": "stderr",
     "output_type": "stream",
     "text": [
      "<ipython-input-44-e4e91defde48>:22: RuntimeWarning: overflow encountered in double_scalars\n",
      "  error += (y[i] - y_hat[i]) ** 2\n"
     ]
    }
   ],
   "source": [
    "model = LinearRegression()\n",
    "model.fit(X_train, y_train)\n",
    "preds = model.predict(X_test)"
   ]
  },
  {
   "cell_type": "code",
   "execution_count": 50,
   "id": "clear-participation",
   "metadata": {},
   "outputs": [
    {
     "data": {
      "image/png": "[encoded data removed]",
      "text/plain": [
       "<Figure size 432x288 with 1 Axes>"
      ]
     },
     "metadata": {
      "needs_background": "light"
     },
     "output_type": "display_data"
    }
   ],
   "source": [
    "xs = np.arange(len(model.loss))\n",
    "ys = model.loss\n",
    "\n",
    "plt.plot(xs, ys, lw=3, c='#087E8B')\n",
    "plt.title('Loss per iteration (MSE)', size=20)\n",
    "plt.xlabel('Iteration', size=14)\n",
    "plt.ylabel('Loss', size=14)\n",
    "plt.show()"
   ]
  },
  {
   "cell_type": "code",
   "execution_count": 51,
   "id": "computational-packet",
   "metadata": {},
   "outputs": [
    {
     "name": "stderr",
     "output_type": "stream",
     "text": [
      "<ipython-input-44-e4e91defde48>:22: RuntimeWarning: overflow encountered in double_scalars\n",
      "  error += (y[i] - y_hat[i]) ** 2\n",
      "c:\\users\\syed\\appdata\\local\\programs\\python\\python39\\lib\\site-packages\\numpy\\core\\fromnumeric.py:87: RuntimeWarning: overflow encountered in reduce\n",
      "  return ufunc.reduce(obj, axis, dtype, out, **passkwargs)\n",
      "<ipython-input-44-e4e91defde48>:46: RuntimeWarning: overflow encountered in multiply\n",
      "  partial_w = (1 / X.shape[0]) * (2 * np.dot(X.T, (y_hat - y)))\n",
      "c:\\users\\syed\\appdata\\local\\programs\\python\\python39\\lib\\site-packages\\numpy\\core\\fromnumeric.py:87: RuntimeWarning: invalid value encountered in reduce\n",
      "  return ufunc.reduce(obj, axis, dtype, out, **passkwargs)\n"
     ]
    },
    {
     "data": {
      "image/png": "[encoded data removed]",
      "text/plain": [
       "<Figure size 432x288 with 1 Axes>"
      ]
     },
     "metadata": {
      "needs_background": "light"
     },
     "output_type": "display_data"
    }
   ],
   "source": [
    "losses = {}\n",
    "for lr in [0.5, 0.1, 0.01, 0.001]:\n",
    "    model = LinearRegression(learning_rate=lr)\n",
    "    model.fit(X_train, y_train)\n",
    "    losses[f'LR={str(lr)}'] = model.loss\n",
    "    \n",
    "    \n",
    "xs = np.arange(len(model.loss))\n",
    "\n",
    "plt.plot(xs, losses['LR=0.5'], lw=3, label=f\"LR = 0.5, Final = {losses['LR=0.5'][-1]:.2f}\")\n",
    "plt.plot(xs, losses['LR=0.1'], lw=3, label=f\"LR = 0.1, Final = {losses['LR=0.1'][-1]:.2f}\")\n",
    "plt.plot(xs, losses['LR=0.01'], lw=3, label=f\"LR = 0.01, Final = {losses['LR=0.01'][-1]:.2f}\")\n",
    "plt.plot(xs, losses['LR=0.001'], lw=3, label=f\"LR = 0.001, Final = {losses['LR=0.001'][-1]:.2f}\")\n",
    "plt.title('Loss per iteration (MSE) for different learning rates', size=20)\n",
    "plt.xlabel('Iteration', size=14)\n",
    "plt.ylabel('Loss', size=14)\n",
    "plt.legend()\n",
    "plt.show()"
   ]
  },
  {
   "cell_type": "code",
   "execution_count": 52,
   "id": "unlikely-replication",
   "metadata": {},
   "outputs": [
    {
     "name": "stderr",
     "output_type": "stream",
     "text": [
      "<ipython-input-44-e4e91defde48>:22: RuntimeWarning: overflow encountered in double_scalars\n",
      "  error += (y[i] - y_hat[i]) ** 2\n"
     ]
    },
    {
     "data": {
      "text/plain": [
       "nan"
      ]
     },
     "execution_count": 52,
     "metadata": {},
     "output_type": "execute_result"
    }
   ],
   "source": [
    "model = LinearRegression(learning_rate=0.5)\n",
    "model.fit(X_train, y_train)\n",
    "preds = model.predict(X_test)\n",
    "\n",
    "model._mean_squared_error(y_test, preds)"
   ]
  },
  {
   "cell_type": "code",
   "execution_count": 53,
   "id": "polished-diesel",
   "metadata": {},
   "outputs": [
    {
     "data": {
      "text/plain": [
       "2909.300242594895"
      ]
     },
     "execution_count": 53,
     "metadata": {},
     "output_type": "execute_result"
    }
   ],
   "source": [
    "from sklearn.linear_model import LinearRegression\n",
    "from sklearn.metrics import mean_squared_error\n",
    "\n",
    "lr_model = LinearRegression()\n",
    "lr_model.fit(X_train, y_train)\n",
    "lr_preds = lr_model.predict(X_test)\n",
    "\n",
    "mean_squared_error(y_test, lr_preds)"
   ]
  },
  {
   "cell_type": "code",
   "execution_count": 57,
   "id": "daily-clearance",
   "metadata": {},
   "outputs": [
    {
     "data": {
      "text/plain": [
       "array([[ 6, 12],\n",
       "       [ 6, 12]])"
      ]
     },
     "execution_count": 57,
     "metadata": {},
     "output_type": "execute_result"
    }
   ],
   "source": [
    "x=[[1,2,3],[1,2,3]]\n",
    "y =[[1,2],[1,2],[1,2]]\n",
    "np.dot(x,y)"
   ]
  },
  {
   "cell_type": "code",
   "execution_count": null,
   "id": "dried-confidence",
   "metadata": {},
   "outputs": [],
   "source": []
  }
 ],
 "metadata": {
  "kernelspec": {
   "display_name": "Python 3",
   "language": "python",
   "name": "python3"
  },
  "language_info": {
   "codemirror_mode": {
    "name": "ipython",
    "version": 3
   },
   "file_extension": ".py",
   "mimetype": "text/x-python",
   "name": "python",
   "nbconvert_exporter": "python",
   "pygments_lexer": "ipython3",
   "version": "3.9.2"
  }
 },
 "nbformat": 4,
 "nbformat_minor": 5
}
