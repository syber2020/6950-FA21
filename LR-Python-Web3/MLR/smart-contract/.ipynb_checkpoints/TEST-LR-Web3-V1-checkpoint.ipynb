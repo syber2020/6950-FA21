{
 "cells": [
  {
   "cell_type": "code",
   "execution_count": 159,
   "id": "geographic-spread",
   "metadata": {},
   "outputs": [
    {
     "data": {
      "text/plain": [
       "True"
      ]
     },
     "execution_count": 159,
     "metadata": {},
     "output_type": "execute_result"
    }
   ],
   "source": [
    "# starting web3 operations\n",
    "import numpy as np\n",
    "import json\n",
    "from web3 import Web3\n",
    "import time\n",
    "ganache_url = \"HTTP://127.0.0.1:8545\"\n",
    "# ropsten_url =\"https://ropsten.infura.io/v3/6072fdc3b95c407caa681f63ebaf72b8\"\n",
    "web3 = Web3(Web3.HTTPProvider(ganache_url))\n",
    "# web3 = Web3(Web3.HTTPProvider(ropsten_url))\n",
    "web3.isConnected()"
   ]
  },
  {
   "cell_type": "code",
   "execution_count": 160,
   "id": "union-september",
   "metadata": {},
   "outputs": [],
   "source": [
    "abi = json.loads('[ { \"inputs\": [ { \"internalType\": \"int256[]\", \"name\": \"wnum\", \"type\": \"int256[]\" }, { \"internalType\": \"int256[]\", \"name\": \"wden\", \"type\": \"int256[]\" }, { \"internalType\": \"int256\", \"name\": \"bnum\", \"type\": \"int256\" }, { \"internalType\": \"int256\", \"name\": \"bden\", \"type\": \"int256\" } ], \"stateMutability\": \"nonpayable\", \"type\": \"constructor\" }, { \"inputs\": [], \"name\": \"get_delta_b\", \"outputs\": [], \"stateMutability\": \"nonpayable\", \"type\": \"function\" }, { \"inputs\": [ { \"internalType\": \"int256[]\", \"name\": \"xnum\", \"type\": \"int256[]\" }, { \"internalType\": \"int256[]\", \"name\": \"xden\", \"type\": \"int256[]\" } ], \"name\": \"get_delta_w\", \"outputs\": [], \"stateMutability\": \"nonpayable\", \"type\": \"function\" }, { \"inputs\": [ { \"internalType\": \"int256[]\", \"name\": \"yhnum\", \"type\": \"int256[]\" }, { \"internalType\": \"int256[]\", \"name\": \"yhden\", \"type\": \"int256[]\" }, { \"internalType\": \"int256[]\", \"name\": \"ynum\", \"type\": \"int256[]\" }, { \"internalType\": \"int256[]\", \"name\": \"yden\", \"type\": \"int256[]\" } ], \"name\": \"get_mse\", \"outputs\": [ { \"internalType\": \"int256\", \"name\": \"\", \"type\": \"int256\" }, { \"internalType\": \"int256\", \"name\": \"\", \"type\": \"int256\" } ], \"stateMutability\": \"nonpayable\", \"type\": \"function\" }, { \"inputs\": [], \"name\": \"get_new_parameters\", \"outputs\": [], \"stateMutability\": \"nonpayable\", \"type\": \"function\" }, { \"inputs\": [ { \"internalType\": \"int256[]\", \"name\": \"x_num\", \"type\": \"int256[]\" }, { \"internalType\": \"int256[]\", \"name\": \"x_den\", \"type\": \"int256[]\" } ], \"name\": \"get_y_hat\", \"outputs\": [], \"stateMutability\": \"nonpayable\", \"type\": \"function\" }, { \"inputs\": [ { \"internalType\": \"int256[]\", \"name\": \"ynum\", \"type\": \"int256[]\" }, { \"internalType\": \"int256[]\", \"name\": \"yden\", \"type\": \"int256[]\" } ], \"name\": \"get_y_hat_subtraction\", \"outputs\": [ { \"internalType\": \"int256[]\", \"name\": \"\", \"type\": \"int256[]\" }, { \"internalType\": \"int256[]\", \"name\": \"\", \"type\": \"int256[]\" } ], \"stateMutability\": \"nonpayable\", \"type\": \"function\" }, { \"inputs\": [], \"name\": \"set_bias\", \"outputs\": [ { \"internalType\": \"int256\", \"name\": \"\", \"type\": \"int256\" }, { \"internalType\": \"int256\", \"name\": \"\", \"type\": \"int256\" } ], \"stateMutability\": \"view\", \"type\": \"function\" }, { \"inputs\": [], \"name\": \"set_delta_b\", \"outputs\": [ { \"internalType\": \"int256\", \"name\": \"\", \"type\": \"int256\" }, { \"internalType\": \"int256\", \"name\": \"\", \"type\": \"int256\" } ], \"stateMutability\": \"view\", \"type\": \"function\" }, { \"inputs\": [], \"name\": \"set_delta_w\", \"outputs\": [ { \"internalType\": \"int256[]\", \"name\": \"\", \"type\": \"int256[]\" }, { \"internalType\": \"int256[]\", \"name\": \"\", \"type\": \"int256[]\" } ], \"stateMutability\": \"view\", \"type\": \"function\" }, { \"inputs\": [], \"name\": \"set_mse\", \"outputs\": [ { \"internalType\": \"int256\", \"name\": \"\", \"type\": \"int256\" }, { \"internalType\": \"int256\", \"name\": \"\", \"type\": \"int256\" } ], \"stateMutability\": \"view\", \"type\": \"function\" }, { \"inputs\": [], \"name\": \"set_weights\", \"outputs\": [ { \"internalType\": \"int256[]\", \"name\": \"\", \"type\": \"int256[]\" }, { \"internalType\": \"int256[]\", \"name\": \"\", \"type\": \"int256[]\" } ], \"stateMutability\": \"view\", \"type\": \"function\" }, { \"inputs\": [], \"name\": \"set_y_hat\", \"outputs\": [ { \"internalType\": \"int256[]\", \"name\": \"\", \"type\": \"int256[]\" }, { \"internalType\": \"int256[]\", \"name\": \"\", \"type\": \"int256[]\" } ], \"stateMutability\": \"view\", \"type\": \"function\" }, { \"inputs\": [], \"name\": \"set_y_hat_subtraction\", \"outputs\": [ { \"internalType\": \"int256[]\", \"name\": \"\", \"type\": \"int256[]\" }, { \"internalType\": \"int256[]\", \"name\": \"\", \"type\": \"int256[]\" } ], \"stateMutability\": \"view\", \"type\": \"function\" } ]')\n",
    "cont_address = \"0xF1656C65E2ecE09bb8fcCd63aA2AB0b5A7105219\"\n",
    "contract = web3.eth.contract(address=cont_address,abi=abi)"
   ]
  },
  {
   "cell_type": "code",
   "execution_count": 161,
   "id": "induced-commodity",
   "metadata": {},
   "outputs": [],
   "source": [
    "account1 = \"0x37bfB436392DaAE0E91EdcD9c4128FBcADF3919d\"\n",
    "private_key1 = \"e72044de2331844a3c0232dc23d43fb8ca4f555854b4da07e2fb530d003e5e2d\"\n",
    "account2 = \"0xfbD8f1F5878b0b5b3E627e7cc14617b05B582867\"\n",
    "private_key2=\"56c8f569b23a423f9d66d46f86f7ada7ba0d28dfba03c34f661bb15358b042bb\""
   ]
  },
  {
   "cell_type": "code",
   "execution_count": 162,
   "id": "scheduled-bristol",
   "metadata": {},
   "outputs": [
    {
     "data": {
      "text/plain": [
       "[[1, 1, 1, 1, 1, 1, 1, 1, 1, 1], [1, 1, 1, 1, 1, 1, 1, 1, 1, 1]]"
      ]
     },
     "execution_count": 162,
     "metadata": {},
     "output_type": "execute_result"
    }
   ],
   "source": [
    "#try to see the parameters from the constructor\n",
    "contract.functions.set_weights().call()"
   ]
  },
  {
   "cell_type": "code",
   "execution_count": 163,
   "id": "attractive-salvation",
   "metadata": {},
   "outputs": [
    {
     "data": {
      "text/plain": [
       "[1, 1]"
      ]
     },
     "execution_count": 163,
     "metadata": {},
     "output_type": "execute_result"
    }
   ],
   "source": [
    "contract.functions.set_bias().call()"
   ]
  },
  {
   "cell_type": "code",
   "execution_count": 164,
   "id": "loose-worcester",
   "metadata": {},
   "outputs": [],
   "source": [
    "#    parameters in smart contract definition\n",
    "#    int lcm ; int sub_num; int sub_den;int[] z_num; int[] z_den;int[] yh_num; int[] yh_den;\n",
    "#    int[] yh_sub_num; int[] yh_sub_den; int[] del_w_num; int[] del_w_den; int del_b_num; int del_b_den;\n",
    "#    int[] _wnum; int[] _wden; int _b_num; int _b_den; int lr_num; int lr_den;"
   ]
  },
  {
   "cell_type": "code",
   "execution_count": 165,
   "id": "round-friendship",
   "metadata": {},
   "outputs": [],
   "source": [
    "def get_yhat(x_train_num,x_train_den, account, private_key, contract):\n",
    "    nonce = web3.eth.getTransactionCount(account)\n",
    "    tx_store = contract.functions.get_y_hat(\n",
    "        x_train_num,x_train_den\n",
    "         ).buildTransaction({\n",
    "        'gas': 3000000,\n",
    "        'gasPrice': web3.toWei('100', 'gwei'),\n",
    "        'from': account,\n",
    "        'nonce': nonce\n",
    "        })\n",
    "\n",
    "    signed_txn = web3.eth.account.signTransaction(tx_store, private_key=private_key)\n",
    "    start_time = time.time()\n",
    "    tx_hash = web3.eth.sendRawTransaction(signed_txn.rawTransaction)\n",
    "    tx_receipt = web3.eth.waitForTransactionReceipt(tx_hash)\n",
    "    end_time = time.time()\n",
    "#     print(\"time taken for thsi transaction is\",end_time -start_time)\n",
    "    print(\"gas used for this transactino is\",tx_receipt.gasUsed)\n",
    "    print(tx_receipt)\n",
    "#     print(\"the stored number is \", contract.functions.retrieve().call())"
   ]
  },
  {
   "cell_type": "code",
   "execution_count": 166,
   "id": "registered-mapping",
   "metadata": {},
   "outputs": [
    {
     "name": "stdout",
     "output_type": "stream",
     "text": [
      "gas used for this transactino is 657529\n",
      "AttributeDict({'transactionHash': HexBytes('0x87543772129989468c668011f1457083add48ce5cd4fc2fcbb766a53d0aa3c5e'), 'transactionIndex': 0, 'blockHash': HexBytes('0x66fa0f30b3e1f299b67d293e4af673f7fcaf4eab527338a88d7ea01a959e0750'), 'blockNumber': 275, 'from': '0x37bfB436392DaAE0E91EdcD9c4128FBcADF3919d', 'to': '0xF1656C65E2ecE09bb8fcCd63aA2AB0b5A7105219', 'gasUsed': 657529, 'cumulativeGasUsed': 657529, 'contractAddress': None, 'logs': [], 'status': 1, 'logsBloom': HexBytes('0x00000000000000000000000000000000000000000000000000000000000000000000000000000000000000000000000000000000000000000000000000000000000000000000000000000000000000000000000000000000000000000000000000000000000000000000000000000000000000000000000000000000000000000000000000000000000000000000000000000000000000000000000000000000000000000000000000000000000000000000000000000000000000000000000000000000000000000000000000000000000000000000000000000000000000000000000000000000000000000000000000000000000000000000000000000000')})\n"
     ]
    }
   ],
   "source": [
    "#test function\n",
    "x_num = [1,1,1,1,1,1,1,1,1,1]\n",
    "x_den = [2,2,2,2,2,2,2,2,2,2]\n",
    "get_yhat(x_num,x_den, account1, private_key1, contract)"
   ]
  },
  {
   "cell_type": "code",
   "execution_count": 167,
   "id": "extraordinary-district",
   "metadata": {},
   "outputs": [
    {
     "data": {
      "text/plain": [
       "[[12], [2]]"
      ]
     },
     "execution_count": 167,
     "metadata": {},
     "output_type": "execute_result"
    }
   ],
   "source": [
    "contract.functions.set_y_hat().call()"
   ]
  },
  {
   "cell_type": "code",
   "execution_count": 168,
   "id": "seasonal-somalia",
   "metadata": {},
   "outputs": [],
   "source": [
    "x, y = contract.functions.set_y_hat().call()"
   ]
  },
  {
   "cell_type": "code",
   "execution_count": null,
   "id": "adjustable-shuttle",
   "metadata": {},
   "outputs": [],
   "source": []
  },
  {
   "cell_type": "code",
   "execution_count": 169,
   "id": "corporate-insulation",
   "metadata": {},
   "outputs": [],
   "source": [
    "def get_mse(yh_num, yh_den, y_num,y_den,account, private_key,contract):\n",
    "    nonce = web3.eth.getTransactionCount(account)\n",
    "    tx_store = contract.functions.get_mse(\n",
    "        yh_num, yh_den, y_num,y_den\n",
    "         ).buildTransaction({\n",
    "        'gas': 3000000,\n",
    "        'gasPrice': web3.toWei('100', 'gwei'),\n",
    "        'from': account,\n",
    "        'nonce': nonce\n",
    "        })\n",
    "\n",
    "    signed_txn = web3.eth.account.signTransaction(tx_store, private_key=private_key)\n",
    "    start_time = time.time()\n",
    "    tx_hash = web3.eth.sendRawTransaction(signed_txn.rawTransaction)\n",
    "    tx_receipt = web3.eth.waitForTransactionReceipt(tx_hash)\n",
    "    end_time = time.time()\n",
    "#     print(\"time taken for thsi transaction is\",end_time -start_time)\n",
    "#     print(\"gas used for this transactino is\",tx_receipt.gasUsed)\n",
    "#     print(\"the stored number is \", contract.functions.retrieve().call())"
   ]
  },
  {
   "cell_type": "code",
   "execution_count": 170,
   "id": "personalized-technician",
   "metadata": {},
   "outputs": [],
   "source": [
    "#test function\n",
    "ynum = [1]\n",
    "yden = [2]\n",
    "get_mse(x,y, ynum, yden,account1, private_key1, contract)"
   ]
  },
  {
   "cell_type": "code",
   "execution_count": 171,
   "id": "portuguese-unemployment",
   "metadata": {},
   "outputs": [
    {
     "name": "stdout",
     "output_type": "stream",
     "text": [
      "<class 'list'>\n"
     ]
    }
   ],
   "source": [
    "print(type(ynum))"
   ]
  },
  {
   "cell_type": "code",
   "execution_count": 172,
   "id": "killing-terry",
   "metadata": {},
   "outputs": [
    {
     "data": {
      "text/plain": [
       "[121, 4]"
      ]
     },
     "execution_count": 172,
     "metadata": {},
     "output_type": "execute_result"
    }
   ],
   "source": [
    "contract.functions.set_mse().call()"
   ]
  },
  {
   "cell_type": "code",
   "execution_count": 173,
   "id": "swedish-pixel",
   "metadata": {},
   "outputs": [],
   "source": [
    "def get_yhat_subtraction(ynum,yden, account, private_key,contract):\n",
    "    nonce = web3.eth.getTransactionCount(account)\n",
    "    tx_store = contract.functions.get_y_hat_subtraction(\n",
    "        ynum,yden\n",
    "         ).buildTransaction({\n",
    "        'gas': 3000000,\n",
    "        'gasPrice': web3.toWei('100', 'gwei'),\n",
    "        'from': account,\n",
    "        'nonce': nonce\n",
    "        })\n",
    "\n",
    "    signed_txn = web3.eth.account.signTransaction(tx_store, private_key=private_key)\n",
    "    start_time = time.time()\n",
    "    tx_hash = web3.eth.sendRawTransaction(signed_txn.rawTransaction)\n",
    "    tx_receipt = web3.eth.waitForTransactionReceipt(tx_hash)\n",
    "    end_time = time.time()\n",
    "#     print(\"time taken for thsi transaction is\",end_time -start_time)\n",
    "#     print(\"gas used for this transactino is\",tx_receipt.gasUsed)\n",
    "#     print(\"the stored number is \", contract.functions.retrieve().call())"
   ]
  },
  {
   "cell_type": "code",
   "execution_count": 174,
   "id": "medical-arbitration",
   "metadata": {},
   "outputs": [
    {
     "data": {
      "text/plain": [
       "[[11], [2]]"
      ]
     },
     "execution_count": 174,
     "metadata": {},
     "output_type": "execute_result"
    }
   ],
   "source": [
    "#test function\n",
    "get_yhat_subtraction(ynum,yden, account1, private_key1,contract)\n",
    "contract.functions.set_y_hat_subtraction().call()\n"
   ]
  },
  {
   "cell_type": "code",
   "execution_count": 178,
   "id": "traditional-daily",
   "metadata": {},
   "outputs": [],
   "source": [
    "def get_delta_w(x_train_num,x_train_den, account, private_key,contract):\n",
    "    nonce = web3.eth.getTransactionCount(account)\n",
    "    tx_store = contract.functions.get_delta_w(\n",
    "        x_train_num,x_train_den\n",
    "         ).buildTransaction({\n",
    "        'gas': 3000000,\n",
    "        'gasPrice': web3.toWei('10', 'gwei'),\n",
    "        'from': account,\n",
    "        'nonce': nonce\n",
    "        })\n",
    "\n",
    "    signed_txn = web3.eth.account.signTransaction(tx_store, private_key=private_key)\n",
    "    start_time = time.time()\n",
    "    tx_hash = web3.eth.sendRawTransaction(signed_txn.rawTransaction)\n",
    "    tx_receipt = web3.eth.waitForTransactionReceipt(tx_hash)\n",
    "    end_time = time.time()\n",
    "#     print(\"time taken for thsi transaction is\",end_time -start_time)\n",
    "#     print(\"gas used for this transactino is\",tx_receipt.gasUsed)\n",
    "#     print(\"the stored number is \", contract.functions.retrieve().call())"
   ]
  },
  {
   "cell_type": "code",
   "execution_count": 195,
   "id": "brazilian-peace",
   "metadata": {},
   "outputs": [],
   "source": [
    "xn = []\n",
    "xd = []\n",
    "xn.append(x_num[0])\n",
    "xd.append(x_den[0])"
   ]
  },
  {
   "cell_type": "code",
   "execution_count": null,
   "id": "isolated-point",
   "metadata": {},
   "outputs": [],
   "source": []
  },
  {
   "cell_type": "code",
   "execution_count": 200,
   "id": "spiritual-clinton",
   "metadata": {},
   "outputs": [
    {
     "name": "stdout",
     "output_type": "stream",
     "text": [
      "[1, 1, 1, 1, 1, 1, 1, 1, 1, 1] [2, 2, 2, 2, 2, 2, 2, 2, 2, 2]\n"
     ]
    }
   ],
   "source": [
    "print(x_num,x_den)\n"
   ]
  },
  {
   "cell_type": "code",
   "execution_count": 201,
   "id": "manual-formation",
   "metadata": {},
   "outputs": [],
   "source": [
    "#test function\n",
    "get_delta_w(xn,xn,account1, private_key1,contract)"
   ]
  },
  {
   "cell_type": "code",
   "execution_count": 202,
   "id": "active-phase",
   "metadata": {},
   "outputs": [
    {
     "data": {
      "text/plain": [
       "[[42], [2]]"
      ]
     },
     "execution_count": 202,
     "metadata": {},
     "output_type": "execute_result"
    }
   ],
   "source": [
    "contract.functions.set_delta_w().call()"
   ]
  },
  {
   "cell_type": "code",
   "execution_count": 203,
   "id": "worst-charger",
   "metadata": {},
   "outputs": [],
   "source": [
    "def get_delta_b(account, private_key,contract):\n",
    "    nonce = web3.eth.getTransactionCount(account)\n",
    "    tx_store = contract.functions.get_delta_b(\n",
    "         ).buildTransaction({\n",
    "        'gas': 100000,\n",
    "        'gasPrice': web3.toWei('10', 'gwei'),\n",
    "        'from': account,\n",
    "        'nonce': nonce\n",
    "        })\n",
    "\n",
    "    signed_txn = web3.eth.account.signTransaction(tx_store, private_key=private_key)\n",
    "    start_time = time.time()\n",
    "    tx_hash = web3.eth.sendRawTransaction(signed_txn.rawTransaction)\n",
    "    tx_receipt = web3.eth.waitForTransactionReceipt(tx_hash)\n",
    "    end_time = time.time()\n",
    "#     print(\"time taken for thsi transaction is\",end_time -start_time)\n",
    "#     print(\"gas used for this transactino is\",tx_receipt.gasUsed)\n",
    "#     print(\"the stored number is \", contract.functions.retrieve().call())"
   ]
  },
  {
   "cell_type": "code",
   "execution_count": 204,
   "id": "recent-buyer",
   "metadata": {},
   "outputs": [],
   "source": [
    "#test function\n",
    "get_delta_b(account1,private_key1,contract)"
   ]
  },
  {
   "cell_type": "code",
   "execution_count": 205,
   "id": "viral-summary",
   "metadata": {},
   "outputs": [
    {
     "data": {
      "text/plain": [
       "[22, 2]"
      ]
     },
     "execution_count": 205,
     "metadata": {},
     "output_type": "execute_result"
    }
   ],
   "source": [
    "contract.functions.set_delta_b().call()"
   ]
  },
  {
   "cell_type": "code",
   "execution_count": 208,
   "id": "small-modification",
   "metadata": {},
   "outputs": [],
   "source": [
    "def get_new_params(account, private_key,contract):\n",
    "    nonce = web3.eth.getTransactionCount(account)\n",
    "    tx_store = contract.functions.get_new_parameters(\n",
    "         ).buildTransaction({\n",
    "        'gas': 100000,\n",
    "        'gasPrice': web3.toWei('10', 'gwei'),\n",
    "        'from': account,\n",
    "        'nonce': nonce\n",
    "        })\n",
    "\n",
    "    signed_txn = web3.eth.account.signTransaction(tx_store, private_key=private_key)\n",
    "    start_time = time.time()\n",
    "    tx_hash = web3.eth.sendRawTransaction(signed_txn.rawTransaction)\n",
    "    tx_receipt = web3.eth.waitForTransactionReceipt(tx_hash)\n",
    "    end_time = time.time()\n",
    "#     print(\"time taken for thsi transaction is\",end_time -start_time)\n",
    "#     print(\"gas used for this transactino is\",tx_receipt.gasUsed)\n",
    "#     print(\"the stored number is \", contract.functions.retrieve().call())"
   ]
  },
  {
   "cell_type": "code",
   "execution_count": 209,
   "id": "looking-aviation",
   "metadata": {},
   "outputs": [],
   "source": [
    "#test function\n",
    "get_new_params(account1, private_key1,contract)"
   ]
  },
  {
   "cell_type": "code",
   "execution_count": 210,
   "id": "continued-westminster",
   "metadata": {},
   "outputs": [
    {
     "data": {
      "text/plain": [
       "[[4158, 1, 1, 1, 1, 1, 1, 1, 1, 1], [4200, 1, 1, 1, 1, 1, 1, 1, 1, 1]]"
      ]
     },
     "execution_count": 210,
     "metadata": {},
     "output_type": "execute_result"
    }
   ],
   "source": [
    "contract.functions.set_weights().call()\n"
   ]
  },
  {
   "cell_type": "code",
   "execution_count": 212,
   "id": "identified-clause",
   "metadata": {},
   "outputs": [
    {
     "data": {
      "text/plain": [
       "[178, 200]"
      ]
     },
     "execution_count": 212,
     "metadata": {},
     "output_type": "execute_result"
    }
   ],
   "source": [
    "contract.functions.set_bias().call()"
   ]
  },
  {
   "cell_type": "code",
   "execution_count": null,
   "id": "korean-thomson",
   "metadata": {},
   "outputs": [],
   "source": []
  }
 ],
 "metadata": {
  "kernelspec": {
   "display_name": "Python 3",
   "language": "python",
   "name": "python3"
  },
  "language_info": {
   "codemirror_mode": {
    "name": "ipython",
    "version": 3
   },
   "file_extension": ".py",
   "mimetype": "text/x-python",
   "name": "python",
   "nbconvert_exporter": "python",
   "pygments_lexer": "ipython3",
   "version": "3.9.2"
  }
 },
 "nbformat": 4,
 "nbformat_minor": 5
}
