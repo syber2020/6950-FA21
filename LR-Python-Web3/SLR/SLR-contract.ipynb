{
 "cells": [
  {
   "cell_type": "code",
   "execution_count": 97,
   "id": "royal-challenge",
   "metadata": {},
   "outputs": [],
   "source": [
    "# need to remove the X and Y header information from the dataset\n",
    "from random import seed\n",
    "from random import randrange\n",
    "from csv import reader\n",
    "from math import sqrt\n",
    "import pandas as pd\n",
    "import numpy as np"
   ]
  },
  {
   "cell_type": "code",
   "execution_count": 98,
   "id": "general-opportunity",
   "metadata": {},
   "outputs": [
    {
     "data": {
      "text/plain": [
       "62"
      ]
     },
     "execution_count": 98,
     "metadata": {},
     "output_type": "execute_result"
    }
   ],
   "source": [
    "df = pd.read_csv('insurance.csv',sep = ',')\n",
    "dataset = df.to_numpy()\n",
    "len(dataset)"
   ]
  },
  {
   "cell_type": "code",
   "execution_count": 99,
   "id": "prospective-envelope",
   "metadata": {},
   "outputs": [],
   "source": [
    "X_data = dataset[:,0].astype(int)\n",
    "y_data = dataset[:,1].astype(int)"
   ]
  },
  {
   "cell_type": "code",
   "execution_count": 100,
   "id": "adolescent-cinema",
   "metadata": {},
   "outputs": [],
   "source": [
    "s = X_data.tolist()"
   ]
  },
  {
   "cell_type": "code",
   "execution_count": 101,
   "id": "demonstrated-lewis",
   "metadata": {},
   "outputs": [],
   "source": [
    "import numpy as np\n",
    "from sklearn.linear_model import LinearRegression\n",
    "from sklearn.model_selection import train_test_split\n",
    "\n",
    "X_data= X_data.reshape(-1, 1)\n",
    "y_data= y_data.reshape(-1, 1)\n",
    "\n",
    "X_train = X_data[:40]\n",
    "X_test = X_data[40:]\n",
    "y_train = y_data[:40]\n",
    "y_test = y_data[40:]\n",
    "\n",
    "reg = LinearRegression().fit(X_train, y_train)\n",
    "reg.score(X_train, y_train)\n",
    "\n",
    "# reg.coef_\n",
    "# array([1., 2.])\n",
    "# reg.intercept_\n",
    "\n",
    "pred = reg.predict(X_test)\n",
    "# print(pred)\n",
    "# print(y_test)"
   ]
  },
  {
   "cell_type": "code",
   "execution_count": 102,
   "id": "marine-roman",
   "metadata": {},
   "outputs": [],
   "source": [
    "atrain = dataset[:40,0].astype(int).tolist()\n",
    "atest = dataset[40:,0].astype(int).tolist()\n",
    "btrain = dataset[:40,1].astype(int).tolist()\n",
    "btest = dataset[40:,1].astype(int).tolist()"
   ]
  },
  {
   "cell_type": "code",
   "execution_count": 103,
   "id": "normal-albert",
   "metadata": {},
   "outputs": [
    {
     "name": "stdout",
     "output_type": "stream",
     "text": [
      "[19, 13, 124, 40, 57, 23, 14, 45, 10, 5, 48, 11, 23, 7, 2, 24, 6, 3, 23, 6, 9, 9, 3, 29, 7, 4, 20, 7, 4, 0, 25, 6, 5, 22, 11, 61, 12, 4, 16, 13] , [46, 15, 422, 119, 170, 56, 77, 214, 65, 20, 248, 23, 39, 48, 6, 134, 50, 4, 113, 14, 48, 52, 13, 103, 77, 11, 98, 27, 38, 0, 69, 14, 40, 161, 57, 217, 58, 12, 59, 89]\n"
     ]
    }
   ],
   "source": [
    "print(atrain,',',btrain)"
   ]
  },
  {
   "cell_type": "code",
   "execution_count": 104,
   "id": "prerequisite-giant",
   "metadata": {},
   "outputs": [],
   "source": [
    "B0 = 21\n",
    "B1 = 3"
   ]
  },
  {
   "cell_type": "code",
   "execution_count": 134,
   "id": "neither-budapest",
   "metadata": {},
   "outputs": [],
   "source": [
    "x = dataset[40:,0].astype(int)"
   ]
  },
  {
   "cell_type": "code",
   "execution_count": 135,
   "id": "closed-dynamics",
   "metadata": {},
   "outputs": [
    {
     "data": {
      "text/plain": [
       "array([60, 41, 37, 55, 41, 11, 27,  8,  3, 17, 13, 13, 15,  8, 29, 30, 24,\n",
       "        9, 31, 14, 53, 26])"
      ]
     },
     "execution_count": 135,
     "metadata": {},
     "output_type": "execute_result"
    }
   ],
   "source": [
    "x"
   ]
  },
  {
   "cell_type": "code",
   "execution_count": 140,
   "id": "extended-shadow",
   "metadata": {},
   "outputs": [
    {
     "data": {
      "text/plain": [
       "array([202.4, 181.3, 152.8, 162.8,  73.4,  21.3,  92.6,  76.1,  39.9,\n",
       "       142.1,  93. ,  31.9,  32.1,  55.6, 133.3, 194.5, 137.9,  87.4,\n",
       "       209.8,  95.5, 244.6, 187.5])"
      ]
     },
     "execution_count": 140,
     "metadata": {},
     "output_type": "execute_result"
    }
   ],
   "source": [
    "dataset[40:,1]"
   ]
  },
  {
   "cell_type": "code",
   "execution_count": 136,
   "id": "opening-italic",
   "metadata": {},
   "outputs": [
    {
     "data": {
      "text/plain": [
       "array([0, 0, 0, 0, 0, 0, 0, 0, 0, 0, 0, 0, 0, 0, 0, 0, 0, 0, 0, 0, 0, 0])"
      ]
     },
     "execution_count": 136,
     "metadata": {},
     "output_type": "execute_result"
    }
   ],
   "source": [
    "pred = np.zeros(len(x)).astype(int)\n",
    "pred"
   ]
  },
  {
   "cell_type": "code",
   "execution_count": 137,
   "id": "pressed-editor",
   "metadata": {},
   "outputs": [],
   "source": [
    "\n",
    "for i in range(len(x)):\n",
    "    pred[i] = B0 + B1 * x[i]"
   ]
  },
  {
   "cell_type": "code",
   "execution_count": 138,
   "id": "dynamic-engineering",
   "metadata": {},
   "outputs": [
    {
     "data": {
      "text/plain": [
       "array([201, 144, 132, 186, 144,  54, 102,  45,  30,  72,  60,  60,  66,\n",
       "        45, 108, 111,  93,  48, 114,  63, 180,  99])"
      ]
     },
     "execution_count": 138,
     "metadata": {},
     "output_type": "execute_result"
    }
   ],
   "source": [
    "pred"
   ]
  },
  {
   "cell_type": "code",
   "execution_count": 139,
   "id": "faced-arena",
   "metadata": {},
   "outputs": [
    {
     "name": "stdout",
     "output_type": "stream",
     "text": [
      "[202, 181, 152, 162, 73, 21, 92, 76, 39, 142, 93, 31, 32, 55, 133, 194, 137, 87, 209, 95, 244, 187]\n"
     ]
    }
   ],
   "source": [
    "print(btest)"
   ]
  },
  {
   "cell_type": "code",
   "execution_count": null,
   "id": "deluxe-logan",
   "metadata": {},
   "outputs": [],
   "source": []
  }
 ],
 "metadata": {
  "kernelspec": {
   "display_name": "Python 3",
   "language": "python",
   "name": "python3"
  },
  "language_info": {
   "codemirror_mode": {
    "name": "ipython",
    "version": 3
   },
   "file_extension": ".py",
   "mimetype": "text/x-python",
   "name": "python",
   "nbconvert_exporter": "python",
   "pygments_lexer": "ipython3",
   "version": "3.9.2"
  }
 },
 "nbformat": 4,
 "nbformat_minor": 5
}
